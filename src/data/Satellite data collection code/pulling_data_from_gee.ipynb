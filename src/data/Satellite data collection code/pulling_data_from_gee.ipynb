{
  "nbformat": 4,
  "nbformat_minor": 0,
  "metadata": {
    "colab": {
      "provenance": [],
      "collapsed_sections": []
    },
    "kernelspec": {
      "name": "python3",
      "display_name": "Python 3"
    },
    "language_info": {
      "name": "python"
    }
  },
  "cells": [
    {
      "cell_type": "code",
      "source": [
        "!pip install Unidecode"
      ],
      "metadata": {
        "colab": {
          "base_uri": "https://localhost:8080/"
        },
        "id": "yjWxHKld36c7",
        "outputId": "04dfc14c-cc2d-4470-ad12-10b20d43bcc8"
      },
      "execution_count": null,
      "outputs": [
        {
          "output_type": "stream",
          "name": "stdout",
          "text": [
            "Looking in indexes: https://pypi.org/simple, https://us-python.pkg.dev/colab-wheels/public/simple/\n",
            "Collecting Unidecode\n",
            "  Downloading Unidecode-1.3.6-py3-none-any.whl (235 kB)\n",
            "\u001b[K     |████████████████████████████████| 235 kB 26.3 MB/s \n",
            "\u001b[?25hInstalling collected packages: Unidecode\n",
            "Successfully installed Unidecode-1.3.6\n"
          ]
        }
      ]
    },
    {
      "cell_type": "code",
      "execution_count": null,
      "metadata": {
        "id": "0LjlN3_RceQA"
      },
      "outputs": [],
      "source": [
        "import ee\n",
        "from unidecode import unidecode\n",
        "import os\n"
      ]
    },
    {
      "cell_type": "code",
      "source": [
        "# ee.Authenticate()\n",
        "ee.Initialize()"
      ],
      "metadata": {
        "id": "Hz3CcY1VcsPg"
      },
      "execution_count": null,
      "outputs": []
    },
    {
      "cell_type": "code",
      "source": [
        "gdrive_folder = 'Milan_sat_data'\n"
      ],
      "metadata": {
        "id": "xVzWFG7b48RS"
      },
      "execution_count": null,
      "outputs": []
    },
    {
      "cell_type": "code",
      "source": [
        "italy = 'users/basanthqo/Italy_prov'\n",
        "county_region = ee.FeatureCollection(italy)\n",
        "feature_list = county_region.toList(1e5)\n",
        "feature_list_computed = feature_list.getInfo()\n"
      ],
      "metadata": {
        "id": "Zp_dLTxOcved"
      },
      "execution_count": null,
      "outputs": []
    },
    {
      "cell_type": "code",
      "source": [
        "CLEAN_NAME = lambda r, l: r.get('properties').get(l)"
      ],
      "metadata": {
        "id": "cPwMMg9n3bu0"
      },
      "execution_count": null,
      "outputs": []
    },
    {
      "cell_type": "code",
      "source": [
        "def ftr_key_fn(region):\n",
        " return f\"DEN_PROV_{CLEAN_NAME(region, 'DEN_PROV')}-COD_REG_{CLEAN_NAME(region,'COD_REG')}-COD_PROV_{CLEAN_NAME(region, 'COD_PROV')}\"\n"
      ],
      "metadata": {
        "id": "rGcUGtg9rdFc"
      },
      "execution_count": null,
      "outputs": []
    },
    {
      "cell_type": "code",
      "source": [
        "# the dates order surf_refl,surf_temp_ems,agri_land_cover\n",
        "IMG_START_DATES = ['2012-01-1', '2012-01-1', '2015-01-01']\n",
        "IMG_END_DATES = ['2022-09-30', '2022-09-30', '2022-09-30']"
      ],
      "metadata": {
        "id": "YkzGzp-netPY"
      },
      "execution_count": null,
      "outputs": []
    },
    {
      "cell_type": "code",
      "source": [
        "# image collection bands\n",
        "surf_refl_bands = ['sur_refl_b01', 'sur_refl_b02', 'sur_refl_b03','sur_refl_b04', 'sur_refl_b05', 'sur_refl_b06','sur_refl_b07']\n",
        "surf_temp_ems_band = ['LST_Day_1km','LST_Night_1km']\n",
        "agri_lc_band = ['crops-coverfraction']"
      ],
      "metadata": {
        "id": "s0d0TOGxggdU"
      },
      "execution_count": null,
      "outputs": []
    },
    {
      "cell_type": "code",
      "source": [
        "# Import the MODIA surface reflcetance image.\n",
        "surf_refl = ee.ImageCollection(\"MODIS/061/MOD09A1\")\n",
        "\n",
        "#MODIS aqua land surface temparature and emmisivity\n",
        "surf_temp_ems = ee.ImageCollection(\"MODIS/061/MYD11A2\")\n",
        "\n",
        "# Import the copernicus land cover collection.\n",
        "agri_lc = ee.ImageCollection(\"COPERNICUS/Landcover/100m/Proba-V-C3/Global\")\n",
        "\n",
        "#MOD13A1.006 Terra Vegetation Indices 16-Day Global 500m\n",
        "veg_ind= ee.ImageCollection(\"MODIS/006/MOD13A1\")"
      ],
      "metadata": {
        "id": "Y8Jzan3idYZF"
      },
      "execution_count": null,
      "outputs": []
    },
    {
      "cell_type": "code",
      "source": [
        "bands = surf_refl_bands"
      ],
      "metadata": {
        "id": "PVMINaj3qq2X"
      },
      "execution_count": null,
      "outputs": []
    },
    {
      "cell_type": "code",
      "source": [
        "def appendBand(current, previous):\n",
        "    # Rename the band\n",
        "    previous=ee.Image(previous)\n",
        "    current = current.select(bands)\n",
        "    # Append it to the result (Note: only return current item on first element/iteration)\n",
        "    accum = ee.Algorithms.If(ee.Algorithms.IsEqual(previous,None), current, previous.addBands(ee.Image(current)))\n",
        "    # Return the accumulation\n",
        "    return accum"
      ],
      "metadata": {
        "id": "dvjHykQidzSk"
      },
      "execution_count": null,
      "outputs": []
    },
    {
      "cell_type": "code",
      "source": [
        "def export_to_cloud(img, fname, folder, expregion, eeuser=None, scale=500):\n",
        "  # print \"export to cloud\"\n",
        "  expcoord = expregion.geometry().coordinates().getInfo()[0]\n",
        "  expconfig = dict(description=fname, folder=folder, fileNamePrefix=fname, dimensions=None, region=expcoord,\n",
        "                   scale=scale, crs='EPSG:4326', crsTransform=None, maxPixels=1e13)\n",
        "  task = ee.batch.Export.image.toDrive(image=img.clip(expregion), **expconfig)\n",
        "  task.start()\n",
        "  while task.status()['state'] == 'RUNNING':\n",
        "    print ('Running...')\n",
        "    time.sleep(10)\n",
        "  print ('Done.', task.status())"
      ],
      "metadata": {
        "id": "pzA-RoPud3Ht"
      },
      "execution_count": null,
      "outputs": []
    },
    {
      "cell_type": "code",
      "source": [
        "def image_collection(start_date,end_date,image_type,image_collection):\n",
        "  imgcoll = ee.ImageCollection(image_collection).filterDate(start_date,end_date)\n",
        "  img=imgcoll.iterate(appendBand)\n",
        "  img=ee.Image(img)\n",
        "  "
      ],
      "metadata": {
        "id": "3PJSfznkd5fW"
      },
      "execution_count": null,
      "outputs": []
    },
    {
      "cell_type": "code",
      "source": [
        "st_date = ['2012-01-1', '2012-01-1', '2015-01-01']\n",
        "end_date = ['2022-09-30', '2022-09-30', '2022-09-30']\n",
        "# bands = surf_refl_bands,surf_temp_ems_band,agri_lc_band"
      ],
      "metadata": {
        "id": "DaUVfyIR74Eu"
      },
      "execution_count": null,
      "outputs": []
    },
    {
      "cell_type": "code",
      "source": [
        "start_date ='2012-01-1'\n",
        "end_date = '2022-09-30'"
      ],
      "metadata": {
        "id": "-8LyVIRdAR7W"
      },
      "execution_count": null,
      "outputs": []
    },
    {
      "cell_type": "code",
      "source": [
        "imgcoll = ee.ImageCollection(surf_refl).filterDate(start_date,end_date)\n",
        "img=imgcoll.iterate(appendBand)\n",
        "img=ee.Image(img)"
      ],
      "metadata": {
        "id": "jkqCbyaZ4IMI"
      },
      "execution_count": null,
      "outputs": []
    },
    {
      "cell_type": "code",
      "source": [
        "keys_with_issues = []\n",
        "count_already_downloaded = 0\n",
        "count_filtered = 0\n",
        "\n",
        "for idx, region in enumerate(feature_list_computed):\n",
        "  if not True:\n",
        "      count_filtered += 1\n",
        "      continue\n",
        "      \n",
        "  subunit_key = ftr_key_fn(region)\n",
        "  file_name = f'Italy_surf_refl_{subunit_key}_{start_date}_{end_date}'\n",
        "  print(file_name)\n",
        "  if os.path.isfile(os.path.join(file_name + '.tif')):\n",
        "          print (subunit_key, 'already downloaded. Continuing...')\n",
        "          count_already_downloaded += 1\n",
        "          continue\n",
        "\n",
        "  try:\n",
        "      export_to_cloud(img, file_name, gdrive_folder, ee.Feature(region), scale=500)\n",
        "  except KeyboardInterrupt:\n",
        "      print ('received SIGINT, terminating execution')\n",
        "      break\n",
        "  except Exception as e:\n",
        "    print ('issue with {} ({})'.format(subunit_key, str(e)))"
      ],
      "metadata": {
        "colab": {
          "base_uri": "https://localhost:8080/"
        },
        "id": "artHPOWY8PYe",
        "outputId": "d0cbd388-4417-41c3-e25d-0e2c6420b280"
      },
      "execution_count": null,
      "outputs": [
        {
          "output_type": "stream",
          "name": "stdout",
          "text": [
            "Italy_surf_refl_DEN_PROV_Vercelli-COD_REG_1-COD_PROV_2_2012-01-1_2022-09-30\n",
            "Done. {'state': 'READY', 'description': 'Italy_surf_refl_DEN_PROV_Vercelli-COD_REG_1-COD_PROV_2_2012-01-1_2022-09-30', 'creation_timestamp_ms': 1665224913796, 'update_timestamp_ms': 1665224913796, 'start_timestamp_ms': 0, 'task_type': 'EXPORT_IMAGE', 'id': 'HPIZLR7WICCELZHIGWBF3XIM', 'name': 'projects/earthengine-legacy/operations/HPIZLR7WICCELZHIGWBF3XIM'}\n",
            "Italy_surf_refl_DEN_PROV_Novara-COD_REG_1-COD_PROV_3_2012-01-1_2022-09-30\n",
            "Done. {'state': 'READY', 'description': 'Italy_surf_refl_DEN_PROV_Novara-COD_REG_1-COD_PROV_3_2012-01-1_2022-09-30', 'creation_timestamp_ms': 1665224915772, 'update_timestamp_ms': 1665224915772, 'start_timestamp_ms': 0, 'task_type': 'EXPORT_IMAGE', 'id': 'V2I23EM7OCZFEPQZ2UIJRQWS', 'name': 'projects/earthengine-legacy/operations/V2I23EM7OCZFEPQZ2UIJRQWS'}\n",
            "Italy_surf_refl_DEN_PROV_Cuneo-COD_REG_1-COD_PROV_4_2012-01-1_2022-09-30\n",
            "Done. {'state': 'READY', 'description': 'Italy_surf_refl_DEN_PROV_Cuneo-COD_REG_1-COD_PROV_4_2012-01-1_2022-09-30', 'creation_timestamp_ms': 1665224919814, 'update_timestamp_ms': 1665224919814, 'start_timestamp_ms': 0, 'task_type': 'EXPORT_IMAGE', 'id': 'ZO6N3LP35YTSYBUAYYE4PZTV', 'name': 'projects/earthengine-legacy/operations/ZO6N3LP35YTSYBUAYYE4PZTV'}\n",
            "Italy_surf_refl_DEN_PROV_Asti-COD_REG_1-COD_PROV_5_2012-01-1_2022-09-30\n",
            "Done. {'state': 'READY', 'description': 'Italy_surf_refl_DEN_PROV_Asti-COD_REG_1-COD_PROV_5_2012-01-1_2022-09-30', 'creation_timestamp_ms': 1665224923879, 'update_timestamp_ms': 1665224923879, 'start_timestamp_ms': 0, 'task_type': 'EXPORT_IMAGE', 'id': 'U3BEI6AERRKGKXTZL3Q5M5PZ', 'name': 'projects/earthengine-legacy/operations/U3BEI6AERRKGKXTZL3Q5M5PZ'}\n",
            "Italy_surf_refl_DEN_PROV_Alessandria-COD_REG_1-COD_PROV_6_2012-01-1_2022-09-30\n",
            "Done. {'state': 'READY', 'description': 'Italy_surf_refl_DEN_PROV_Alessandria-COD_REG_1-COD_PROV_6_2012-01-1_2022-09-30', 'creation_timestamp_ms': 1665224929356, 'update_timestamp_ms': 1665224929356, 'start_timestamp_ms': 0, 'task_type': 'EXPORT_IMAGE', 'id': 'REP2LBY4WQF3KSRJOPRYTDZL', 'name': 'projects/earthengine-legacy/operations/REP2LBY4WQF3KSRJOPRYTDZL'}\n",
            "Italy_surf_refl_DEN_PROV_Aosta-COD_REG_2-COD_PROV_7_2012-01-1_2022-09-30\n",
            "Done. {'state': 'READY', 'description': 'Italy_surf_refl_DEN_PROV_Aosta-COD_REG_2-COD_PROV_7_2012-01-1_2022-09-30', 'creation_timestamp_ms': 1665224931407, 'update_timestamp_ms': 1665224931407, 'start_timestamp_ms': 0, 'task_type': 'EXPORT_IMAGE', 'id': 'PIVOGFYQBDKIDI3AQNR4EWD4', 'name': 'projects/earthengine-legacy/operations/PIVOGFYQBDKIDI3AQNR4EWD4'}\n",
            "Italy_surf_refl_DEN_PROV_Imperia-COD_REG_7-COD_PROV_8_2012-01-1_2022-09-30\n",
            "Done. {'state': 'READY', 'description': 'Italy_surf_refl_DEN_PROV_Imperia-COD_REG_7-COD_PROV_8_2012-01-1_2022-09-30', 'creation_timestamp_ms': 1665224935000, 'update_timestamp_ms': 1665224935000, 'start_timestamp_ms': 0, 'task_type': 'EXPORT_IMAGE', 'id': 'NZQOVJKVPZD6TOBFZ4G723O2', 'name': 'projects/earthengine-legacy/operations/NZQOVJKVPZD6TOBFZ4G723O2'}\n",
            "Italy_surf_refl_DEN_PROV_Savona-COD_REG_7-COD_PROV_9_2012-01-1_2022-09-30\n",
            "Done. {'state': 'READY', 'description': 'Italy_surf_refl_DEN_PROV_Savona-COD_REG_7-COD_PROV_9_2012-01-1_2022-09-30', 'creation_timestamp_ms': 1665224937622, 'update_timestamp_ms': 1665224937622, 'start_timestamp_ms': 0, 'task_type': 'EXPORT_IMAGE', 'id': 'E2EIHUH22XEGMSV47CIASJLQ', 'name': 'projects/earthengine-legacy/operations/E2EIHUH22XEGMSV47CIASJLQ'}\n",
            "Italy_surf_refl_DEN_PROV_--COD_REG_7-COD_PROV_10_2012-01-1_2022-09-30\n",
            "Done. {'state': 'READY', 'description': 'Italy_surf_refl_DEN_PROV_--COD_REG_7-COD_PROV_10_2012-01-1_2022-09-30', 'creation_timestamp_ms': 1665224942291, 'update_timestamp_ms': 1665224942291, 'start_timestamp_ms': 0, 'task_type': 'EXPORT_IMAGE', 'id': 'GRZ4AKMGBP32OE3VW2MLUBXZ', 'name': 'projects/earthengine-legacy/operations/GRZ4AKMGBP32OE3VW2MLUBXZ'}\n",
            "Italy_surf_refl_DEN_PROV_La Spezia-COD_REG_7-COD_PROV_11_2012-01-1_2022-09-30\n",
            "Done. {'state': 'READY', 'description': 'Italy_surf_refl_DEN_PROV_La Spezia-COD_REG_7-COD_PROV_11_2012-01-1_2022-09-30', 'creation_timestamp_ms': 1665224946025, 'update_timestamp_ms': 1665224946025, 'start_timestamp_ms': 0, 'task_type': 'EXPORT_IMAGE', 'id': 'K63LETEXTZFPHWUKLFSPYBYK', 'name': 'projects/earthengine-legacy/operations/K63LETEXTZFPHWUKLFSPYBYK'}\n",
            "Italy_surf_refl_DEN_PROV_Varese-COD_REG_3-COD_PROV_12_2012-01-1_2022-09-30\n",
            "Done. {'state': 'READY', 'description': 'Italy_surf_refl_DEN_PROV_Varese-COD_REG_3-COD_PROV_12_2012-01-1_2022-09-30', 'creation_timestamp_ms': 1665224947834, 'update_timestamp_ms': 1665224947834, 'start_timestamp_ms': 0, 'task_type': 'EXPORT_IMAGE', 'id': 'FVWONDVTTZYUMPI6WCD3WDZ6', 'name': 'projects/earthengine-legacy/operations/FVWONDVTTZYUMPI6WCD3WDZ6'}\n",
            "Italy_surf_refl_DEN_PROV_Como-COD_REG_3-COD_PROV_13_2012-01-1_2022-09-30\n",
            "Done. {'state': 'READY', 'description': 'Italy_surf_refl_DEN_PROV_Como-COD_REG_3-COD_PROV_13_2012-01-1_2022-09-30', 'creation_timestamp_ms': 1665224949596, 'update_timestamp_ms': 1665224949596, 'start_timestamp_ms': 0, 'task_type': 'EXPORT_IMAGE', 'id': 'YWKVTNYLWR5KUTF2HERVSYSB', 'name': 'projects/earthengine-legacy/operations/YWKVTNYLWR5KUTF2HERVSYSB'}\n",
            "Italy_surf_refl_DEN_PROV_Sondrio-COD_REG_3-COD_PROV_14_2012-01-1_2022-09-30\n",
            "Done. {'state': 'READY', 'description': 'Italy_surf_refl_DEN_PROV_Sondrio-COD_REG_3-COD_PROV_14_2012-01-1_2022-09-30', 'creation_timestamp_ms': 1665224952091, 'update_timestamp_ms': 1665224952091, 'start_timestamp_ms': 0, 'task_type': 'EXPORT_IMAGE', 'id': 'SUMCGYQ6MVGEMCBU52C7BBED', 'name': 'projects/earthengine-legacy/operations/SUMCGYQ6MVGEMCBU52C7BBED'}\n",
            "Italy_surf_refl_DEN_PROV_Bergamo-COD_REG_3-COD_PROV_16_2012-01-1_2022-09-30\n",
            "Done. {'state': 'READY', 'description': 'Italy_surf_refl_DEN_PROV_Bergamo-COD_REG_3-COD_PROV_16_2012-01-1_2022-09-30', 'creation_timestamp_ms': 1665224954628, 'update_timestamp_ms': 1665224954628, 'start_timestamp_ms': 0, 'task_type': 'EXPORT_IMAGE', 'id': 'O3YEWDL3PWVOKQZNUBE2UDE7', 'name': 'projects/earthengine-legacy/operations/O3YEWDL3PWVOKQZNUBE2UDE7'}\n",
            "Italy_surf_refl_DEN_PROV_Brescia-COD_REG_3-COD_PROV_17_2012-01-1_2022-09-30\n",
            "Done. {'state': 'READY', 'description': 'Italy_surf_refl_DEN_PROV_Brescia-COD_REG_3-COD_PROV_17_2012-01-1_2022-09-30', 'creation_timestamp_ms': 1665224957953, 'update_timestamp_ms': 1665224957953, 'start_timestamp_ms': 0, 'task_type': 'EXPORT_IMAGE', 'id': 'VOA2WOF472CLWXWMW6MQKGB6', 'name': 'projects/earthengine-legacy/operations/VOA2WOF472CLWXWMW6MQKGB6'}\n",
            "Italy_surf_refl_DEN_PROV_Pavia-COD_REG_3-COD_PROV_18_2012-01-1_2022-09-30\n",
            "Done. {'state': 'READY', 'description': 'Italy_surf_refl_DEN_PROV_Pavia-COD_REG_3-COD_PROV_18_2012-01-1_2022-09-30', 'creation_timestamp_ms': 1665224960795, 'update_timestamp_ms': 1665224960795, 'start_timestamp_ms': 0, 'task_type': 'EXPORT_IMAGE', 'id': '47YNUTEUOBAYCU27UDUIYGQP', 'name': 'projects/earthengine-legacy/operations/47YNUTEUOBAYCU27UDUIYGQP'}\n",
            "Italy_surf_refl_DEN_PROV_Cremona-COD_REG_3-COD_PROV_19_2012-01-1_2022-09-30\n",
            "Done. {'state': 'READY', 'description': 'Italy_surf_refl_DEN_PROV_Cremona-COD_REG_3-COD_PROV_19_2012-01-1_2022-09-30', 'creation_timestamp_ms': 1665224963252, 'update_timestamp_ms': 1665224963252, 'start_timestamp_ms': 0, 'task_type': 'EXPORT_IMAGE', 'id': 'DOCOPPGQZAP5YAXRFMQYBBYU', 'name': 'projects/earthengine-legacy/operations/DOCOPPGQZAP5YAXRFMQYBBYU'}\n",
            "Italy_surf_refl_DEN_PROV_Mantova-COD_REG_3-COD_PROV_20_2012-01-1_2022-09-30\n",
            "Done. {'state': 'READY', 'description': 'Italy_surf_refl_DEN_PROV_Mantova-COD_REG_3-COD_PROV_20_2012-01-1_2022-09-30', 'creation_timestamp_ms': 1665224965614, 'update_timestamp_ms': 1665224965614, 'start_timestamp_ms': 0, 'task_type': 'EXPORT_IMAGE', 'id': 'S6727TUZLOKXXZJLAM22YWAC', 'name': 'projects/earthengine-legacy/operations/S6727TUZLOKXXZJLAM22YWAC'}\n",
            "Italy_surf_refl_DEN_PROV_Verona-COD_REG_5-COD_PROV_23_2012-01-1_2022-09-30\n",
            "Done. {'state': 'READY', 'description': 'Italy_surf_refl_DEN_PROV_Verona-COD_REG_5-COD_PROV_23_2012-01-1_2022-09-30', 'creation_timestamp_ms': 1665224967899, 'update_timestamp_ms': 1665224967899, 'start_timestamp_ms': 0, 'task_type': 'EXPORT_IMAGE', 'id': '75KKUGPRFJ3Z6WW2UAQFZ6SI', 'name': 'projects/earthengine-legacy/operations/75KKUGPRFJ3Z6WW2UAQFZ6SI'}\n",
            "Italy_surf_refl_DEN_PROV_Vicenza-COD_REG_5-COD_PROV_24_2012-01-1_2022-09-30\n",
            "Done. {'state': 'READY', 'description': 'Italy_surf_refl_DEN_PROV_Vicenza-COD_REG_5-COD_PROV_24_2012-01-1_2022-09-30', 'creation_timestamp_ms': 1665224970416, 'update_timestamp_ms': 1665224970416, 'start_timestamp_ms': 0, 'task_type': 'EXPORT_IMAGE', 'id': 'ZKQS44RI3YASRHTVMJIKZ3I4', 'name': 'projects/earthengine-legacy/operations/ZKQS44RI3YASRHTVMJIKZ3I4'}\n",
            "Italy_surf_refl_DEN_PROV_Belluno-COD_REG_5-COD_PROV_25_2012-01-1_2022-09-30\n",
            "Done. {'state': 'READY', 'description': 'Italy_surf_refl_DEN_PROV_Belluno-COD_REG_5-COD_PROV_25_2012-01-1_2022-09-30', 'creation_timestamp_ms': 1665224973257, 'update_timestamp_ms': 1665224973257, 'start_timestamp_ms': 0, 'task_type': 'EXPORT_IMAGE', 'id': '4U4SM7CFBKUHZ2JIQQHJYDAG', 'name': 'projects/earthengine-legacy/operations/4U4SM7CFBKUHZ2JIQQHJYDAG'}\n",
            "Italy_surf_refl_DEN_PROV_Treviso-COD_REG_5-COD_PROV_26_2012-01-1_2022-09-30\n",
            "Done. {'state': 'READY', 'description': 'Italy_surf_refl_DEN_PROV_Treviso-COD_REG_5-COD_PROV_26_2012-01-1_2022-09-30', 'creation_timestamp_ms': 1665224975942, 'update_timestamp_ms': 1665224975942, 'start_timestamp_ms': 0, 'task_type': 'EXPORT_IMAGE', 'id': 'IT4YBPCB6DHKCJC5ONQF26R2', 'name': 'projects/earthengine-legacy/operations/IT4YBPCB6DHKCJC5ONQF26R2'}\n",
            "Italy_surf_refl_DEN_PROV_Padova-COD_REG_5-COD_PROV_28_2012-01-1_2022-09-30\n",
            "Done. {'state': 'READY', 'description': 'Italy_surf_refl_DEN_PROV_Padova-COD_REG_5-COD_PROV_28_2012-01-1_2022-09-30', 'creation_timestamp_ms': 1665224978296, 'update_timestamp_ms': 1665224978296, 'start_timestamp_ms': 0, 'task_type': 'EXPORT_IMAGE', 'id': 'TY543R4BMJIGTRLBZNBKDNXZ', 'name': 'projects/earthengine-legacy/operations/TY543R4BMJIGTRLBZNBKDNXZ'}\n",
            "Italy_surf_refl_DEN_PROV_Rovigo-COD_REG_5-COD_PROV_29_2012-01-1_2022-09-30\n",
            "Done. {'state': 'READY', 'description': 'Italy_surf_refl_DEN_PROV_Rovigo-COD_REG_5-COD_PROV_29_2012-01-1_2022-09-30', 'creation_timestamp_ms': 1665224980412, 'update_timestamp_ms': 1665224980412, 'start_timestamp_ms': 0, 'task_type': 'EXPORT_IMAGE', 'id': 'V572GCHAHYGRXJ6S5FJAOCUS', 'name': 'projects/earthengine-legacy/operations/V572GCHAHYGRXJ6S5FJAOCUS'}\n",
            "Italy_surf_refl_DEN_PROV_Piacenza-COD_REG_8-COD_PROV_33_2012-01-1_2022-09-30\n",
            "Done. {'state': 'READY', 'description': 'Italy_surf_refl_DEN_PROV_Piacenza-COD_REG_8-COD_PROV_33_2012-01-1_2022-09-30', 'creation_timestamp_ms': 1665224982576, 'update_timestamp_ms': 1665224982576, 'start_timestamp_ms': 0, 'task_type': 'EXPORT_IMAGE', 'id': 'ESN62EYR2KYCZ55LLOJZUYRS', 'name': 'projects/earthengine-legacy/operations/ESN62EYR2KYCZ55LLOJZUYRS'}\n",
            "Italy_surf_refl_DEN_PROV_Parma-COD_REG_8-COD_PROV_34_2012-01-1_2022-09-30\n",
            "Done. {'state': 'READY', 'description': 'Italy_surf_refl_DEN_PROV_Parma-COD_REG_8-COD_PROV_34_2012-01-1_2022-09-30', 'creation_timestamp_ms': 1665224984568, 'update_timestamp_ms': 1665224984568, 'start_timestamp_ms': 0, 'task_type': 'EXPORT_IMAGE', 'id': 'HNRBZHUTQYT6CO6IT4VRNZNF', 'name': 'projects/earthengine-legacy/operations/HNRBZHUTQYT6CO6IT4VRNZNF'}\n",
            "Italy_surf_refl_DEN_PROV_Reggio nell'Emilia-COD_REG_8-COD_PROV_35_2012-01-1_2022-09-30\n",
            "issue with DEN_PROV_Reggio nell'Emilia-COD_REG_8-COD_PROV_35 (Invalid description. The description must contain only the following characters: a..z, A..Z, 0..9, \".\", \",\", \":\", \";\", \"_\" or \"-\". The description must be at most 100 characters long.)\n",
            "Italy_surf_refl_DEN_PROV_Modena-COD_REG_8-COD_PROV_36_2012-01-1_2022-09-30\n",
            "Done. {'state': 'READY', 'description': 'Italy_surf_refl_DEN_PROV_Modena-COD_REG_8-COD_PROV_36_2012-01-1_2022-09-30', 'creation_timestamp_ms': 1665224988661, 'update_timestamp_ms': 1665224988661, 'start_timestamp_ms': 0, 'task_type': 'EXPORT_IMAGE', 'id': 'DXTIJNRQKNUCDYWOAYOIFCVK', 'name': 'projects/earthengine-legacy/operations/DXTIJNRQKNUCDYWOAYOIFCVK'}\n",
            "Italy_surf_refl_DEN_PROV_Ferrara-COD_REG_8-COD_PROV_38_2012-01-1_2022-09-30\n",
            "Done. {'state': 'READY', 'description': 'Italy_surf_refl_DEN_PROV_Ferrara-COD_REG_8-COD_PROV_38_2012-01-1_2022-09-30', 'creation_timestamp_ms': 1665224991096, 'update_timestamp_ms': 1665224991096, 'start_timestamp_ms': 0, 'task_type': 'EXPORT_IMAGE', 'id': 'LEV3CWDMTPEFNBT6JH6Z4VNA', 'name': 'projects/earthengine-legacy/operations/LEV3CWDMTPEFNBT6JH6Z4VNA'}\n",
            "Italy_surf_refl_DEN_PROV_Ravenna-COD_REG_8-COD_PROV_39_2012-01-1_2022-09-30\n",
            "Done. {'state': 'READY', 'description': 'Italy_surf_refl_DEN_PROV_Ravenna-COD_REG_8-COD_PROV_39_2012-01-1_2022-09-30', 'creation_timestamp_ms': 1665224996535, 'update_timestamp_ms': 1665224996535, 'start_timestamp_ms': 0, 'task_type': 'EXPORT_IMAGE', 'id': '2H5R3CNIHPQKDKXX2ILI3GOL', 'name': 'projects/earthengine-legacy/operations/2H5R3CNIHPQKDKXX2ILI3GOL'}\n",
            "Italy_surf_refl_DEN_PROV_Forli'-Cesena-COD_REG_8-COD_PROV_40_2012-01-1_2022-09-30\n",
            "issue with DEN_PROV_Forli'-Cesena-COD_REG_8-COD_PROV_40 (Invalid description. The description must contain only the following characters: a..z, A..Z, 0..9, \".\", \",\", \":\", \";\", \"_\" or \"-\". The description must be at most 100 characters long.)\n",
            "Italy_surf_refl_DEN_PROV_Pesaro e Urbino-COD_REG_11-COD_PROV_41_2012-01-1_2022-09-30\n",
            "Done. {'state': 'READY', 'description': 'Italy_surf_refl_DEN_PROV_Pesaro e Urbino-COD_REG_11-COD_PROV_41_2012-01-1_2022-09-30', 'creation_timestamp_ms': 1665225001918, 'update_timestamp_ms': 1665225001918, 'start_timestamp_ms': 0, 'task_type': 'EXPORT_IMAGE', 'id': '3OCHZXVCZ4QOAU2I3ADDT64Y', 'name': 'projects/earthengine-legacy/operations/3OCHZXVCZ4QOAU2I3ADDT64Y'}\n",
            "Italy_surf_refl_DEN_PROV_Ancona-COD_REG_11-COD_PROV_42_2012-01-1_2022-09-30\n",
            "Done. {'state': 'READY', 'description': 'Italy_surf_refl_DEN_PROV_Ancona-COD_REG_11-COD_PROV_42_2012-01-1_2022-09-30', 'creation_timestamp_ms': 1665225005487, 'update_timestamp_ms': 1665225005487, 'start_timestamp_ms': 0, 'task_type': 'EXPORT_IMAGE', 'id': '3MSU3ATNFBRX72XWMNHY27MC', 'name': 'projects/earthengine-legacy/operations/3MSU3ATNFBRX72XWMNHY27MC'}\n",
            "Italy_surf_refl_DEN_PROV_Macerata-COD_REG_11-COD_PROV_43_2012-01-1_2022-09-30\n",
            "Done. {'state': 'READY', 'description': 'Italy_surf_refl_DEN_PROV_Macerata-COD_REG_11-COD_PROV_43_2012-01-1_2022-09-30', 'creation_timestamp_ms': 1665225009316, 'update_timestamp_ms': 1665225009316, 'start_timestamp_ms': 0, 'task_type': 'EXPORT_IMAGE', 'id': 'T7JW6JODRNUKXSXG45VI63CP', 'name': 'projects/earthengine-legacy/operations/T7JW6JODRNUKXSXG45VI63CP'}\n",
            "Italy_surf_refl_DEN_PROV_Ascoli Piceno-COD_REG_11-COD_PROV_44_2012-01-1_2022-09-30\n",
            "Done. {'state': 'READY', 'description': 'Italy_surf_refl_DEN_PROV_Ascoli Piceno-COD_REG_11-COD_PROV_44_2012-01-1_2022-09-30', 'creation_timestamp_ms': 1665225011994, 'update_timestamp_ms': 1665225011994, 'start_timestamp_ms': 0, 'task_type': 'EXPORT_IMAGE', 'id': 'PPLNPVBAHTFGLPBFQIGNAJCM', 'name': 'projects/earthengine-legacy/operations/PPLNPVBAHTFGLPBFQIGNAJCM'}\n",
            "Italy_surf_refl_DEN_PROV_Massa Carrara-COD_REG_9-COD_PROV_45_2012-01-1_2022-09-30\n",
            "Done. {'state': 'READY', 'description': 'Italy_surf_refl_DEN_PROV_Massa Carrara-COD_REG_9-COD_PROV_45_2012-01-1_2022-09-30', 'creation_timestamp_ms': 1665225013684, 'update_timestamp_ms': 1665225013684, 'start_timestamp_ms': 0, 'task_type': 'EXPORT_IMAGE', 'id': 'L5LABVOIQXGIOQZ67TXCFRMJ', 'name': 'projects/earthengine-legacy/operations/L5LABVOIQXGIOQZ67TXCFRMJ'}\n",
            "Italy_surf_refl_DEN_PROV_Lucca-COD_REG_9-COD_PROV_46_2012-01-1_2022-09-30\n",
            "Done. {'state': 'READY', 'description': 'Italy_surf_refl_DEN_PROV_Lucca-COD_REG_9-COD_PROV_46_2012-01-1_2022-09-30', 'creation_timestamp_ms': 1665225015927, 'update_timestamp_ms': 1665225015927, 'start_timestamp_ms': 0, 'task_type': 'EXPORT_IMAGE', 'id': 'ZOZO2IKDEYCER4KZ3BB5HYRR', 'name': 'projects/earthengine-legacy/operations/ZOZO2IKDEYCER4KZ3BB5HYRR'}\n",
            "Italy_surf_refl_DEN_PROV_Pistoia-COD_REG_9-COD_PROV_47_2012-01-1_2022-09-30\n",
            "Done. {'state': 'READY', 'description': 'Italy_surf_refl_DEN_PROV_Pistoia-COD_REG_9-COD_PROV_47_2012-01-1_2022-09-30', 'creation_timestamp_ms': 1665225017727, 'update_timestamp_ms': 1665225017727, 'start_timestamp_ms': 0, 'task_type': 'EXPORT_IMAGE', 'id': 'RKVZBQYA7KRDQJQEJQ3GNA5C', 'name': 'projects/earthengine-legacy/operations/RKVZBQYA7KRDQJQEJQ3GNA5C'}\n",
            "Italy_surf_refl_DEN_PROV_Livorno-COD_REG_9-COD_PROV_49_2012-01-1_2022-09-30\n",
            "Done. {'state': 'READY', 'description': 'Italy_surf_refl_DEN_PROV_Livorno-COD_REG_9-COD_PROV_49_2012-01-1_2022-09-30', 'creation_timestamp_ms': 1665225025417, 'update_timestamp_ms': 1665225025417, 'start_timestamp_ms': 0, 'task_type': 'EXPORT_IMAGE', 'id': '4RC5GSR4PC7UACT22P5XLNY7', 'name': 'projects/earthengine-legacy/operations/4RC5GSR4PC7UACT22P5XLNY7'}\n",
            "Italy_surf_refl_DEN_PROV_Pisa-COD_REG_9-COD_PROV_50_2012-01-1_2022-09-30\n",
            "Done. {'state': 'READY', 'description': 'Italy_surf_refl_DEN_PROV_Pisa-COD_REG_9-COD_PROV_50_2012-01-1_2022-09-30', 'creation_timestamp_ms': 1665225028581, 'update_timestamp_ms': 1665225028581, 'start_timestamp_ms': 0, 'task_type': 'EXPORT_IMAGE', 'id': 'FX7NFDGOJIWTVXG4ZFQCHOFP', 'name': 'projects/earthengine-legacy/operations/FX7NFDGOJIWTVXG4ZFQCHOFP'}\n",
            "Italy_surf_refl_DEN_PROV_Arezzo-COD_REG_9-COD_PROV_51_2012-01-1_2022-09-30\n",
            "Done. {'state': 'READY', 'description': 'Italy_surf_refl_DEN_PROV_Arezzo-COD_REG_9-COD_PROV_51_2012-01-1_2022-09-30', 'creation_timestamp_ms': 1665225031299, 'update_timestamp_ms': 1665225031299, 'start_timestamp_ms': 0, 'task_type': 'EXPORT_IMAGE', 'id': '5HSRZCJTR2TBGX5MN3UCXM63', 'name': 'projects/earthengine-legacy/operations/5HSRZCJTR2TBGX5MN3UCXM63'}\n",
            "Italy_surf_refl_DEN_PROV_Siena-COD_REG_9-COD_PROV_52_2012-01-1_2022-09-30\n",
            "Done. {'state': 'READY', 'description': 'Italy_surf_refl_DEN_PROV_Siena-COD_REG_9-COD_PROV_52_2012-01-1_2022-09-30', 'creation_timestamp_ms': 1665225034072, 'update_timestamp_ms': 1665225034072, 'start_timestamp_ms': 0, 'task_type': 'EXPORT_IMAGE', 'id': 'CSBO6HXVQWU5OFOM7YQN6OLJ', 'name': 'projects/earthengine-legacy/operations/CSBO6HXVQWU5OFOM7YQN6OLJ'}\n",
            "Italy_surf_refl_DEN_PROV_Grosseto-COD_REG_9-COD_PROV_53_2012-01-1_2022-09-30\n",
            "Done. {'state': 'READY', 'description': 'Italy_surf_refl_DEN_PROV_Grosseto-COD_REG_9-COD_PROV_53_2012-01-1_2022-09-30', 'creation_timestamp_ms': 1665225040182, 'update_timestamp_ms': 1665225040182, 'start_timestamp_ms': 0, 'task_type': 'EXPORT_IMAGE', 'id': 'N47T4TR5RAIMRJT6CNZNHGRI', 'name': 'projects/earthengine-legacy/operations/N47T4TR5RAIMRJT6CNZNHGRI'}\n",
            "Italy_surf_refl_DEN_PROV_Perugia-COD_REG_10-COD_PROV_54_2012-01-1_2022-09-30\n",
            "Done. {'state': 'READY', 'description': 'Italy_surf_refl_DEN_PROV_Perugia-COD_REG_10-COD_PROV_54_2012-01-1_2022-09-30', 'creation_timestamp_ms': 1665225045071, 'update_timestamp_ms': 1665225045071, 'start_timestamp_ms': 0, 'task_type': 'EXPORT_IMAGE', 'id': 'U7QY4MIV7YKI6LVT7GSEV4RT', 'name': 'projects/earthengine-legacy/operations/U7QY4MIV7YKI6LVT7GSEV4RT'}\n",
            "Italy_surf_refl_DEN_PROV_Terni-COD_REG_10-COD_PROV_55_2012-01-1_2022-09-30\n",
            "Done. {'state': 'READY', 'description': 'Italy_surf_refl_DEN_PROV_Terni-COD_REG_10-COD_PROV_55_2012-01-1_2022-09-30', 'creation_timestamp_ms': 1665225047209, 'update_timestamp_ms': 1665225047209, 'start_timestamp_ms': 0, 'task_type': 'EXPORT_IMAGE', 'id': '3A6OSTIAKGYNHRTHMDSFC233', 'name': 'projects/earthengine-legacy/operations/3A6OSTIAKGYNHRTHMDSFC233'}\n",
            "Italy_surf_refl_DEN_PROV_Viterbo-COD_REG_12-COD_PROV_56_2012-01-1_2022-09-30\n",
            "Done. {'state': 'READY', 'description': 'Italy_surf_refl_DEN_PROV_Viterbo-COD_REG_12-COD_PROV_56_2012-01-1_2022-09-30', 'creation_timestamp_ms': 1665225050363, 'update_timestamp_ms': 1665225050363, 'start_timestamp_ms': 0, 'task_type': 'EXPORT_IMAGE', 'id': '4L4NZ52L65ISCV7J5PSCI7KL', 'name': 'projects/earthengine-legacy/operations/4L4NZ52L65ISCV7J5PSCI7KL'}\n",
            "Italy_surf_refl_DEN_PROV_Rieti-COD_REG_12-COD_PROV_57_2012-01-1_2022-09-30\n",
            "Done. {'state': 'READY', 'description': 'Italy_surf_refl_DEN_PROV_Rieti-COD_REG_12-COD_PROV_57_2012-01-1_2022-09-30', 'creation_timestamp_ms': 1665225052337, 'update_timestamp_ms': 1665225052337, 'start_timestamp_ms': 0, 'task_type': 'EXPORT_IMAGE', 'id': 'OCCEYCKPW57AIN5QU6QGX45O', 'name': 'projects/earthengine-legacy/operations/OCCEYCKPW57AIN5QU6QGX45O'}\n",
            "Italy_surf_refl_DEN_PROV_Latina-COD_REG_12-COD_PROV_59_2012-01-1_2022-09-30\n",
            "Done. {'state': 'READY', 'description': 'Italy_surf_refl_DEN_PROV_Latina-COD_REG_12-COD_PROV_59_2012-01-1_2022-09-30', 'creation_timestamp_ms': 1665225056233, 'update_timestamp_ms': 1665225056233, 'start_timestamp_ms': 0, 'task_type': 'EXPORT_IMAGE', 'id': 'Y2XEOKR4TNNVYULYIP3IFV3R', 'name': 'projects/earthengine-legacy/operations/Y2XEOKR4TNNVYULYIP3IFV3R'}\n",
            "Italy_surf_refl_DEN_PROV_Frosinone-COD_REG_12-COD_PROV_60_2012-01-1_2022-09-30\n",
            "Done. {'state': 'READY', 'description': 'Italy_surf_refl_DEN_PROV_Frosinone-COD_REG_12-COD_PROV_60_2012-01-1_2022-09-30', 'creation_timestamp_ms': 1665225058342, 'update_timestamp_ms': 1665225058342, 'start_timestamp_ms': 0, 'task_type': 'EXPORT_IMAGE', 'id': 'FLQ7CANSWPD7FIHIVXLPQ5HJ', 'name': 'projects/earthengine-legacy/operations/FLQ7CANSWPD7FIHIVXLPQ5HJ'}\n",
            "Italy_surf_refl_DEN_PROV_Caserta-COD_REG_15-COD_PROV_61_2012-01-1_2022-09-30\n",
            "Done. {'state': 'READY', 'description': 'Italy_surf_refl_DEN_PROV_Caserta-COD_REG_15-COD_PROV_61_2012-01-1_2022-09-30', 'creation_timestamp_ms': 1665225060320, 'update_timestamp_ms': 1665225060320, 'start_timestamp_ms': 0, 'task_type': 'EXPORT_IMAGE', 'id': 'L3S3E7VHPETVGRMO63J3TDAV', 'name': 'projects/earthengine-legacy/operations/L3S3E7VHPETVGRMO63J3TDAV'}\n",
            "Italy_surf_refl_DEN_PROV_Benevento-COD_REG_15-COD_PROV_62_2012-01-1_2022-09-30\n",
            "Done. {'state': 'READY', 'description': 'Italy_surf_refl_DEN_PROV_Benevento-COD_REG_15-COD_PROV_62_2012-01-1_2022-09-30', 'creation_timestamp_ms': 1665225062450, 'update_timestamp_ms': 1665225062450, 'start_timestamp_ms': 0, 'task_type': 'EXPORT_IMAGE', 'id': 'KTKRRUW2KT3HAHEDB4IUBHFA', 'name': 'projects/earthengine-legacy/operations/KTKRRUW2KT3HAHEDB4IUBHFA'}\n",
            "Italy_surf_refl_DEN_PROV_Avellino-COD_REG_15-COD_PROV_64_2012-01-1_2022-09-30\n",
            "Done. {'state': 'READY', 'description': 'Italy_surf_refl_DEN_PROV_Avellino-COD_REG_15-COD_PROV_64_2012-01-1_2022-09-30', 'creation_timestamp_ms': 1665225065225, 'update_timestamp_ms': 1665225065225, 'start_timestamp_ms': 0, 'task_type': 'EXPORT_IMAGE', 'id': 'KNFHEEQCOM333JJDIGYISGI4', 'name': 'projects/earthengine-legacy/operations/KNFHEEQCOM333JJDIGYISGI4'}\n",
            "Italy_surf_refl_DEN_PROV_Salerno-COD_REG_15-COD_PROV_65_2012-01-1_2022-09-30\n",
            "Done. {'state': 'READY', 'description': 'Italy_surf_refl_DEN_PROV_Salerno-COD_REG_15-COD_PROV_65_2012-01-1_2022-09-30', 'creation_timestamp_ms': 1665225069005, 'update_timestamp_ms': 1665225069005, 'start_timestamp_ms': 0, 'task_type': 'EXPORT_IMAGE', 'id': 'IAW3LXJWADD2K6NO2GZC2IDA', 'name': 'projects/earthengine-legacy/operations/IAW3LXJWADD2K6NO2GZC2IDA'}\n",
            "Italy_surf_refl_DEN_PROV_L'Aquila-COD_REG_13-COD_PROV_66_2012-01-1_2022-09-30\n",
            "issue with DEN_PROV_L'Aquila-COD_REG_13-COD_PROV_66 (Invalid description. The description must contain only the following characters: a..z, A..Z, 0..9, \".\", \",\", \":\", \";\", \"_\" or \"-\". The description must be at most 100 characters long.)\n",
            "Italy_surf_refl_DEN_PROV_Teramo-COD_REG_13-COD_PROV_67_2012-01-1_2022-09-30\n",
            "Done. {'state': 'READY', 'description': 'Italy_surf_refl_DEN_PROV_Teramo-COD_REG_13-COD_PROV_67_2012-01-1_2022-09-30', 'creation_timestamp_ms': 1665225072987, 'update_timestamp_ms': 1665225072987, 'start_timestamp_ms': 0, 'task_type': 'EXPORT_IMAGE', 'id': 'SLUMWNJZW47RMW4RN3OWHPQO', 'name': 'projects/earthengine-legacy/operations/SLUMWNJZW47RMW4RN3OWHPQO'}\n",
            "Italy_surf_refl_DEN_PROV_Pescara-COD_REG_13-COD_PROV_68_2012-01-1_2022-09-30\n",
            "Done. {'state': 'READY', 'description': 'Italy_surf_refl_DEN_PROV_Pescara-COD_REG_13-COD_PROV_68_2012-01-1_2022-09-30', 'creation_timestamp_ms': 1665225074519, 'update_timestamp_ms': 1665225074519, 'start_timestamp_ms': 0, 'task_type': 'EXPORT_IMAGE', 'id': 'RGMUKLUUFQ6ZTAPGBKXHOO7F', 'name': 'projects/earthengine-legacy/operations/RGMUKLUUFQ6ZTAPGBKXHOO7F'}\n",
            "Italy_surf_refl_DEN_PROV_Chieti-COD_REG_13-COD_PROV_69_2012-01-1_2022-09-30\n",
            "Done. {'state': 'READY', 'description': 'Italy_surf_refl_DEN_PROV_Chieti-COD_REG_13-COD_PROV_69_2012-01-1_2022-09-30', 'creation_timestamp_ms': 1665225077189, 'update_timestamp_ms': 1665225077189, 'start_timestamp_ms': 0, 'task_type': 'EXPORT_IMAGE', 'id': '3TBCJIBKYMITJVYYLMOGE7BG', 'name': 'projects/earthengine-legacy/operations/3TBCJIBKYMITJVYYLMOGE7BG'}\n",
            "Italy_surf_refl_DEN_PROV_Campobasso-COD_REG_14-COD_PROV_70_2012-01-1_2022-09-30\n",
            "Done. {'state': 'READY', 'description': 'Italy_surf_refl_DEN_PROV_Campobasso-COD_REG_14-COD_PROV_70_2012-01-1_2022-09-30', 'creation_timestamp_ms': 1665225081026, 'update_timestamp_ms': 1665225081026, 'start_timestamp_ms': 0, 'task_type': 'EXPORT_IMAGE', 'id': 'P37CLY3TUOGVZLCSXCW5O24N', 'name': 'projects/earthengine-legacy/operations/P37CLY3TUOGVZLCSXCW5O24N'}\n",
            "Italy_surf_refl_DEN_PROV_Foggia-COD_REG_16-COD_PROV_71_2012-01-1_2022-09-30\n",
            "Done. {'state': 'READY', 'description': 'Italy_surf_refl_DEN_PROV_Foggia-COD_REG_16-COD_PROV_71_2012-01-1_2022-09-30', 'creation_timestamp_ms': 1665225085065, 'update_timestamp_ms': 1665225085065, 'start_timestamp_ms': 0, 'task_type': 'EXPORT_IMAGE', 'id': 'VAZ7XLE6OIX3TOU3EZLI3BAD', 'name': 'projects/earthengine-legacy/operations/VAZ7XLE6OIX3TOU3EZLI3BAD'}\n",
            "Italy_surf_refl_DEN_PROV_Taranto-COD_REG_16-COD_PROV_73_2012-01-1_2022-09-30\n",
            "Done. {'state': 'READY', 'description': 'Italy_surf_refl_DEN_PROV_Taranto-COD_REG_16-COD_PROV_73_2012-01-1_2022-09-30', 'creation_timestamp_ms': 1665225088108, 'update_timestamp_ms': 1665225088108, 'start_timestamp_ms': 0, 'task_type': 'EXPORT_IMAGE', 'id': 'UOFALB5X65P6Y2TEFPB6M3OV', 'name': 'projects/earthengine-legacy/operations/UOFALB5X65P6Y2TEFPB6M3OV'}\n",
            "Italy_surf_refl_DEN_PROV_Brindisi-COD_REG_16-COD_PROV_74_2012-01-1_2022-09-30\n",
            "Done. {'state': 'READY', 'description': 'Italy_surf_refl_DEN_PROV_Brindisi-COD_REG_16-COD_PROV_74_2012-01-1_2022-09-30', 'creation_timestamp_ms': 1665225091673, 'update_timestamp_ms': 1665225091673, 'start_timestamp_ms': 0, 'task_type': 'EXPORT_IMAGE', 'id': 'DIROPNM7MXI2X5ZUXUURUYEH', 'name': 'projects/earthengine-legacy/operations/DIROPNM7MXI2X5ZUXUURUYEH'}\n",
            "Italy_surf_refl_DEN_PROV_Lecce-COD_REG_16-COD_PROV_75_2012-01-1_2022-09-30\n",
            "Done. {'state': 'READY', 'description': 'Italy_surf_refl_DEN_PROV_Lecce-COD_REG_16-COD_PROV_75_2012-01-1_2022-09-30', 'creation_timestamp_ms': 1665225096912, 'update_timestamp_ms': 1665225096912, 'start_timestamp_ms': 0, 'task_type': 'EXPORT_IMAGE', 'id': 'FDWPFMDLHMJOVKSOPQYA2PED', 'name': 'projects/earthengine-legacy/operations/FDWPFMDLHMJOVKSOPQYA2PED'}\n",
            "Italy_surf_refl_DEN_PROV_Potenza-COD_REG_17-COD_PROV_76_2012-01-1_2022-09-30\n",
            "Done. {'state': 'READY', 'description': 'Italy_surf_refl_DEN_PROV_Potenza-COD_REG_17-COD_PROV_76_2012-01-1_2022-09-30', 'creation_timestamp_ms': 1665225101201, 'update_timestamp_ms': 1665225101201, 'start_timestamp_ms': 0, 'task_type': 'EXPORT_IMAGE', 'id': '6XXU22IDXGR5Z324KB3JNFNU', 'name': 'projects/earthengine-legacy/operations/6XXU22IDXGR5Z324KB3JNFNU'}\n",
            "Italy_surf_refl_DEN_PROV_Matera-COD_REG_17-COD_PROV_77_2012-01-1_2022-09-30\n",
            "Done. {'state': 'READY', 'description': 'Italy_surf_refl_DEN_PROV_Matera-COD_REG_17-COD_PROV_77_2012-01-1_2022-09-30', 'creation_timestamp_ms': 1665225103898, 'update_timestamp_ms': 1665225103898, 'start_timestamp_ms': 0, 'task_type': 'EXPORT_IMAGE', 'id': 'SUCNPTV75QIYZ4BDUY2XDYLI', 'name': 'projects/earthengine-legacy/operations/SUCNPTV75QIYZ4BDUY2XDYLI'}\n",
            "Italy_surf_refl_DEN_PROV_Cosenza-COD_REG_18-COD_PROV_78_2012-01-1_2022-09-30\n",
            "Done. {'state': 'READY', 'description': 'Italy_surf_refl_DEN_PROV_Cosenza-COD_REG_18-COD_PROV_78_2012-01-1_2022-09-30', 'creation_timestamp_ms': 1665225109087, 'update_timestamp_ms': 1665225109087, 'start_timestamp_ms': 0, 'task_type': 'EXPORT_IMAGE', 'id': 'F5WHQLKPHSSTJGC2QD32ULYD', 'name': 'projects/earthengine-legacy/operations/F5WHQLKPHSSTJGC2QD32ULYD'}\n",
            "Italy_surf_refl_DEN_PROV_Catanzaro-COD_REG_18-COD_PROV_79_2012-01-1_2022-09-30\n",
            "Done. {'state': 'READY', 'description': 'Italy_surf_refl_DEN_PROV_Catanzaro-COD_REG_18-COD_PROV_79_2012-01-1_2022-09-30', 'creation_timestamp_ms': 1665225113147, 'update_timestamp_ms': 1665225113147, 'start_timestamp_ms': 0, 'task_type': 'EXPORT_IMAGE', 'id': 'Y3O3TSFZDE7JEOUFW3F5EAB7', 'name': 'projects/earthengine-legacy/operations/Y3O3TSFZDE7JEOUFW3F5EAB7'}\n",
            "Italy_surf_refl_DEN_PROV_Sassari-COD_REG_20-COD_PROV_90_2012-01-1_2022-09-30\n",
            "Done. {'state': 'READY', 'description': 'Italy_surf_refl_DEN_PROV_Sassari-COD_REG_20-COD_PROV_90_2012-01-1_2022-09-30', 'creation_timestamp_ms': 1665225130837, 'update_timestamp_ms': 1665225130837, 'start_timestamp_ms': 0, 'task_type': 'EXPORT_IMAGE', 'id': '5TOP4RZRVBROYAUDRD7GC5H6', 'name': 'projects/earthengine-legacy/operations/5TOP4RZRVBROYAUDRD7GC5H6'}\n",
            "Italy_surf_refl_DEN_PROV_Nuoro-COD_REG_20-COD_PROV_91_2012-01-1_2022-09-30\n",
            "Done. {'state': 'READY', 'description': 'Italy_surf_refl_DEN_PROV_Nuoro-COD_REG_20-COD_PROV_91_2012-01-1_2022-09-30', 'creation_timestamp_ms': 1665225136483, 'update_timestamp_ms': 1665225136483, 'start_timestamp_ms': 0, 'task_type': 'EXPORT_IMAGE', 'id': 'WZTA4BPF5GVBOIR2FHZJDXMS', 'name': 'projects/earthengine-legacy/operations/WZTA4BPF5GVBOIR2FHZJDXMS'}\n",
            "Italy_surf_refl_DEN_PROV_Isernia-COD_REG_14-COD_PROV_94_2012-01-1_2022-09-30\n",
            "Done. {'state': 'READY', 'description': 'Italy_surf_refl_DEN_PROV_Isernia-COD_REG_14-COD_PROV_94_2012-01-1_2022-09-30', 'creation_timestamp_ms': 1665225139365, 'update_timestamp_ms': 1665225139365, 'start_timestamp_ms': 0, 'task_type': 'EXPORT_IMAGE', 'id': 'ENWGK2MAMHB36SM6WVKLAVZN', 'name': 'projects/earthengine-legacy/operations/ENWGK2MAMHB36SM6WVKLAVZN'}\n",
            "Italy_surf_refl_DEN_PROV_Oristano-COD_REG_20-COD_PROV_95_2012-01-1_2022-09-30\n",
            "Done. {'state': 'READY', 'description': 'Italy_surf_refl_DEN_PROV_Oristano-COD_REG_20-COD_PROV_95_2012-01-1_2022-09-30', 'creation_timestamp_ms': 1665225143042, 'update_timestamp_ms': 1665225143042, 'start_timestamp_ms': 0, 'task_type': 'EXPORT_IMAGE', 'id': 'N4KYMU2PRO3YKVKUU3Z7JB5S', 'name': 'projects/earthengine-legacy/operations/N4KYMU2PRO3YKVKUU3Z7JB5S'}\n",
            "Italy_surf_refl_DEN_PROV_Biella-COD_REG_1-COD_PROV_96_2012-01-1_2022-09-30\n",
            "Done. {'state': 'READY', 'description': 'Italy_surf_refl_DEN_PROV_Biella-COD_REG_1-COD_PROV_96_2012-01-1_2022-09-30', 'creation_timestamp_ms': 1665225145105, 'update_timestamp_ms': 1665225145105, 'start_timestamp_ms': 0, 'task_type': 'EXPORT_IMAGE', 'id': 'PW2QOWSQ4A5YKF25XAK4T456', 'name': 'projects/earthengine-legacy/operations/PW2QOWSQ4A5YKF25XAK4T456'}\n",
            "Italy_surf_refl_DEN_PROV_Lecco-COD_REG_3-COD_PROV_97_2012-01-1_2022-09-30\n",
            "Done. {'state': 'READY', 'description': 'Italy_surf_refl_DEN_PROV_Lecco-COD_REG_3-COD_PROV_97_2012-01-1_2022-09-30', 'creation_timestamp_ms': 1665225146614, 'update_timestamp_ms': 1665225146614, 'start_timestamp_ms': 0, 'task_type': 'EXPORT_IMAGE', 'id': 'AOXP6PXECKYUMXBYUDSFOOXQ', 'name': 'projects/earthengine-legacy/operations/AOXP6PXECKYUMXBYUDSFOOXQ'}\n",
            "Italy_surf_refl_DEN_PROV_Lodi-COD_REG_3-COD_PROV_98_2012-01-1_2022-09-30\n",
            "Done. {'state': 'READY', 'description': 'Italy_surf_refl_DEN_PROV_Lodi-COD_REG_3-COD_PROV_98_2012-01-1_2022-09-30', 'creation_timestamp_ms': 1665225148280, 'update_timestamp_ms': 1665225148280, 'start_timestamp_ms': 0, 'task_type': 'EXPORT_IMAGE', 'id': 'AYWKL7YQCYNMINFHR3ZRWXY6', 'name': 'projects/earthengine-legacy/operations/AYWKL7YQCYNMINFHR3ZRWXY6'}\n",
            "Italy_surf_refl_DEN_PROV_Rimini-COD_REG_8-COD_PROV_99_2012-01-1_2022-09-30\n",
            "Done. {'state': 'READY', 'description': 'Italy_surf_refl_DEN_PROV_Rimini-COD_REG_8-COD_PROV_99_2012-01-1_2022-09-30', 'creation_timestamp_ms': 1665225151651, 'update_timestamp_ms': 1665225151651, 'start_timestamp_ms': 0, 'task_type': 'EXPORT_IMAGE', 'id': '5W6LDEHCJZBOJIGCFEXA5FK2', 'name': 'projects/earthengine-legacy/operations/5W6LDEHCJZBOJIGCFEXA5FK2'}\n",
            "Italy_surf_refl_DEN_PROV_Prato-COD_REG_9-COD_PROV_100_2012-01-1_2022-09-30\n",
            "Done. {'state': 'READY', 'description': 'Italy_surf_refl_DEN_PROV_Prato-COD_REG_9-COD_PROV_100_2012-01-1_2022-09-30', 'creation_timestamp_ms': 1665225152975, 'update_timestamp_ms': 1665225152975, 'start_timestamp_ms': 0, 'task_type': 'EXPORT_IMAGE', 'id': '43YWQUTZUFGQ2ZT5ZJJWOU7I', 'name': 'projects/earthengine-legacy/operations/43YWQUTZUFGQ2ZT5ZJJWOU7I'}\n",
            "Italy_surf_refl_DEN_PROV_Crotone-COD_REG_18-COD_PROV_101_2012-01-1_2022-09-30\n",
            "Done. {'state': 'READY', 'description': 'Italy_surf_refl_DEN_PROV_Crotone-COD_REG_18-COD_PROV_101_2012-01-1_2022-09-30', 'creation_timestamp_ms': 1665225156343, 'update_timestamp_ms': 1665225156343, 'start_timestamp_ms': 0, 'task_type': 'EXPORT_IMAGE', 'id': 'VHHO4JNXQ2FLH3FIKKZU7JBN', 'name': 'projects/earthengine-legacy/operations/VHHO4JNXQ2FLH3FIKKZU7JBN'}\n",
            "Italy_surf_refl_DEN_PROV_Vibo Valentia-COD_REG_18-COD_PROV_102_2012-01-1_2022-09-30\n",
            "Done. {'state': 'READY', 'description': 'Italy_surf_refl_DEN_PROV_Vibo Valentia-COD_REG_18-COD_PROV_102_2012-01-1_2022-09-30', 'creation_timestamp_ms': 1665225159231, 'update_timestamp_ms': 1665225159231, 'start_timestamp_ms': 0, 'task_type': 'EXPORT_IMAGE', 'id': 'S5PEJB4YYUDPTD7JS6YEWSG7', 'name': 'projects/earthengine-legacy/operations/S5PEJB4YYUDPTD7JS6YEWSG7'}\n",
            "Italy_surf_refl_DEN_PROV_Verbano-Cusio-Ossola-COD_REG_1-COD_PROV_103_2012-01-1_2022-09-30\n",
            "Done. {'state': 'READY', 'description': 'Italy_surf_refl_DEN_PROV_Verbano-Cusio-Ossola-COD_REG_1-COD_PROV_103_2012-01-1_2022-09-30', 'creation_timestamp_ms': 1665225161087, 'update_timestamp_ms': 1665225161087, 'start_timestamp_ms': 0, 'task_type': 'EXPORT_IMAGE', 'id': 'WQAAPFVJKV5FR2BVINFGVSXM', 'name': 'projects/earthengine-legacy/operations/WQAAPFVJKV5FR2BVINFGVSXM'}\n",
            "Italy_surf_refl_DEN_PROV_Monza e della Brianza-COD_REG_3-COD_PROV_108_2012-01-1_2022-09-30\n",
            "Done. {'state': 'READY', 'description': 'Italy_surf_refl_DEN_PROV_Monza e della Brianza-COD_REG_3-COD_PROV_108_2012-01-1_2022-09-30', 'creation_timestamp_ms': 1665225162457, 'update_timestamp_ms': 1665225162457, 'start_timestamp_ms': 0, 'task_type': 'EXPORT_IMAGE', 'id': 'INXCU7T7666TEQGEU2732QFW', 'name': 'projects/earthengine-legacy/operations/INXCU7T7666TEQGEU2732QFW'}\n",
            "Italy_surf_refl_DEN_PROV_Fermo-COD_REG_11-COD_PROV_109_2012-01-1_2022-09-30\n",
            "Done. {'state': 'READY', 'description': 'Italy_surf_refl_DEN_PROV_Fermo-COD_REG_11-COD_PROV_109_2012-01-1_2022-09-30', 'creation_timestamp_ms': 1665225165030, 'update_timestamp_ms': 1665225165030, 'start_timestamp_ms': 0, 'task_type': 'EXPORT_IMAGE', 'id': 'EMJ5IGJWGJQVULJDH33VB6H6', 'name': 'projects/earthengine-legacy/operations/EMJ5IGJWGJQVULJDH33VB6H6'}\n",
            "Italy_surf_refl_DEN_PROV_Barletta-Andria-Trani-COD_REG_16-COD_PROV_110_2012-01-1_2022-09-30\n",
            "Done. {'state': 'READY', 'description': 'Italy_surf_refl_DEN_PROV_Barletta-Andria-Trani-COD_REG_16-COD_PROV_110_2012-01-1_2022-09-30', 'creation_timestamp_ms': 1665225167245, 'update_timestamp_ms': 1665225167245, 'start_timestamp_ms': 0, 'task_type': 'EXPORT_IMAGE', 'id': '2HJ37UFP7CWEBRNJESUC3XTW', 'name': 'projects/earthengine-legacy/operations/2HJ37UFP7CWEBRNJESUC3XTW'}\n",
            "Italy_surf_refl_DEN_PROV_Sud Sardegna-COD_REG_20-COD_PROV_111_2012-01-1_2022-09-30\n",
            "Done. {'state': 'READY', 'description': 'Italy_surf_refl_DEN_PROV_Sud Sardegna-COD_REG_20-COD_PROV_111_2012-01-1_2022-09-30', 'creation_timestamp_ms': 1665225176477, 'update_timestamp_ms': 1665225176477, 'start_timestamp_ms': 0, 'task_type': 'EXPORT_IMAGE', 'id': 'IJTD6GF3YIFFJIGDUOUQ5WAF', 'name': 'projects/earthengine-legacy/operations/IJTD6GF3YIFFJIGDUOUQ5WAF'}\n",
            "Italy_surf_refl_DEN_PROV_Bolzano-COD_REG_4-COD_PROV_21_2012-01-1_2022-09-30\n",
            "Done. {'state': 'READY', 'description': 'Italy_surf_refl_DEN_PROV_Bolzano-COD_REG_4-COD_PROV_21_2012-01-1_2022-09-30', 'creation_timestamp_ms': 1665225183053, 'update_timestamp_ms': 1665225183053, 'start_timestamp_ms': 0, 'task_type': 'EXPORT_IMAGE', 'id': 'VTEGYGZMT3KPJTZK3ZKHUIMX', 'name': 'projects/earthengine-legacy/operations/VTEGYGZMT3KPJTZK3ZKHUIMX'}\n",
            "Italy_surf_refl_DEN_PROV_Trento-COD_REG_4-COD_PROV_22_2012-01-1_2022-09-30\n",
            "Done. {'state': 'READY', 'description': 'Italy_surf_refl_DEN_PROV_Trento-COD_REG_4-COD_PROV_22_2012-01-1_2022-09-30', 'creation_timestamp_ms': 1665225189402, 'update_timestamp_ms': 1665225189402, 'start_timestamp_ms': 0, 'task_type': 'EXPORT_IMAGE', 'id': 'R7FC6AB27CHQOYJZUDTYCSEB', 'name': 'projects/earthengine-legacy/operations/R7FC6AB27CHQOYJZUDTYCSEB'}\n",
            "Italy_surf_refl_DEN_PROV_--COD_REG_1-COD_PROV_1_2012-01-1_2022-09-30\n",
            "Done. {'state': 'READY', 'description': 'Italy_surf_refl_DEN_PROV_--COD_REG_1-COD_PROV_1_2012-01-1_2022-09-30', 'creation_timestamp_ms': 1665225194289, 'update_timestamp_ms': 1665225194289, 'start_timestamp_ms': 0, 'task_type': 'EXPORT_IMAGE', 'id': '4ZAZY24BXHLZ7CMRONTAKNSL', 'name': 'projects/earthengine-legacy/operations/4ZAZY24BXHLZ7CMRONTAKNSL'}\n",
            "Italy_surf_refl_DEN_PROV_--COD_REG_3-COD_PROV_15_2012-01-1_2022-09-30\n",
            "Done. {'state': 'READY', 'description': 'Italy_surf_refl_DEN_PROV_--COD_REG_3-COD_PROV_15_2012-01-1_2022-09-30', 'creation_timestamp_ms': 1665225196108, 'update_timestamp_ms': 1665225196108, 'start_timestamp_ms': 0, 'task_type': 'EXPORT_IMAGE', 'id': 'VJATHURONTP5KCWRSBL5BAXK', 'name': 'projects/earthengine-legacy/operations/VJATHURONTP5KCWRSBL5BAXK'}\n",
            "Italy_surf_refl_DEN_PROV_--COD_REG_5-COD_PROV_27_2012-01-1_2022-09-30\n",
            "Done. {'state': 'READY', 'description': 'Italy_surf_refl_DEN_PROV_--COD_REG_5-COD_PROV_27_2012-01-1_2022-09-30', 'creation_timestamp_ms': 1665225199150, 'update_timestamp_ms': 1665225199150, 'start_timestamp_ms': 0, 'task_type': 'EXPORT_IMAGE', 'id': 'SRB7CDUXZKBUAMETYYPVI6TJ', 'name': 'projects/earthengine-legacy/operations/SRB7CDUXZKBUAMETYYPVI6TJ'}\n",
            "Italy_surf_refl_DEN_PROV_--COD_REG_8-COD_PROV_37_2012-01-1_2022-09-30\n",
            "Done. {'state': 'READY', 'description': 'Italy_surf_refl_DEN_PROV_--COD_REG_8-COD_PROV_37_2012-01-1_2022-09-30', 'creation_timestamp_ms': 1665225203177, 'update_timestamp_ms': 1665225203177, 'start_timestamp_ms': 0, 'task_type': 'EXPORT_IMAGE', 'id': '3DJBSLAWPE3V5I5KTGETIJ5N', 'name': 'projects/earthengine-legacy/operations/3DJBSLAWPE3V5I5KTGETIJ5N'}\n",
            "Italy_surf_refl_DEN_PROV_--COD_REG_9-COD_PROV_48_2012-01-1_2022-09-30\n",
            "Done. {'state': 'READY', 'description': 'Italy_surf_refl_DEN_PROV_--COD_REG_9-COD_PROV_48_2012-01-1_2022-09-30', 'creation_timestamp_ms': 1665225206492, 'update_timestamp_ms': 1665225206492, 'start_timestamp_ms': 0, 'task_type': 'EXPORT_IMAGE', 'id': 'E4HIXYEA75M7ZWYO5HE2VYQG', 'name': 'projects/earthengine-legacy/operations/E4HIXYEA75M7ZWYO5HE2VYQG'}\n",
            "Italy_surf_refl_DEN_PROV_--COD_REG_12-COD_PROV_58_2012-01-1_2022-09-30\n",
            "Done. {'state': 'READY', 'description': 'Italy_surf_refl_DEN_PROV_--COD_REG_12-COD_PROV_58_2012-01-1_2022-09-30', 'creation_timestamp_ms': 1665225210919, 'update_timestamp_ms': 1665225210919, 'start_timestamp_ms': 0, 'task_type': 'EXPORT_IMAGE', 'id': 'HNMERLT7BOSWEF6M57MTZBQL', 'name': 'projects/earthengine-legacy/operations/HNMERLT7BOSWEF6M57MTZBQL'}\n",
            "Italy_surf_refl_DEN_PROV_--COD_REG_15-COD_PROV_63_2012-01-1_2022-09-30\n",
            "Done. {'state': 'READY', 'description': 'Italy_surf_refl_DEN_PROV_--COD_REG_15-COD_PROV_63_2012-01-1_2022-09-30', 'creation_timestamp_ms': 1665225216377, 'update_timestamp_ms': 1665225216377, 'start_timestamp_ms': 0, 'task_type': 'EXPORT_IMAGE', 'id': 'IQMDQCK3D2U7UGWCO4GBXNSY', 'name': 'projects/earthengine-legacy/operations/IQMDQCK3D2U7UGWCO4GBXNSY'}\n",
            "Italy_surf_refl_DEN_PROV_--COD_REG_16-COD_PROV_72_2012-01-1_2022-09-30\n",
            "Done. {'state': 'READY', 'description': 'Italy_surf_refl_DEN_PROV_--COD_REG_16-COD_PROV_72_2012-01-1_2022-09-30', 'creation_timestamp_ms': 1665225220994, 'update_timestamp_ms': 1665225220994, 'start_timestamp_ms': 0, 'task_type': 'EXPORT_IMAGE', 'id': 'WUNGRLXYZYKZL3QX6CLNZPRS', 'name': 'projects/earthengine-legacy/operations/WUNGRLXYZYKZL3QX6CLNZPRS'}\n",
            "Italy_surf_refl_DEN_PROV_--COD_REG_18-COD_PROV_80_2012-01-1_2022-09-30\n",
            "Done. {'state': 'READY', 'description': 'Italy_surf_refl_DEN_PROV_--COD_REG_18-COD_PROV_80_2012-01-1_2022-09-30', 'creation_timestamp_ms': 1665225225471, 'update_timestamp_ms': 1665225225471, 'start_timestamp_ms': 0, 'task_type': 'EXPORT_IMAGE', 'id': '5LCMGROINEYO6QCXRRKWXYF6', 'name': 'projects/earthengine-legacy/operations/5LCMGROINEYO6QCXRRKWXYF6'}\n",
            "Italy_surf_refl_DEN_PROV_--COD_REG_19-COD_PROV_82_2012-01-1_2022-09-30\n",
            "Done. {'state': 'READY', 'description': 'Italy_surf_refl_DEN_PROV_--COD_REG_19-COD_PROV_82_2012-01-1_2022-09-30', 'creation_timestamp_ms': 1665225230308, 'update_timestamp_ms': 1665225230308, 'start_timestamp_ms': 0, 'task_type': 'EXPORT_IMAGE', 'id': 'E2C6TCGZVB7HY2RZEXEVJYLZ', 'name': 'projects/earthengine-legacy/operations/E2C6TCGZVB7HY2RZEXEVJYLZ'}\n",
            "Italy_surf_refl_DEN_PROV_--COD_REG_19-COD_PROV_83_2012-01-1_2022-09-30\n",
            "Done. {'state': 'READY', 'description': 'Italy_surf_refl_DEN_PROV_--COD_REG_19-COD_PROV_83_2012-01-1_2022-09-30', 'creation_timestamp_ms': 1665225236623, 'update_timestamp_ms': 1665225236623, 'start_timestamp_ms': 0, 'task_type': 'EXPORT_IMAGE', 'id': 'UMUA3BIZKCHAC7YJI7PCVSRM', 'name': 'projects/earthengine-legacy/operations/UMUA3BIZKCHAC7YJI7PCVSRM'}\n",
            "Italy_surf_refl_DEN_PROV_--COD_REG_19-COD_PROV_87_2012-01-1_2022-09-30\n",
            "Done. {'state': 'READY', 'description': 'Italy_surf_refl_DEN_PROV_--COD_REG_19-COD_PROV_87_2012-01-1_2022-09-30', 'creation_timestamp_ms': 1665225240030, 'update_timestamp_ms': 1665225240030, 'start_timestamp_ms': 0, 'task_type': 'EXPORT_IMAGE', 'id': 'MJCUW3YSYQQ6SWFVNQRN3XTO', 'name': 'projects/earthengine-legacy/operations/MJCUW3YSYQQ6SWFVNQRN3XTO'}\n",
            "Italy_surf_refl_DEN_PROV_--COD_REG_20-COD_PROV_92_2012-01-1_2022-09-30\n",
            "Done. {'state': 'READY', 'description': 'Italy_surf_refl_DEN_PROV_--COD_REG_20-COD_PROV_92_2012-01-1_2022-09-30', 'creation_timestamp_ms': 1665225242798, 'update_timestamp_ms': 1665225242798, 'start_timestamp_ms': 0, 'task_type': 'EXPORT_IMAGE', 'id': 'QNKVFJP6HCRGW23GGI6KPM5F', 'name': 'projects/earthengine-legacy/operations/QNKVFJP6HCRGW23GGI6KPM5F'}\n",
            "Italy_surf_refl_DEN_PROV_Trapani-COD_REG_19-COD_PROV_81_2012-01-1_2022-09-30\n",
            "Done. {'state': 'READY', 'description': 'Italy_surf_refl_DEN_PROV_Trapani-COD_REG_19-COD_PROV_81_2012-01-1_2022-09-30', 'creation_timestamp_ms': 1665225249668, 'update_timestamp_ms': 1665225249668, 'start_timestamp_ms': 0, 'task_type': 'EXPORT_IMAGE', 'id': 'AR5DOPN42CTBWTPDH7RPYAVM', 'name': 'projects/earthengine-legacy/operations/AR5DOPN42CTBWTPDH7RPYAVM'}\n",
            "Italy_surf_refl_DEN_PROV_Agrigento-COD_REG_19-COD_PROV_84_2012-01-1_2022-09-30\n",
            "Done. {'state': 'READY', 'description': 'Italy_surf_refl_DEN_PROV_Agrigento-COD_REG_19-COD_PROV_84_2012-01-1_2022-09-30', 'creation_timestamp_ms': 1665225253124, 'update_timestamp_ms': 1665225253124, 'start_timestamp_ms': 0, 'task_type': 'EXPORT_IMAGE', 'id': 'OO6OSJMNEMWE2V7WXRKRFSOB', 'name': 'projects/earthengine-legacy/operations/OO6OSJMNEMWE2V7WXRKRFSOB'}\n",
            "Italy_surf_refl_DEN_PROV_Caltanissetta-COD_REG_19-COD_PROV_85_2012-01-1_2022-09-30\n",
            "Done. {'state': 'READY', 'description': 'Italy_surf_refl_DEN_PROV_Caltanissetta-COD_REG_19-COD_PROV_85_2012-01-1_2022-09-30', 'creation_timestamp_ms': 1665225255414, 'update_timestamp_ms': 1665225255414, 'start_timestamp_ms': 0, 'task_type': 'EXPORT_IMAGE', 'id': 'BKL3Q76J5U7QQHMMYEU24SAV', 'name': 'projects/earthengine-legacy/operations/BKL3Q76J5U7QQHMMYEU24SAV'}\n",
            "Italy_surf_refl_DEN_PROV_Enna-COD_REG_19-COD_PROV_86_2012-01-1_2022-09-30\n",
            "Done. {'state': 'READY', 'description': 'Italy_surf_refl_DEN_PROV_Enna-COD_REG_19-COD_PROV_86_2012-01-1_2022-09-30', 'creation_timestamp_ms': 1665225257840, 'update_timestamp_ms': 1665225257840, 'start_timestamp_ms': 0, 'task_type': 'EXPORT_IMAGE', 'id': 'ON572FJDKWBBFLPCZUMBR3GS', 'name': 'projects/earthengine-legacy/operations/ON572FJDKWBBFLPCZUMBR3GS'}\n",
            "Italy_surf_refl_DEN_PROV_Ragusa-COD_REG_19-COD_PROV_88_2012-01-1_2022-09-30\n",
            "Done. {'state': 'READY', 'description': 'Italy_surf_refl_DEN_PROV_Ragusa-COD_REG_19-COD_PROV_88_2012-01-1_2022-09-30', 'creation_timestamp_ms': 1665225260005, 'update_timestamp_ms': 1665225260005, 'start_timestamp_ms': 0, 'task_type': 'EXPORT_IMAGE', 'id': 'GZY5EZPEQ2DET63D6M2TQVBF', 'name': 'projects/earthengine-legacy/operations/GZY5EZPEQ2DET63D6M2TQVBF'}\n",
            "Italy_surf_refl_DEN_PROV_Siracusa-COD_REG_19-COD_PROV_89_2012-01-1_2022-09-30\n",
            "Done. {'state': 'READY', 'description': 'Italy_surf_refl_DEN_PROV_Siracusa-COD_REG_19-COD_PROV_89_2012-01-1_2022-09-30', 'creation_timestamp_ms': 1665225264837, 'update_timestamp_ms': 1665225264837, 'start_timestamp_ms': 0, 'task_type': 'EXPORT_IMAGE', 'id': '5T6KKAFSYC66KW54BET2KA7W', 'name': 'projects/earthengine-legacy/operations/5T6KKAFSYC66KW54BET2KA7W'}\n",
            "Italy_surf_refl_DEN_PROV_Udine-COD_REG_6-COD_PROV_30_2012-01-1_2022-09-30\n",
            "Done. {'state': 'READY', 'description': 'Italy_surf_refl_DEN_PROV_Udine-COD_REG_6-COD_PROV_30_2012-01-1_2022-09-30', 'creation_timestamp_ms': 1665225267315, 'update_timestamp_ms': 1665225267315, 'start_timestamp_ms': 0, 'task_type': 'EXPORT_IMAGE', 'id': '44SRESZ67RBENGGWEFOSFDR7', 'name': 'projects/earthengine-legacy/operations/44SRESZ67RBENGGWEFOSFDR7'}\n",
            "Italy_surf_refl_DEN_PROV_Gorizia-COD_REG_6-COD_PROV_31_2012-01-1_2022-09-30\n",
            "Done. {'state': 'READY', 'description': 'Italy_surf_refl_DEN_PROV_Gorizia-COD_REG_6-COD_PROV_31_2012-01-1_2022-09-30', 'creation_timestamp_ms': 1665225269791, 'update_timestamp_ms': 1665225269791, 'start_timestamp_ms': 0, 'task_type': 'EXPORT_IMAGE', 'id': 'LLPPSHMPOPJFZPENGVIAPAZT', 'name': 'projects/earthengine-legacy/operations/LLPPSHMPOPJFZPENGVIAPAZT'}\n",
            "Italy_surf_refl_DEN_PROV_Trieste-COD_REG_6-COD_PROV_32_2012-01-1_2022-09-30\n",
            "Done. {'state': 'READY', 'description': 'Italy_surf_refl_DEN_PROV_Trieste-COD_REG_6-COD_PROV_32_2012-01-1_2022-09-30', 'creation_timestamp_ms': 1665225272306, 'update_timestamp_ms': 1665225272306, 'start_timestamp_ms': 0, 'task_type': 'EXPORT_IMAGE', 'id': 'CJZYYWCRN7A2TQTFEEE5KHVV', 'name': 'projects/earthengine-legacy/operations/CJZYYWCRN7A2TQTFEEE5KHVV'}\n",
            "Italy_surf_refl_DEN_PROV_Pordenone-COD_REG_6-COD_PROV_93_2012-01-1_2022-09-30\n",
            "Done. {'state': 'READY', 'description': 'Italy_surf_refl_DEN_PROV_Pordenone-COD_REG_6-COD_PROV_93_2012-01-1_2022-09-30', 'creation_timestamp_ms': 1665225274169, 'update_timestamp_ms': 1665225274169, 'start_timestamp_ms': 0, 'task_type': 'EXPORT_IMAGE', 'id': 'DS3EHWNJ3QFJX36D6XV3DRNX', 'name': 'projects/earthengine-legacy/operations/DS3EHWNJ3QFJX36D6XV3DRNX'}\n"
          ]
        }
      ]
    },
    {
      "cell_type": "code",
      "source": [],
      "metadata": {
        "id": "v2ZFxF_Y9HYX"
      },
      "execution_count": null,
      "outputs": []
    }
  ]
}