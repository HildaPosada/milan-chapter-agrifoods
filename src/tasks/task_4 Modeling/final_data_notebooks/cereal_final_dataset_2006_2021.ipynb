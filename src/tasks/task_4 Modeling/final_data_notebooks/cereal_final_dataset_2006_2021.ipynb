{
 "cells": [
  {
   "cell_type": "markdown",
   "id": "515a39f5",
   "metadata": {},
   "source": [
    "# Omdena  - Milan Chapter Agrifoods\n",
    "## AI for Sustainable agri-food systems: use of Satellite Imagery\n",
    "### Exploratory analysis of cereals production in Italy 2006-2022\n",
    "#### Author: Maria Fisher \n"
   ]
  },
  {
   "cell_type": "markdown",
   "id": "8f1ddaa7",
   "metadata": {},
   "source": [
    "The main objective of this study is to have gather information about crop production in Italy for the period of 2006-2022. \n",
    "\n",
    "Crop dataset used in this study was downloaded from the Italian National Institute of Statistics (Istat).\n",
    "\n"
   ]
  },
  {
   "cell_type": "code",
   "execution_count": null,
   "id": "e17f5b17",
   "metadata": {},
   "outputs": [],
   "source": [
    "import warnings \n",
    "warnings.filterwarnings(\"ignore\")\n",
    "\n",
    "import os\n",
    "import pandas as pd\n",
    "pd.options.display.float_format = \"{:.2f}\".format\n",
    "import numpy as np\n",
    "import matplotlib.pyplot as plt\n",
    "import matplotlib.dates as mdates\n",
    "import statsmodels.api as sm\n",
    "from statsmodels.stats.outliers_influence import variance_inflation_factor\n",
    "import seaborn as sns \n",
    "import scipy \n",
    "import sklearn\n",
    "import geopandas as gpd\n",
    "import pgeocode\n",
    "import folium\n",
    "import sys\n",
    "import plotly.graph_objs as go\n",
    "from plotly.offline import download_plotlyjs, init_notebook_mode, iplot, plot"
   ]
  },
  {
   "cell_type": "code",
   "execution_count": null,
   "id": "67d703c2",
   "metadata": {
    "scrolled": true
   },
   "outputs": [],
   "source": [
    "cereals = pd.read_csv('./Italy_crop_data/cereals_legumes.csv',skipinitialspace=True)\n",
    "cereals.head()"
   ]
  },
  {
   "cell_type": "markdown",
   "id": "cbbf3502",
   "metadata": {},
   "source": [
    "## Pre-processing dataset "
   ]
  },
  {
   "cell_type": "code",
   "execution_count": null,
   "id": "6793813f",
   "metadata": {},
   "outputs": [],
   "source": [
    "# Drop Columns\n",
    "cereals = cereals.drop(columns =['ITTER107','TIPO_DATO5','AGRI_MADRE', 'TIME', 'Flag Codes','Flags' ])\n",
    "cereals"
   ]
  },
  {
   "cell_type": "code",
   "execution_count": null,
   "id": "09e8743a",
   "metadata": {},
   "outputs": [],
   "source": [
    "# Rename Columns\n",
    "cereals = cereals.rename(columns = {'Select time':'Year', 'Type of crop':'Type_crop', 'Data type':'Data_type', 'Territory':'City'})\n"
   ]
  },
  {
   "cell_type": "code",
   "execution_count": null,
   "id": "b66f7440",
   "metadata": {
    "scrolled": false
   },
   "outputs": [],
   "source": [
    "def show_info(cereals):\n",
    "    print('DATASET SHAPE: ', cereals.shape, '\\n')\n",
    "    print('-'*50)\n",
    "    print('FEATURE DATA TYPES:')\n",
    "    print(cereals.info())\n",
    "    print('\\n', '-'*50)\n",
    "    print('NUMBER OF UNIQUE VALUES PER FEATURE:', '\\n')\n",
    "    print(cereals.nunique())\n",
    "    print('\\n', '-'*50)\n",
    "    print('NULL VALUES PER FEATURE')\n",
    "    print(cereals.isnull().sum())\n",
    "show_info(cereals)"
   ]
  },
  {
   "cell_type": "markdown",
   "id": "e0550529",
   "metadata": {},
   "source": [
    "## Cities in Italy producing cereals"
   ]
  },
  {
   "cell_type": "code",
   "execution_count": null,
   "id": "5c466fda",
   "metadata": {
    "scrolled": true
   },
   "outputs": [],
   "source": [
    "# Check cities names\n",
    "cereals.City.unique()\n"
   ]
  },
  {
   "cell_type": "code",
   "execution_count": null,
   "id": "2800a4f6",
   "metadata": {},
   "outputs": [],
   "source": [
    "# Select only data for total production - quintals\n",
    "cereals_total_prod = cereals[cereals['Data_type'] == 'total production - quintals ']\n",
    "cereals_total_prod.head()"
   ]
  },
  {
   "cell_type": "code",
   "execution_count": null,
   "id": "17ad006f",
   "metadata": {},
   "outputs": [],
   "source": [
    "# Transform values from quintals to tonnes\n",
    "cereals_total_prod['Value'] = cereals_total_prod['Value']/10\n",
    "cereals_total_prod"
   ]
  },
  {
   "cell_type": "code",
   "execution_count": null,
   "id": "e46df0cb",
   "metadata": {},
   "outputs": [],
   "source": [
    "# Rename column value to production tonnes\n",
    "cereals_total_prod = cereals_total_prod.rename(columns = {'Value':'Production_tonnes'})\n",
    "cereals_total_prod"
   ]
  },
  {
   "cell_type": "code",
   "execution_count": null,
   "id": "996fbf5a",
   "metadata": {},
   "outputs": [],
   "source": [
    "# drop column data type\n",
    "cereals_total_prod =cereals_total_prod.drop(columns =['Data_type' ])\n",
    "cereals_total_prod"
   ]
  },
  {
   "cell_type": "code",
   "execution_count": null,
   "id": "38517d66",
   "metadata": {},
   "outputs": [],
   "source": [
    "# Import climate dataset\n",
    "climate_mean = pd.read_csv('climate_data/climate2006-2021_mean.csv')\n",
    "climate_mean.head()"
   ]
  },
  {
   "cell_type": "code",
   "execution_count": null,
   "id": "b71e9a0a",
   "metadata": {},
   "outputs": [],
   "source": [
    "# Check cities names\n",
    "climate_mean.City.unique()"
   ]
  },
  {
   "cell_type": "code",
   "execution_count": null,
   "id": "c4e34b28",
   "metadata": {
    "scrolled": true
   },
   "outputs": [],
   "source": [
    "# Select cities that correlate with crop data \n",
    "\n",
    "climate_mean = climate_mean.apply(lambda row: row[climate_mean['City'].isin(['Agrigento', 'Alessandria', 'Ancona', 'Arezzo', 'Ascoli Piceno',\n",
    "                                                                             'Asti', 'Avellino', 'Bari', 'Barletta-Andria-Trani', 'Belluno',\n",
    "                                                                             'Benevento', 'Bergamo', 'Biella', 'Bologna', 'Bolzano / Bozen',\n",
    "                                                                             'Brescia', 'Brindisi', 'Cagliari', 'Caltanissetta', 'Campobasso',\n",
    "                                                                             'Carbonia-Iglesias', 'Caserta', 'Catania', 'Catanzaro', 'Chieti',\n",
    "                                                                             'Como', 'Cosenza', 'Cremona', 'Crotone', 'Cuneo', 'Enna', 'Fermo',\n",
    "                                                                             'Ferrara', 'Firenze', 'Foggia', 'Forlì-Cesena', 'Frosinone',\n",
    "                                                                             'Genova', 'Gorizia', 'Grosseto', 'Imperia', 'Isernia', \"L'Aquila\",\n",
    "                                                                             'La Spezia', 'Latina', 'Lecce', 'Lecco', 'Livorno', 'Lodi',\n",
    "                                                                             'Lucca', 'Macerata', 'Mantova', 'Massa-Carrara', 'Matera',\n",
    "                                                                             'Medio Campidano', 'Messina', 'Milano', 'Modena',\n",
    "                                                                             'Monza e della Brianza', 'Napoli', 'Novara', 'Nuoro', 'Ogliastra',\n",
    "                                                                             'Olbia-Tempio', 'Oristano', 'Padova', 'Palermo', 'Parma', 'Pavia',\n",
    "                                                                             'Perugia', 'Pesaro e Urbino', 'Pescara', 'Piacenza', 'Pisa',\n",
    "                                                                             'Pistoia', 'Pordenone', 'Potenza', 'Prato', 'Ragusa', 'Ravenna',\n",
    "                                                                             'Reggio di Calabria', \"Reggio nell'Emilia\", 'Rieti', 'Rimini',\n",
    "                                                                             'Roma', 'Rovigo', 'Salerno', 'Sassari', 'Savona', 'Siena',\n",
    "                                                                             'Siracusa', 'Sondrio', 'Sud Sardegna', 'Taranto', 'Teramo',\n",
    "                                                                             'Terni', 'Torino', 'Trapani', 'Trentino Alto Adige / Südtirol',\n",
    "                                                                             'Trento', 'Treviso', 'Trieste', 'Udine',\n",
    "                                                                             \"Valle d'Aosta / Vallée d'Aoste\", 'Varese', 'Venezia',\n",
    "                                                                             'Verbano-Cusio-Ossola', 'Vercelli', 'Verona', 'Vibo Valentia',\n",
    "                                                                             'Vicenza', 'Viterbo'])])\n",
    "\n",
    "climate_mean.head()"
   ]
  },
  {
   "cell_type": "code",
   "execution_count": null,
   "id": "1b1992fe",
   "metadata": {},
   "outputs": [],
   "source": [
    "climate_mean.City.unique()"
   ]
  },
  {
   "cell_type": "code",
   "execution_count": null,
   "id": "2669909b",
   "metadata": {},
   "outputs": [],
   "source": []
  },
  {
   "cell_type": "code",
   "execution_count": null,
   "id": "8194c752",
   "metadata": {},
   "outputs": [],
   "source": []
  },
  {
   "cell_type": "code",
   "execution_count": null,
   "id": "b7c3ff67",
   "metadata": {},
   "outputs": [],
   "source": [
    "# Join both crop and climate datasets \n",
    "climate_cereal = pd.merge_ordered(cereals_total_prod, climate_mean,  left_by=\"City\").fillna(0)"
   ]
  },
  {
   "cell_type": "code",
   "execution_count": null,
   "id": "d1b5c6b0",
   "metadata": {},
   "outputs": [],
   "source": [
    "climate_cereal.head()"
   ]
  },
  {
   "cell_type": "markdown",
   "id": "b518a0ef",
   "metadata": {},
   "source": [
    "Import fertilizers data "
   ]
  },
  {
   "cell_type": "code",
   "execution_count": null,
   "id": "1385e93e",
   "metadata": {
    "scrolled": true
   },
   "outputs": [],
   "source": [
    "fertilizer = pd.read_csv('crops_climate_fertilizers/fertilizer2006-2021.csv',skipinitialspace=True)\n",
    "fertilizer.head()"
   ]
  },
  {
   "cell_type": "code",
   "execution_count": null,
   "id": "4b95c86e",
   "metadata": {},
   "outputs": [],
   "source": []
  },
  {
   "cell_type": "markdown",
   "id": "0bf1dc4f",
   "metadata": {},
   "source": [
    "Join crop and fertilizers datasets "
   ]
  },
  {
   "cell_type": "code",
   "execution_count": null,
   "id": "37dcf6e6",
   "metadata": {
    "scrolled": true
   },
   "outputs": [],
   "source": [
    "# Join both datasets \n",
    "crop_fertilizer_climate = pd.merge(climate_cereal , fertilizer, on=['Year', 'City'], how='left').fillna(0)\n",
    "crop_fertilizer_climate"
   ]
  },
  {
   "cell_type": "code",
   "execution_count": null,
   "id": "ca7915d5",
   "metadata": {},
   "outputs": [],
   "source": []
  },
  {
   "cell_type": "code",
   "execution_count": null,
   "id": "05c40778",
   "metadata": {},
   "outputs": [],
   "source": [
    "crop_fertilizer_climate  =  crop_fertilizer_climate.to_csv('cereal_climate2006-2021.csv', index=False)"
   ]
  },
  {
   "cell_type": "code",
   "execution_count": null,
   "id": "f97e8976",
   "metadata": {
    "scrolled": true
   },
   "outputs": [],
   "source": [
    "crop_fertilizer_climate= pd.read_csv('cereal_climate2006-2021.csv',skipinitialspace=True)\n",
    "crop_fertilizer_climate.head()"
   ]
  },
  {
   "cell_type": "markdown",
   "id": "362fd0fb",
   "metadata": {},
   "source": [
    "Join locations long and lat to dataset\n"
   ]
  },
  {
   "cell_type": "code",
   "execution_count": null,
   "id": "3faf2ceb",
   "metadata": {},
   "outputs": [],
   "source": [
    "geo = pd.read_csv('it_locations2.csv',skipinitialspace=True)\n",
    "geo.head()"
   ]
  },
  {
   "cell_type": "code",
   "execution_count": null,
   "id": "58841984",
   "metadata": {},
   "outputs": [],
   "source": [
    "# Select cities that correlate with crop data \n",
    "\n",
    "geo = geo.apply(lambda row: row[geo['City'].isin(['Agrigento', 'Alessandria', 'Ancona', 'Arezzo', 'Ascoli Piceno',\n",
    "                                                                             'Asti', 'Avellino', 'Bari', 'Barletta-Andria-Trani', 'Belluno',\n",
    "                                                                             'Benevento', 'Bergamo', 'Biella', 'Bologna', 'Bolzano / Bozen',\n",
    "                                                                             'Brescia', 'Brindisi', 'Cagliari', 'Caltanissetta', 'Campobasso',\n",
    "                                                                             'Carbonia-Iglesias', 'Caserta', 'Catania', 'Catanzaro', 'Chieti',\n",
    "                                                                             'Como', 'Cosenza', 'Cremona', 'Crotone', 'Cuneo', 'Enna', 'Fermo',\n",
    "                                                                             'Ferrara', 'Firenze', 'Foggia', 'Forlì-Cesena', 'Frosinone',\n",
    "                                                                             'Genova', 'Gorizia', 'Grosseto', 'Imperia', 'Isernia', \"L'Aquila\",\n",
    "                                                                             'La Spezia', 'Latina', 'Lecce', 'Lecco', 'Livorno', 'Lodi',\n",
    "                                                                             'Lucca', 'Macerata', 'Mantova', 'Massa-Carrara', 'Matera',\n",
    "                                                                             'Medio Campidano', 'Messina', 'Milano', 'Modena',\n",
    "                                                                             'Monza e della Brianza', 'Napoli', 'Novara', 'Nuoro', 'Ogliastra',\n",
    "                                                                             'Olbia-Tempio', 'Oristano', 'Padova', 'Palermo', 'Parma', 'Pavia',\n",
    "                                                                             'Perugia', 'Pesaro e Urbino', 'Pescara', 'Piacenza', 'Pisa',\n",
    "                                                                             'Pistoia', 'Pordenone', 'Potenza', 'Prato', 'Ragusa', 'Ravenna',\n",
    "                                                                             'Reggio di Calabria', \"Reggio nell'Emilia\", 'Rieti', 'Rimini',\n",
    "                                                                             'Roma', 'Rovigo', 'Salerno', 'Sassari', 'Savona', 'Siena',\n",
    "                                                                             'Siracusa', 'Sondrio', 'Sud Sardegna', 'Taranto', 'Teramo',\n",
    "                                                                             'Terni', 'Torino', 'Trapani', 'Trentino Alto Adige / Südtirol',\n",
    "                                                                             'Trento', 'Treviso', 'Trieste', 'Udine',\n",
    "                                                                             \"Valle d'Aosta / Vallée d'Aoste\", 'Varese', 'Venezia',\n",
    "                                                                             'Verbano-Cusio-Ossola', 'Vercelli', 'Verona', 'Vibo Valentia',\n",
    "                                                                             'Vicenza', 'Viterbo'])])\n",
    "geo.head()"
   ]
  },
  {
   "cell_type": "code",
   "execution_count": null,
   "id": "def6c907",
   "metadata": {},
   "outputs": [],
   "source": [
    "geo.City.unique()"
   ]
  },
  {
   "cell_type": "code",
   "execution_count": null,
   "id": "c8eab330",
   "metadata": {},
   "outputs": [],
   "source": [
    "# Join both crop and locations datasets \n",
    "final_cereal_crop = pd.merge_ordered(crop_fertilizer_climate, geo,  left_by=\"City\").fillna(0)"
   ]
  },
  {
   "cell_type": "code",
   "execution_count": null,
   "id": "465e5444",
   "metadata": {},
   "outputs": [],
   "source": [
    "final_cereal_crop"
   ]
  },
  {
   "cell_type": "code",
   "execution_count": null,
   "id": "6a82b36b",
   "metadata": {},
   "outputs": [],
   "source": [
    "# save final dataset\n",
    "final_cereal_crop = final_cereal_crop.to_csv('cereal_crop_climate2006-2021.csv',index=False )"
   ]
  },
  {
   "cell_type": "code",
   "execution_count": null,
   "id": "bb90815e",
   "metadata": {},
   "outputs": [],
   "source": []
  }
 ],
 "metadata": {
  "kernelspec": {
   "display_name": "Python 3 (ipykernel)",
   "language": "python",
   "name": "python3"
  },
  "language_info": {
   "codemirror_mode": {
    "name": "ipython",
    "version": 3
   },
   "file_extension": ".py",
   "mimetype": "text/x-python",
   "name": "python",
   "nbconvert_exporter": "python",
   "pygments_lexer": "ipython3",
   "version": "3.10.6"
  }
 },
 "nbformat": 4,
 "nbformat_minor": 5
}
