{
 "cells": [
  {
   "cell_type": "markdown",
   "id": "515a39f5",
   "metadata": {},
   "source": [
    "# Omdena  - Milan Chapter Agrifoods\n",
    "## AI for Sustainable agri-food systems: use of Satellite Imagery\n",
    "### Exploratory analysis of grapes and olives production in Italy 2006-2022\n",
    "#### Author: Maria Fisher \n"
   ]
  },
  {
   "cell_type": "markdown",
   "id": "8f1ddaa7",
   "metadata": {},
   "source": [
    "The main objective of this study is to have gather information about crop production in Italy for the period of 2006-2022. \n",
    "\n",
    "Crop dataset used in this study was downloaded from the Italian National Institute of Statistics (Istat).\n",
    "\n"
   ]
  },
  {
   "cell_type": "code",
   "execution_count": null,
   "id": "e17f5b17",
   "metadata": {},
   "outputs": [],
   "source": [
    "import warnings \n",
    "warnings.filterwarnings(\"ignore\")\n",
    "\n",
    "import os\n",
    "import pandas as pd\n",
    "pd.options.display.float_format = \"{:.2f}\".format\n",
    "import numpy as np\n",
    "import matplotlib.pyplot as plt\n",
    "import matplotlib.dates as mdates\n",
    "import statsmodels.api as sm\n",
    "from statsmodels.stats.outliers_influence import variance_inflation_factor\n",
    "import seaborn as sns \n",
    "import scipy \n",
    "import sklearn\n",
    "import geopandas as gpd\n",
    "import pgeocode\n",
    "import folium\n",
    "import sys\n",
    "import plotly.graph_objs as go\n",
    "from plotly.offline import download_plotlyjs, init_notebook_mode, iplot, plot"
   ]
  },
  {
   "cell_type": "code",
   "execution_count": null,
   "id": "67d703c2",
   "metadata": {
    "scrolled": false
   },
   "outputs": [],
   "source": [
    "grapes_olives = pd.read_csv('./Italy_crop_data/grapes_olives.csv',skipinitialspace=True)\n",
    "grapes_olives.head()"
   ]
  },
  {
   "cell_type": "markdown",
   "id": "cbbf3502",
   "metadata": {},
   "source": [
    "## Pre-processing dataset "
   ]
  },
  {
   "cell_type": "code",
   "execution_count": null,
   "id": "6793813f",
   "metadata": {},
   "outputs": [],
   "source": [
    "# Drop Columns\n",
    "grapes_olives = grapes_olives.drop(columns =['ITTER107','TIPO_DATO5','AGRI_MADRE', 'TIME', 'Flag Codes','Flags' ])\n",
    "grapes_olives"
   ]
  },
  {
   "cell_type": "code",
   "execution_count": null,
   "id": "09e8743a",
   "metadata": {},
   "outputs": [],
   "source": [
    "# Rename Columns\n",
    "grapes_olives = grapes_olives.rename(columns = {'Select time':'Year', 'Type of crop':'Type_crop', 'Data type':'Data_type', 'Territory':'City'})\n"
   ]
  },
  {
   "cell_type": "code",
   "execution_count": null,
   "id": "b66f7440",
   "metadata": {
    "scrolled": false
   },
   "outputs": [],
   "source": [
    "def show_info(grapes_olives):\n",
    "    print('DATASET SHAPE: ', grapes_olives.shape, '\\n')\n",
    "    print('-'*50)\n",
    "    print('FEATURE DATA TYPES:')\n",
    "    print(grapes_olives.info())\n",
    "    print('\\n', '-'*50)\n",
    "    print('NUMBER OF UNIQUE VALUES PER FEATURE:', '\\n')\n",
    "    print(grapes_olives.nunique())\n",
    "    print('\\n', '-'*50)\n",
    "    print('NULL VALUES PER FEATURE')\n",
    "    print(grapes_olives.isnull().sum())\n",
    "show_info(grapes_olives)"
   ]
  },
  {
   "cell_type": "markdown",
   "id": "e0550529",
   "metadata": {},
   "source": [
    "## Cities in Italy producing grapes_olives"
   ]
  },
  {
   "cell_type": "code",
   "execution_count": null,
   "id": "5c466fda",
   "metadata": {
    "scrolled": true
   },
   "outputs": [],
   "source": [
    "# Check cities names\n",
    "grapes_olives.City.unique()\n"
   ]
  },
  {
   "cell_type": "code",
   "execution_count": null,
   "id": "2800a4f6",
   "metadata": {},
   "outputs": [],
   "source": [
    "# Select only data for total production - quintals\n",
    "grapes_olives_total_prod = grapes_olives[grapes_olives['Data_type'] == 'total production - quintals ']\n",
    "grapes_olives_total_prod.head()"
   ]
  },
  {
   "cell_type": "code",
   "execution_count": null,
   "id": "17ad006f",
   "metadata": {},
   "outputs": [],
   "source": [
    "# Transform values from quintals to tonnes\n",
    "grapes_olives_total_prod['Value'] = grapes_olives_total_prod['Value']/10\n",
    "grapes_olives_total_prod"
   ]
  },
  {
   "cell_type": "code",
   "execution_count": null,
   "id": "e46df0cb",
   "metadata": {},
   "outputs": [],
   "source": [
    "# Rename column value to production tonnes\n",
    "grapes_olives_total_prod = grapes_olives_total_prod.rename(columns = {'Value':'Production_tonnes'})\n",
    "grapes_olives_total_prod"
   ]
  },
  {
   "cell_type": "code",
   "execution_count": null,
   "id": "996fbf5a",
   "metadata": {},
   "outputs": [],
   "source": [
    "# drop column data type\n",
    "grapes_olives_total_prod =grapes_olives_total_prod.drop(columns =['Data_type' ])\n",
    "grapes_olives_total_prod"
   ]
  },
  {
   "cell_type": "code",
   "execution_count": null,
   "id": "38517d66",
   "metadata": {},
   "outputs": [],
   "source": [
    "# Import climate dataset\n",
    "climate_mean = pd.read_csv('climate_data/climate2006-2021_mean.csv')\n",
    "climate_mean.head()"
   ]
  },
  {
   "cell_type": "code",
   "execution_count": null,
   "id": "b71e9a0a",
   "metadata": {},
   "outputs": [],
   "source": [
    "# Check cities names\n",
    "climate_mean.City.unique()"
   ]
  },
  {
   "cell_type": "code",
   "execution_count": null,
   "id": "c4e34b28",
   "metadata": {
    "scrolled": true
   },
   "outputs": [],
   "source": [
    "# Select cities names that correlate with crop data \n",
    "\n",
    "climate_mean = climate_mean.apply(lambda row: row[climate_mean['City'].isin(['Agrigento', 'Alessandria', 'Ancona', 'Arezzo', 'Ascoli Piceno',\n",
    "                                                                             'Asti', 'Avellino', 'Bari', 'Barletta-Andria-Trani', 'Belluno',\n",
    "                                                                             'Benevento', 'Bergamo', 'Biella', 'Bologna', 'Bolzano / Bozen',\n",
    "                                                                             'Brescia', 'Brindisi', 'Cagliari', 'Caltanissetta', 'Campobasso',\n",
    "                                                                             'Carbonia-Iglesias', 'Caserta', 'Catania', 'Catanzaro', 'Chieti',\n",
    "                                                                             'Como', 'Cosenza', 'Cremona', 'Crotone', 'Cuneo', 'Enna', 'Fermo',\n",
    "                                                                             'Ferrara', 'Firenze', 'Foggia', 'Forlì-Cesena', 'Frosinone',\n",
    "                                                                             'Genova', 'Gorizia', 'Grosseto', 'Imperia', 'Isernia', \"L'Aquila\",\n",
    "                                                                             'La Spezia', 'Latina', 'Lecce', 'Lecco', 'Livorno', 'Lodi',\n",
    "                                                                             'Lucca', 'Macerata', 'Mantova', 'Massa-Carrara', 'Matera',\n",
    "                                                                             'Medio Campidano', 'Messina', 'Milano', 'Modena',\n",
    "                                                                             'Monza e della Brianza', 'Napoli', 'Novara', 'Nuoro', 'Ogliastra',\n",
    "                                                                             'Olbia-Tempio', 'Oristano', 'Padova', 'Palermo', 'Parma', 'Pavia',\n",
    "                                                                             'Perugia', 'Pesaro e Urbino', 'Pescara', 'Piacenza', 'Pisa',\n",
    "                                                                             'Pistoia', 'Pordenone', 'Potenza', 'Prato', 'Ragusa', 'Ravenna',\n",
    "                                                                             'Reggio di Calabria', \"Reggio nell'Emilia\", 'Rieti', 'Rimini',\n",
    "                                                                             'Roma', 'Rovigo', 'Salerno', 'Sassari', 'Savona', 'Siena',\n",
    "                                                                             'Siracusa', 'Sondrio', 'Sud Sardegna', 'Taranto', 'Teramo',\n",
    "                                                                             'Terni', 'Torino', 'Trapani', 'Trentino Alto Adige / Südtirol',\n",
    "                                                                             'Trento', 'Treviso', 'Trieste', 'Udine',\n",
    "                                                                             \"Valle d'Aosta / Vallée d'Aoste\", 'Varese', 'Venezia',\n",
    "                                                                             'Verbano-Cusio-Ossola', 'Vercelli', 'Verona', 'Vibo Valentia',\n",
    "                                                                             'Vicenza', 'Viterbo'])])\n",
    "\n",
    "climate_mean.head()"
   ]
  },
  {
   "cell_type": "code",
   "execution_count": null,
   "id": "49d6a946",
   "metadata": {},
   "outputs": [],
   "source": [
    "climate_mean.City.unique()"
   ]
  },
  {
   "cell_type": "code",
   "execution_count": null,
   "id": "b7c3ff67",
   "metadata": {},
   "outputs": [],
   "source": [
    "# Join both crop and climate datasets \n",
    "climate_grapes_olives = pd.merge_ordered(grapes_olives_total_prod, climate_mean,  left_by=\"City\").fillna(0)"
   ]
  },
  {
   "cell_type": "code",
   "execution_count": null,
   "id": "d1b5c6b0",
   "metadata": {
    "scrolled": true
   },
   "outputs": [],
   "source": [
    "climate_grapes_olives.head()"
   ]
  },
  {
   "cell_type": "markdown",
   "id": "7ebbb85d",
   "metadata": {},
   "source": [
    "Import fertilizers data "
   ]
  },
  {
   "cell_type": "code",
   "execution_count": null,
   "id": "1385e93e",
   "metadata": {
    "scrolled": true
   },
   "outputs": [],
   "source": [
    "fertilizer = pd.read_csv('crops_climate_fertilizers/fertilizer2006-2021.csv',skipinitialspace=True)\n",
    "fertilizer.head()"
   ]
  },
  {
   "cell_type": "code",
   "execution_count": null,
   "id": "bb6e0ecd",
   "metadata": {},
   "outputs": [],
   "source": []
  },
  {
   "cell_type": "code",
   "execution_count": null,
   "id": "1f57e543",
   "metadata": {},
   "outputs": [],
   "source": []
  },
  {
   "cell_type": "code",
   "execution_count": null,
   "id": "52ab2fed",
   "metadata": {},
   "outputs": [],
   "source": [
    "# Drop irrelevant colmuns \n",
    "crop_fertilizer_climate = crop_fertilizer_climate.drop(columns =['Unnamed: 0.1','Unnamed: 0', 'Type_fertilizer'])\n",
    "crop_fertilizer_climate"
   ]
  },
  {
   "cell_type": "markdown",
   "id": "0bf1dc4f",
   "metadata": {},
   "source": [
    "Join crop and fertilizers datasets "
   ]
  },
  {
   "cell_type": "code",
   "execution_count": null,
   "id": "37dcf6e6",
   "metadata": {
    "scrolled": true
   },
   "outputs": [],
   "source": [
    "# Join both crop and fertilizers datasets \n",
    "crop_fertilizer_climate = pd.merge(climate_grapes_olives , fertilizer, on=['Year', 'City'], how='left').fillna(0)\n",
    "crop_fertilizer_climate"
   ]
  },
  {
   "cell_type": "code",
   "execution_count": null,
   "id": "f3e410c0",
   "metadata": {},
   "outputs": [],
   "source": [
    "# Save crop and fertilizers joined data\n",
    "crop_fertilizer_climate  =  crop_fertilizer_climate.to_csv('grapes_olives_fertilizer_climate2006-2021.csv', index=False)"
   ]
  },
  {
   "cell_type": "code",
   "execution_count": null,
   "id": "51ad42f1",
   "metadata": {},
   "outputs": [],
   "source": [
    "crop_fertilizer_climate = pd.read_csv('grapes_olives_fertilizer_climate2006-2021.csv',skipinitialspace=True)\n",
    "crop_fertilizer_climate.head()"
   ]
  },
  {
   "cell_type": "markdown",
   "id": "64806070",
   "metadata": {},
   "source": [
    "Import locations lat and lon "
   ]
  },
  {
   "cell_type": "code",
   "execution_count": null,
   "id": "68174fab",
   "metadata": {},
   "outputs": [],
   "source": [
    "geo = pd.read_csv('it_locations2.csv',skipinitialspace=True)\n",
    "geo.head()"
   ]
  },
  {
   "cell_type": "code",
   "execution_count": null,
   "id": "4b6242e3",
   "metadata": {},
   "outputs": [],
   "source": [
    "geo.City.unique()"
   ]
  },
  {
   "cell_type": "code",
   "execution_count": null,
   "id": "64368b83",
   "metadata": {},
   "outputs": [],
   "source": [
    "# Select cities that correlate with crop data \n",
    "\n",
    "geo = geo.apply(lambda row: row[geo['City'].isin(['Agrigento', 'Alessandria', 'Ancona', 'Arezzo', 'Ascoli Piceno',\n",
    "                                                                             'Asti', 'Avellino', 'Bari', 'Barletta-Andria-Trani', 'Belluno',\n",
    "                                                                             'Benevento', 'Bergamo', 'Biella', 'Bologna', 'Bolzano / Bozen',\n",
    "                                                                             'Brescia', 'Brindisi', 'Cagliari', 'Caltanissetta', 'Campobasso',\n",
    "                                                                             'Carbonia-Iglesias', 'Caserta', 'Catania', 'Catanzaro', 'Chieti',\n",
    "                                                                             'Como', 'Cosenza', 'Cremona', 'Crotone', 'Cuneo', 'Enna', 'Fermo',\n",
    "                                                                             'Ferrara', 'Firenze', 'Foggia', 'Forlì-Cesena', 'Frosinone',\n",
    "                                                                             'Genova', 'Gorizia', 'Grosseto', 'Imperia', 'Isernia', \"L'Aquila\",\n",
    "                                                                             'La Spezia', 'Latina', 'Lecce', 'Lecco', 'Livorno', 'Lodi',\n",
    "                                                                             'Lucca', 'Macerata', 'Mantova', 'Massa-Carrara', 'Matera',\n",
    "                                                                             'Medio Campidano', 'Messina', 'Milano', 'Modena',\n",
    "                                                                             'Monza e della Brianza', 'Napoli', 'Novara', 'Nuoro', 'Ogliastra',\n",
    "                                                                             'Olbia-Tempio', 'Oristano', 'Padova', 'Palermo', 'Parma', 'Pavia',\n",
    "                                                                             'Perugia', 'Pesaro e Urbino', 'Pescara', 'Piacenza', 'Pisa',\n",
    "                                                                             'Pistoia', 'Pordenone', 'Potenza', 'Prato', 'Ragusa', 'Ravenna',\n",
    "                                                                             'Reggio di Calabria', \"Reggio nell'Emilia\", 'Rieti', 'Rimini',\n",
    "                                                                             'Roma', 'Rovigo', 'Salerno', 'Sassari', 'Savona', 'Siena',\n",
    "                                                                             'Siracusa', 'Sondrio', 'Sud Sardegna', 'Taranto', 'Teramo',\n",
    "                                                                             'Terni', 'Torino', 'Trapani', 'Trentino Alto Adige / Südtirol',\n",
    "                                                                             'Trento', 'Treviso', 'Trieste', 'Udine',\n",
    "                                                                             \"Valle d'Aosta / Vallée d'Aoste\", 'Varese', 'Venezia',\n",
    "                                                                             'Verbano-Cusio-Ossola', 'Vercelli', 'Verona', 'Vibo Valentia',\n",
    "                                                                             'Vicenza', 'Viterbo'])])\n",
    "geo.head()"
   ]
  },
  {
   "cell_type": "code",
   "execution_count": null,
   "id": "8542af55",
   "metadata": {},
   "outputs": [],
   "source": [
    "geo.City.unique()"
   ]
  },
  {
   "cell_type": "code",
   "execution_count": null,
   "id": "64f9237b",
   "metadata": {},
   "outputs": [],
   "source": [
    "# Join both crop and locations datasets \n",
    "crop_fertilizer_climate = pd.merge_ordered(crop_fertilizer_climate, geo,  left_by=\"City\").fillna(0)"
   ]
  },
  {
   "cell_type": "code",
   "execution_count": null,
   "id": "5fe7dcb7",
   "metadata": {},
   "outputs": [],
   "source": [
    "crop_fertilizer_climate"
   ]
  },
  {
   "cell_type": "code",
   "execution_count": null,
   "id": "6d21c02a",
   "metadata": {},
   "outputs": [],
   "source": [
    "# Save final dataset\n",
    "crop_fertilizer_climate  =  crop_fertilizer_climate.to_csv('grapes-olives_climate2006-2021.csv', index=False)"
   ]
  }
 ],
 "metadata": {
  "kernelspec": {
   "display_name": "Python 3 (ipykernel)",
   "language": "python",
   "name": "python3"
  },
  "language_info": {
   "codemirror_mode": {
    "name": "ipython",
    "version": 3
   },
   "file_extension": ".py",
   "mimetype": "text/x-python",
   "name": "python",
   "nbconvert_exporter": "python",
   "pygments_lexer": "ipython3",
   "version": "3.10.6"
  }
 },
 "nbformat": 4,
 "nbformat_minor": 5
}
