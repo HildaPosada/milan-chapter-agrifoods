{
  "cells": [
    {
      "cell_type": "code",
      "execution_count": null,
      "metadata": {
        "id": "wiHEvZ0HEyei"
      },
      "outputs": [],
      "source": [
        "# Requirements, will skip if already installed\n",
        "%pip install geopandas rasterio rasterstats shapely\n",
        "%pip install folium earthengine-api\n",
        "%pip install scikit-learn\n",
        "%pip install treeinterpreter"
      ]
    },
    {
      "cell_type": "code",
      "execution_count": 4,
      "metadata": {
        "id": "DrQn98U0EBrP"
      },
      "outputs": [],
      "source": [
        "!pip install -q geopandas shapely scikit-learn treeinterpreter rasterio rasterstats folium "
      ]
    },
    {
      "cell_type": "code",
      "execution_count": 5,
      "metadata": {
        "id": "eVI5CoF8Esvu"
      },
      "outputs": [],
      "source": [
        "%matplotlib inline\n",
        "import os \n",
        "from os import makedirs, path as op\n",
        "import matplotlib\n",
        "import numpy as np\n",
        "import rasterio\n",
        "import geopandas as gpd\n",
        "import pandas as pd\n",
        "import shapely\n",
        "import folium\n",
        "import os\n",
        "import pandas as pd\n",
        "import numpy as np\n",
        "from pathlib import Path\n",
        "from pprint import pprint\n",
        "import matplotlib.pyplot as plt\n",
        "import seaborn as sns\n",
        "import xgboost as xgb\n",
        "from sklearn.metrics import r2_score, mean_squared_error\n",
        "from sklearn.ensemble import RandomForestRegressor, AdaBoostRegressor, GradientBoostingRegressor\n",
        "from sklearn import svm\n",
        "from sklearn.tree import DecisionTreeRegressor\n",
        "from sklearn.model_selection import cross_validate, train_test_split, GridSearchCV\n",
        "from sklearn.preprocessing import MinMaxScaler, OneHotEncoder\n",
        "import json\n",
        "import time\n",
        "import matplotlib.pyplot as plt\n",
        "from sklearn import preprocessing\n",
        "import xgboost as xgb\n",
        "from sklearn.metrics import mean_squared_error\n",
        "from sklearn.model_selection import GridSearchCV \n",
        "from sklearn.model_selection import train_test_split\n",
        "from os import path as op\n",
        "import pickle\n",
        "import geopandas as gpd\n",
        "import shapely as shp\n",
        "import matplotlib.pyplot as plt\n",
        "import numpy as np\n",
        "import rasterio\n",
        "from rasterio.features import rasterize\n",
        "from rasterstats.io import bounds_window\n",
        "import rasterstats\n",
        "import folium\n",
        "from sklearn.metrics import confusion_matrix\n",
        "from sklearn.model_selection import train_test_split\n",
        "from sklearn.ensemble import RandomForestClassifier\n",
        "from treeinterpreter import treeinterpreter as ti"
      ]
    },
    {
      "cell_type": "markdown",
      "metadata": {
        "id": "AVrYYwi3kjp_"
      },
      "source": [
        " Folow [this](https://developmentseed.org/sat-ml-training/GettingStarted#Explore-your-drive) for gogle drive issue"
      ]
    },
    {
      "cell_type": "markdown",
      "metadata": {
        "id": "xacJgY7iIoyh"
      },
      "source": [
        "Importing a library that is not in Colaboratory"
      ]
    },
    {
      "cell_type": "code",
      "execution_count": null,
      "metadata": {
        "id": "jMAlHPXsHL6D"
      },
      "outputs": [],
      "source": [
        "#!pip install matplotlib-venn\n",
        "#import matplotlib-venn"
      ]
    },
    {
      "cell_type": "code",
      "execution_count": null,
      "metadata": {
        "id": "4LsVGd1wIy3e"
      },
      "outputs": [],
      "source": [
        "#!apt-get -qq install -y libfluidsynth1\n",
        "#import libfluidsynth1"
      ]
    },
    {
      "cell_type": "markdown",
      "metadata": {
        "id": "KBbp-97WI6za"
      },
      "source": [
        "Install 7zip reader [libarchive](https://pypi.python.org/pypi/libarchive)"
      ]
    },
    {
      "cell_type": "code",
      "execution_count": null,
      "metadata": {
        "id": "bxmujoMQJTP_"
      },
      "outputs": [],
      "source": [
        "!apt-get -qq install -y libarchive-dev && pip install -U libarchive\n",
        "import libarchive"
      ]
    },
    {
      "cell_type": "markdown",
      "metadata": {
        "id": "JuCID3GqKQul"
      },
      "source": [
        "Install GraphViz & [PyDot](https://pypi.python.org/pypi/pydot)"
      ]
    },
    {
      "cell_type": "code",
      "execution_count": null,
      "metadata": {
        "id": "rIom6wknKo19"
      },
      "outputs": [],
      "source": [
        "# https://pypi.python.org/pypi/pydot\n",
        "!apt-get -qq install -y graphviz && pip install pydot\n",
        "import pydot"
      ]
    },
    {
      "cell_type": "markdown",
      "metadata": {
        "id": "96iQZT9yKyNb"
      },
      "source": [
        "Install [cartopy](http://scitools.org.uk/cartopy/docs/latest/)"
      ]
    },
    {
      "cell_type": "code",
      "execution_count": null,
      "metadata": {
        "id": "h23Pl2AaK564"
      },
      "outputs": [],
      "source": [
        "!pip install cartopy\n",
        "import cartopy"
      ]
    },
    {
      "cell_type": "code",
      "execution_count": null,
      "metadata": {
        "id": "T3NCPe2qNBEl"
      },
      "outputs": [],
      "source": [
        "#!pip install mapclassify\n",
        "#import mapclassify"
      ]
    },
    {
      "cell_type": "code",
      "execution_count": null,
      "metadata": {
        "id": "poFHiCnFrlL5"
      },
      "outputs": [],
      "source": [
        "!pip install folium matplotlib mapclassify"
      ]
    },
    {
      "cell_type": "code",
      "source": [
        "#import os\n",
        "#os.chdir(\"/content/drive/My Drive\")\n",
        "#!ls"
      ],
      "metadata": {
        "id": "3z8IxySsJ9aY"
      },
      "execution_count": null,
      "outputs": []
    },
    {
      "cell_type": "code",
      "source": [
        "!pip install awscli"
      ],
      "metadata": {
        "id": "ei0rSG50O2vp"
      },
      "execution_count": null,
      "outputs": []
    },
    {
      "cell_type": "code",
      "execution_count": 6,
      "metadata": {
        "colab": {
          "base_uri": "https://localhost:8080/"
        },
        "id": "n44NEt05gryj",
        "outputId": "5ecfd83e-8602-4293-91e9-378b687fb20b"
      },
      "outputs": [
        {
          "output_type": "stream",
          "name": "stdout",
          "text": [
            "Mounted at /content/drive/\n"
          ]
        }
      ],
      "source": [
        "from google.colab import drive\n",
        "drive.mount('/content/drive/', force_remount=True)\n",
        "my_root_dir = \"/content/drive/My Drive/Colab Notebooks/data\""
      ]
    },
    {
      "cell_type": "markdown",
      "metadata": {
        "id": "g7_7uC_OVtUT"
      },
      "source": [
        "# Read Data"
      ]
    },
    {
      "cell_type": "code",
      "execution_count": 7,
      "metadata": {
        "colab": {
          "base_uri": "https://localhost:8080/"
        },
        "id": "IxVDfl3UVxly",
        "outputId": "190f8eae-d29a-4e0a-b63f-4fa21b8763d7"
      },
      "outputs": [
        {
          "output_type": "stream",
          "name": "stdout",
          "text": [
            "=== cereal === \n",
            "Index(['City', 'Type_crop', 'Year', 'Production_tonnes', 'PS', 'TS', 'QV2M',\n",
            "       'RH2M', 'WS2M', 'GWETTOP', 'T2M_MAX', 'T2M_MIN', 'GWETPROF', 'GWETROOT',\n",
            "       'CLOUD_AMT', 'T2M_RANGE', 'PRECTOTCORR', 'Fertilizers_tonnes', 'lat',\n",
            "       'lon'],\n",
            "      dtype='object')\n"
          ]
        }
      ],
      "source": [
        "data_dir = Path(\"/content/drive/MyDrive/Colab Notebooks/data\")\n",
        "# data_dir= Path(\"/content/sample_data/cropdataset\")\n",
        "cereal = pd.read_csv(data_dir / 'cereal_crop_climate2006-2021.csv',encoding='latin-1')\n",
        "#cereal = pd.read_csv(my_root_dir, 'cereal_crop_climate2006-2021.csv')\n",
        "print(\"=== cereal === \")\n",
        "print(cereal.columns)"
      ]
    },
    {
      "cell_type": "code",
      "execution_count": 14,
      "metadata": {
        "colab": {
          "base_uri": "https://localhost:8080/",
          "height": 357
        },
        "id": "ZJV0XDlBWCuj",
        "outputId": "316c2f33-a9a1-491d-b60e-cbca59fdf272"
      },
      "outputs": [
        {
          "output_type": "execute_result",
          "data": {
            "text/plain": [
              "     City     Type_crop  Year  Production_tonnes     PS     TS  QV2M  RH2M  \\\n",
              "0  Torino  common wheat  2006           119700.0  93.51  10.72  6.16  64.9   \n",
              "1  Torino  common wheat  2006           119700.0  93.51  10.72  6.16  64.9   \n",
              "2  Torino  common wheat  2006           119700.0  93.51  10.72  6.16  64.9   \n",
              "3  Torino  common wheat  2006           119700.0  93.51  10.72  6.16  64.9   \n",
              "4  Torino  common wheat  2006           119700.0  93.51  10.72  6.16  64.9   \n",
              "\n",
              "   WS2M  GWETTOP  T2M_MAX  T2M_MIN  GWETPROF  GWETROOT  CLOUD_AMT  T2M_RANGE  \\\n",
              "0  1.33     0.62    24.23      1.0      0.61      0.61      58.07      23.23   \n",
              "1  1.33     0.62    24.23      1.0      0.61      0.61      58.07      23.23   \n",
              "2  1.33     0.62    24.23      1.0      0.61      0.61      58.07      23.23   \n",
              "3  1.33     0.62    24.23      1.0      0.61      0.61      58.07      23.23   \n",
              "4  1.33     0.62    24.23      1.0      0.61      0.61      58.07      23.23   \n",
              "\n",
              "   PRECTOTCORR  Fertilizers_tonnes      lat      lon  \n",
              "0         1.79               122.7  42.1833  14.5333  \n",
              "1         1.79              1124.5  42.1833  14.5333  \n",
              "2         1.79             16166.9  42.1833  14.5333  \n",
              "3         1.79             13448.7  42.1833  14.5333  \n",
              "4         1.79               934.7  42.1833  14.5333  "
            ],
            "text/html": [
              "\n",
              "  <div id=\"df-981a966c-da80-4add-859c-d249d1206697\">\n",
              "    <div class=\"colab-df-container\">\n",
              "      <div>\n",
              "<style scoped>\n",
              "    .dataframe tbody tr th:only-of-type {\n",
              "        vertical-align: middle;\n",
              "    }\n",
              "\n",
              "    .dataframe tbody tr th {\n",
              "        vertical-align: top;\n",
              "    }\n",
              "\n",
              "    .dataframe thead th {\n",
              "        text-align: right;\n",
              "    }\n",
              "</style>\n",
              "<table border=\"1\" class=\"dataframe\">\n",
              "  <thead>\n",
              "    <tr style=\"text-align: right;\">\n",
              "      <th></th>\n",
              "      <th>City</th>\n",
              "      <th>Type_crop</th>\n",
              "      <th>Year</th>\n",
              "      <th>Production_tonnes</th>\n",
              "      <th>PS</th>\n",
              "      <th>TS</th>\n",
              "      <th>QV2M</th>\n",
              "      <th>RH2M</th>\n",
              "      <th>WS2M</th>\n",
              "      <th>GWETTOP</th>\n",
              "      <th>T2M_MAX</th>\n",
              "      <th>T2M_MIN</th>\n",
              "      <th>GWETPROF</th>\n",
              "      <th>GWETROOT</th>\n",
              "      <th>CLOUD_AMT</th>\n",
              "      <th>T2M_RANGE</th>\n",
              "      <th>PRECTOTCORR</th>\n",
              "      <th>Fertilizers_tonnes</th>\n",
              "      <th>lat</th>\n",
              "      <th>lon</th>\n",
              "    </tr>\n",
              "  </thead>\n",
              "  <tbody>\n",
              "    <tr>\n",
              "      <th>0</th>\n",
              "      <td>Torino</td>\n",
              "      <td>common wheat</td>\n",
              "      <td>2006</td>\n",
              "      <td>119700.0</td>\n",
              "      <td>93.51</td>\n",
              "      <td>10.72</td>\n",
              "      <td>6.16</td>\n",
              "      <td>64.9</td>\n",
              "      <td>1.33</td>\n",
              "      <td>0.62</td>\n",
              "      <td>24.23</td>\n",
              "      <td>1.0</td>\n",
              "      <td>0.61</td>\n",
              "      <td>0.61</td>\n",
              "      <td>58.07</td>\n",
              "      <td>23.23</td>\n",
              "      <td>1.79</td>\n",
              "      <td>122.7</td>\n",
              "      <td>42.1833</td>\n",
              "      <td>14.5333</td>\n",
              "    </tr>\n",
              "    <tr>\n",
              "      <th>1</th>\n",
              "      <td>Torino</td>\n",
              "      <td>common wheat</td>\n",
              "      <td>2006</td>\n",
              "      <td>119700.0</td>\n",
              "      <td>93.51</td>\n",
              "      <td>10.72</td>\n",
              "      <td>6.16</td>\n",
              "      <td>64.9</td>\n",
              "      <td>1.33</td>\n",
              "      <td>0.62</td>\n",
              "      <td>24.23</td>\n",
              "      <td>1.0</td>\n",
              "      <td>0.61</td>\n",
              "      <td>0.61</td>\n",
              "      <td>58.07</td>\n",
              "      <td>23.23</td>\n",
              "      <td>1.79</td>\n",
              "      <td>1124.5</td>\n",
              "      <td>42.1833</td>\n",
              "      <td>14.5333</td>\n",
              "    </tr>\n",
              "    <tr>\n",
              "      <th>2</th>\n",
              "      <td>Torino</td>\n",
              "      <td>common wheat</td>\n",
              "      <td>2006</td>\n",
              "      <td>119700.0</td>\n",
              "      <td>93.51</td>\n",
              "      <td>10.72</td>\n",
              "      <td>6.16</td>\n",
              "      <td>64.9</td>\n",
              "      <td>1.33</td>\n",
              "      <td>0.62</td>\n",
              "      <td>24.23</td>\n",
              "      <td>1.0</td>\n",
              "      <td>0.61</td>\n",
              "      <td>0.61</td>\n",
              "      <td>58.07</td>\n",
              "      <td>23.23</td>\n",
              "      <td>1.79</td>\n",
              "      <td>16166.9</td>\n",
              "      <td>42.1833</td>\n",
              "      <td>14.5333</td>\n",
              "    </tr>\n",
              "    <tr>\n",
              "      <th>3</th>\n",
              "      <td>Torino</td>\n",
              "      <td>common wheat</td>\n",
              "      <td>2006</td>\n",
              "      <td>119700.0</td>\n",
              "      <td>93.51</td>\n",
              "      <td>10.72</td>\n",
              "      <td>6.16</td>\n",
              "      <td>64.9</td>\n",
              "      <td>1.33</td>\n",
              "      <td>0.62</td>\n",
              "      <td>24.23</td>\n",
              "      <td>1.0</td>\n",
              "      <td>0.61</td>\n",
              "      <td>0.61</td>\n",
              "      <td>58.07</td>\n",
              "      <td>23.23</td>\n",
              "      <td>1.79</td>\n",
              "      <td>13448.7</td>\n",
              "      <td>42.1833</td>\n",
              "      <td>14.5333</td>\n",
              "    </tr>\n",
              "    <tr>\n",
              "      <th>4</th>\n",
              "      <td>Torino</td>\n",
              "      <td>common wheat</td>\n",
              "      <td>2006</td>\n",
              "      <td>119700.0</td>\n",
              "      <td>93.51</td>\n",
              "      <td>10.72</td>\n",
              "      <td>6.16</td>\n",
              "      <td>64.9</td>\n",
              "      <td>1.33</td>\n",
              "      <td>0.62</td>\n",
              "      <td>24.23</td>\n",
              "      <td>1.0</td>\n",
              "      <td>0.61</td>\n",
              "      <td>0.61</td>\n",
              "      <td>58.07</td>\n",
              "      <td>23.23</td>\n",
              "      <td>1.79</td>\n",
              "      <td>934.7</td>\n",
              "      <td>42.1833</td>\n",
              "      <td>14.5333</td>\n",
              "    </tr>\n",
              "  </tbody>\n",
              "</table>\n",
              "</div>\n",
              "      <button class=\"colab-df-convert\" onclick=\"convertToInteractive('df-981a966c-da80-4add-859c-d249d1206697')\"\n",
              "              title=\"Convert this dataframe to an interactive table.\"\n",
              "              style=\"display:none;\">\n",
              "        \n",
              "  <svg xmlns=\"http://www.w3.org/2000/svg\" height=\"24px\"viewBox=\"0 0 24 24\"\n",
              "       width=\"24px\">\n",
              "    <path d=\"M0 0h24v24H0V0z\" fill=\"none\"/>\n",
              "    <path d=\"M18.56 5.44l.94 2.06.94-2.06 2.06-.94-2.06-.94-.94-2.06-.94 2.06-2.06.94zm-11 1L8.5 8.5l.94-2.06 2.06-.94-2.06-.94L8.5 2.5l-.94 2.06-2.06.94zm10 10l.94 2.06.94-2.06 2.06-.94-2.06-.94-.94-2.06-.94 2.06-2.06.94z\"/><path d=\"M17.41 7.96l-1.37-1.37c-.4-.4-.92-.59-1.43-.59-.52 0-1.04.2-1.43.59L10.3 9.45l-7.72 7.72c-.78.78-.78 2.05 0 2.83L4 21.41c.39.39.9.59 1.41.59.51 0 1.02-.2 1.41-.59l7.78-7.78 2.81-2.81c.8-.78.8-2.07 0-2.86zM5.41 20L4 18.59l7.72-7.72 1.47 1.35L5.41 20z\"/>\n",
              "  </svg>\n",
              "      </button>\n",
              "      \n",
              "  <style>\n",
              "    .colab-df-container {\n",
              "      display:flex;\n",
              "      flex-wrap:wrap;\n",
              "      gap: 12px;\n",
              "    }\n",
              "\n",
              "    .colab-df-convert {\n",
              "      background-color: #E8F0FE;\n",
              "      border: none;\n",
              "      border-radius: 50%;\n",
              "      cursor: pointer;\n",
              "      display: none;\n",
              "      fill: #1967D2;\n",
              "      height: 32px;\n",
              "      padding: 0 0 0 0;\n",
              "      width: 32px;\n",
              "    }\n",
              "\n",
              "    .colab-df-convert:hover {\n",
              "      background-color: #E2EBFA;\n",
              "      box-shadow: 0px 1px 2px rgba(60, 64, 67, 0.3), 0px 1px 3px 1px rgba(60, 64, 67, 0.15);\n",
              "      fill: #174EA6;\n",
              "    }\n",
              "\n",
              "    [theme=dark] .colab-df-convert {\n",
              "      background-color: #3B4455;\n",
              "      fill: #D2E3FC;\n",
              "    }\n",
              "\n",
              "    [theme=dark] .colab-df-convert:hover {\n",
              "      background-color: #434B5C;\n",
              "      box-shadow: 0px 1px 3px 1px rgba(0, 0, 0, 0.15);\n",
              "      filter: drop-shadow(0px 1px 2px rgba(0, 0, 0, 0.3));\n",
              "      fill: #FFFFFF;\n",
              "    }\n",
              "  </style>\n",
              "\n",
              "      <script>\n",
              "        const buttonEl =\n",
              "          document.querySelector('#df-981a966c-da80-4add-859c-d249d1206697 button.colab-df-convert');\n",
              "        buttonEl.style.display =\n",
              "          google.colab.kernel.accessAllowed ? 'block' : 'none';\n",
              "\n",
              "        async function convertToInteractive(key) {\n",
              "          const element = document.querySelector('#df-981a966c-da80-4add-859c-d249d1206697');\n",
              "          const dataTable =\n",
              "            await google.colab.kernel.invokeFunction('convertToInteractive',\n",
              "                                                     [key], {});\n",
              "          if (!dataTable) return;\n",
              "\n",
              "          const docLinkHtml = 'Like what you see? Visit the ' +\n",
              "            '<a target=\"_blank\" href=https://colab.research.google.com/notebooks/data_table.ipynb>data table notebook</a>'\n",
              "            + ' to learn more about interactive tables.';\n",
              "          element.innerHTML = '';\n",
              "          dataTable['output_type'] = 'display_data';\n",
              "          await google.colab.output.renderOutput(dataTable, element);\n",
              "          const docLink = document.createElement('div');\n",
              "          docLink.innerHTML = docLinkHtml;\n",
              "          element.appendChild(docLink);\n",
              "        }\n",
              "      </script>\n",
              "    </div>\n",
              "  </div>\n",
              "  "
            ]
          },
          "metadata": {},
          "execution_count": 14
        }
      ],
      "source": [
        "cereal.head()"
      ]
    },
    {
      "cell_type": "markdown",
      "metadata": {
        "id": "Fa604w_cWOev"
      },
      "source": [
        "# **# Turn the pandas dataframe into geopandas dataframe**"
      ]
    },
    {
      "cell_type": "code",
      "execution_count": 8,
      "metadata": {
        "colab": {
          "base_uri": "https://localhost:8080/",
          "height": 473
        },
        "id": "Gj2ssshPWTUT",
        "outputId": "1bb750f3-8e51-497d-d84a-3afe32d15cfe"
      },
      "outputs": [
        {
          "output_type": "execute_result",
          "data": {
            "text/plain": [
              "     City     Type_crop  Year  Production_tonnes     PS     TS  QV2M  RH2M  \\\n",
              "0  Torino  common wheat  2006           119700.0  93.51  10.72  6.16  64.9   \n",
              "1  Torino  common wheat  2006           119700.0  93.51  10.72  6.16  64.9   \n",
              "2  Torino  common wheat  2006           119700.0  93.51  10.72  6.16  64.9   \n",
              "3  Torino  common wheat  2006           119700.0  93.51  10.72  6.16  64.9   \n",
              "4  Torino  common wheat  2006           119700.0  93.51  10.72  6.16  64.9   \n",
              "\n",
              "   WS2M  GWETTOP  ...  T2M_MIN  GWETPROF  GWETROOT  CLOUD_AMT  T2M_RANGE  \\\n",
              "0  1.33     0.62  ...      1.0      0.61      0.61      58.07      23.23   \n",
              "1  1.33     0.62  ...      1.0      0.61      0.61      58.07      23.23   \n",
              "2  1.33     0.62  ...      1.0      0.61      0.61      58.07      23.23   \n",
              "3  1.33     0.62  ...      1.0      0.61      0.61      58.07      23.23   \n",
              "4  1.33     0.62  ...      1.0      0.61      0.61      58.07      23.23   \n",
              "\n",
              "   PRECTOTCORR  Fertilizers_tonnes      lat      lon  \\\n",
              "0         1.79               122.7  42.1833  14.5333   \n",
              "1         1.79              1124.5  42.1833  14.5333   \n",
              "2         1.79             16166.9  42.1833  14.5333   \n",
              "3         1.79             13448.7  42.1833  14.5333   \n",
              "4         1.79               934.7  42.1833  14.5333   \n",
              "\n",
              "                    geometry  \n",
              "0  POINT (14.53330 42.18330)  \n",
              "1  POINT (14.53330 42.18330)  \n",
              "2  POINT (14.53330 42.18330)  \n",
              "3  POINT (14.53330 42.18330)  \n",
              "4  POINT (14.53330 42.18330)  \n",
              "\n",
              "[5 rows x 21 columns]"
            ],
            "text/html": [
              "\n",
              "  <div id=\"df-77f1dcb5-a127-4837-9146-a7bf4283846c\">\n",
              "    <div class=\"colab-df-container\">\n",
              "      <div>\n",
              "<style scoped>\n",
              "    .dataframe tbody tr th:only-of-type {\n",
              "        vertical-align: middle;\n",
              "    }\n",
              "\n",
              "    .dataframe tbody tr th {\n",
              "        vertical-align: top;\n",
              "    }\n",
              "\n",
              "    .dataframe thead th {\n",
              "        text-align: right;\n",
              "    }\n",
              "</style>\n",
              "<table border=\"1\" class=\"dataframe\">\n",
              "  <thead>\n",
              "    <tr style=\"text-align: right;\">\n",
              "      <th></th>\n",
              "      <th>City</th>\n",
              "      <th>Type_crop</th>\n",
              "      <th>Year</th>\n",
              "      <th>Production_tonnes</th>\n",
              "      <th>PS</th>\n",
              "      <th>TS</th>\n",
              "      <th>QV2M</th>\n",
              "      <th>RH2M</th>\n",
              "      <th>WS2M</th>\n",
              "      <th>GWETTOP</th>\n",
              "      <th>...</th>\n",
              "      <th>T2M_MIN</th>\n",
              "      <th>GWETPROF</th>\n",
              "      <th>GWETROOT</th>\n",
              "      <th>CLOUD_AMT</th>\n",
              "      <th>T2M_RANGE</th>\n",
              "      <th>PRECTOTCORR</th>\n",
              "      <th>Fertilizers_tonnes</th>\n",
              "      <th>lat</th>\n",
              "      <th>lon</th>\n",
              "      <th>geometry</th>\n",
              "    </tr>\n",
              "  </thead>\n",
              "  <tbody>\n",
              "    <tr>\n",
              "      <th>0</th>\n",
              "      <td>Torino</td>\n",
              "      <td>common wheat</td>\n",
              "      <td>2006</td>\n",
              "      <td>119700.0</td>\n",
              "      <td>93.51</td>\n",
              "      <td>10.72</td>\n",
              "      <td>6.16</td>\n",
              "      <td>64.9</td>\n",
              "      <td>1.33</td>\n",
              "      <td>0.62</td>\n",
              "      <td>...</td>\n",
              "      <td>1.0</td>\n",
              "      <td>0.61</td>\n",
              "      <td>0.61</td>\n",
              "      <td>58.07</td>\n",
              "      <td>23.23</td>\n",
              "      <td>1.79</td>\n",
              "      <td>122.7</td>\n",
              "      <td>42.1833</td>\n",
              "      <td>14.5333</td>\n",
              "      <td>POINT (14.53330 42.18330)</td>\n",
              "    </tr>\n",
              "    <tr>\n",
              "      <th>1</th>\n",
              "      <td>Torino</td>\n",
              "      <td>common wheat</td>\n",
              "      <td>2006</td>\n",
              "      <td>119700.0</td>\n",
              "      <td>93.51</td>\n",
              "      <td>10.72</td>\n",
              "      <td>6.16</td>\n",
              "      <td>64.9</td>\n",
              "      <td>1.33</td>\n",
              "      <td>0.62</td>\n",
              "      <td>...</td>\n",
              "      <td>1.0</td>\n",
              "      <td>0.61</td>\n",
              "      <td>0.61</td>\n",
              "      <td>58.07</td>\n",
              "      <td>23.23</td>\n",
              "      <td>1.79</td>\n",
              "      <td>1124.5</td>\n",
              "      <td>42.1833</td>\n",
              "      <td>14.5333</td>\n",
              "      <td>POINT (14.53330 42.18330)</td>\n",
              "    </tr>\n",
              "    <tr>\n",
              "      <th>2</th>\n",
              "      <td>Torino</td>\n",
              "      <td>common wheat</td>\n",
              "      <td>2006</td>\n",
              "      <td>119700.0</td>\n",
              "      <td>93.51</td>\n",
              "      <td>10.72</td>\n",
              "      <td>6.16</td>\n",
              "      <td>64.9</td>\n",
              "      <td>1.33</td>\n",
              "      <td>0.62</td>\n",
              "      <td>...</td>\n",
              "      <td>1.0</td>\n",
              "      <td>0.61</td>\n",
              "      <td>0.61</td>\n",
              "      <td>58.07</td>\n",
              "      <td>23.23</td>\n",
              "      <td>1.79</td>\n",
              "      <td>16166.9</td>\n",
              "      <td>42.1833</td>\n",
              "      <td>14.5333</td>\n",
              "      <td>POINT (14.53330 42.18330)</td>\n",
              "    </tr>\n",
              "    <tr>\n",
              "      <th>3</th>\n",
              "      <td>Torino</td>\n",
              "      <td>common wheat</td>\n",
              "      <td>2006</td>\n",
              "      <td>119700.0</td>\n",
              "      <td>93.51</td>\n",
              "      <td>10.72</td>\n",
              "      <td>6.16</td>\n",
              "      <td>64.9</td>\n",
              "      <td>1.33</td>\n",
              "      <td>0.62</td>\n",
              "      <td>...</td>\n",
              "      <td>1.0</td>\n",
              "      <td>0.61</td>\n",
              "      <td>0.61</td>\n",
              "      <td>58.07</td>\n",
              "      <td>23.23</td>\n",
              "      <td>1.79</td>\n",
              "      <td>13448.7</td>\n",
              "      <td>42.1833</td>\n",
              "      <td>14.5333</td>\n",
              "      <td>POINT (14.53330 42.18330)</td>\n",
              "    </tr>\n",
              "    <tr>\n",
              "      <th>4</th>\n",
              "      <td>Torino</td>\n",
              "      <td>common wheat</td>\n",
              "      <td>2006</td>\n",
              "      <td>119700.0</td>\n",
              "      <td>93.51</td>\n",
              "      <td>10.72</td>\n",
              "      <td>6.16</td>\n",
              "      <td>64.9</td>\n",
              "      <td>1.33</td>\n",
              "      <td>0.62</td>\n",
              "      <td>...</td>\n",
              "      <td>1.0</td>\n",
              "      <td>0.61</td>\n",
              "      <td>0.61</td>\n",
              "      <td>58.07</td>\n",
              "      <td>23.23</td>\n",
              "      <td>1.79</td>\n",
              "      <td>934.7</td>\n",
              "      <td>42.1833</td>\n",
              "      <td>14.5333</td>\n",
              "      <td>POINT (14.53330 42.18330)</td>\n",
              "    </tr>\n",
              "  </tbody>\n",
              "</table>\n",
              "<p>5 rows × 21 columns</p>\n",
              "</div>\n",
              "      <button class=\"colab-df-convert\" onclick=\"convertToInteractive('df-77f1dcb5-a127-4837-9146-a7bf4283846c')\"\n",
              "              title=\"Convert this dataframe to an interactive table.\"\n",
              "              style=\"display:none;\">\n",
              "        \n",
              "  <svg xmlns=\"http://www.w3.org/2000/svg\" height=\"24px\"viewBox=\"0 0 24 24\"\n",
              "       width=\"24px\">\n",
              "    <path d=\"M0 0h24v24H0V0z\" fill=\"none\"/>\n",
              "    <path d=\"M18.56 5.44l.94 2.06.94-2.06 2.06-.94-2.06-.94-.94-2.06-.94 2.06-2.06.94zm-11 1L8.5 8.5l.94-2.06 2.06-.94-2.06-.94L8.5 2.5l-.94 2.06-2.06.94zm10 10l.94 2.06.94-2.06 2.06-.94-2.06-.94-.94-2.06-.94 2.06-2.06.94z\"/><path d=\"M17.41 7.96l-1.37-1.37c-.4-.4-.92-.59-1.43-.59-.52 0-1.04.2-1.43.59L10.3 9.45l-7.72 7.72c-.78.78-.78 2.05 0 2.83L4 21.41c.39.39.9.59 1.41.59.51 0 1.02-.2 1.41-.59l7.78-7.78 2.81-2.81c.8-.78.8-2.07 0-2.86zM5.41 20L4 18.59l7.72-7.72 1.47 1.35L5.41 20z\"/>\n",
              "  </svg>\n",
              "      </button>\n",
              "      \n",
              "  <style>\n",
              "    .colab-df-container {\n",
              "      display:flex;\n",
              "      flex-wrap:wrap;\n",
              "      gap: 12px;\n",
              "    }\n",
              "\n",
              "    .colab-df-convert {\n",
              "      background-color: #E8F0FE;\n",
              "      border: none;\n",
              "      border-radius: 50%;\n",
              "      cursor: pointer;\n",
              "      display: none;\n",
              "      fill: #1967D2;\n",
              "      height: 32px;\n",
              "      padding: 0 0 0 0;\n",
              "      width: 32px;\n",
              "    }\n",
              "\n",
              "    .colab-df-convert:hover {\n",
              "      background-color: #E2EBFA;\n",
              "      box-shadow: 0px 1px 2px rgba(60, 64, 67, 0.3), 0px 1px 3px 1px rgba(60, 64, 67, 0.15);\n",
              "      fill: #174EA6;\n",
              "    }\n",
              "\n",
              "    [theme=dark] .colab-df-convert {\n",
              "      background-color: #3B4455;\n",
              "      fill: #D2E3FC;\n",
              "    }\n",
              "\n",
              "    [theme=dark] .colab-df-convert:hover {\n",
              "      background-color: #434B5C;\n",
              "      box-shadow: 0px 1px 3px 1px rgba(0, 0, 0, 0.15);\n",
              "      filter: drop-shadow(0px 1px 2px rgba(0, 0, 0, 0.3));\n",
              "      fill: #FFFFFF;\n",
              "    }\n",
              "  </style>\n",
              "\n",
              "      <script>\n",
              "        const buttonEl =\n",
              "          document.querySelector('#df-77f1dcb5-a127-4837-9146-a7bf4283846c button.colab-df-convert');\n",
              "        buttonEl.style.display =\n",
              "          google.colab.kernel.accessAllowed ? 'block' : 'none';\n",
              "\n",
              "        async function convertToInteractive(key) {\n",
              "          const element = document.querySelector('#df-77f1dcb5-a127-4837-9146-a7bf4283846c');\n",
              "          const dataTable =\n",
              "            await google.colab.kernel.invokeFunction('convertToInteractive',\n",
              "                                                     [key], {});\n",
              "          if (!dataTable) return;\n",
              "\n",
              "          const docLinkHtml = 'Like what you see? Visit the ' +\n",
              "            '<a target=\"_blank\" href=https://colab.research.google.com/notebooks/data_table.ipynb>data table notebook</a>'\n",
              "            + ' to learn more about interactive tables.';\n",
              "          element.innerHTML = '';\n",
              "          dataTable['output_type'] = 'display_data';\n",
              "          await google.colab.output.renderOutput(dataTable, element);\n",
              "          const docLink = document.createElement('div');\n",
              "          docLink.innerHTML = docLinkHtml;\n",
              "          element.appendChild(docLink);\n",
              "        }\n",
              "      </script>\n",
              "    </div>\n",
              "  </div>\n",
              "  "
            ]
          },
          "metadata": {},
          "execution_count": 8
        }
      ],
      "source": [
        "cereal_gpd = gpd.GeoDataFrame(cereal, geometry=gpd.points_from_xy(cereal.lon,cereal.lat))\n",
        "cereal_gpd.head()"
      ]
    },
    {
      "cell_type": "markdown",
      "metadata": {
        "id": "FV5SQbO2XnFB"
      },
      "source": [
        "# Transform geopanda dataframe as shape and geoJonson File\n"
      ]
    },
    {
      "cell_type": "code",
      "execution_count": 9,
      "metadata": {
        "colab": {
          "base_uri": "https://localhost:8080/"
        },
        "id": "xYBP3mo9XfmA",
        "outputId": "bba03dce-843f-4dcc-fce2-d4ead558b7d5"
      },
      "outputs": [
        {
          "output_type": "stream",
          "name": "stderr",
          "text": [
            "/usr/local/lib/python3.7/dist-packages/ipykernel_launcher.py:1: UserWarning: Column names longer than 10 characters will be truncated when saved to ESRI Shapefile.\n",
            "  \"\"\"Entry point for launching an IPython kernel.\n",
            "WARNING:fiona._env:Normalized/laundered field name: 'Production_tonnes' to 'Production'\n",
            "WARNING:fiona._env:Normalized/laundered field name: 'PRECTOTCORR' to 'PRECTOTCOR'\n",
            "WARNING:fiona._env:Normalized/laundered field name: 'Fertilizers_tonnes' to 'Fertilizer'\n"
          ]
        }
      ],
      "source": [
        "cereal_gpd.to_file(\"cereal_gpd.shp\")"
      ]
    },
    {
      "cell_type": "code",
      "execution_count": 9,
      "metadata": {
        "id": "TzL5swJksEYp"
      },
      "outputs": [],
      "source": [
        "cereal_gpd.to_file('cereal.geojson', driver='GeoJSON')"
      ]
    },
    {
      "cell_type": "code",
      "source": [
        "df_place =gpd.read_file('cereal.geojson')"
      ],
      "metadata": {
        "id": "3GQ8-8ZAxSD_"
      },
      "execution_count": 10,
      "outputs": []
    },
    {
      "cell_type": "code",
      "source": [
        "df_place.shape"
      ],
      "metadata": {
        "colab": {
          "base_uri": "https://localhost:8080/"
        },
        "id": "1b1JtbRVxiZM",
        "outputId": "d1fd666c-eeeb-4320-af61-73aaec7736d5"
      },
      "execution_count": 18,
      "outputs": [
        {
          "output_type": "execute_result",
          "data": {
            "text/plain": [
              "(208499, 21)"
            ]
          },
          "metadata": {},
          "execution_count": 18
        }
      ]
    },
    {
      "cell_type": "code",
      "source": [
        "df_place['geometry'][0]"
      ],
      "metadata": {
        "colab": {
          "base_uri": "https://localhost:8080/",
          "height": 121
        },
        "id": "g1LkLjygxrcV",
        "outputId": "01bcd3a1-65b7-4e43-f056-087c79d3d3e5"
      },
      "execution_count": 67,
      "outputs": [
        {
          "output_type": "execute_result",
          "data": {
            "text/plain": [
              "<shapely.geometry.point.Point at 0x7fd3711ca210>"
            ],
            "image/svg+xml": "<svg xmlns=\"http://www.w3.org/2000/svg\" xmlns:xlink=\"http://www.w3.org/1999/xlink\" width=\"100.0\" height=\"100.0\" viewBox=\"13.5333 41.1833 2.0 2.0\" preserveAspectRatio=\"xMinYMin meet\"><g transform=\"matrix(1,0,0,-1,0,84.3666)\"><circle cx=\"14.5333\" cy=\"42.1833\" r=\"0.06\" stroke=\"#555555\" stroke-width=\"0.02\" fill=\"#66cc99\" opacity=\"0.6\" /></g></svg>"
          },
          "metadata": {},
          "execution_count": 67
        }
      ]
    },
    {
      "cell_type": "code",
      "source": [
        "df_place['geometry'][6]"
      ],
      "metadata": {
        "colab": {
          "base_uri": "https://localhost:8080/",
          "height": 121
        },
        "id": "8hea7pa0x9cj",
        "outputId": "09e909da-c7be-476a-c537-58b8e546028b"
      },
      "execution_count": 68,
      "outputs": [
        {
          "output_type": "execute_result",
          "data": {
            "text/plain": [
              "<shapely.geometry.point.Point at 0x7fd3711c9790>"
            ],
            "image/svg+xml": "<svg xmlns=\"http://www.w3.org/2000/svg\" xmlns:xlink=\"http://www.w3.org/1999/xlink\" width=\"100.0\" height=\"100.0\" viewBox=\"13.5333 41.1833 2.0 2.0\" preserveAspectRatio=\"xMinYMin meet\"><g transform=\"matrix(1,0,0,-1,0,84.3666)\"><circle cx=\"14.5333\" cy=\"42.1833\" r=\"0.06\" stroke=\"#555555\" stroke-width=\"0.02\" fill=\"#66cc99\" opacity=\"0.6\" /></g></svg>"
          },
          "metadata": {},
          "execution_count": 68
        }
      ]
    },
    {
      "cell_type": "code",
      "source": [
        "df_place['geometry']"
      ],
      "metadata": {
        "colab": {
          "base_uri": "https://localhost:8080/"
        },
        "id": "amqWg8QEyL4t",
        "outputId": "8696f27f-bea0-4fdf-f0b3-1375a4cd1a64"
      },
      "execution_count": 69,
      "outputs": [
        {
          "output_type": "execute_result",
          "data": {
            "text/plain": [
              "0         POINT (14.53330 42.18330)\n",
              "1         POINT (14.53330 42.18330)\n",
              "2         POINT (14.53330 42.18330)\n",
              "3         POINT (14.53330 42.18330)\n",
              "4         POINT (14.53330 42.18330)\n",
              "                    ...            \n",
              "208494    POINT (11.11670 46.06670)\n",
              "208495    POINT (11.11670 46.06670)\n",
              "208496    POINT (11.11670 46.06670)\n",
              "208497    POINT (11.11670 46.06670)\n",
              "208498    POINT (11.11670 46.06670)\n",
              "Name: geometry, Length: 208499, dtype: geometry"
            ]
          },
          "metadata": {},
          "execution_count": 69
        }
      ]
    },
    {
      "cell_type": "code",
      "source": [
        "#Examine entire geometry of a column\n",
        "df_place.plot()"
      ],
      "metadata": {
        "colab": {
          "base_uri": "https://localhost:8080/",
          "height": 282
        },
        "id": "4VszXTFMyVPa",
        "outputId": "e39127a1-9e53-4ff1-cd20-7c0685796274"
      },
      "execution_count": 70,
      "outputs": [
        {
          "output_type": "execute_result",
          "data": {
            "text/plain": [
              "<matplotlib.axes._subplots.AxesSubplot at 0x7fd371222c10>"
            ]
          },
          "metadata": {},
          "execution_count": 70
        },
        {
          "output_type": "display_data",
          "data": {
            "text/plain": [
              "<Figure size 432x288 with 1 Axes>"
            ],
            "image/png": "[encoded data removed]"
          },
          "metadata": {
            "needs_background": "light"
          }
        }
      ]
    },
    {
      "cell_type": "markdown",
      "source": [
        "Create place holder variable\n",
        "\n",
        "- Creation of place holder variables is to represnt the false potive count that will be genarated in prediction process\n",
        "- They, however, help at this moment to see the visulizaton  "
      ],
      "metadata": {
        "id": "quWvwBTrzWzo"
      }
    },
    {
      "cell_type": "code",
      "source": [
        "# forst r line of the code create a new column of full of 0 values\n",
        "# second line of the code replaces the first 2000 rows with \n",
        "# random  number between 1 and 7\n",
        "df_place ['Count_placeholder'] = 0\n",
        "df_place ['Count_placeholder'] [:2000] =np.random.randint(7,size=2000)\n"
      ],
      "metadata": {
        "colab": {
          "base_uri": "https://localhost:8080/"
        },
        "id": "oFPYTRidz8X1",
        "outputId": "c1f6371f-955d-4ad8-f909-cc09b9275e74"
      },
      "execution_count": 9,
      "outputs": [
        {
          "output_type": "stream",
          "name": "stderr",
          "text": [
            "/usr/local/lib/python3.7/dist-packages/ipykernel_launcher.py:5: SettingWithCopyWarning: \n",
            "A value is trying to be set on a copy of a slice from a DataFrame\n",
            "\n",
            "See the caveats in the documentation: https://pandas.pydata.org/pandas-docs/stable/user_guide/indexing.html#returning-a-view-versus-a-copy\n",
            "  \"\"\"\n"
          ]
        }
      ]
    },
    {
      "cell_type": "code",
      "source": [
        "f,ax=plt.subplots(1,figsize=(15,15))\n",
        "ax=df_place.plot(column ='Count_placeholder', cmap= 'afmhot',ax=ax)\n",
        "ax.set_xlim([5,30])\n",
        "ax.set_ylim([35,50])\n",
        "plt.show()"
      ],
      "metadata": {
        "colab": {
          "base_uri": "https://localhost:8080/",
          "height": 598
        },
        "id": "jUzVekec2Q-m",
        "outputId": "9ebd4138-1cfc-4ef1-c7fe-d6e86fc712fb"
      },
      "execution_count": 10,
      "outputs": [
        {
          "output_type": "display_data",
          "data": {
            "text/plain": [
              "<Figure size 1080x1080 with 1 Axes>"
            ],
            "image/png": "[encoded data removed]"
          },
          "metadata": {
            "needs_background": "light"
          }
        }
      ]
    },
    {
      "cell_type": "code",
      "source": [
        "df_place.columns"
      ],
      "metadata": {
        "colab": {
          "base_uri": "https://localhost:8080/"
        },
        "id": "Q4ljZsvWGYKL",
        "outputId": "330420d6-92e3-4908-a2c3-dda7e6fa1cf7"
      },
      "execution_count": 22,
      "outputs": [
        {
          "output_type": "execute_result",
          "data": {
            "text/plain": [
              "Index(['City', 'Type_crop', 'Year', 'Production_tonnes', 'PS', 'TS', 'QV2M',\n",
              "       'RH2M', 'WS2M', 'GWETTOP', 'T2M_MAX', 'T2M_MIN', 'GWETPROF', 'GWETROOT',\n",
              "       'CLOUD_AMT', 'T2M_RANGE', 'PRECTOTCORR', 'Fertilizers_tonnes', 'lat',\n",
              "       'lon', 'geometry', 'Count_placeholder'],\n",
              "      dtype='object')"
            ]
          },
          "metadata": {},
          "execution_count": 22
        }
      ]
    },
    {
      "cell_type": "code",
      "source": [
        "# with 'target_2' as column value of 0 and 1\n",
        "f,ax=plt.subplots(1,figsize=(15,15))\n",
        "ax=df_place.plot(column ='Production_tonnes', cmap= 'gnuplot',ax=ax)\n",
        "ax.set_xlim([5,30])\n",
        "ax.set_ylim([35,50])\n",
        "plt.show()"
      ],
      "metadata": {
        "colab": {
          "base_uri": "https://localhost:8080/",
          "height": 598
        },
        "id": "l3vKUlUQAWys",
        "outputId": "256deb45-412d-4059-8233-23cda48c6fcd"
      },
      "execution_count": 23,
      "outputs": [
        {
          "output_type": "display_data",
          "data": {
            "text/plain": [
              "<Figure size 1080x1080 with 1 Axes>"
            ],
            "image/png": "[encoded data removed]"
          },
          "metadata": {
            "needs_background": "light"
          }
        }
      ]
    },
    {
      "cell_type": "code",
      "execution_count": 11,
      "metadata": {
        "id": "dcpJLXo7d8M2"
      },
      "outputs": [],
      "source": [
        "cereal_gpd.crs"
      ]
    },
    {
      "cell_type": "code",
      "execution_count": 12,
      "metadata": {
        "colab": {
          "base_uri": "https://localhost:8080/"
        },
        "id": "eMonehP0eZ44",
        "outputId": "5d734ce8-8f36-486e-8808-5736814a1efd"
      },
      "outputs": [
        {
          "output_type": "execute_result",
          "data": {
            "text/plain": [
              "True"
            ]
          },
          "metadata": {},
          "execution_count": 12
        }
      ],
      "source": [
        "cereal_gpd.crs is None"
      ]
    },
    {
      "cell_type": "code",
      "execution_count": 11,
      "metadata": {
        "id": "eEfcb1JPek27"
      },
      "outputs": [],
      "source": [
        "cereal_gpdf = cereal_gpd.set_crs('epsg:3857')"
      ]
    },
    {
      "cell_type": "code",
      "execution_count": null,
      "metadata": {
        "colab": {
          "base_uri": "https://localhost:8080/"
        },
        "id": "AwGtrX45ewdM",
        "outputId": "de994ab6-540f-40c7-b328-2037dbf87f6f"
      },
      "outputs": [
        {
          "output_type": "execute_result",
          "data": {
            "text/plain": [
              "<Projected CRS: EPSG:3857>\n",
              "Name: WGS 84 / Pseudo-Mercator\n",
              "Axis Info [cartesian]:\n",
              "- X[east]: Easting (metre)\n",
              "- Y[north]: Northing (metre)\n",
              "Area of Use:\n",
              "- name: World between 85.06°S and 85.06°N.\n",
              "- bounds: (-180.0, -85.06, 180.0, 85.06)\n",
              "Coordinate Operation:\n",
              "- name: Popular Visualisation Pseudo-Mercator\n",
              "- method: Popular Visualisation Pseudo Mercator\n",
              "Datum: World Geodetic System 1984 ensemble\n",
              "- Ellipsoid: WGS 84\n",
              "- Prime Meridian: Greenwich"
            ]
          },
          "metadata": {},
          "execution_count": 15
        }
      ],
      "source": [
        "cereal_gpdf.crs"
      ]
    },
    {
      "cell_type": "markdown",
      "source": [
        "From available ploting tool of geopandas dataframe `geoplot` is most common"
      ],
      "metadata": {
        "id": "JPHJySsXDeoV"
      }
    },
    {
      "cell_type": "code",
      "source": [
        "#!pip install geoplot"
      ],
      "metadata": {
        "id": "uUPnxvjBD0H3"
      },
      "execution_count": null,
      "outputs": []
    },
    {
      "cell_type": "code",
      "source": [
        "import geoplot\n",
        "import geoplot.crs as gcrs\n"
      ],
      "metadata": {
        "id": "XXVwCjBdDo_S"
      },
      "execution_count": 12,
      "outputs": []
    },
    {
      "cell_type": "code",
      "source": [
        "#!pip uninstall shapely\n",
        "#!pip install shapely --no-binary shapely"
      ],
      "metadata": {
        "id": "fV9YGywIKkMJ"
      },
      "execution_count": null,
      "outputs": []
    },
    {
      "cell_type": "code",
      "source": [
        "geoplot.polyplot(cereal_gpdf,projection=gcrs.AlbersEqualArea(),edgecolor='darkgrey',\n",
        "                facecolor='lightgrey',linewidth=.3,figsize=(12,8))"
      ],
      "metadata": {
        "colab": {
          "base_uri": "https://localhost:8080/",
          "height": 483
        },
        "id": "ll-aCCdkEAVb",
        "outputId": "c7fbf68c-4a38-4f6b-bc6b-520839e93cc2"
      },
      "execution_count": 14,
      "outputs": [
        {
          "output_type": "execute_result",
          "data": {
            "text/plain": [
              "<cartopy.mpl.geoaxes.GeoAxesSubplot at 0x7f4b21fa01d0>"
            ]
          },
          "metadata": {},
          "execution_count": 14
        },
        {
          "output_type": "display_data",
          "data": {
            "text/plain": [
              "<Figure size 864x576 with 1 Axes>"
            ],
            "image/png": "[encoded data removed]"
          },
          "metadata": {
            "needs_background": "light"
          }
        }
      ]
    },
    {
      "cell_type": "code",
      "source": [
        "# from available ploting tool of geopandas dataframe"
      ],
      "metadata": {
        "id": "Jvkil8rMDPcX"
      },
      "execution_count": null,
      "outputs": []
    },
    {
      "cell_type": "markdown",
      "metadata": {
        "id": "6jDT2Nx9AAEA"
      },
      "source": [
        "#Overriding existing CRS"
      ]
    },
    {
      "cell_type": "code",
      "execution_count": null,
      "metadata": {
        "id": "_8OMo9C_fAdy"
      },
      "outputs": [],
      "source": [
        "cereal_gpd.set_crs(4326, allow_override=True)"
      ]
    },
    {
      "cell_type": "code",
      "execution_count": null,
      "metadata": {
        "id": "h-Reu7jmkmpe"
      },
      "outputs": [],
      "source": [
        "#!pip install folium matplotlib mapclassify"
      ]
    },
    {
      "cell_type": "code",
      "execution_count": null,
      "metadata": {
        "id": "d_vw3_CfmnZi"
      },
      "outputs": [],
      "source": [
        "#!pip install libpysal"
      ]
    },
    {
      "cell_type": "code",
      "execution_count": null,
      "metadata": {
        "id": "_6cS3L1ajusF"
      },
      "outputs": [],
      "source": [
        "# interactive maping  using explore\n",
        "import libpysal\n",
        "import geopandas as gpd\n",
        "import mapclassify\n",
        "cereal_gpd.explore(\"Type_crop\", cmap=\"Blues\") "
      ]
    },
    {
      "cell_type": "code",
      "execution_count": null,
      "metadata": {
        "colab": {
          "base_uri": "https://localhost:8080/",
          "height": 35
        },
        "id": "VkgdBF2xmzg6",
        "outputId": "643cfece-df30-4f50-9383-cc0e636155ef"
      },
      "outputs": [
        {
          "data": {
            "application/vnd.google.colaboratory.intrinsic+json": {
              "type": "string"
            },
            "text/plain": [
              "'2.4.3'"
            ]
          },
          "execution_count": 85,
          "metadata": {},
          "output_type": "execute_result"
        }
      ],
      "source": [
        "mapclassify.__version__"
      ]
    },
    {
      "cell_type": "code",
      "execution_count": null,
      "metadata": {
        "id": "Hco-mkHx22FG"
      },
      "outputs": [],
      "source": [
        "pth = Path('/content/cereal_gpd.shp')\n",
        "gdf = gpd.read_file(pth)"
      ]
    },
    {
      "cell_type": "code",
      "execution_count": null,
      "metadata": {
        "colab": {
          "background_save": true
        },
        "id": "K3SKtIGu42wz"
      },
      "outputs": [],
      "source": [
        "import shapefile as shp  # Requires the pyshp package\n",
        "import matplotlib.pyplot as plt\n",
        "sf = shp.Reader(\"/content/cereal_gpd.shp\")\n",
        "\n",
        "plt.figure()\n",
        "for shape in sf.shapeRecords():\n",
        "    x = [i[0] for i in shape.shape.points[:]]\n",
        "    y = [i[1] for i in shape.shape.points[:]]\n",
        "    plt.plot(x,y)\n",
        "plt.show()"
      ]
    },
    {
      "cell_type": "code",
      "source": [
        "!pip install pyshp"
      ],
      "metadata": {
        "id": "lNkeOLDAD7AT"
      },
      "execution_count": null,
      "outputs": []
    },
    {
      "cell_type": "code",
      "execution_count": null,
      "metadata": {
        "colab": {
          "background_save": true
        },
        "id": "_3aDTwf89F7e"
      },
      "outputs": [],
      "source": [
        "import matplotlib.pyplot as plt\n",
        "import shapefile   \n",
        "\n",
        "shpFilePath = \"/content/cereal_gpd.shp\"  \n",
        "listx=[]\n",
        "listy=[]\n",
        "test = shapefile.Reader(shpFilePath)\n",
        "for sr in test.shapeRecords():\n",
        "    for xNew,yNew in sr.shape.points:\n",
        "        listx.append(xNew)\n",
        "        listy.append(yNew)\n",
        "plt.plot(listx,listy)\n",
        "plt.show()"
      ]
    },
    {
      "cell_type": "code",
      "execution_count": null,
      "metadata": {
        "id": "UwA6Fh5a-7lq",
        "colab": {
          "base_uri": "https://localhost:8080/"
        },
        "outputId": "9cfdbbbc-5f0e-4882-de0d-d1f4a4694a4a"
      },
      "outputs": [
        {
          "output_type": "stream",
          "name": "stdout",
          "text": [
            "0         POINT (14.533 42.183)\n",
            "1         POINT (14.533 42.183)\n",
            "2         POINT (14.533 42.183)\n",
            "3         POINT (14.533 42.183)\n",
            "4         POINT (14.533 42.183)\n",
            "                  ...          \n",
            "208494    POINT (11.117 46.067)\n",
            "208495    POINT (11.117 46.067)\n",
            "208496    POINT (11.117 46.067)\n",
            "208497    POINT (11.117 46.067)\n",
            "208498    POINT (11.117 46.067)\n",
            "Name: geometry, Length: 208499, dtype: geometry\n"
          ]
        }
      ],
      "source": [
        "import matplotlib.pyplot as plt \n",
        "#from descartes import PointPatch \n",
        "from shapely.geometry import Point\n",
        "poly = cereal_gpd['geometry']\n",
        "print(poly)"
      ]
    },
    {
      "cell_type": "code",
      "execution_count": null,
      "metadata": {
        "colab": {
          "base_uri": "https://localhost:8080/",
          "height": 121
        },
        "id": "psxoFk0mKyuQ",
        "outputId": "793b4d8b-779b-4bf1-aa3b-79fbdaf8c324"
      },
      "outputs": [
        {
          "output_type": "execute_result",
          "data": {
            "text/plain": [
              "<shapely.geometry.polygon.Polygon at 0x7fe32d398ed0>"
            ],
            "image/svg+xml": "<svg xmlns=\"http://www.w3.org/2000/svg\" xmlns:xlink=\"http://www.w3.org/1999/xlink\" width=\"100.0\" height=\"100.0\" viewBox=\"3.7329999999999997 31.383 21.6 21.599999999999998\" preserveAspectRatio=\"xMinYMin meet\"><g transform=\"matrix(1,0,0,-1,0,84.366)\"><path fill-rule=\"evenodd\" fill=\"#66cc99\" stroke=\"#555555\" stroke-width=\"0.43200000000000005\" opacity=\"0.6\" d=\"M 24.533,42.183 L 24.48484726672197,41.20282859670439 L 24.340852804032302,40.23209677983872 L 24.10240335732209,39.28015322745538 L 23.77179532511287,38.3561656763491 L 23.35221264348355,37.46903263174002 L 22.84769612302545,36.62729766980398 L 22.26310453362737,35.83906715836355 L 21.604067811865477,35.111932188134524 L 20.876932841636453,34.45289546637263 L 20.08870233019602,33.86830387697455 L 19.246967368259977,33.363787356516454 L 18.359834323650897,32.94420467488713 L 17.435846772544622,32.61359664267791 L 16.48390322016128,32.3751471959677 L 15.513171403295607,32.23115273327803 L 14.533,32.183 L 13.552828596704392,32.23115273327803 L 12.582096779838718,32.3751471959677 L 11.630153227455377,32.61359664267791 L 10.706165676349102,32.94420467488713 L 9.819032631740022,33.36378735651645 L 8.97729766980398,33.868303876974544 L 8.189067158363546,34.45289546637263 L 7.461932188134525,35.111932188134524 L 6.80289546637263,35.83906715836355 L 6.218303876974547,36.62729766980398 L 5.71378735651645,37.46903263174002 L 5.294204674887132,38.3561656763491 L 4.963596642677912,39.28015322745537 L 4.725147195967695,40.23209677983871 L 4.5811527332780315,41.20282859670439 L 4.5329999999999995,42.183 L 4.58115273327803,43.16317140329561 L 4.725147195967695,44.13390322016129 L 4.96359664267791,45.08584677254462 L 5.294204674887132,46.0098343236509 L 5.713787356516448,46.89696736825998 L 6.218303876974545,47.73870233019602 L 6.802895466372629,48.52693284163645 L 7.461932188134522,49.254067811865475 L 8.18906715836354,49.91310453362737 L 8.977297669803978,50.49769612302545 L 9.819032631740022,51.002212643483546 L 10.706165676349096,51.42179532511287 L 11.630153227455375,51.75240335732209 L 12.582096779838713,51.9908528040323 L 13.552828596704394,52.13484726672197 L 14.532999999999998,52.183 L 15.513171403295601,52.13484726672197 L 16.48390322016128,51.9908528040323 L 17.435846772544622,51.75240335732209 L 18.3598343236509,51.42179532511287 L 19.246967368259973,51.00221264348355 L 20.088702330196018,50.497696123025456 L 20.876932841636457,49.91310453362737 L 21.604067811865473,49.254067811865475 L 22.263104533627367,48.52693284163646 L 22.84769612302545,47.73870233019602 L 23.352212643483547,46.89696736825998 L 23.771795325112862,46.00983432365091 L 24.10240335732209,45.08584677254463 L 24.340852804032302,44.13390322016129 L 24.48484726672197,43.16317140329561 L 24.533,42.183 z\" /></g></svg>"
          },
          "metadata": {},
          "execution_count": 90
        }
      ],
      "source": [
        "patch = Point(14.533, 42.183).buffer(10.0)\n",
        "patch"
      ]
    },
    {
      "cell_type": "code",
      "execution_count": null,
      "metadata": {
        "colab": {
          "base_uri": "https://localhost:8080/"
        },
        "id": "PgK33XcmLtw6",
        "outputId": "2190b23e-0989-4674-eb22-4c0b8b24a683"
      },
      "outputs": [
        {
          "output_type": "execute_result",
          "data": {
            "text/plain": [
              "313.65484905459397"
            ]
          },
          "metadata": {},
          "execution_count": 91
        }
      ],
      "source": [
        "patch.area"
      ]
    },
    {
      "cell_type": "code",
      "execution_count": null,
      "metadata": {
        "colab": {
          "base_uri": "https://localhost:8080/",
          "height": 121
        },
        "id": "7Uwa2U1-MFJs",
        "outputId": "cbb0e110-f76d-4c01-d263-c73116a83328"
      },
      "outputs": [
        {
          "output_type": "execute_result",
          "data": {
            "text/plain": [
              "<shapely.geometry.point.Point at 0x7fe32d39e150>"
            ],
            "image/svg+xml": "<svg xmlns=\"http://www.w3.org/2000/svg\" xmlns:xlink=\"http://www.w3.org/1999/xlink\" width=\"100.0\" height=\"100.0\" viewBox=\"13.533 41.183 2.0 2.0\" preserveAspectRatio=\"xMinYMin meet\"><g transform=\"matrix(1,0,0,-1,0,84.366)\"><circle cx=\"14.533\" cy=\"42.183\" r=\"0.06\" stroke=\"#555555\" stroke-width=\"0.02\" fill=\"#66cc99\" opacity=\"0.6\" /></g></svg>"
          },
          "metadata": {},
          "execution_count": 92
        }
      ],
      "source": [
        "import json\n",
        "from shapely.geometry import mapping, shape\n",
        "s = shape(json.loads('{\"type\": \"Point\", \"coordinates\": [14.533, 42.183]}'))\n",
        "s"
      ]
    },
    {
      "cell_type": "code",
      "execution_count": null,
      "metadata": {
        "colab": {
          "base_uri": "https://localhost:8080/"
        },
        "id": "QhMElKNFMUye",
        "outputId": "a68d5b54-4c7b-4b38-cc1b-51ee6a26dd05"
      },
      "outputs": [
        {
          "name": "stdout",
          "output_type": "stream",
          "text": [
            "{\"type\": \"Point\", \"coordinates\": [14.533, 42.183]}\n"
          ]
        }
      ],
      "source": [
        "print(json.dumps(mapping(s)))"
      ]
    },
    {
      "cell_type": "code",
      "execution_count": null,
      "metadata": {
        "id": "67L9tJAAm_z1"
      },
      "outputs": [],
      "source": [
        "cereal_gpd.explore(\"Type_crop\", cmap=\"Blues\") "
      ]
    },
    {
      "cell_type": "markdown",
      "metadata": {
        "id": "RiSv3UCFRzMV"
      },
      "source": [
        "Read the Geojson Data as traing set"
      ]
    },
    {
      "cell_type": "code",
      "execution_count": 17,
      "metadata": {
        "colab": {
          "base_uri": "https://localhost:8080/",
          "height": 473
        },
        "id": "eL73sv_zRjhu",
        "outputId": "fa002287-6fbd-4256-8dd3-769fd65acec6"
      },
      "outputs": [
        {
          "output_type": "execute_result",
          "data": {
            "text/plain": [
              "     City     Type_crop  Year  Production_tonnes     PS     TS  QV2M  RH2M  \\\n",
              "0  Torino  common wheat  2006           119700.0  93.51  10.72  6.16  64.9   \n",
              "1  Torino  common wheat  2006           119700.0  93.51  10.72  6.16  64.9   \n",
              "2  Torino  common wheat  2006           119700.0  93.51  10.72  6.16  64.9   \n",
              "3  Torino  common wheat  2006           119700.0  93.51  10.72  6.16  64.9   \n",
              "4  Torino  common wheat  2006           119700.0  93.51  10.72  6.16  64.9   \n",
              "\n",
              "   WS2M  GWETTOP  ...  T2M_MIN  GWETPROF  GWETROOT  CLOUD_AMT  T2M_RANGE  \\\n",
              "0  1.33     0.62  ...      1.0      0.61      0.61      58.07      23.23   \n",
              "1  1.33     0.62  ...      1.0      0.61      0.61      58.07      23.23   \n",
              "2  1.33     0.62  ...      1.0      0.61      0.61      58.07      23.23   \n",
              "3  1.33     0.62  ...      1.0      0.61      0.61      58.07      23.23   \n",
              "4  1.33     0.62  ...      1.0      0.61      0.61      58.07      23.23   \n",
              "\n",
              "   PRECTOTCORR  Fertilizers_tonnes      lat      lon  \\\n",
              "0         1.79               122.7  42.1833  14.5333   \n",
              "1         1.79              1124.5  42.1833  14.5333   \n",
              "2         1.79             16166.9  42.1833  14.5333   \n",
              "3         1.79             13448.7  42.1833  14.5333   \n",
              "4         1.79               934.7  42.1833  14.5333   \n",
              "\n",
              "                    geometry  \n",
              "0  POINT (14.53330 42.18330)  \n",
              "1  POINT (14.53330 42.18330)  \n",
              "2  POINT (14.53330 42.18330)  \n",
              "3  POINT (14.53330 42.18330)  \n",
              "4  POINT (14.53330 42.18330)  \n",
              "\n",
              "[5 rows x 21 columns]"
            ],
            "text/html": [
              "\n",
              "  <div id=\"df-da03b9ed-b6f1-4b3c-bf4f-72a0ca293ab5\">\n",
              "    <div class=\"colab-df-container\">\n",
              "      <div>\n",
              "<style scoped>\n",
              "    .dataframe tbody tr th:only-of-type {\n",
              "        vertical-align: middle;\n",
              "    }\n",
              "\n",
              "    .dataframe tbody tr th {\n",
              "        vertical-align: top;\n",
              "    }\n",
              "\n",
              "    .dataframe thead th {\n",
              "        text-align: right;\n",
              "    }\n",
              "</style>\n",
              "<table border=\"1\" class=\"dataframe\">\n",
              "  <thead>\n",
              "    <tr style=\"text-align: right;\">\n",
              "      <th></th>\n",
              "      <th>City</th>\n",
              "      <th>Type_crop</th>\n",
              "      <th>Year</th>\n",
              "      <th>Production_tonnes</th>\n",
              "      <th>PS</th>\n",
              "      <th>TS</th>\n",
              "      <th>QV2M</th>\n",
              "      <th>RH2M</th>\n",
              "      <th>WS2M</th>\n",
              "      <th>GWETTOP</th>\n",
              "      <th>...</th>\n",
              "      <th>T2M_MIN</th>\n",
              "      <th>GWETPROF</th>\n",
              "      <th>GWETROOT</th>\n",
              "      <th>CLOUD_AMT</th>\n",
              "      <th>T2M_RANGE</th>\n",
              "      <th>PRECTOTCORR</th>\n",
              "      <th>Fertilizers_tonnes</th>\n",
              "      <th>lat</th>\n",
              "      <th>lon</th>\n",
              "      <th>geometry</th>\n",
              "    </tr>\n",
              "  </thead>\n",
              "  <tbody>\n",
              "    <tr>\n",
              "      <th>0</th>\n",
              "      <td>Torino</td>\n",
              "      <td>common wheat</td>\n",
              "      <td>2006</td>\n",
              "      <td>119700.0</td>\n",
              "      <td>93.51</td>\n",
              "      <td>10.72</td>\n",
              "      <td>6.16</td>\n",
              "      <td>64.9</td>\n",
              "      <td>1.33</td>\n",
              "      <td>0.62</td>\n",
              "      <td>...</td>\n",
              "      <td>1.0</td>\n",
              "      <td>0.61</td>\n",
              "      <td>0.61</td>\n",
              "      <td>58.07</td>\n",
              "      <td>23.23</td>\n",
              "      <td>1.79</td>\n",
              "      <td>122.7</td>\n",
              "      <td>42.1833</td>\n",
              "      <td>14.5333</td>\n",
              "      <td>POINT (14.53330 42.18330)</td>\n",
              "    </tr>\n",
              "    <tr>\n",
              "      <th>1</th>\n",
              "      <td>Torino</td>\n",
              "      <td>common wheat</td>\n",
              "      <td>2006</td>\n",
              "      <td>119700.0</td>\n",
              "      <td>93.51</td>\n",
              "      <td>10.72</td>\n",
              "      <td>6.16</td>\n",
              "      <td>64.9</td>\n",
              "      <td>1.33</td>\n",
              "      <td>0.62</td>\n",
              "      <td>...</td>\n",
              "      <td>1.0</td>\n",
              "      <td>0.61</td>\n",
              "      <td>0.61</td>\n",
              "      <td>58.07</td>\n",
              "      <td>23.23</td>\n",
              "      <td>1.79</td>\n",
              "      <td>1124.5</td>\n",
              "      <td>42.1833</td>\n",
              "      <td>14.5333</td>\n",
              "      <td>POINT (14.53330 42.18330)</td>\n",
              "    </tr>\n",
              "    <tr>\n",
              "      <th>2</th>\n",
              "      <td>Torino</td>\n",
              "      <td>common wheat</td>\n",
              "      <td>2006</td>\n",
              "      <td>119700.0</td>\n",
              "      <td>93.51</td>\n",
              "      <td>10.72</td>\n",
              "      <td>6.16</td>\n",
              "      <td>64.9</td>\n",
              "      <td>1.33</td>\n",
              "      <td>0.62</td>\n",
              "      <td>...</td>\n",
              "      <td>1.0</td>\n",
              "      <td>0.61</td>\n",
              "      <td>0.61</td>\n",
              "      <td>58.07</td>\n",
              "      <td>23.23</td>\n",
              "      <td>1.79</td>\n",
              "      <td>16166.9</td>\n",
              "      <td>42.1833</td>\n",
              "      <td>14.5333</td>\n",
              "      <td>POINT (14.53330 42.18330)</td>\n",
              "    </tr>\n",
              "    <tr>\n",
              "      <th>3</th>\n",
              "      <td>Torino</td>\n",
              "      <td>common wheat</td>\n",
              "      <td>2006</td>\n",
              "      <td>119700.0</td>\n",
              "      <td>93.51</td>\n",
              "      <td>10.72</td>\n",
              "      <td>6.16</td>\n",
              "      <td>64.9</td>\n",
              "      <td>1.33</td>\n",
              "      <td>0.62</td>\n",
              "      <td>...</td>\n",
              "      <td>1.0</td>\n",
              "      <td>0.61</td>\n",
              "      <td>0.61</td>\n",
              "      <td>58.07</td>\n",
              "      <td>23.23</td>\n",
              "      <td>1.79</td>\n",
              "      <td>13448.7</td>\n",
              "      <td>42.1833</td>\n",
              "      <td>14.5333</td>\n",
              "      <td>POINT (14.53330 42.18330)</td>\n",
              "    </tr>\n",
              "    <tr>\n",
              "      <th>4</th>\n",
              "      <td>Torino</td>\n",
              "      <td>common wheat</td>\n",
              "      <td>2006</td>\n",
              "      <td>119700.0</td>\n",
              "      <td>93.51</td>\n",
              "      <td>10.72</td>\n",
              "      <td>6.16</td>\n",
              "      <td>64.9</td>\n",
              "      <td>1.33</td>\n",
              "      <td>0.62</td>\n",
              "      <td>...</td>\n",
              "      <td>1.0</td>\n",
              "      <td>0.61</td>\n",
              "      <td>0.61</td>\n",
              "      <td>58.07</td>\n",
              "      <td>23.23</td>\n",
              "      <td>1.79</td>\n",
              "      <td>934.7</td>\n",
              "      <td>42.1833</td>\n",
              "      <td>14.5333</td>\n",
              "      <td>POINT (14.53330 42.18330)</td>\n",
              "    </tr>\n",
              "  </tbody>\n",
              "</table>\n",
              "<p>5 rows × 21 columns</p>\n",
              "</div>\n",
              "      <button class=\"colab-df-convert\" onclick=\"convertToInteractive('df-da03b9ed-b6f1-4b3c-bf4f-72a0ca293ab5')\"\n",
              "              title=\"Convert this dataframe to an interactive table.\"\n",
              "              style=\"display:none;\">\n",
              "        \n",
              "  <svg xmlns=\"http://www.w3.org/2000/svg\" height=\"24px\"viewBox=\"0 0 24 24\"\n",
              "       width=\"24px\">\n",
              "    <path d=\"M0 0h24v24H0V0z\" fill=\"none\"/>\n",
              "    <path d=\"M18.56 5.44l.94 2.06.94-2.06 2.06-.94-2.06-.94-.94-2.06-.94 2.06-2.06.94zm-11 1L8.5 8.5l.94-2.06 2.06-.94-2.06-.94L8.5 2.5l-.94 2.06-2.06.94zm10 10l.94 2.06.94-2.06 2.06-.94-2.06-.94-.94-2.06-.94 2.06-2.06.94z\"/><path d=\"M17.41 7.96l-1.37-1.37c-.4-.4-.92-.59-1.43-.59-.52 0-1.04.2-1.43.59L10.3 9.45l-7.72 7.72c-.78.78-.78 2.05 0 2.83L4 21.41c.39.39.9.59 1.41.59.51 0 1.02-.2 1.41-.59l7.78-7.78 2.81-2.81c.8-.78.8-2.07 0-2.86zM5.41 20L4 18.59l7.72-7.72 1.47 1.35L5.41 20z\"/>\n",
              "  </svg>\n",
              "      </button>\n",
              "      \n",
              "  <style>\n",
              "    .colab-df-container {\n",
              "      display:flex;\n",
              "      flex-wrap:wrap;\n",
              "      gap: 12px;\n",
              "    }\n",
              "\n",
              "    .colab-df-convert {\n",
              "      background-color: #E8F0FE;\n",
              "      border: none;\n",
              "      border-radius: 50%;\n",
              "      cursor: pointer;\n",
              "      display: none;\n",
              "      fill: #1967D2;\n",
              "      height: 32px;\n",
              "      padding: 0 0 0 0;\n",
              "      width: 32px;\n",
              "    }\n",
              "\n",
              "    .colab-df-convert:hover {\n",
              "      background-color: #E2EBFA;\n",
              "      box-shadow: 0px 1px 2px rgba(60, 64, 67, 0.3), 0px 1px 3px 1px rgba(60, 64, 67, 0.15);\n",
              "      fill: #174EA6;\n",
              "    }\n",
              "\n",
              "    [theme=dark] .colab-df-convert {\n",
              "      background-color: #3B4455;\n",
              "      fill: #D2E3FC;\n",
              "    }\n",
              "\n",
              "    [theme=dark] .colab-df-convert:hover {\n",
              "      background-color: #434B5C;\n",
              "      box-shadow: 0px 1px 3px 1px rgba(0, 0, 0, 0.15);\n",
              "      filter: drop-shadow(0px 1px 2px rgba(0, 0, 0, 0.3));\n",
              "      fill: #FFFFFF;\n",
              "    }\n",
              "  </style>\n",
              "\n",
              "      <script>\n",
              "        const buttonEl =\n",
              "          document.querySelector('#df-da03b9ed-b6f1-4b3c-bf4f-72a0ca293ab5 button.colab-df-convert');\n",
              "        buttonEl.style.display =\n",
              "          google.colab.kernel.accessAllowed ? 'block' : 'none';\n",
              "\n",
              "        async function convertToInteractive(key) {\n",
              "          const element = document.querySelector('#df-da03b9ed-b6f1-4b3c-bf4f-72a0ca293ab5');\n",
              "          const dataTable =\n",
              "            await google.colab.kernel.invokeFunction('convertToInteractive',\n",
              "                                                     [key], {});\n",
              "          if (!dataTable) return;\n",
              "\n",
              "          const docLinkHtml = 'Like what you see? Visit the ' +\n",
              "            '<a target=\"_blank\" href=https://colab.research.google.com/notebooks/data_table.ipynb>data table notebook</a>'\n",
              "            + ' to learn more about interactive tables.';\n",
              "          element.innerHTML = '';\n",
              "          dataTable['output_type'] = 'display_data';\n",
              "          await google.colab.output.renderOutput(dataTable, element);\n",
              "          const docLink = document.createElement('div');\n",
              "          docLink.innerHTML = docLinkHtml;\n",
              "          element.appendChild(docLink);\n",
              "        }\n",
              "      </script>\n",
              "    </div>\n",
              "  </div>\n",
              "  "
            ]
          },
          "metadata": {},
          "execution_count": 17
        }
      ],
      "source": [
        "# read in training data polygons that created as geojson from a shared directory\n",
        "training_data = '/content/cereal.geojson'\n",
        "training_vectors = gpd.read_file(training_data)\n",
        "\n",
        "# make a bounding box and centroid for mapping\n",
        "bbox = training_vectors.total_bounds\n",
        "center = shp.geometry.box(bbox[0], bbox[1], bbox[2], bbox[3]).centroid\n",
        "\n",
        "# show the 1st 5 lines\n",
        "training_vectors.head()"
      ]
    },
    {
      "cell_type": "markdown",
      "metadata": {
        "id": "OcjKqct5SJCl"
      },
      "source": [
        "# Reading imagery from Google Earth Engine (GEE)\n",
        "\n",
        "- this application of  Google Earth Engine is to select and filter Satellite imagery that we will classify with the training data.\n",
        "\n",
        "- For Notbook other than colabs authonetication is only one per week \n",
        "\n",
        "- After connecting GEE the next step is to search imagnry data\n",
        "\n"
      ]
    },
    {
      "cell_type": "markdown",
      "metadata": {
        "id": "LJ-WEesTZHo2"
      },
      "source": [
        "#  Connect GEE"
      ]
    },
    {
      "cell_type": "code",
      "execution_count": 15,
      "metadata": {
        "colab": {
          "base_uri": "https://localhost:8080/"
        },
        "id": "VmfF6r0wE0a-",
        "outputId": "488a0091-96b0-459a-b780-c23a8af14e4a"
      },
      "outputs": [
        {
          "output_type": "stream",
          "name": "stdout",
          "text": [
            "To authorize access needed by Earth Engine, open the following URL in a web browser and follow the instructions. If the web browser does not start automatically, please manually browse the URL below.\n",
            "\n",
            "    https://code.earthengine.google.com/client-auth?scopes=https%3A//www.googleapis.com/auth/earthengine%20https%3A//www.googleapis.com/auth/devstorage.full_control&request_id=dbQOxnRvfF99KLm6j2D5xblx2V9FRFaRWwC4sGX2_wI&tc=TtBsmgki7YSsa5dCG6au2QDeerhTm8bABMFmFoLoHs4&cc=lVl0_a0BUVDLWhOaN0qh03z6J4ZQT1uQAUkl43aubGk\n",
            "\n",
            "The authorization workflow will generate a code, which you should paste in the box below.\n",
            "Enter verification code: 4/1AfgeXvugYrIaxJcTpoV2LeES5CAm2QWz90IrdeyoyCJWuayRazN_os6ypVA\n",
            "\n",
            "Successfully saved authorization token.\n"
          ]
        }
      ],
      "source": [
        "# If not on Colab you'll need install the earth-engine Python API\n",
        "#!pip install earthengine-api #earth-engine Python API\n",
        "# Athenticate to your GEE account. \n",
        "!earthengine authenticate\n",
        "import ee \n",
        "ee.Initialize()"
      ]
    },
    {
      "cell_type": "markdown",
      "metadata": {
        "id": "ccoI-EsfS7dq"
      },
      "source": [
        "## Search GEE data\n",
        "\n",
        "- We search fo Sentinel 2 imagery, a multispectral satellite with ~10m resolution and repeat coverage every 5 days.\n",
        "\n",
        "- Filters will include selecting bands, a date range, and only imagery within a defined Area of Interest (AOI)."
      ]
    },
    {
      "cell_type": "code",
      "execution_count": 18,
      "metadata": {
        "id": "6lnqcEMxTrTZ",
        "colab": {
          "base_uri": "https://localhost:8080/"
        },
        "outputId": "3acc813d-b6cd-4102-99c2-a96e17c2b505"
      },
      "outputs": [
        {
          "output_type": "stream",
          "name": "stdout",
          "text": [
            "COPERNICUS/S2/20190502T093041_20190502T093541_T32PPR\n",
            "COPERNICUS/S2/20190502T093041_20190502T093541_T32PPS\n",
            "COPERNICUS/S2/20190502T093041_20190502T093541_T32PQA\n",
            "COPERNICUS/S2/20190502T093041_20190502T093541_T32PQB\n",
            "COPERNICUS/S2/20190502T093041_20190502T093541_T32PQR\n",
            "COPERNICUS/S2/20190502T093041_20190502T093541_T32PQS\n",
            "COPERNICUS/S2/20190502T093041_20190502T093541_T32PQT\n",
            "COPERNICUS/S2/20190502T093041_20190502T093541_T32PQU\n",
            "COPERNICUS/S2/20190502T093041_20190502T093541_T32PQV\n",
            "COPERNICUS/S2/20190502T093041_20190502T093541_T32PRA\n",
            "COPERNICUS/S2/20190502T093041_20190502T093541_T32PRB\n",
            "COPERNICUS/S2/20190502T093041_20190502T093541_T32PRC\n",
            "COPERNICUS/S2/20190502T093041_20190502T093541_T32PRQ\n",
            "COPERNICUS/S2/20190502T093041_20190502T093541_T32PRR\n",
            "COPERNICUS/S2/20190502T093041_20190502T093541_T32PRS\n",
            "COPERNICUS/S2/20190502T093041_20190502T093541_T32PRT\n",
            "COPERNICUS/S2/20190502T093041_20190502T093541_T32PRU\n",
            "COPERNICUS/S2/20190502T093041_20190502T093541_T32PRV\n",
            "COPERNICUS/S2/20190502T093041_20190502T093541_T32QRD\n",
            "COPERNICUS/S2/20190502T093041_20190502T093541_T32QRE\n",
            "COPERNICUS/S2/20190502T093041_20190502T093541_T32QRF\n",
            "COPERNICUS/S2/20190502T093041_20190502T093541_T32QRG\n",
            "COPERNICUS/S2/20190502T093041_20190502T093541_T33PTK\n",
            "COPERNICUS/S2/20190502T093041_20190502T093541_T33PTL\n",
            "COPERNICUS/S2/20190502T093041_20190502T093541_T33PTM\n",
            "COPERNICUS/S2/20190502T093041_20190502T093541_T33PTN\n",
            "COPERNICUS/S2/20190502T093041_20190502T093541_T33PTP\n",
            "COPERNICUS/S2/20190502T093041_20190502T093541_T33PTQ\n",
            "COPERNICUS/S2/20190502T093041_20190502T093541_T33PTR\n",
            "COPERNICUS/S2/20190502T093041_20190502T093541_T33PTS\n",
            "COPERNICUS/S2/20190502T093041_20190502T093541_T33PTT\n",
            "COPERNICUS/S2/20190502T093041_20190502T093541_T33PUK\n",
            "COPERNICUS/S2/20190502T093041_20190502T093541_T33PUL\n",
            "COPERNICUS/S2/20190502T093041_20190502T093541_T33PUM\n",
            "COPERNICUS/S2/20190502T093041_20190502T093541_T33PUN\n",
            "COPERNICUS/S2/20190502T093041_20190502T093541_T33PUP\n",
            "COPERNICUS/S2/20190502T093041_20190502T093541_T33PUQ\n",
            "COPERNICUS/S2/20190502T093041_20190502T093541_T33PUR\n",
            "COPERNICUS/S2/20190502T093041_20190502T093541_T33PUS\n",
            "COPERNICUS/S2/20190502T093041_20190502T093541_T33PUT\n",
            "COPERNICUS/S2/20190502T093041_20190502T093541_T33PVQ\n",
            "COPERNICUS/S2/20190502T093041_20190502T093541_T33PVR\n",
            "COPERNICUS/S2/20190502T093041_20190502T093541_T33PVS\n",
            "COPERNICUS/S2/20190502T093041_20190502T093541_T33PVT\n",
            "COPERNICUS/S2/20190502T093041_20190502T093541_T33QTA\n",
            "COPERNICUS/S2/20190502T093041_20190502T093541_T33QTB\n",
            "COPERNICUS/S2/20190502T093041_20190502T093541_T33QTC\n",
            "COPERNICUS/S2/20190502T093041_20190502T093541_T33QTU\n",
            "COPERNICUS/S2/20190502T093041_20190502T093541_T33QTV\n",
            "COPERNICUS/S2/20190502T093041_20190502T093541_T33QUA\n",
            "COPERNICUS/S2/20190502T093041_20190502T093541_T33QUB\n",
            "COPERNICUS/S2/20190502T093041_20190502T093541_T33QUC\n",
            "COPERNICUS/S2/20190502T093041_20190502T093541_T33QUD\n",
            "COPERNICUS/S2/20190502T093041_20190502T093541_T33QUE\n",
            "COPERNICUS/S2/20190502T093041_20190502T093541_T33QUF\n",
            "COPERNICUS/S2/20190502T093041_20190502T093541_T33QUG\n",
            "COPERNICUS/S2/20190502T093041_20190502T093541_T33QUU\n",
            "COPERNICUS/S2/20190502T093041_20190502T093541_T33QUV\n",
            "COPERNICUS/S2/20190502T093041_20190502T093541_T33QVA\n",
            "COPERNICUS/S2/20190502T093041_20190502T093541_T33QVB\n",
            "COPERNICUS/S2/20190502T093041_20190502T093541_T33QVC\n",
            "COPERNICUS/S2/20190502T093041_20190502T093541_T33QVD\n",
            "COPERNICUS/S2/20190502T093041_20190502T093541_T33QVE\n",
            "COPERNICUS/S2/20190502T093041_20190502T093541_T33QVF\n",
            "COPERNICUS/S2/20190502T093041_20190502T093541_T33QVG\n",
            "COPERNICUS/S2/20190502T093041_20190502T093541_T33QVU\n",
            "COPERNICUS/S2/20190502T093041_20190502T093541_T33QVV\n",
            "COPERNICUS/S2/20190502T093041_20190502T093541_T33QWA\n",
            "COPERNICUS/S2/20190502T093041_20190502T093541_T33QWB\n",
            "COPERNICUS/S2/20190502T093041_20190502T093541_T33QWC\n",
            "COPERNICUS/S2/20190502T093041_20190502T093541_T33QWD\n",
            "COPERNICUS/S2/20190502T093041_20190502T093541_T33QWE\n",
            "COPERNICUS/S2/20190502T093041_20190502T093541_T33QWF\n",
            "COPERNICUS/S2/20190502T093041_20190502T093541_T33QWG\n",
            "COPERNICUS/S2/20190502T093041_20190502T093541_T33QWU\n",
            "COPERNICUS/S2/20190502T093041_20190502T093541_T33QWV\n",
            "COPERNICUS/S2/20190502T093041_20190502T093541_T33QXC\n",
            "COPERNICUS/S2/20190502T093041_20190502T093541_T33QXD\n",
            "COPERNICUS/S2/20190502T093041_20190502T093541_T33QXE\n",
            "COPERNICUS/S2/20190502T093041_20190502T093541_T33QXF\n",
            "COPERNICUS/S2/20190502T093041_20190502T093541_T33QXG\n",
            "COPERNICUS/S2/20190502T093041_20190502T093541_T33RUH\n",
            "COPERNICUS/S2/20190502T093041_20190502T093541_T33RVH\n",
            "COPERNICUS/S2/20190502T093041_20190502T093541_T33RVJ\n",
            "COPERNICUS/S2/20190502T093041_20190502T093541_T33RVK\n",
            "COPERNICUS/S2/20190502T093041_20190502T093541_T33RVL\n",
            "COPERNICUS/S2/20190502T093041_20190502T093541_T33RVM\n",
            "COPERNICUS/S2/20190502T093041_20190502T093541_T33RWH\n",
            "COPERNICUS/S2/20190502T093041_20190502T093541_T33RWJ\n",
            "COPERNICUS/S2/20190502T093041_20190502T093541_T33RWK\n",
            "COPERNICUS/S2/20190502T093041_20190502T093541_T33RWL\n",
            "COPERNICUS/S2/20190502T093041_20190502T093541_T33RWM\n",
            "COPERNICUS/S2/20190502T093041_20190502T093541_T33RWN\n",
            "COPERNICUS/S2/20190502T093041_20190502T093541_T33RWP\n",
            "COPERNICUS/S2/20190502T093041_20190502T093541_T33RWQ\n",
            "COPERNICUS/S2/20190502T093041_20190502T093541_T33RXH\n",
            "COPERNICUS/S2/20190502T093041_20190502T093541_T33RXJ\n",
            "COPERNICUS/S2/20190502T093041_20190502T093541_T33RXK\n",
            "COPERNICUS/S2/20190502T093041_20190502T093541_T33RXL\n",
            "COPERNICUS/S2/20190502T093041_20190502T093541_T33RXM\n",
            "COPERNICUS/S2/20190502T093041_20190502T093541_T33RXN\n",
            "COPERNICUS/S2/20190502T093041_20190502T093541_T33RXP\n",
            "COPERNICUS/S2/20190502T093041_20190502T093541_T33RXQ\n",
            "COPERNICUS/S2/20190502T093041_20190502T093541_T33RYH\n",
            "COPERNICUS/S2/20190502T093041_20190502T093541_T33RYJ\n",
            "COPERNICUS/S2/20190502T093041_20190502T093541_T33RYK\n",
            "COPERNICUS/S2/20190502T093041_20190502T093541_T33RYL\n",
            "COPERNICUS/S2/20190502T093041_20190502T093541_T33RYM\n",
            "COPERNICUS/S2/20190502T093041_20190502T093541_T33RYN\n",
            "COPERNICUS/S2/20190502T093041_20190502T093541_T33RYP\n",
            "COPERNICUS/S2/20190502T093041_20190502T093541_T33RYQ\n",
            "COPERNICUS/S2/20190502T093041_20190502T093541_T33SWR\n",
            "COPERNICUS/S2/20190502T093041_20190502T093541_T33SWS\n",
            "COPERNICUS/S2/20190502T093041_20190502T093541_T33SXA\n",
            "COPERNICUS/S2/20190502T093041_20190502T093541_T33SXB\n",
            "COPERNICUS/S2/20190502T093041_20190502T093541_T33SXR\n",
            "COPERNICUS/S2/20190502T093041_20190502T093541_T33SXS\n",
            "COPERNICUS/S2/20190502T093041_20190502T093541_T33SXT\n",
            "COPERNICUS/S2/20190502T093041_20190502T093541_T33SXU\n",
            "COPERNICUS/S2/20190502T093041_20190502T093541_T33SXV\n",
            "COPERNICUS/S2/20190502T093041_20190502T093541_T33SYA\n",
            "COPERNICUS/S2/20190502T093041_20190502T093541_T33SYB\n",
            "COPERNICUS/S2/20190502T093041_20190502T093541_T33SYC\n",
            "COPERNICUS/S2/20190502T093041_20190502T093541_T33SYD\n",
            "COPERNICUS/S2/20190502T093041_20190502T093541_T33SYR\n",
            "COPERNICUS/S2/20190502T093041_20190502T093541_T33SYS\n",
            "COPERNICUS/S2/20190502T093041_20190502T093541_T33SYT\n",
            "COPERNICUS/S2/20190502T093041_20190502T093541_T33SYU\n",
            "COPERNICUS/S2/20190502T093041_20190502T093541_T33SYV\n",
            "COPERNICUS/S2/20190502T093041_20190502T093541_T33TYE\n",
            "COPERNICUS/S2/20190502T093041_20190502T093541_T34RBS\n",
            "COPERNICUS/S2/20190502T093041_20190502T093541_T34RBT\n",
            "COPERNICUS/S2/20190502T093041_20190502T093541_T34RBU\n",
            "COPERNICUS/S2/20190502T093041_20190502T093541_T34RBV\n",
            "COPERNICUS/S2/20190502T093041_20190502T093541_T34SBA\n",
            "COPERNICUS/S2/20190502T093041_20190502T093541_T34SBB\n",
            "COPERNICUS/S2/20190502T093041_20190502T093541_T34SBC\n",
            "COPERNICUS/S2/20190502T093041_20190502T093541_T34SBD\n",
            "COPERNICUS/S2/20190502T093041_20190502T093541_T34SBE\n",
            "COPERNICUS/S2/20190502T093041_20190502T093541_T34SBF\n",
            "COPERNICUS/S2/20190502T093041_20190502T093541_T34SBG\n",
            "COPERNICUS/S2/20190502T093041_20190502T093541_T34SBH\n",
            "COPERNICUS/S2/20190502T093041_20190502T093541_T34SBJ\n",
            "COPERNICUS/S2/20190502T093041_20190502T093541_T34TBK\n",
            "COPERNICUS/S2/20190502T093041_20190502T094808_T32MME\n",
            "COPERNICUS/S2/20190502T093041_20190502T094808_T32MNE\n",
            "COPERNICUS/S2/20190502T093041_20190502T094808_T32MPE\n",
            "COPERNICUS/S2/20190502T093041_20190502T094808_T32MQE\n",
            "COPERNICUS/S2/20190502T093041_20190502T094808_T32NMF\n",
            "COPERNICUS/S2/20190502T093041_20190502T094808_T32NMG\n",
            "COPERNICUS/S2/20190502T093041_20190502T094808_T32NMH\n",
            "COPERNICUS/S2/20190502T093041_20190502T094808_T32NNF\n",
            "COPERNICUS/S2/20190502T093041_20190502T094808_T32NNG\n",
            "COPERNICUS/S2/20190502T093041_20190502T094808_T32NNH\n",
            "COPERNICUS/S2/20190502T093041_20190502T094808_T32NNJ\n",
            "COPERNICUS/S2/20190502T093041_20190502T094808_T32NNK\n",
            "COPERNICUS/S2/20190502T093041_20190502T094808_T32NNL\n",
            "COPERNICUS/S2/20190502T093041_20190502T094808_T32NNM\n",
            "COPERNICUS/S2/20190502T093041_20190502T094808_T32NNN\n",
            "COPERNICUS/S2/20190502T093041_20190502T094808_T32NPF\n",
            "COPERNICUS/S2/20190502T093041_20190502T094808_T32NPG\n",
            "COPERNICUS/S2/20190502T093041_20190502T094808_T32NPH\n",
            "COPERNICUS/S2/20190502T093041_20190502T094808_T32NPJ\n",
            "COPERNICUS/S2/20190502T093041_20190502T094808_T32NPK\n",
            "COPERNICUS/S2/20190502T093041_20190502T094808_T32NPL\n",
            "COPERNICUS/S2/20190502T093041_20190502T094808_T32NPM\n",
            "COPERNICUS/S2/20190502T093041_20190502T094808_T32NPN\n",
            "COPERNICUS/S2/20190502T093041_20190502T094808_T32NPP\n",
            "COPERNICUS/S2/20190502T093041_20190502T094808_T32NQF\n",
            "COPERNICUS/S2/20190502T093041_20190502T094808_T32NQG\n",
            "COPERNICUS/S2/20190502T093041_20190502T094808_T32NQH\n",
            "COPERNICUS/S2/20190502T093041_20190502T094808_T32NQJ\n",
            "COPERNICUS/S2/20190502T093041_20190502T094808_T32NQK\n",
            "COPERNICUS/S2/20190502T093041_20190502T094808_T32NQL\n",
            "COPERNICUS/S2/20190502T093041_20190502T094808_T32NQM\n",
            "COPERNICUS/S2/20190502T093041_20190502T094808_T32NQN\n",
            "COPERNICUS/S2/20190502T093041_20190502T094808_T32NQP\n",
            "COPERNICUS/S2/20190502T093041_20190502T094808_T32NRH\n",
            "COPERNICUS/S2/20190502T093041_20190502T094808_T32NRJ\n",
            "COPERNICUS/S2/20190502T093041_20190502T094808_T32NRK\n",
            "COPERNICUS/S2/20190502T093041_20190502T094808_T32NRL\n",
            "COPERNICUS/S2/20190502T093041_20190502T094808_T32NRM\n",
            "COPERNICUS/S2/20190502T093041_20190502T094808_T32NRN\n",
            "COPERNICUS/S2/20190502T093041_20190502T094808_T32NRP\n",
            "COPERNICUS/S2/20190502T093041_20190502T094808_T32PPQ\n",
            "COPERNICUS/S2/20190502T093041_20190502T094808_T32PPR\n",
            "COPERNICUS/S2/20190502T093041_20190502T094808_T32PQQ\n",
            "COPERNICUS/S2/20190502T093041_20190502T094808_T32PQR\n",
            "COPERNICUS/S2/20190502T093041_20190502T094808_T32PRQ\n",
            "COPERNICUS/S2/20190502T093041_20190502T094808_T32PRR\n",
            "COPERNICUS/S2/20190502T093041_20190502T094808_T33NTF\n",
            "COPERNICUS/S2/20190502T093041_20190502T094808_T33NTG\n",
            "COPERNICUS/S2/20190502T093041_20190502T094808_T33NTH\n",
            "COPERNICUS/S2/20190502T093041_20190502T094808_T33NTJ\n",
            "COPERNICUS/S2/20190502T093041_20190502T094808_T33PTK\n",
            "COPERNICUS/S2/20190502T093041_20190502T094808_T33PTL\n",
            "COPERNICUS/S2/20190502T093041_20190502T094808_T33PUK\n",
            "COPERNICUS/S2/20190502T102029_20190502T102223_T31RDL\n",
            "COPERNICUS/S2/20190502T102029_20190502T102223_T31RDM\n",
            "COPERNICUS/S2/20190502T102029_20190502T102223_T31RDN\n",
            "COPERNICUS/S2/20190502T102029_20190502T102223_T31RDP\n",
            "COPERNICUS/S2/20190502T102029_20190502T102223_T31RDQ\n",
            "COPERNICUS/S2/20190502T102029_20190502T102223_T31REL\n",
            "COPERNICUS/S2/20190502T102029_20190502T102223_T31REM\n",
            "COPERNICUS/S2/20190502T102029_20190502T102223_T31REN\n",
            "COPERNICUS/S2/20190502T102029_20190502T102223_T31REP\n",
            "COPERNICUS/S2/20190502T102029_20190502T102223_T31REQ\n",
            "COPERNICUS/S2/20190502T102029_20190502T102223_T31RFL\n",
            "COPERNICUS/S2/20190502T102029_20190502T102223_T31RFM\n",
            "COPERNICUS/S2/20190502T102029_20190502T102223_T31RFN\n",
            "COPERNICUS/S2/20190502T102029_20190502T102223_T31RFP\n",
            "COPERNICUS/S2/20190502T102029_20190502T102223_T31RFQ\n",
            "COPERNICUS/S2/20190502T102029_20190502T102223_T31RGL\n",
            "COPERNICUS/S2/20190502T102029_20190502T102223_T31RGM\n",
            "COPERNICUS/S2/20190502T102029_20190502T102223_T31RGN\n",
            "COPERNICUS/S2/20190502T102029_20190502T102223_T31RGP\n",
            "COPERNICUS/S2/20190502T102029_20190502T102223_T31RGQ\n",
            "COPERNICUS/S2/20190502T102029_20190502T102223_T31SER\n",
            "COPERNICUS/S2/20190502T102029_20190502T102223_T31SES\n",
            "COPERNICUS/S2/20190502T102029_20190502T102223_T31SET\n",
            "COPERNICUS/S2/20190502T102029_20190502T102223_T31SEU\n",
            "COPERNICUS/S2/20190502T102029_20190502T102223_T31SFA\n",
            "COPERNICUS/S2/20190502T102029_20190502T102223_T31SFB\n",
            "COPERNICUS/S2/20190502T102029_20190502T102223_T31SFC\n",
            "COPERNICUS/S2/20190502T102029_20190502T102223_T31SFD\n",
            "COPERNICUS/S2/20190502T102029_20190502T102223_T31SFR\n",
            "COPERNICUS/S2/20190502T102029_20190502T102223_T31SFS\n",
            "COPERNICUS/S2/20190502T102029_20190502T102223_T31SFT\n",
            "COPERNICUS/S2/20190502T102029_20190502T102223_T31SFU\n",
            "COPERNICUS/S2/20190502T102029_20190502T102223_T31SFV\n",
            "COPERNICUS/S2/20190502T102029_20190502T102223_T31SGA\n",
            "COPERNICUS/S2/20190502T102029_20190502T102223_T31SGB\n",
            "COPERNICUS/S2/20190502T102029_20190502T102223_T31SGC\n",
            "COPERNICUS/S2/20190502T102029_20190502T102223_T31SGD\n",
            "COPERNICUS/S2/20190502T102029_20190502T102223_T31SGR\n",
            "COPERNICUS/S2/20190502T102029_20190502T102223_T31SGS\n",
            "COPERNICUS/S2/20190502T102029_20190502T102223_T31SGT\n",
            "COPERNICUS/S2/20190502T102029_20190502T102223_T31SGU\n",
            "COPERNICUS/S2/20190502T102029_20190502T102223_T31SGV\n",
            "COPERNICUS/S2/20190502T102029_20190502T102223_T31TGE\n",
            "COPERNICUS/S2/20190502T102029_20190502T102223_T31TGF\n",
            "COPERNICUS/S2/20190502T102029_20190502T102223_T31TGG\n",
            "COPERNICUS/S2/20190502T102029_20190502T102223_T31TGH\n",
            "COPERNICUS/S2/20190502T102029_20190502T102223_T31TGJ\n",
            "COPERNICUS/S2/20190502T102029_20190502T102223_T32RKU\n",
            "COPERNICUS/S2/20190502T102029_20190502T102223_T32RKV\n",
            "COPERNICUS/S2/20190502T102029_20190502T102223_T32SKA\n",
            "COPERNICUS/S2/20190502T102029_20190502T102223_T32SKB\n",
            "COPERNICUS/S2/20190502T102029_20190502T102223_T32SKC\n",
            "COPERNICUS/S2/20190502T102029_20190502T102223_T32SKD\n",
            "COPERNICUS/S2/20190502T102029_20190502T102223_T32SKE\n",
            "COPERNICUS/S2/20190502T102029_20190502T102223_T32SKF\n",
            "COPERNICUS/S2/20190502T102029_20190502T102223_T32SKG\n",
            "COPERNICUS/S2/20190502T102029_20190502T102223_T32SKH\n",
            "COPERNICUS/S2/20190502T102029_20190502T102223_T32SKJ\n",
            "COPERNICUS/S2/20190502T102029_20190502T102223_T32SLB\n",
            "COPERNICUS/S2/20190502T102029_20190502T102223_T32SLC\n",
            "COPERNICUS/S2/20190502T102029_20190502T102223_T32SLD\n",
            "COPERNICUS/S2/20190502T102029_20190502T102223_T32SLE\n",
            "COPERNICUS/S2/20190502T102029_20190502T102223_T32SLF\n",
            "COPERNICUS/S2/20190502T102029_20190502T102223_T32SLG\n",
            "COPERNICUS/S2/20190502T102029_20190502T102223_T32SLH\n",
            "COPERNICUS/S2/20190502T102029_20190502T102223_T32SLJ\n",
            "COPERNICUS/S2/20190502T102029_20190502T102223_T32SMF\n",
            "COPERNICUS/S2/20190502T102029_20190502T102223_T32SMG\n",
            "COPERNICUS/S2/20190502T102029_20190502T102223_T32SMH\n",
            "COPERNICUS/S2/20190502T102029_20190502T102223_T32SMJ\n",
            "COPERNICUS/S2/20190502T102029_20190502T102223_T32TKK\n",
            "COPERNICUS/S2/20190502T102029_20190502T102223_T32TKL\n",
            "COPERNICUS/S2/20190502T102029_20190502T102223_T32TKM\n",
            "COPERNICUS/S2/20190502T102029_20190502T102223_T32TLK\n",
            "COPERNICUS/S2/20190502T102029_20190502T102223_T32TLL\n",
            "COPERNICUS/S2/20190502T102029_20190502T102223_T32TLM\n",
            "COPERNICUS/S2/20190502T102029_20190502T102223_T32TLN\n",
            "COPERNICUS/S2/20190502T102029_20190502T102223_T32TLP\n",
            "COPERNICUS/S2/20190502T102029_20190502T102223_T32TLQ\n",
            "COPERNICUS/S2/20190502T102029_20190502T102223_T32TLR\n",
            "COPERNICUS/S2/20190502T102029_20190502T102223_T32TLS\n",
            "COPERNICUS/S2/20190502T102029_20190502T102223_T32TMK\n",
            "COPERNICUS/S2/20190502T102029_20190502T102223_T32TML\n",
            "COPERNICUS/S2/20190502T102029_20190502T102223_T32TMM\n",
            "COPERNICUS/S2/20190502T102029_20190502T102223_T32TMN\n",
            "COPERNICUS/S2/20190502T102029_20190502T102223_T32TMP\n",
            "COPERNICUS/S2/20190502T102029_20190502T102223_T32TMQ\n",
            "COPERNICUS/S2/20190502T102029_20190502T102223_T32TMR\n",
            "COPERNICUS/S2/20190502T102029_20190502T102223_T32TMS\n",
            "COPERNICUS/S2/20190502T102029_20190502T102223_T32TNK\n",
            "COPERNICUS/S2/20190502T102029_20190502T102223_T32TNL\n",
            "COPERNICUS/S2/20190502T102029_20190502T102223_T32TNM\n",
            "COPERNICUS/S2/20190502T102029_20190502T102223_T32TNN\n",
            "COPERNICUS/S2/20190502T102029_20190502T102223_T32TNP\n",
            "COPERNICUS/S2/20190502T102029_20190502T102223_T32TNQ\n",
            "COPERNICUS/S2/20190502T102029_20190502T102223_T32TNR\n",
            "COPERNICUS/S2/20190502T102029_20190502T102223_T32TNS\n",
            "COPERNICUS/S2/20190502T102029_20190502T102223_T32TPN\n",
            "COPERNICUS/S2/20190502T102029_20190502T102223_T32TPP\n",
            "COPERNICUS/S2/20190502T102029_20190502T102223_T32TPQ\n",
            "COPERNICUS/S2/20190502T102029_20190502T102223_T32TPR\n",
            "COPERNICUS/S2/20190502T102029_20190502T102223_T32TPS\n",
            "COPERNICUS/S2/20190502T102029_20190502T102223_T32TQS\n",
            "COPERNICUS/S2/20190502T102029_20190502T103323_T30NZN\n",
            "COPERNICUS/S2/20190502T102029_20190502T103323_T30NZP\n",
            "COPERNICUS/S2/20190502T102029_20190502T103323_T30PZA\n",
            "COPERNICUS/S2/20190502T102029_20190502T103323_T30PZB\n",
            "COPERNICUS/S2/20190502T102029_20190502T103323_T30PZC\n",
            "COPERNICUS/S2/20190502T102029_20190502T103323_T30PZQ\n",
            "COPERNICUS/S2/20190502T102029_20190502T103323_T30PZR\n",
            "COPERNICUS/S2/20190502T102029_20190502T103323_T30PZS\n",
            "COPERNICUS/S2/20190502T102029_20190502T103323_T30PZT\n",
            "COPERNICUS/S2/20190502T102029_20190502T103323_T30PZU\n",
            "COPERNICUS/S2/20190502T102029_20190502T103323_T30PZV\n",
            "COPERNICUS/S2/20190502T102029_20190502T103323_T30QZD\n",
            "COPERNICUS/S2/20190502T102029_20190502T103323_T30QZE\n",
            "COPERNICUS/S2/20190502T102029_20190502T103323_T30QZF\n",
            "COPERNICUS/S2/20190502T102029_20190502T103323_T30QZG\n",
            "COPERNICUS/S2/20190502T102029_20190502T103323_T30QZH\n",
            "COPERNICUS/S2/20190502T102029_20190502T103323_T30QZJ\n",
            "COPERNICUS/S2/20190502T102029_20190502T103323_T30QZK\n",
            "COPERNICUS/S2/20190502T102029_20190502T103323_T31NBJ\n",
            "COPERNICUS/S2/20190502T102029_20190502T103323_T31PBK\n",
            "COPERNICUS/S2/20190502T102029_20190502T103323_T31PBL\n",
            "COPERNICUS/S2/20190502T102029_20190502T103323_T31PBM\n",
            "COPERNICUS/S2/20190502T102029_20190502T103323_T31PBN\n",
            "COPERNICUS/S2/20190502T102029_20190502T103323_T31PBP\n",
            "COPERNICUS/S2/20190502T102029_20190502T103323_T31PBQ\n",
            "COPERNICUS/S2/20190502T102029_20190502T103323_T31PBR\n",
            "COPERNICUS/S2/20190502T102029_20190502T103323_T31PBS\n",
            "COPERNICUS/S2/20190502T102029_20190502T103323_T31PBT\n",
            "COPERNICUS/S2/20190502T102029_20190502T103323_T31PCN\n",
            "COPERNICUS/S2/20190502T102029_20190502T103323_T31PCP\n",
            "COPERNICUS/S2/20190502T102029_20190502T103323_T31PCQ\n",
            "COPERNICUS/S2/20190502T102029_20190502T103323_T31PCR\n",
            "COPERNICUS/S2/20190502T102029_20190502T103323_T31PCS\n",
            "COPERNICUS/S2/20190502T102029_20190502T103323_T31PCT\n",
            "COPERNICUS/S2/20190502T102029_20190502T103323_T31PDS\n",
            "COPERNICUS/S2/20190502T102029_20190502T103323_T31PDT\n",
            "COPERNICUS/S2/20190502T102029_20190502T103323_T31QBA\n",
            "COPERNICUS/S2/20190502T102029_20190502T103323_T31QBB\n",
            "COPERNICUS/S2/20190502T102029_20190502T103323_T31QBC\n",
            "COPERNICUS/S2/20190502T102029_20190502T103323_T31QBD\n",
            "COPERNICUS/S2/20190502T102029_20190502T103323_T31QBE\n",
            "COPERNICUS/S2/20190502T102029_20190502T103323_T31QBF\n",
            "COPERNICUS/S2/20190502T102029_20190502T103323_T31QBU\n",
            "COPERNICUS/S2/20190502T102029_20190502T103323_T31QBV\n",
            "COPERNICUS/S2/20190502T102029_20190502T103323_T31QCA\n",
            "COPERNICUS/S2/20190502T102029_20190502T103323_T31QCB\n",
            "COPERNICUS/S2/20190502T102029_20190502T103323_T31QCC\n",
            "COPERNICUS/S2/20190502T102029_20190502T103323_T31QCD\n",
            "COPERNICUS/S2/20190502T102029_20190502T103323_T31QCE\n",
            "COPERNICUS/S2/20190502T102029_20190502T103323_T31QCF\n",
            "COPERNICUS/S2/20190502T102029_20190502T103323_T31QCG\n",
            "COPERNICUS/S2/20190502T102029_20190502T103323_T31QCU\n",
            "COPERNICUS/S2/20190502T102029_20190502T103323_T31QCV\n",
            "COPERNICUS/S2/20190502T102029_20190502T103323_T31QDA\n",
            "COPERNICUS/S2/20190502T102029_20190502T103323_T31QDB\n",
            "COPERNICUS/S2/20190502T102029_20190502T103323_T31QDC\n",
            "COPERNICUS/S2/20190502T102029_20190502T103323_T31QDD\n",
            "COPERNICUS/S2/20190502T102029_20190502T103323_T31QDE\n",
            "COPERNICUS/S2/20190502T102029_20190502T103323_T31QDF\n",
            "COPERNICUS/S2/20190502T102029_20190502T103323_T31QDG\n",
            "COPERNICUS/S2/20190502T102029_20190502T103323_T31QDU\n",
            "COPERNICUS/S2/20190502T102029_20190502T103323_T31QDV\n",
            "COPERNICUS/S2/20190502T102029_20190502T103323_T31QEB\n",
            "COPERNICUS/S2/20190502T102029_20190502T103323_T31QEC\n",
            "COPERNICUS/S2/20190502T102029_20190502T103323_T31QED\n",
            "COPERNICUS/S2/20190502T102029_20190502T103323_T31QEE\n",
            "COPERNICUS/S2/20190502T102029_20190502T103323_T31QEF\n",
            "COPERNICUS/S2/20190502T102029_20190502T103323_T31QEG\n",
            "COPERNICUS/S2/20190502T102029_20190502T103323_T31QFF\n",
            "COPERNICUS/S2/20190502T102029_20190502T103323_T31QFG\n",
            "COPERNICUS/S2/20190502T102029_20190502T103323_T31RCH\n",
            "COPERNICUS/S2/20190502T102029_20190502T103323_T31RCJ\n",
            "COPERNICUS/S2/20190502T102029_20190502T103323_T31RCK\n",
            "COPERNICUS/S2/20190502T102029_20190502T103323_T31RDH\n",
            "COPERNICUS/S2/20190502T102029_20190502T103323_T31RDJ\n",
            "COPERNICUS/S2/20190502T102029_20190502T103323_T31RDK\n",
            "COPERNICUS/S2/20190502T102029_20190502T103323_T31RDL\n",
            "COPERNICUS/S2/20190502T102029_20190502T103323_T31REH\n",
            "COPERNICUS/S2/20190502T102029_20190502T103323_T31REJ\n",
            "COPERNICUS/S2/20190502T102029_20190502T103323_T31REK\n",
            "COPERNICUS/S2/20190502T102029_20190502T103323_T31REL\n",
            "COPERNICUS/S2/20190502T102029_20190502T103323_T31RFH\n",
            "COPERNICUS/S2/20190502T102029_20190502T103323_T31RFJ\n",
            "COPERNICUS/S2/20190502T102029_20190502T103323_T31RFK\n",
            "COPERNICUS/S2/20190502T102029_20190502T103323_T31RFL\n",
            "COPERNICUS/S2/20190502T102029_20190502T103323_T31RGK\n",
            "COPERNICUS/S2/20190502T102029_20190502T103323_T31RGL\n"
          ]
        },
        {
          "output_type": "execute_result",
          "data": {
            "text/plain": [
              "{'type': 'Image',\n",
              " 'bands': [{'id': 'B2',\n",
              "   'data_type': {'type': 'PixelType',\n",
              "    'precision': 'double',\n",
              "    'min': 0,\n",
              "    'max': 65535},\n",
              "   'crs': 'EPSG:4326',\n",
              "   'crs_transform': [1, 0, 0, 0, 1, 0]},\n",
              "  {'id': 'B3',\n",
              "   'data_type': {'type': 'PixelType',\n",
              "    'precision': 'double',\n",
              "    'min': 0,\n",
              "    'max': 65535},\n",
              "   'crs': 'EPSG:4326',\n",
              "   'crs_transform': [1, 0, 0, 0, 1, 0]},\n",
              "  {'id': 'B4',\n",
              "   'data_type': {'type': 'PixelType',\n",
              "    'precision': 'double',\n",
              "    'min': 0,\n",
              "    'max': 65535},\n",
              "   'crs': 'EPSG:4326',\n",
              "   'crs_transform': [1, 0, 0, 0, 1, 0]},\n",
              "  {'id': 'B8',\n",
              "   'data_type': {'type': 'PixelType',\n",
              "    'precision': 'double',\n",
              "    'min': 0,\n",
              "    'max': 65535},\n",
              "   'crs': 'EPSG:4326',\n",
              "   'crs_transform': [1, 0, 0, 0, 1, 0]},\n",
              "  {'id': 'B11',\n",
              "   'data_type': {'type': 'PixelType',\n",
              "    'precision': 'double',\n",
              "    'min': 0,\n",
              "    'max': 65535},\n",
              "   'crs': 'EPSG:4326',\n",
              "   'crs_transform': [1, 0, 0, 0, 1, 0]},\n",
              "  {'id': 'B12',\n",
              "   'data_type': {'type': 'PixelType',\n",
              "    'precision': 'double',\n",
              "    'min': 0,\n",
              "    'max': 65535},\n",
              "   'crs': 'EPSG:4326',\n",
              "   'crs_transform': [1, 0, 0, 0, 1, 0]}]}"
            ]
          },
          "metadata": {},
          "execution_count": 18
        }
      ],
      "source": [
        "# From GEE\n",
        "#training_vectors.total_bounds.tolist()\n",
        "aoi = ee.Geometry.Rectangle(training_vectors.total_bounds.tolist())\n",
        "band_sel = ('B2', 'B3', 'B4', 'B8', 'B11', 'B12')\n",
        "\n",
        "sentinel_scenes = ee.ImageCollection(\"COPERNICUS/S2\")\\\n",
        "    .filterBounds(aoi)\\\n",
        "    .filterDate('2019-05-02', '2019-05-03')\\\n",
        "    .select(band_sel)\n",
        "\n",
        "scenes = sentinel_scenes.getInfo()\n",
        "[print(scene['id']) for scene in scenes[\"features\"]]\n",
        "\n",
        "sentinel_mosaic = sentinel_scenes.mean().rename(band_sel)\n",
        "\n",
        "sentinel_mosaic.getInfo()"
      ]
    },
    {
      "cell_type": "markdown",
      "metadata": {
        "id": "yiBJiZaWT2op"
      },
      "source": [
        "# Display GEE objects using folium."
      ]
    },
    {
      "cell_type": "code",
      "execution_count": 19,
      "metadata": {
        "id": "vVA-4FbvT9fN"
      },
      "outputs": [],
      "source": [
        "# To make a map we first need some helper functions\n",
        "\n",
        "# Define the URL format used for Earth Engine generated map tiles.\n",
        "EE_TILES = 'https://earthengine.googleapis.com/map/{mapid}/{{z}}/{{x}}/{{y}}?token={token}'\n",
        "\n",
        "#@title Mapdisplay: Display GEE objects using folium.\n",
        "def Mapdisplay(center, dicc, Tiles=\"OpensTreetMap\",zoom_start=10):\n",
        "    '''\n",
        "    :param center: Center of the map (Latitude and Longitude).\n",
        "    :param dicc: Earth Engine Geometries or Tiles dictionary\n",
        "    :param Tiles: Mapbox Bright,Mapbox Control Room,Stamen Terrain,Stamen Toner,stamenwatercolor,cartodbpositron.\n",
        "    :zoom_start: Initial zoom level for the map.\n",
        "    :return: A folium.Map object.\n",
        "    '''\n",
        "    mapViz = folium.Map(location=center,tiles=Tiles, zoom_start=zoom_start)\n",
        "    for k,v in dicc.items():\n",
        "      if gpd.geodataframe.GeoDataFrame == type(v):\n",
        "        folium.GeoJson(\n",
        "        data = v,\n",
        "        name = k\n",
        "          ).add_to(mapViz) \n",
        "      elif ee.image.Image in [type(x) for x in v.values()]:\n",
        "        folium.TileLayer(\n",
        "            tiles = v[\"tile_fetcher\"].url_format,\n",
        "            attr  = 'Google Earth Engine',\n",
        "            overlay =True,\n",
        "            name  = k\n",
        "          ).add_to(mapViz)\n",
        "      else:\n",
        "        folium.GeoJson(\n",
        "        data = v,\n",
        "        name = k\n",
        "          ).add_to(mapViz)\n",
        "    mapViz.add_child(folium.LayerControl())\n",
        "    return mapViz"
      ]
    },
    {
      "cell_type": "code",
      "execution_count": 21,
      "metadata": {
        "id": "SbuGf-l-UERL"
      },
      "outputs": [],
      "source": [
        "s2_vis_params = {\n",
        "  'bands': ['B4', 'B3', 'B2'],\n",
        "  'min': 0,\n",
        "  'max': 3000,\n",
        "}\n",
        "\n",
        "Mapdisplay(center=[center.y, center.x],\n",
        "           dicc={'S2':sentinel_mosaic.getMapId(s2_vis_params),\n",
        "                 'TrainingData':training_vectors}, \n",
        "           zoom_start=12)"
      ]
    },
    {
      "cell_type": "markdown",
      "metadata": {
        "id": "60bqhgNcUNj4"
      },
      "source": [
        "# Exporting Image as GeoTiff and save in the drive\n",
        "- Since our analysis method  will happen outside of GEE, we will be exporting the search results to a Cloud Optimized Geotiff,\n",
        "\n",
        "- Geotiff is a common GIS format for rasters data."
      ]
    },
    {
      "cell_type": "code",
      "execution_count": 51,
      "metadata": {
        "id": "jdvh2-emUsTi"
      },
      "outputs": [],
      "source": [
        "from IPython.core.display import Image\n",
        "# We will save it to Google Drive for later reuse\n",
        "raster_name = op.join(data_dir,\"Sentinel_mosaic-Milan_Italy\")\n",
        "saver = Image.Saver()\n",
        "save_path =saver.save(session,\"data/mosaic.tf\")\n",
        "print('done saving at',save_path)"
      ]
    },
    {
      "cell_type": "code",
      "execution_count": 52,
      "metadata": {
        "id": "EsuZv42inoYV"
      },
      "outputs": [],
      "source": [
        "# Export the image, specifying scale and region.\n",
        "# Warning, This specific export takes at least 1 hour, and 700+ MB\n",
        "# There may be a bug here, not sure GEE export can write to a folder beyond depth 1 in a google drive\n",
        "task = ee.batch.Export.image.toDrive(**{\n",
        "    'image': sentinel_mosaic,\n",
        "    'description': 'Milan_Italy_2019',\n",
        "    'folder': my_root_dir,\n",
        "    'fileNamePrefix':raster_name,\n",
        "    'scale': 10,\n",
        "    'region': aoi,\n",
        "    'crs': 'EPSG:4326',\n",
        "    'fileFormat': 'GeoTIFF',\n",
        "    'formatOptions': {\n",
        "      'cloudOptimized': 'true'\n",
        "    },\n",
        "})\n",
        "\n",
        "# This task will run in the background even if you close this notebook.\n",
        "# You can also check on the status of the task through the Javascript GEE interface\n",
        "# https://code.earthengine.google.com\n",
        "task.start()"
      ]
    },
    {
      "cell_type": "code",
      "execution_count": 53,
      "metadata": {
        "id": "emO3xaj0W3FS",
        "colab": {
          "base_uri": "https://localhost:8080/"
        },
        "outputId": "d18cb17b-2d99-4435-b7fa-9288609b2f56"
      },
      "outputs": [
        {
          "output_type": "stream",
          "name": "stdout",
          "text": [
            "Polling for task (id: KRUSQCQN5RUWBV32TDPR3LK6).\n"
          ]
        }
      ],
      "source": [
        "# If you want to keep track of the export you can run this code\n",
        "# However if run this, you will need to wait for it to finish before running additional code\n",
        "\n",
        "import time \n",
        "while task.active():\n",
        "  print('Polling for task (id: {}).'.format(task.id))\n",
        "  time.sleep(5)"
      ]
    },
    {
      "cell_type": "code",
      "execution_count": 54,
      "metadata": {
        "id": "o1PPFfAtbBkW",
        "colab": {
          "base_uri": "https://localhost:8080/"
        },
        "outputId": "df47e270-0915-4f43-c3a5-03ec117f9af1"
      },
      "outputs": [
        {
          "output_type": "stream",
          "name": "stdout",
          "text": [
            "/content/drive/MyDrive/Colab Notebooks/data/Sentinel_mosaic-Milan_Italy.tif\n"
          ]
        }
      ],
      "source": [
        "# Reference the raster on disk.\n",
        "raster_path = op.join(my_root_dir, raster_name)\n",
        "raster_file = \".\".join([raster_path, \"tif\"])\n",
        "# Alternate reference already prepared file on Google Drive, uncomment next line to use\n",
        "#raster_file = '/content/drive/Shared drives/servir-sat-ml/data/Trans_nzoia_2019_05-02.tif'\n",
        "\n",
        "print(raster_file)"
      ]
    },
    {
      "cell_type": "markdown",
      "metadata": {
        "id": "x4qBNjg7bMyp"
      },
      "source": [
        "# Model training\n",
        "\n",
        "- Lets  traine a model to identify classes of land use based on the training data and the satellite imagery"
      ]
    },
    {
      "cell_type": "markdown",
      "metadata": {
        "id": "RqEuYQm1be7a"
      },
      "source": [
        "## Prepare Data\n",
        "\n",
        "- First do some preparation to organize the training data into the correct python types, and to extract sample pixels from the intersecting imagery."
      ]
    },
    {
      "cell_type": "code",
      "execution_count": 55,
      "metadata": {
        "id": "XeSJemitbruR",
        "colab": {
          "base_uri": "https://localhost:8080/"
        },
        "outputId": "320edd07-ff16-46dc-e7e2-2a4f240b0238"
      },
      "outputs": [
        {
          "output_type": "execute_result",
          "data": {
            "text/plain": [
              "array(['0', 'barley', 'broad bean', 'chick-peas',\n",
              "       'common spring wheat and spelt', 'common wheat',\n",
              "       'common winter wheat and spelt', 'dried kidney bean',\n",
              "       'durum wheat', 'early potatoes', 'grain maize', 'grain pea',\n",
              "       'lentil', 'oats',\n",
              "       'oats and spring cereal mixtures (mixed grain other than maslin)',\n",
              "       'other cereals', 'potatoes', 'protein pea', 'rice', 'rye',\n",
              "       'rye and winter cereal mixtures (maslin)', 'sorghum',\n",
              "       'spring barley',\n",
              "       'spring cereal mixtures (mixed grain other than maslin)',\n",
              "       'sugar beet', 'sweet lupin', 'sweet potatoes', 'titicale',\n",
              "       'winter barley', 'winter cereal mixtures (maslin)'], dtype=object)"
            ]
          },
          "metadata": {},
          "execution_count": 55
        }
      ],
      "source": [
        "# find all unique values of training data names to use as classes\n",
        "classes = np.unique(training_vectors.Type_crop)\n",
        "classes"
      ]
    },
    {
      "cell_type": "code",
      "execution_count": 56,
      "metadata": {
        "id": "Jt57ETDbcIuW",
        "colab": {
          "base_uri": "https://localhost:8080/"
        },
        "outputId": "7fb8cd2d-1290-49fa-d6cc-50f0ac3a260f"
      },
      "outputs": [
        {
          "output_type": "execute_result",
          "data": {
            "text/plain": [
              "{'0': 0,\n",
              " 'barley': 1,\n",
              " 'broad bean': 2,\n",
              " 'chick-peas': 3,\n",
              " 'common spring wheat and spelt': 4,\n",
              " 'common wheat': 5,\n",
              " 'common winter wheat and spelt': 6,\n",
              " 'dried kidney bean': 7,\n",
              " 'durum wheat': 8,\n",
              " 'early potatoes': 9,\n",
              " 'grain maize': 10,\n",
              " 'grain pea': 11,\n",
              " 'lentil': 12,\n",
              " 'oats': 13,\n",
              " 'oats and spring cereal mixtures (mixed grain other than maslin)': 14,\n",
              " 'other cereals': 15,\n",
              " 'potatoes': 16,\n",
              " 'protein pea': 17,\n",
              " 'rice': 18,\n",
              " 'rye': 19,\n",
              " 'rye and winter cereal mixtures (maslin)': 20,\n",
              " 'sorghum': 21,\n",
              " 'spring barley': 22,\n",
              " 'spring cereal mixtures (mixed grain other than maslin)': 23,\n",
              " 'sugar beet': 24,\n",
              " 'sweet lupin': 25,\n",
              " 'sweet potatoes': 26,\n",
              " 'titicale': 27,\n",
              " 'winter barley': 28,\n",
              " 'winter cereal mixtures (maslin)': 29}"
            ]
          },
          "metadata": {},
          "execution_count": 56
        }
      ],
      "source": [
        "# create a dictionary to convert class names into integers for modeling\n",
        "class_dict = dict(zip(classes, range(len(classes))))\n",
        "class_dict   "
      ]
    },
    {
      "cell_type": "markdown",
      "metadata": {
        "id": "7TeoYQROcXhQ"
      },
      "source": [
        "## Extracting values\n",
        "- Lets loop through the training classes and their polygons reading the imagery raster extracting values."
      ]
    },
    {
      "cell_type": "code",
      "execution_count": 57,
      "metadata": {
        "id": "PrAP6ZMWcovo",
        "colab": {
          "base_uri": "https://localhost:8080/",
          "height": 641
        },
        "outputId": "e32a66c3-2c22-4e74-dced-885990ca297c"
      },
      "outputs": [
        {
          "output_type": "error",
          "ename": "RasterioIOError",
          "evalue": "ignored",
          "traceback": [
            "\u001b[0;31m---------------------------------------------------------------------------\u001b[0m",
            "\u001b[0;31mCPLE_OpenFailedError\u001b[0m                      Traceback (most recent call last)",
            "\u001b[0;32mrasterio/_base.pyx\u001b[0m in \u001b[0;36mrasterio._base.DatasetBase.__init__\u001b[0;34m()\u001b[0m\n",
            "\u001b[0;32mrasterio/_shim.pyx\u001b[0m in \u001b[0;36mrasterio._shim.open_dataset\u001b[0;34m()\u001b[0m\n",
            "\u001b[0;32mrasterio/_err.pyx\u001b[0m in \u001b[0;36mrasterio._err.exc_wrap_pointer\u001b[0;34m()\u001b[0m\n",
            "\u001b[0;31mCPLE_OpenFailedError\u001b[0m: /content/drive/MyDrive/Colab Notebooks/data/Sentinel_mosaic-Milan_Italy.tif: No such file or directory",
            "\nDuring handling of the above exception, another exception occurred:\n",
            "\u001b[0;31mRasterioIOError\u001b[0m                           Traceback (most recent call last)",
            "\u001b[0;32m<ipython-input-57-990d72076392>\u001b[0m in \u001b[0;36m<module>\u001b[0;34m\u001b[0m\n\u001b[1;32m      7\u001b[0m \u001b[0mX_raw\u001b[0m \u001b[0;34m=\u001b[0m \u001b[0;34m[\u001b[0m\u001b[0;34m]\u001b[0m\u001b[0;34m\u001b[0m\u001b[0;34m\u001b[0m\u001b[0m\n\u001b[1;32m      8\u001b[0m \u001b[0my_raw\u001b[0m \u001b[0;34m=\u001b[0m \u001b[0;34m[\u001b[0m\u001b[0;34m]\u001b[0m\u001b[0;34m\u001b[0m\u001b[0;34m\u001b[0m\u001b[0m\n\u001b[0;32m----> 9\u001b[0;31m \u001b[0;32mwith\u001b[0m \u001b[0mrasterio\u001b[0m\u001b[0;34m.\u001b[0m\u001b[0mopen\u001b[0m\u001b[0;34m(\u001b[0m\u001b[0mraster_file\u001b[0m\u001b[0;34m,\u001b[0m \u001b[0;34m'r'\u001b[0m\u001b[0;34m)\u001b[0m \u001b[0;32mas\u001b[0m \u001b[0msrc\u001b[0m\u001b[0;34m:\u001b[0m\u001b[0;34m\u001b[0m\u001b[0;34m\u001b[0m\u001b[0m\n\u001b[0m\u001b[1;32m     10\u001b[0m     \u001b[0;32mfor\u001b[0m \u001b[0;34m(\u001b[0m\u001b[0mlabel\u001b[0m\u001b[0;34m,\u001b[0m \u001b[0mgeom\u001b[0m\u001b[0;34m)\u001b[0m \u001b[0;32min\u001b[0m \u001b[0mzip\u001b[0m\u001b[0;34m(\u001b[0m\u001b[0mtraining_vectors\u001b[0m\u001b[0;34m.\u001b[0m\u001b[0mType_crop\u001b[0m\u001b[0;34m,\u001b[0m \u001b[0mtraining_vectors\u001b[0m\u001b[0;34m.\u001b[0m\u001b[0mgeometry\u001b[0m\u001b[0;34m)\u001b[0m\u001b[0;34m:\u001b[0m\u001b[0;34m\u001b[0m\u001b[0;34m\u001b[0m\u001b[0m\n\u001b[1;32m     11\u001b[0m \u001b[0;34m\u001b[0m\u001b[0m\n",
            "\u001b[0;32m/usr/local/lib/python3.7/dist-packages/rasterio/env.py\u001b[0m in \u001b[0;36mwrapper\u001b[0;34m(*args, **kwds)\u001b[0m\n\u001b[1;32m    435\u001b[0m \u001b[0;34m\u001b[0m\u001b[0m\n\u001b[1;32m    436\u001b[0m         \u001b[0;32mwith\u001b[0m \u001b[0menv_ctor\u001b[0m\u001b[0;34m(\u001b[0m\u001b[0msession\u001b[0m\u001b[0;34m=\u001b[0m\u001b[0msession\u001b[0m\u001b[0;34m)\u001b[0m\u001b[0;34m:\u001b[0m\u001b[0;34m\u001b[0m\u001b[0;34m\u001b[0m\u001b[0m\n\u001b[0;32m--> 437\u001b[0;31m             \u001b[0;32mreturn\u001b[0m \u001b[0mf\u001b[0m\u001b[0;34m(\u001b[0m\u001b[0;34m*\u001b[0m\u001b[0margs\u001b[0m\u001b[0;34m,\u001b[0m \u001b[0;34m**\u001b[0m\u001b[0mkwds\u001b[0m\u001b[0;34m)\u001b[0m\u001b[0;34m\u001b[0m\u001b[0;34m\u001b[0m\u001b[0m\n\u001b[0m\u001b[1;32m    438\u001b[0m \u001b[0;34m\u001b[0m\u001b[0m\n\u001b[1;32m    439\u001b[0m     \u001b[0;32mreturn\u001b[0m \u001b[0mwrapper\u001b[0m\u001b[0;34m\u001b[0m\u001b[0;34m\u001b[0m\u001b[0m\n",
            "\u001b[0;32m/usr/local/lib/python3.7/dist-packages/rasterio/__init__.py\u001b[0m in \u001b[0;36mopen\u001b[0;34m(fp, mode, driver, width, height, count, crs, transform, dtype, nodata, sharing, **kwargs)\u001b[0m\n\u001b[1;32m    218\u001b[0m         \u001b[0;31m# None.\u001b[0m\u001b[0;34m\u001b[0m\u001b[0;34m\u001b[0m\u001b[0;34m\u001b[0m\u001b[0m\n\u001b[1;32m    219\u001b[0m         \u001b[0;32mif\u001b[0m \u001b[0mmode\u001b[0m \u001b[0;34m==\u001b[0m \u001b[0;34m'r'\u001b[0m\u001b[0;34m:\u001b[0m\u001b[0;34m\u001b[0m\u001b[0;34m\u001b[0m\u001b[0m\n\u001b[0;32m--> 220\u001b[0;31m             \u001b[0ms\u001b[0m \u001b[0;34m=\u001b[0m \u001b[0mDatasetReader\u001b[0m\u001b[0;34m(\u001b[0m\u001b[0mpath\u001b[0m\u001b[0;34m,\u001b[0m \u001b[0mdriver\u001b[0m\u001b[0;34m=\u001b[0m\u001b[0mdriver\u001b[0m\u001b[0;34m,\u001b[0m \u001b[0msharing\u001b[0m\u001b[0;34m=\u001b[0m\u001b[0msharing\u001b[0m\u001b[0;34m,\u001b[0m \u001b[0;34m**\u001b[0m\u001b[0mkwargs\u001b[0m\u001b[0;34m)\u001b[0m\u001b[0;34m\u001b[0m\u001b[0;34m\u001b[0m\u001b[0m\n\u001b[0m\u001b[1;32m    221\u001b[0m         \u001b[0;32melif\u001b[0m \u001b[0mmode\u001b[0m \u001b[0;34m==\u001b[0m \u001b[0;34m\"r+\"\u001b[0m\u001b[0;34m:\u001b[0m\u001b[0;34m\u001b[0m\u001b[0;34m\u001b[0m\u001b[0m\n\u001b[1;32m    222\u001b[0m             s = get_writer_for_path(path, driver=driver)(\n",
            "\u001b[0;32mrasterio/_base.pyx\u001b[0m in \u001b[0;36mrasterio._base.DatasetBase.__init__\u001b[0;34m()\u001b[0m\n",
            "\u001b[0;31mRasterioIOError\u001b[0m: /content/drive/MyDrive/Colab Notebooks/data/Sentinel_mosaic-Milan_Italy.tif: No such file or directory"
          ]
        }
      ],
      "source": [
        "# raster information\n",
        "# a custom function for getting each value from the raster\n",
        "def all_values(x):\n",
        "    return x\n",
        "\n",
        "# this larger cell reads data from a raster file for each training vector\n",
        "X_raw = []\n",
        "y_raw = []\n",
        "with rasterio.open(raster_file, 'r') as src:\n",
        "    for (label, geom) in zip(training_vectors.Type_crop, training_vectors.geometry):\n",
        "        \n",
        "        # read the raster data matching the geometry bounds\n",
        "        window = bounds_window(geom.bounds, src.transform)\n",
        "        # store our window information\n",
        "        window_affine = src.window_transform(window)\n",
        "        fsrc = src.read(window=window)\n",
        "        # rasterize the geometry into the larger shape and affine\n",
        "        mask = rasterize(\n",
        "            [(geom, 1)],\n",
        "            out_shape=fsrc.shape[1:],\n",
        "            transform=window_affine,\n",
        "            fill=0,\n",
        "            dtype='uint8',\n",
        "            all_touched=True\n",
        "        ).astype(bool)\n",
        "        \n",
        "        # for each label pixel (places where the mask is true)\n",
        "        label_pixels = np.argwhere(mask)\n",
        "        \n",
        "        for (row, col) in label_pixels:\n",
        "            # add a pixel of data to X\n",
        "            data = fsrc[:,row,col]\n",
        "            one_x = np.nan_to_num(data, nan=1e-3)\n",
        "            X_raw.append(one_x)\n",
        "            # add the label to y\n",
        "            y_raw.append(class_dict[label])"
      ]
    },
    {
      "cell_type": "code",
      "execution_count": null,
      "metadata": {
        "id": "2Xv7IHWeqYIX"
      },
      "outputs": [],
      "source": [
        "# convert the training data lists into the appropriate numpy array shape and format for scikit-learn\n",
        "X = np.array(X_raw)\n",
        "y = np.array(y_raw)\n",
        "(X.shape, y.shape)"
      ]
    },
    {
      "cell_type": "markdown",
      "metadata": {
        "id": "kwHEqaWyqdZ5"
      },
      "source": [
        "# Calculayting some Indexs\n",
        "\n",
        "- In addition to the raw pixel values we will calculated a couple of indices that help in some classifications.\n",
        "\n",
        "- [Normalized Difference Vegetation Index (NDVI)]() - great for identiying photosynthesizing plants.\n",
        "- [Normalized Difference Water Index (NDWI)]() - great for identifying open water "
      ]
    },
    {
      "cell_type": "code",
      "execution_count": null,
      "metadata": {
        "id": "ssU6f6Kwq8nS"
      },
      "outputs": [],
      "source": [
        "# helper function for calculating ND*I indices (bands in the final dimension)\n",
        "def band_index(arr, a, b):\n",
        "    return np.expand_dims((arr[..., a] - arr[..., b]) / (arr[..., a] + arr[..., b]), axis=1)\n",
        "\n",
        "ndvi = band_index(X, 3, 2)\n",
        "ndwi = band_index(X, 1, 3)\n",
        "\n",
        "X = np.concatenate([X, ndvi, ndwi], axis=1)\n",
        "X.shape"
      ]
    },
    {
      "cell_type": "markdown",
      "metadata": {
        "id": "eVnxHBdGrA7f"
      },
      "source": [
        "## Data spliting \n",
        "\n",
        "- split 20% of the data to reserve for testing the quality of the trained model."
      ]
    },
    {
      "cell_type": "code",
      "execution_count": null,
      "metadata": {
        "id": "F9AlMG5_rL5F"
      },
      "outputs": [],
      "source": [
        "# split the data into test and train sets\n",
        "X_train, X_test, y_train, y_test = train_test_split(X, y, test_size=0.2, random_state=42)"
      ]
    },
    {
      "cell_type": "markdown",
      "metadata": {
        "id": "2DU8S1AlrUZu"
      },
      "source": [
        "## Mode; Adjustment \n",
        "\n",
        "- Since traing data are same  for each class,calculate the relative quantities and tell the model so it can adjust to reduce bias"
      ]
    },
    {
      "cell_type": "code",
      "execution_count": null,
      "metadata": {
        "id": "Sto6DX0Arw3j"
      },
      "outputs": [],
      "source": [
        "# calculate class weights to allow for training on inbalanced training samples\n",
        "labels, counts = np.unique(y_train, return_counts=True)\n",
        "class_weight_dict = dict(zip(labels, 1 / counts))\n",
        "class_weight_dict"
      ]
    },
    {
      "cell_type": "markdown",
      "metadata": {
        "id": "vMg14Xgmr1sj"
      },
      "source": [
        "# Train RandomForest"
      ]
    },
    {
      "cell_type": "code",
      "execution_count": null,
      "metadata": {
        "id": "eAo0xiMAr7Zj"
      },
      "outputs": [],
      "source": [
        " #initialize a RandomForestClassifier\n",
        "clf = RandomForestClassifier(\n",
        "    n_estimators=200,\n",
        "    class_weight=class_weight_dict,\n",
        "    max_depth=6,\n",
        "    n_jobs=-1,\n",
        "    verbose=1,\n",
        "    random_state=0)\n"
      ]
    },
    {
      "cell_type": "code",
      "execution_count": null,
      "metadata": {
        "id": "FbKimBNGr_oe"
      },
      "outputs": [],
      "source": [
        "# fit the model to the data (training)\n",
        "clf.fit(X, y)"
      ]
    },
    {
      "cell_type": "code",
      "execution_count": null,
      "metadata": {
        "id": "KVVMi0vysLAC"
      },
      "outputs": [],
      "source": [
        "# predict on X_test to evaluate the model\n",
        "preds = clf.predict(X_test)\n",
        "cm = confusion_matrix(y_test, preds, labels=labels)"
      ]
    },
    {
      "cell_type": "code",
      "execution_count": null,
      "metadata": {
        "id": "wyqTrVyMsPqM"
      },
      "outputs": [],
      "source": [
        "# (optional) save the trained model as python pickle file\n",
        "model_name = op.join(my_root_dir,'random_forest.sav')\n",
        "with open(model_name, 'wb') as modelfile:\n",
        "    pickle.dump(clf, modelfile)"
      ]
    },
    {
      "cell_type": "markdown",
      "metadata": {
        "id": "IpIp1H_esS_N"
      },
      "source": [
        "### Assess the Model\n",
        "\n",
        "- A confusion matrix shows a comparision between what the class is based on the test data, and what the model predicted it to be.\n",
        "\n",
        "-  Low numbers are good.\n",
        "\n",
        "-  The diagonal from top left to bottom right, is a class compared to itself should be high. Values range from 0 to 1."
      ]
    },
    {
      "cell_type": "code",
      "execution_count": null,
      "metadata": {
        "id": "pBDuz5MssuZo"
      },
      "outputs": [],
      "source": [
        "# plot the confusion matrix\n",
        "%matplotlib inline\n",
        "cm = cm.astype('float') / cm.sum(axis=1)[:, np.newaxis]\n",
        "fig, ax = plt.subplots(figsize=(10, 10))\n",
        "im = ax.imshow(cm, interpolation='nearest', cmap=plt.cm.Blues)\n",
        "ax.figure.colorbar(im, ax=ax)\n",
        "\n",
        "# We want to show all ticks...\n",
        "ax.set(xticks=np.arange(cm.shape[1]),\n",
        "       yticks=np.arange(cm.shape[0]),\n",
        "       # ... and label them with the respective list entries\n",
        "       xticklabels=classes, yticklabels=classes,\n",
        "       title='Normalized Confusion Matrix',\n",
        "       ylabel='True label',\n",
        "       xlabel='Predicted label')\n",
        "\n",
        "# Rotate the tick labels and set their alignment.\n",
        "plt.setp(ax.get_xticklabels(), rotation=45, ha=\"right\",\n",
        "         rotation_mode=\"anchor\")\n",
        "\n",
        "# Loop over data dimensions and create text annotations.\n",
        "fmt = '.2f'\n",
        "thresh = cm.max() / 2.\n",
        "for i in range(cm.shape[0]):\n",
        "    for j in range(cm.shape[1]):\n",
        "        ax.text(j, i, format(cm[i, j], fmt),\n",
        "                ha=\"center\", va=\"center\",\n",
        "                color=\"white\" if cm[i, j] > thresh else \"black\")\n",
        "fig.tight_layout()"
      ]
    },
    {
      "cell_type": "markdown",
      "metadata": {
        "id": "ARDgPUw2szpB"
      },
      "source": [
        "- we can see the most often confused classes are ----, ---, and ---."
      ]
    },
    {
      "cell_type": "code",
      "execution_count": null,
      "metadata": {
        "id": "YMpa1KDasird"
      },
      "outputs": [],
      "source": [
        "# predict again with the tree interpreter to see how much each band contributes to the classification\n",
        "sample = 100\n",
        "prediction, bias, contributions = ti.predict(clf, X_test[:sample])\n",
        "c = np.sum(contributions, axis=0)"
      ]
    },
    {
      "cell_type": "code",
      "execution_count": null,
      "metadata": {
        "id": "18L2-bkJtGg7"
      },
      "outputs": [],
      "source": [
        "# plot the contributions\n",
        "band_names = ['Blue', 'Green', 'Red', 'NIR', 'SWIR1', 'SWIR2', 'NDVI', 'NDWI']\n",
        "\n",
        "gdf = gpd.GeoDataFrame(c, columns=classes, index=band_names)\n",
        "gdf.style.background_gradient(cmap='viridis')"
      ]
    },
    {
      "cell_type": "markdown",
      "metadata": {
        "id": "HeY4m2gftL90"
      },
      "source": [
        "# Using the Model"
      ]
    },
    {
      "cell_type": "markdown",
      "metadata": {
        "id": "ABAVZBfstQSK"
      },
      "source": [
        "## Generate predictions over the full image\n",
        "\n",
        "- since we've trained and tested the model over the existing data we can use the trained RandomForestClassifier `clf` over a whole satellite image that covers a larger geospatial location. \n",
        "\n",
        "- We can split the job into small tiles to optimize the compute power and potentially do the classification in parallel."
      ]
    },
    {
      "cell_type": "code",
      "execution_count": null,
      "metadata": {
        "id": "j6hm2L-4tkRe"
      },
      "outputs": [],
      "source": [
        "# in this case, we predict over the entire input image\n",
        "# (only small portions were used for training)\n",
        "new_image = raster_file\n",
        "\n",
        "# specify the output\n",
        "output_image = op.join(my_root_dir, \"classification.tif\")\n",
        "\n",
        "with rasterio.open(new_image, 'r') as src:\n",
        "    profile = src.profile\n",
        "    profile.update(\n",
        "        dtype=rasterio.uint8,\n",
        "        count=1,\n",
        "    )\n",
        "    with rasterio.open(output_image, 'w', **profile) as dst:\n",
        "\n",
        "        # perform prediction on each small image patch to minimize required memory\n",
        "        patch_size = 500\n",
        "\n",
        "        for i in range((src.shape[0] // patch_size) + 1):\n",
        "            for j in range((src.shape[1] // patch_size) + 1):\n",
        "                # define the pixels to read (and write) with rasterio windows reading\n",
        "                window = rasterio.windows.Window(\n",
        "                    j * patch_size,\n",
        "                    i * patch_size,\n",
        "                    # don't read past the image bounds\n",
        "                    min(patch_size, src.shape[1] - j * patch_size),\n",
        "                    min(patch_size, src.shape[0] - i * patch_size))\n",
        "                \n",
        "                # read the image into the proper format\n",
        "                data = src.read(window=window)\n",
        "                \n",
        "                # adding indices if necessary\n",
        "                img_swp = np.moveaxis(data, 0, 2)\n",
        "                img_flat = img_swp.reshape(-1, img_swp.shape[-1])\n",
        "\n",
        "                img_ndvi = band_index(img_flat, 3, 2)\n",
        "                img_ndwi = band_index(img_flat, 1, 3)\n",
        "\n",
        "                img_w_ind = np.concatenate([img_flat, img_ndvi, img_ndwi], axis=1)\n",
        "\n",
        "                # remove no data values, store the indices for later use\n",
        "                m = np.ma.masked_invalid(img_w_ind)\n",
        "                to_predict = img_w_ind[~m.mask].reshape(-1, img_w_ind.shape[-1])\n",
        "\n",
        "                # skip empty inputs\n",
        "                if not len(to_predict):\n",
        "                    continue\n",
        "                # predict\n",
        "                img_preds = clf.predict(to_predict)\n",
        "\n",
        "                # add the prediction back to the valid pixels (using only the first band of the mask to decide on validity)\n",
        "                # makes the assumption that all bands have identical no-data value arrangements\n",
        "                output = np.zeros(img_flat.shape[0])\n",
        "                output[~m.mask[:, 0]] = img_preds.flatten()\n",
        "                # resize to the original image dimensions\n",
        "                output = output.reshape(*img_swp.shape[:-1])\n",
        "\n",
        "                # create our final mask\n",
        "                mask = (~m.mask[:, 0]).reshape(*img_swp.shape[:-1])\n",
        "\n",
        "                # write to the final files\n",
        "                dst.write(output.astype(rasterio.uint8), 1, window=window)\n",
        "                dst.write_mask(mask, window=window)"
      ]
    },
    {
      "cell_type": "markdown",
      "metadata": {
        "id": "n2rq8z9Ftnpm"
      },
      "source": [
        "## Make a Map"
      ]
    },
    {
      "cell_type": "code",
      "execution_count": null,
      "metadata": {
        "id": "6uHMvFEft373"
      },
      "outputs": [],
      "source": [
        "### Visualize the results\n",
        "import matplotlib.pyplot as plt\n",
        "from rasterio.plot import show\n",
        "%matplotlib inline\n",
        "\n",
        "# Load the original image\n",
        "# Load the classification\n",
        "\n",
        "output_image = '/content/drive/MyDrive/Colab Notebooks/data/RF_classification.tif'\n",
        "\n",
        "def linear_rescale(image, in_range=(0, 1), out_range=(1, 255)):\n",
        "    imin, imax = in_range\n",
        "    omin, omax = out_range\n",
        "    image = np.clip(image, imin, imax) - imin\n",
        "    image = image / np.float(imax - imin)\n",
        "    return image * (omax - omin) + omin\n",
        "\n",
        "with rasterio.open(output_image, 'r') as class_raster:\n",
        "#  show(class_raster)\n",
        "  classes = class_raster.read()\n",
        "\n",
        "# Compare side by side\n",
        "with rasterio.open(raster_file, 'r') as s2_raster:\n",
        "#  show(s2_raster)\n",
        "  s2 = s2_raster.read([1,2,3])\n",
        "  for band in range(s2.shape[0]):\n",
        "    s2[band] = linear_rescale(\n",
        "            s2[band], \n",
        "            in_range=(0, 3000), \n",
        "            out_range=[0, 255]\n",
        "        )\n",
        "  s2 = s2.astype(np.uint8)\n",
        "  #print(s2.shape)\n",
        "\n",
        "fig, (ax1, ax2) = plt.subplots(ncols=2, nrows=1, figsize=(10, 4), sharey=True)\n",
        "show(classes, transform=class_raster.transform, ax=ax1)\n",
        "show(s2[[2,1,0], : , :], transform=s2_raster.transform, adjust='linear', ax=ax2)"
      ]
    },
    {
      "cell_type": "markdown",
      "metadata": {
        "id": "xmUPT6bPt-GN"
      },
      "source": []
    },
    {
      "cell_type": "markdown",
      "metadata": {
        "id": "1r5w5N5pQQVs"
      },
      "source": [
        "You can also download and view the results in your favorite GIS application. There's a QGIS [style file](https://drive.google.com/file/d/1JMQWgqIediIRvEyNS3dwSkiELnC2HvVw/view?usp=sharing) in the Shared drive for visualizing.\n",
        "\n",
        "In some cases imagery can often appear dark, you can check how well the data distribution spans the possible display values with a histogram. We applied a rescale function (just like we did when using Google Earth Engine earlier), in order to get a good RGB display of the imagery reflectance values.\n",
        "\n",
        "This method can also be useful for exploring the distribution of classes in the model result.\n",
        "\n"
      ]
    },
    {
      "cell_type": "code",
      "execution_count": null,
      "metadata": {
        "id": "2ENFKsWYuC0R"
      },
      "outputs": [],
      "source": [
        "# Exploring why the imagery is so dark.\n",
        "# Looks like it will need manual stretching to make a nice image\n",
        "rasterio.plot.show_hist(s2, \n",
        "                   bins=50, \n",
        "                   histtype='stepfilled',\n",
        "                   lw=0.0, \n",
        "                   stacked=False, \n",
        "                   alpha=0.3)"
      ]
    }
  ],
  "metadata": {
    "colab": {
      "collapsed_sections": [
        "eVnxHBdGrA7f",
        "2DU8S1AlrUZu",
        "IpIp1H_esS_N",
        "ABAVZBfstQSK",
        "n2rq8z9Ftnpm"
      ],
      "provenance": []
    },
    "gpuClass": "standard",
    "kernelspec": {
      "display_name": "Python 3",
      "name": "python3"
    },
    "language_info": {
      "name": "python"
    },
    "accelerator": "TPU"
  },
  "nbformat": 4,
  "nbformat_minor": 0
}