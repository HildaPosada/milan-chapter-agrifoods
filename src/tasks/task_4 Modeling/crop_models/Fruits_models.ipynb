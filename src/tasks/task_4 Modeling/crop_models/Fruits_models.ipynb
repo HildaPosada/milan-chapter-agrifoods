{
 "cells": [
  {
   "cell_type": "markdown",
   "id": "515a39f5",
   "metadata": {},
   "source": [
    "# Omdena  - Milan Chapter Agrifoods\n",
    "## AI for Sustainable agri-food systems: use of Satellite Imagery\n",
    "### Tabular model for fruits in Italy 2006-2021\n",
    "#### Author: Maria Fisher \n"
   ]
  },
  {
   "cell_type": "markdown",
   "id": "8f1ddaa7",
   "metadata": {},
   "source": [
    "The main objective of this study is to have gather information about crop production in Italy for the period of 2006-2021. \n",
    "\n",
    "Crop dataset used in this study was downloaded from the Italian National Institute of Statistics (Istat).\n",
    "\n"
   ]
  },
  {
   "cell_type": "code",
   "execution_count": null,
   "id": "e17f5b17",
   "metadata": {
    "scrolled": true
   },
   "outputs": [],
   "source": [
    "import warnings \n",
    "warnings.filterwarnings(\"ignore\")\n",
    "\n",
    "import os\n",
    "import pandas as pd\n",
    "pd.options.display.float_format = \"{:.2f}\".format\n",
    "import numpy as np\n",
    "import matplotlib.pyplot as plt\n",
    "import matplotlib.dates as mdates\n",
    "import statsmodels.api as sm\n",
    "from statsmodels.stats.outliers_influence import variance_inflation_factor\n",
    "import seaborn as sns \n",
    "import scipy \n",
    "import sklearn\n",
    "import geopandas as gpd\n",
    "import pgeocode\n",
    "import folium\n",
    "import sys\n",
    "import plotly.graph_objs as go\n",
    "from plotly.offline import download_plotlyjs, init_notebook_mode, iplot, plot"
   ]
  },
  {
   "cell_type": "markdown",
   "id": "398cc46f",
   "metadata": {},
   "source": [
    "# Pre-processing data for modelling "
   ]
  },
  {
   "cell_type": "code",
   "execution_count": null,
   "id": "fb5be74d",
   "metadata": {},
   "outputs": [],
   "source": [
    "fruits = pd.read_csv('fruits_model.csv')\n",
    "fruits"
   ]
  },
  {
   "cell_type": "markdown",
   "id": "da2ae078",
   "metadata": {},
   "source": [
    "Check for correlation"
   ]
  },
  {
   "cell_type": "code",
   "execution_count": null,
   "id": "8e6ff04d",
   "metadata": {
    "code_folding": []
   },
   "outputs": [],
   "source": [
    "# Compute the correlation matrix\n",
    "corr_fruits = fruits.select_dtypes(include=[np.number]).corr()"
   ]
  },
  {
   "cell_type": "code",
   "execution_count": null,
   "id": "50737080",
   "metadata": {},
   "outputs": [],
   "source": [
    "corr_fruits"
   ]
  },
  {
   "cell_type": "code",
   "execution_count": null,
   "id": "31cef091",
   "metadata": {
    "scrolled": true
   },
   "outputs": [],
   "source": [
    "sns.set_theme(style=\"white\")\n",
    "\n",
    "# Generate a mask for the upper triangle\n",
    "\n",
    "mask = np.zeros_like(corr_fruits, dtype=np.bool)\n",
    "mask[np.triu_indices_from(mask)] = True\n",
    "\n",
    "# Set up the matplotlib figure\n",
    "f, ax = plt.subplots(figsize=(8, 9))\n",
    "\n",
    "# Generate a custom diverging colormap\n",
    "cmap = sns.diverging_palette(250, 10, as_cmap=True)\n",
    "\n",
    "# Draw the heatmap with the mask and correct aspect ratio\n",
    "sns.heatmap(corr_fruits, mask=mask, cmap=cmap, vmax=.3, center=0,\n",
    "            square=True, linewidths=.5, cbar_kws={\"shrink\": .5})\n",
    "\n"
   ]
  },
  {
   "cell_type": "code",
   "execution_count": null,
   "id": "5cc546d9",
   "metadata": {},
   "outputs": [],
   "source": []
  },
  {
   "cell_type": "code",
   "execution_count": null,
   "id": "52111f2b",
   "metadata": {},
   "outputs": [],
   "source": []
  },
  {
   "cell_type": "code",
   "execution_count": null,
   "id": "c0cc69dd",
   "metadata": {},
   "outputs": [],
   "source": [
    "from sklearn.preprocessing import OneHotEncoder\n",
    "\n",
    "fruits_1hotEn = pd.get_dummies(fruits, columns=['City','Type_crop', 'Type_fertilizer'], prefix = ['City','Crop', 'Fertilizer'])\n",
    "features= fruits_1hotEn.loc[:, fruits_1hotEn.columns != 'production_tonnes']\n",
    "features['production_tonnes'] = fruits_1hotEn['production_tonnes']\n",
    "features.head()"
   ]
  },
  {
   "cell_type": "code",
   "execution_count": null,
   "id": "736a7b82",
   "metadata": {},
   "outputs": [],
   "source": [
    "features.info()"
   ]
  },
  {
   "cell_type": "code",
   "execution_count": null,
   "id": "6fd981a3",
   "metadata": {},
   "outputs": [],
   "source": []
  },
  {
   "cell_type": "markdown",
   "id": "2cadcf74",
   "metadata": {},
   "source": [
    " \n",
    "## Scaling Features"
   ]
  },
  {
   "cell_type": "code",
   "execution_count": null,
   "id": "c50bb9b7",
   "metadata": {},
   "outputs": [],
   "source": [
    "from sklearn.preprocessing import MinMaxScaler\n",
    "\n",
    "y = features['production_tonnes']\n",
    "X = features.drop('production_tonnes', axis=1)\n",
    "\n",
    "scaler = MinMaxScaler()\n",
    "features_no_prod = pd.DataFrame(scaler.fit_transform(X), index=y.index)\n",
    "features_no_prod.columns = X.columns\n",
    "features_no_prod.insert(len(features_no_prod.columns), 'production_tonnes', y)\n",
    "\n",
    "data = features_no_prod\n"
   ]
  },
  {
   "cell_type": "code",
   "execution_count": null,
   "id": "dc7c2d2b",
   "metadata": {},
   "outputs": [],
   "source": [
    "data.head()\n"
   ]
  },
  {
   "cell_type": "markdown",
   "id": "3a0d9952",
   "metadata": {},
   "source": [
    "Remove 10% of data for futher tests"
   ]
  },
  {
   "cell_type": "code",
   "execution_count": null,
   "id": "82683c3e",
   "metadata": {},
   "outputs": [],
   "source": [
    "data_model = data.sample(frac=0.9, random_state=786)\n",
    "data_unseen = data.drop(data_model.index)\n",
    "\n",
    "data_model.reset_index(drop=True, inplace=True)\n",
    "data_unseen.reset_index(drop=True, inplace=True)\n",
    "\n",
    "print('Data for Modeling: ' + str(data_model.shape))\n",
    "print('Unseen Data For Predictions: ' + str(data_unseen.shape))\n"
   ]
  },
  {
   "cell_type": "markdown",
   "id": "6ec878e7",
   "metadata": {},
   "source": [
    "Save unseen data for futher prediction test"
   ]
  },
  {
   "cell_type": "code",
   "execution_count": null,
   "id": "d1394424",
   "metadata": {},
   "outputs": [],
   "source": [
    "data_unseen = data_unseen.to_csv('fruits_ds_unseen.csv', index=False)"
   ]
  },
  {
   "cell_type": "markdown",
   "id": "376aa596",
   "metadata": {},
   "source": [
    "## Modelling"
   ]
  },
  {
   "cell_type": "markdown",
   "id": "979e9ec3",
   "metadata": {},
   "source": [
    "## Select best model"
   ]
  },
  {
   "cell_type": "code",
   "execution_count": null,
   "id": "c4c8fbab",
   "metadata": {},
   "outputs": [],
   "source": [
    "y = data_model['production_tonnes']\n",
    "X = data_model.drop('production_tonnes', axis=1)\n"
   ]
  },
  {
   "cell_type": "code",
   "execution_count": null,
   "id": "d912e572",
   "metadata": {},
   "outputs": [],
   "source": [
    "from sklearn.model_selection import train_test_split\n",
    "\n",
    "X_train, X_test, y_train, y_test = train_test_split(X, y, test_size=0.2, random_state=42)"
   ]
  },
  {
   "cell_type": "markdown",
   "id": "22425aca",
   "metadata": {},
   "source": [
    "### Random Forest"
   ]
  },
  {
   "cell_type": "code",
   "execution_count": null,
   "id": "8fbe5f01",
   "metadata": {},
   "outputs": [],
   "source": [
    "# Prepare the pipeline\n",
    "from sklearn.pipeline import make_pipeline\n",
    "from sklearn.ensemble import RandomForestRegressor\n",
    "import joblib\n",
    "\n",
    "regressor_rf = make_pipeline(RandomForestRegressor(n_estimators = 200, random_state = 0))\n",
    "regressor_rf.fit(X_train, y_train)\n"
   ]
  },
  {
   "cell_type": "code",
   "execution_count": null,
   "id": "cf112d76",
   "metadata": {},
   "outputs": [],
   "source": []
  },
  {
   "cell_type": "code",
   "execution_count": null,
   "id": "90c0a333",
   "metadata": {},
   "outputs": [],
   "source": [
    "from sklearn.metrics import r2_score\n",
    "from sklearn.metrics import mean_squared_error\n",
    "from sklearn.model_selection import cross_val_score\n",
    "\n",
    "# Predicting Cross Validation Score\n",
    "crossval_rf = cross_val_score(estimator = regressor_rf, X = X_train, y = y_train.ravel(), cv = 10)\n",
    "\n",
    "# Predicting R2 Score the Train set results\n",
    "y_pred_rf_train = regressor_rf.predict(X_train)\n",
    "r2_score_rf_train = r2_score(y_train, y_pred_rf_train)\n",
    "\n",
    "# Predicting R2 Score the Test set results\n",
    "y_pred_rf_test = regressor_rf.predict(X_test)\n",
    "r2_score_rf_test = r2_score(y_test, y_pred_rf_test)\n",
    "\n",
    "# Predicting RMSE the Test set results\n",
    "rmse_rf = (np.sqrt(mean_squared_error(y_test, y_pred_rf_test)))\n",
    "\n",
    "# Print metrics\n",
    "print('CV: ', crossval_rf.mean())\n",
    "print('R2_score (train): ', r2_score_rf_train)\n",
    "print('R2_score (test): ', r2_score_rf_test)\n",
    "print(\"RMSE: \", rmse_rf)"
   ]
  },
  {
   "cell_type": "markdown",
   "id": "201e4a30",
   "metadata": {},
   "source": [
    "CV:  0.9848972813960162\n",
    "\n",
    "R2_score (train):  0.9983194181313884\n",
    "\n",
    "R2_score (test):  0.9892629713056141\n",
    "\n",
    "RMSE:  120.25995340520304\n",
    "\n"
   ]
  },
  {
   "cell_type": "code",
   "execution_count": null,
   "id": "9e78be95",
   "metadata": {
    "scrolled": true
   },
   "outputs": [],
   "source": [
    "print(\"Values before saving the model:\",y_pred_rf_train)"
   ]
  },
  {
   "cell_type": "markdown",
   "id": "de4a6e58",
   "metadata": {},
   "source": [
    "Save the model"
   ]
  },
  {
   "cell_type": "code",
   "execution_count": null,
   "id": "3a6e56e8",
   "metadata": {},
   "outputs": [],
   "source": [
    "joblib.dump(regressor_rf, 'fruits_rf.pkl')"
   ]
  },
  {
   "cell_type": "markdown",
   "id": "d2738399",
   "metadata": {},
   "source": [
    "Load the model"
   ]
  },
  {
   "cell_type": "code",
   "execution_count": null,
   "id": "bde21581",
   "metadata": {},
   "outputs": [],
   "source": [
    "model_rf = joblib.load('fruits_rf.pkl') "
   ]
  },
  {
   "cell_type": "code",
   "execution_count": null,
   "id": "b06826e0",
   "metadata": {},
   "outputs": [],
   "source": [
    "print(\"Values after saving the model:\",model_rf.predict(X_test))"
   ]
  },
  {
   "cell_type": "code",
   "execution_count": null,
   "id": "5ba1aebf",
   "metadata": {},
   "outputs": [],
   "source": [
    "result = model_rf.score(X_test, y_test)\n",
    "print(result)"
   ]
  },
  {
   "cell_type": "markdown",
   "id": "2f15dedf",
   "metadata": {},
   "source": [
    "Use the loaded model to make predictions with new data"
   ]
  },
  {
   "cell_type": "code",
   "execution_count": null,
   "id": "be7b0cc6",
   "metadata": {
    "scrolled": true
   },
   "outputs": [],
   "source": [
    "# Predict on new dataset\n",
    "pr = pd.read_csv('fruits_ds_unseen.csv')\n",
    "pred_cols = list(pr.columns.values)[:-1]\n",
    "\n",
    "# Apply the pipeline to new data\n",
    "pred = pd.Series(regressor_rf.predict(pr[pred_cols]))\n",
    "print (pred)"
   ]
  },
  {
   "cell_type": "markdown",
   "id": "3a0de50a",
   "metadata": {},
   "source": [
    "Residuals versus predicted values for the random forest model"
   ]
  },
  {
   "cell_type": "code",
   "execution_count": null,
   "id": "fed308b1",
   "metadata": {},
   "outputs": [],
   "source": [
    "import dalex as dx\n",
    "regressor_rf = dx.Explainer(regressor_rf, X, y)"
   ]
  },
  {
   "cell_type": "code",
   "execution_count": null,
   "id": "f72e762c",
   "metadata": {},
   "outputs": [],
   "source": [
    "md_rf = regressor_rf.model_diagnostics()\n",
    "md_rf.result"
   ]
  },
  {
   "cell_type": "code",
   "execution_count": null,
   "id": "27f5b762",
   "metadata": {
    "scrolled": true
   },
   "outputs": [],
   "source": [
    "md_rf.plot()"
   ]
  },
  {
   "cell_type": "code",
   "execution_count": null,
   "id": "fc865926",
   "metadata": {},
   "outputs": [],
   "source": [
    "md_rf = regressor_rf.model_diagnostics()\n",
    "md_rf.plot(variable = \"y\", yvariable = \"y_hat\")"
   ]
  },
  {
   "cell_type": "markdown",
   "id": "f5e5c97f",
   "metadata": {},
   "source": [
    "### Gradient Boosting"
   ]
  },
  {
   "cell_type": "code",
   "execution_count": null,
   "id": "6b5a04be",
   "metadata": {},
   "outputs": [],
   "source": [
    "# Prepare the pipeline\n",
    "from sklearn.pipeline import make_pipeline\n",
    "from sklearn.ensemble import GradientBoostingRegressor\n",
    "import joblib\n",
    "\n",
    "regressor_gbr = make_pipeline(GradientBoostingRegressor(n_estimators = 200, random_state = 0))\n",
    "regressor_gbr.fit(X_train, y_train)\n"
   ]
  },
  {
   "cell_type": "code",
   "execution_count": null,
   "id": "c6c938e2",
   "metadata": {},
   "outputs": [],
   "source": [
    "from sklearn.metrics import r2_score\n",
    "from sklearn.metrics import mean_squared_error\n",
    "from sklearn.model_selection import cross_val_score\n",
    "\n",
    "\n",
    "# Predicting Cross Validation Score\n",
    "crossval_gbr = cross_val_score(estimator = regressor_gbr, X = X_train, y = y_train.ravel(), cv = 10)\n",
    "\n",
    "# Predicting R2 Score the Train set results\n",
    "y_pred_gbr_train = regressor_gbr.predict(X_train)\n",
    "r2_score_gbr_train = r2_score(y_train, y_pred_gbr_train)\n",
    "\n",
    "# Predicting R2 Score the Test set results\n",
    "y_pred_gbr_test = regressor_gbr.predict(X_test)\n",
    "r2_score_gbr_test = r2_score(y_test, y_pred_gbr_test)\n",
    "\n",
    "# Predicting RMSE the Test set results\n",
    "rmse_gbr = (np.sqrt(mean_squared_error(y_test, y_pred_gbr_test)))\n",
    "\n",
    "# Print metrics\n",
    "print('CV: ', crossval_gbr.mean())\n",
    "print('R2_score (train): ', r2_score_gbr_train)\n",
    "print('R2_score (test): ', r2_score_gbr_test)\n",
    "print(\"RMSE: \", rmse_gbr)"
   ]
  },
  {
   "cell_type": "markdown",
   "id": "bef17a3e",
   "metadata": {},
   "source": [
    "CV:  0.9090644971207531\n",
    "\n",
    "R2_score (train):  0.9148229836222868\n",
    "\n",
    "R2_score (test):  0.9104947779673703\n",
    "\n",
    "RMSE:  347.218743774312\n"
   ]
  },
  {
   "cell_type": "code",
   "execution_count": null,
   "id": "f40529d7",
   "metadata": {},
   "outputs": [],
   "source": []
  },
  {
   "cell_type": "code",
   "execution_count": null,
   "id": "86067c39",
   "metadata": {
    "scrolled": true
   },
   "outputs": [],
   "source": [
    "print(\"Values before saving the model:\",y_pred_gbr_train)"
   ]
  },
  {
   "cell_type": "markdown",
   "id": "ae5d5c4e",
   "metadata": {},
   "source": [
    "Save the model"
   ]
  },
  {
   "cell_type": "code",
   "execution_count": null,
   "id": "9c146ed5",
   "metadata": {},
   "outputs": [],
   "source": [
    "joblib.dump(regressor_gbr, 'fruits_gbr.pkl')"
   ]
  },
  {
   "cell_type": "markdown",
   "id": "2e5b21fb",
   "metadata": {},
   "source": [
    "Load the model"
   ]
  },
  {
   "cell_type": "code",
   "execution_count": null,
   "id": "137613ea",
   "metadata": {},
   "outputs": [],
   "source": [
    "model_gbr = joblib.load('fruits_gbr.pkl') "
   ]
  },
  {
   "cell_type": "code",
   "execution_count": null,
   "id": "df2733fb",
   "metadata": {},
   "outputs": [],
   "source": [
    "print(\"Values after saving the model:\",model_gbr.predict(X_test))"
   ]
  },
  {
   "cell_type": "code",
   "execution_count": null,
   "id": "abf5cfb8",
   "metadata": {},
   "outputs": [],
   "source": [
    "result = model_gbr.score(X_test, y_test)\n",
    "print(result)"
   ]
  },
  {
   "cell_type": "markdown",
   "id": "ed74bc23",
   "metadata": {},
   "source": [
    "Use the loaded model to make predictions with new data"
   ]
  },
  {
   "cell_type": "code",
   "execution_count": null,
   "id": "0e2b18db",
   "metadata": {
    "scrolled": true
   },
   "outputs": [],
   "source": [
    "# Predict on new dataset\n",
    "pr = pd.read_csv('fruits_ds_unseen.csv')\n",
    "pred_cols = list(pr.columns.values)[:-1]\n",
    "\n",
    "# Apply the pipeline to new data\n",
    "pred = pd.Series(regressor_gbr.predict(pr[pred_cols]))\n",
    "print (pred)"
   ]
  },
  {
   "cell_type": "code",
   "execution_count": null,
   "id": "269c2c98",
   "metadata": {},
   "outputs": [],
   "source": [
    "import dalex as dx\n",
    "regressor_gbr = dx.Explainer(regressor_gbr, X, y)"
   ]
  },
  {
   "cell_type": "code",
   "execution_count": null,
   "id": "6b1e21ac",
   "metadata": {},
   "outputs": [],
   "source": [
    "md_gbr = regressor_gbr.model_diagnostics()\n",
    "md_gbr.result"
   ]
  },
  {
   "cell_type": "code",
   "execution_count": null,
   "id": "4fc5d6b3",
   "metadata": {},
   "outputs": [],
   "source": [
    "md_gbr.plot()"
   ]
  },
  {
   "cell_type": "code",
   "execution_count": null,
   "id": "a4a7096e",
   "metadata": {},
   "outputs": [],
   "source": [
    "md_gbr = regressor_gbr.model_diagnostics()\n",
    "md_gbr.plot(variable = \"y\", yvariable = \"y_hat\")"
   ]
  },
  {
   "cell_type": "markdown",
   "id": "cc150e19",
   "metadata": {},
   "source": [
    "### Decision Tree"
   ]
  },
  {
   "cell_type": "code",
   "execution_count": null,
   "id": "151189bb",
   "metadata": {},
   "outputs": [],
   "source": [
    "# Prepare the pipeline\n",
    "from sklearn.pipeline import make_pipeline\n",
    "from sklearn.tree import DecisionTreeRegressor\n",
    "import joblib\n",
    "\n",
    "regressor_dt = make_pipeline( DecisionTreeRegressor())\n",
    "regressor_dt.fit(X_train, y_train)"
   ]
  },
  {
   "cell_type": "code",
   "execution_count": null,
   "id": "eb34363a",
   "metadata": {},
   "outputs": [],
   "source": [
    "from sklearn.metrics import r2_score\n",
    "from sklearn.metrics import mean_squared_error\n",
    "from sklearn.model_selection import cross_val_score\n",
    "\n",
    "# Predicting Cross Validation Score\n",
    "\n",
    "# Predicting Cross Validation Score\n",
    "crossval_dt = cross_val_score(estimator = regressor_dt, X = X_train, y = y_train.ravel(), cv = 10)\n",
    "\n",
    "# Predicting R2 Score the Train set results\n",
    "y_pred_dt_train = regressor_dt.predict(X_train)\n",
    "r2_score_dt_train = r2_score(y_train, y_pred_dt_train)\n",
    "\n",
    "# Predicting R2 Score the Test set results\n",
    "y_pred_dt_test = regressor_dt.predict(X_test)\n",
    "r2_score_dt_test = r2_score(y_test, y_pred_dt_test)\n",
    "\n",
    "# Predicting RMSE the Test set results\n",
    "rmse_dt = (np.sqrt(mean_squared_error(y_test, y_pred_dt_test)))\n",
    "\n",
    "# Print metrics\n",
    "print('CV: ', crossval_dt.mean())\n",
    "print('R2_score (train): ', r2_score_dt_train)\n",
    "print('R2_score (test): ', r2_score_dt_test)\n",
    "print(\"RMSE: \", rmse_dt)"
   ]
  },
  {
   "cell_type": "markdown",
   "id": "ce362b70",
   "metadata": {},
   "source": [
    "CV:  0.9795930938488974\n",
    "\n",
    "R2_score (train):  1.0\n",
    "\n",
    "R2_score (test):  0.9887775598176309\n",
    "\n",
    "RMSE:  122.94832712783497\n",
    "\n",
    "\n"
   ]
  },
  {
   "cell_type": "code",
   "execution_count": null,
   "id": "35e1633c",
   "metadata": {},
   "outputs": [],
   "source": []
  },
  {
   "cell_type": "code",
   "execution_count": null,
   "id": "8062f6da",
   "metadata": {
    "scrolled": true
   },
   "outputs": [],
   "source": [
    "print(\"Values before saving the model:\",y_pred_dt_train)"
   ]
  },
  {
   "cell_type": "markdown",
   "id": "2aa241ce",
   "metadata": {},
   "source": [
    "Save the model"
   ]
  },
  {
   "cell_type": "code",
   "execution_count": null,
   "id": "da559b7b",
   "metadata": {},
   "outputs": [],
   "source": [
    "joblib.dump(regressor_dt, 'fruits_dt.pkl')"
   ]
  },
  {
   "cell_type": "markdown",
   "id": "911ccb82",
   "metadata": {},
   "source": [
    "Load the model"
   ]
  },
  {
   "cell_type": "code",
   "execution_count": null,
   "id": "7ed07b06",
   "metadata": {},
   "outputs": [],
   "source": [
    "model_dt = joblib.load('fruits_dt.pkl') "
   ]
  },
  {
   "cell_type": "code",
   "execution_count": null,
   "id": "950c1dcc",
   "metadata": {},
   "outputs": [],
   "source": [
    "print(\"Values after saving the model:\",model_dt.predict(X_test))"
   ]
  },
  {
   "cell_type": "code",
   "execution_count": null,
   "id": "5d69cc64",
   "metadata": {},
   "outputs": [],
   "source": [
    "result = model_dt.score(X_test, y_test)\n",
    "print(result)"
   ]
  },
  {
   "cell_type": "markdown",
   "id": "c836f2b6",
   "metadata": {},
   "source": [
    "Use the loaded model to make predictions with new data"
   ]
  },
  {
   "cell_type": "code",
   "execution_count": null,
   "id": "41e7d21a",
   "metadata": {
    "scrolled": true
   },
   "outputs": [],
   "source": [
    "# Predict on new dataset\n",
    "pr = pd.read_csv('fruits_ds_unseen.csv')\n",
    "pred_cols = list(pr.columns.values)[:-1]\n",
    "\n",
    "# Apply the pipeline to new data\n",
    "pred = pd.Series(regressor_dt.predict(pr[pred_cols]))\n",
    "print (pred)"
   ]
  },
  {
   "cell_type": "code",
   "execution_count": null,
   "id": "d4cba03c",
   "metadata": {},
   "outputs": [],
   "source": [
    "import dalex as dx\n",
    "regressor_dt = dx.Explainer(regressor_dt, X, y)"
   ]
  },
  {
   "cell_type": "code",
   "execution_count": null,
   "id": "971a9130",
   "metadata": {},
   "outputs": [],
   "source": [
    "md_dt = regressor_dt.model_diagnostics()\n",
    "md_dt.result"
   ]
  },
  {
   "cell_type": "code",
   "execution_count": null,
   "id": "dc21129a",
   "metadata": {},
   "outputs": [],
   "source": [
    "md_dt.plot()"
   ]
  },
  {
   "cell_type": "code",
   "execution_count": null,
   "id": "b4e3e881",
   "metadata": {},
   "outputs": [],
   "source": [
    "md_dt = regressor_dt.model_diagnostics()\n",
    "md_dt.plot(variable = \"y\", yvariable = \"y_hat\")"
   ]
  },
  {
   "cell_type": "markdown",
   "id": "9e313e26",
   "metadata": {},
   "source": [
    "### K Neighbors "
   ]
  },
  {
   "cell_type": "code",
   "execution_count": null,
   "id": "606c6fbd",
   "metadata": {},
   "outputs": [],
   "source": [
    "# Prepare the pipeline\n",
    "from sklearn.pipeline import make_pipeline\n",
    "from sklearn.neighbors import KNeighborsRegressor\n",
    "import joblib\n",
    "\n",
    "regressor_knn = make_pipeline(KNeighborsRegressor(n_neighbors=5))\n",
    "regressor_knn.fit(X_train, y_train)"
   ]
  },
  {
   "cell_type": "code",
   "execution_count": null,
   "id": "229a3fda",
   "metadata": {},
   "outputs": [],
   "source": [
    "from sklearn.metrics import r2_score\n",
    "from sklearn.metrics import mean_squared_error\n",
    "from sklearn.model_selection import cross_val_score\n",
    "\n",
    "# Predicting Cross Validation Score\n",
    "crossval_knn = cross_val_score(estimator = regressor_knn, X = X_train, y = y_train.ravel(), cv = 10)\n",
    "\n",
    "# Predicting R2 Score the Train set results\n",
    "y_pred_knn_train = regressor_knn.predict(X_train)\n",
    "r2_score_knn_train = r2_score(y_train, y_pred_knn_train)\n",
    "\n",
    "# Predicting R2 Score the Test set results\n",
    "y_pred_knn_test = regressor_knn.predict(X_test)\n",
    "r2_score_knn_test = r2_score(y_test, y_pred_knn_test)\n",
    "\n",
    "# Predicting RMSE the Test set results\n",
    "rmse_knn = (np.sqrt(mean_squared_error(y_test, y_pred_knn_test)))\n",
    "\n",
    "# Print metrics\n",
    "print('CV: ', crossval_knn.mean())\n",
    "print('R2_score (train): ', r2_score_knn_train)\n",
    "print('R2_score (test): ', r2_score_knn_test)\n",
    "print(\"RMSE: \", rmse_knn)"
   ]
  },
  {
   "cell_type": "markdown",
   "id": "f231882e",
   "metadata": {},
   "source": [
    "CV:  0.8755928661656285\n",
    "\n",
    "R2_score (train):  0.9258680694522883\n",
    "\n",
    "R2_score (test):  0.8974522657581585\n",
    "\n",
    "RMSE:  371.6567364306191\n",
    "\n"
   ]
  },
  {
   "cell_type": "code",
   "execution_count": null,
   "id": "f4a66b02",
   "metadata": {},
   "outputs": [],
   "source": []
  },
  {
   "cell_type": "code",
   "execution_count": null,
   "id": "218c1b64",
   "metadata": {
    "scrolled": true
   },
   "outputs": [],
   "source": [
    "print(\"Values before saving the model:\",y_pred_knn_train)"
   ]
  },
  {
   "cell_type": "markdown",
   "id": "f47111ee",
   "metadata": {},
   "source": [
    "Save the model"
   ]
  },
  {
   "cell_type": "code",
   "execution_count": null,
   "id": "1a966e10",
   "metadata": {},
   "outputs": [],
   "source": [
    "joblib.dump(regressor_knn, 'fruits_knn.pkl')"
   ]
  },
  {
   "cell_type": "markdown",
   "id": "634d34cc",
   "metadata": {},
   "source": [
    "Load the model"
   ]
  },
  {
   "cell_type": "code",
   "execution_count": null,
   "id": "ea9a2a8b",
   "metadata": {},
   "outputs": [],
   "source": [
    "model_knn = joblib.load('fruits_knn.pkl') "
   ]
  },
  {
   "cell_type": "code",
   "execution_count": null,
   "id": "346b9827",
   "metadata": {},
   "outputs": [],
   "source": [
    "print(\"Values after saving the model:\",model_knn.predict(X_test))"
   ]
  },
  {
   "cell_type": "code",
   "execution_count": null,
   "id": "b26a90ea",
   "metadata": {},
   "outputs": [],
   "source": [
    "result = model_knn.score(X_test, y_test)\n",
    "print(result)"
   ]
  },
  {
   "cell_type": "markdown",
   "id": "9d534f04",
   "metadata": {},
   "source": [
    "Use the loaded model to make predictions with new data"
   ]
  },
  {
   "cell_type": "code",
   "execution_count": null,
   "id": "be32d8dd",
   "metadata": {
    "scrolled": true
   },
   "outputs": [],
   "source": [
    "# Predict on new dataset\n",
    "pr = pd.read_csv('fruits_ds_unseen.csv')\n",
    "pred_cols = list(pr.columns.values)[:-1]\n",
    "\n",
    "# Apply the pipeline to new data\n",
    "pred = pd.Series(regressor_knn.predict(pr[pred_cols]))\n",
    "print (pred)"
   ]
  },
  {
   "cell_type": "code",
   "execution_count": null,
   "id": "ba306f33",
   "metadata": {},
   "outputs": [],
   "source": [
    "import dalex as dx\n",
    "regressor_knn = dx.Explainer(regressor_knn, X, y)"
   ]
  },
  {
   "cell_type": "code",
   "execution_count": null,
   "id": "9124bead",
   "metadata": {},
   "outputs": [],
   "source": [
    "md_knn = regressor_knn.model_diagnostics()\n",
    "md_knn.result"
   ]
  },
  {
   "cell_type": "code",
   "execution_count": null,
   "id": "b8011873",
   "metadata": {},
   "outputs": [],
   "source": [
    "md_knn.plot()"
   ]
  },
  {
   "cell_type": "code",
   "execution_count": null,
   "id": "abb38056",
   "metadata": {},
   "outputs": [],
   "source": [
    "md_knn = regressor_knn.model_diagnostics()\n",
    "md_knn.plot(variable = \"y\", yvariable = \"y_hat\")"
   ]
  },
  {
   "cell_type": "code",
   "execution_count": null,
   "id": "7b206148",
   "metadata": {},
   "outputs": [],
   "source": []
  },
  {
   "cell_type": "markdown",
   "id": "26106117",
   "metadata": {},
   "source": [
    "# Evaluate models "
   ]
  },
  {
   "cell_type": "code",
   "execution_count": null,
   "id": "506a0dd0",
   "metadata": {},
   "outputs": [],
   "source": [
    "models = [('Gradient Boosting Regressor', rmse_gbr, r2_score_gbr_train,r2_score_gbr_test, crossval_gbr.mean()),\n",
    "          ('Random Forest Regressor', rmse_rf, r2_score_rf_train,r2_score_rf_test,crossval_rf.mean()),\n",
    "          ('K Neighbors Regressor', rmse_knn, r2_score_knn_train,r2_score_knn_test,crossval_knn.mean()),\n",
    "          ('Decision Tree Regressor', rmse_dt, r2_score_dt_train,r2_score_dt_test, crossval_dt.mean()) \n",
    "         ]"
   ]
  },
  {
   "cell_type": "code",
   "execution_count": null,
   "id": "7a887cbc",
   "metadata": {},
   "outputs": [],
   "source": [
    "predict = pd.DataFrame(data = models, columns=['Model', 'RMSE', 'R² Score(training)', 'R² Score(test)', 'Cross-Validation'])\n",
    "predict"
   ]
  },
  {
   "cell_type": "code",
   "execution_count": null,
   "id": "398ce90d",
   "metadata": {},
   "outputs": [],
   "source": [
    "f, axe = plt.subplots(1,1, figsize=(8,3))\n",
    "\n",
    "predict.sort_values(by=['Cross-Validation'], ascending=False, inplace=True)\n",
    "\n",
    "sns.barplot(x='Cross-Validation', y='Model', data = predict, palette='Blues',ax = axe)\n",
    "#axes[0].set(xlabel='Region', ylabel='Charges')\n",
    "axe.set_xlabel('Cross-Validaton Score', size=10)\n",
    "axe.set_ylabel('Model')\n",
    "axe.set_xlim(0,1.0)\n",
    "plt.show()"
   ]
  },
  {
   "cell_type": "code",
   "execution_count": null,
   "id": "0aef558e",
   "metadata": {},
   "outputs": [],
   "source": []
  },
  {
   "cell_type": "code",
   "execution_count": null,
   "id": "ca5bd907",
   "metadata": {},
   "outputs": [],
   "source": [
    "f, axes = plt.subplots(2,1, figsize=(7,8))\n",
    "\n",
    "predict.sort_values(by=['R² Score(training)'], ascending=False, inplace=True)\n",
    "\n",
    "sns.barplot(x='R² Score(training)', y='Model', data = predict, palette='Blues', ax = axes[0])\n",
    "#axes[0].set(xlabel='Region', ylabel='Charges')\n",
    "axes[0].set_xlabel('R2 Score (Training)', size=10)\n",
    "axes[0].set_ylabel('Model')\n",
    "axes[0].set_xlim(0,1.0)\n",
    "\n",
    "predict.sort_values(by=['R² Score(test)'], ascending=False, inplace=True)\n",
    "\n",
    "sns.barplot(x='R² Score(test)', y='Model', data = predict, palette='Blues', ax = axes[1])\n",
    "axes[1].set_xlabel('R² Score (Test)', size=10)\n",
    "axes[1].set_ylabel('Model')\n",
    "axes[1].set_xlim(0,1.0)\n",
    "\n",
    "plt.show()"
   ]
  },
  {
   "cell_type": "code",
   "execution_count": null,
   "id": "7600c0e2",
   "metadata": {},
   "outputs": [],
   "source": [
    "predict.sort_values(by=['RMSE'], ascending=False, inplace=True)\n",
    "\n",
    "f, axe = plt.subplots( figsize=(7,5))\n",
    "sns.barplot(x='Model', y='RMSE', data=predict, palette='Blues',ax = axe)\n",
    "axe.set_xlabel('Model', size=10)\n",
    "axe.set_ylabel('RMSE', size=10)\n",
    "plt.xticks(rotation= 25)\n",
    "plt.show()"
   ]
  },
  {
   "cell_type": "markdown",
   "id": "a91fc308",
   "metadata": {},
   "source": [
    "The models Random Forest Regressor and Decision Tree have better performance. "
   ]
  },
  {
   "cell_type": "markdown",
   "id": "464f6eee",
   "metadata": {},
   "source": [
    "# References\n",
    "\n",
    "\n",
    "http://dati.istat.it\n",
    "\n",
    "https://maps.princeton.edu/catalog/stanford-mn871sp9778\n",
    "\n",
    "https://www.crea.gov.it/documents/68457/0/ITACONTA+2020_ENG+DEF+xweb+%281%29.pdf/95c6b30a-1e18-8e94-d4ac-ce884aef76e8?t=1619527317576\n",
    "\n",
    "https://seaborn.pydata.org/generated/seaborn.relplot.html\n",
    "\n",
    "https://www.statisticshowto.com/variance-inflation-factor/\n",
    "\n",
    "https://statisticsbyjim.com/regression/multicollinearity-in-regression-analysis/\n",
    "\n",
    "https://lost-stats.github.io/Presentation/Figures/heatmap_colored_correlation_matrix.html\n",
    "\n",
    "https://plotly.com/python/box-plots/\n",
    "\n",
    "https://numpy.org/doc/stable/reference/generated/numpy.zeros_like.html"
   ]
  },
  {
   "cell_type": "code",
   "execution_count": null,
   "id": "e9bbc9d8",
   "metadata": {},
   "outputs": [],
   "source": []
  }
 ],
 "metadata": {
  "kernelspec": {
   "display_name": "Python 3 (ipykernel)",
   "language": "python",
   "name": "python3"
  },
  "language_info": {
   "codemirror_mode": {
    "name": "ipython",
    "version": 3
   },
   "file_extension": ".py",
   "mimetype": "text/x-python",
   "name": "python",
   "nbconvert_exporter": "python",
   "pygments_lexer": "ipython3",
   "version": "3.11.0"
  }
 },
 "nbformat": 4,
 "nbformat_minor": 5
}
