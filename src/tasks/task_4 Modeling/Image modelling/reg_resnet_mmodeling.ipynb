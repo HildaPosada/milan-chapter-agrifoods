{
  "nbformat": 4,
  "nbformat_minor": 0,
  "metadata": {
    "colab": {
      "provenance": [],
      "collapsed_sections": []
    },
    "kernelspec": {
      "name": "python3",
      "display_name": "Python 3"
    },
    "language_info": {
      "name": "python"
    }
  },
  "cells": [
    {
      "cell_type": "code",
      "execution_count": 115,
      "metadata": {
        "id": "8hYjWvI2cqTh"
      },
      "outputs": [],
      "source": [
        "# !git clone https://github.com/OmdenaAI/milan-chapter-agrifoods.git"
      ]
    },
    {
      "cell_type": "code",
      "source": [
        "# %cd /content/milan-chapter-agrifoods/src/tasks/task_4 Modeling"
      ],
      "metadata": {
        "id": "AHIE4tJmc0Og"
      },
      "execution_count": 116,
      "outputs": []
    },
    {
      "cell_type": "code",
      "source": [
        "# %cd Image\\ modelling"
      ],
      "metadata": {
        "id": "bqILQxTSdJOO"
      },
      "execution_count": 117,
      "outputs": []
    },
    {
      "cell_type": "code",
      "source": [
        "import numpy as np\n",
        "from pathlib import Path\n",
        "\n",
        "path_to_histogram =  './data/histogram/histogram_all_full.npz'\n",
        "\n",
        "with np.load(path_to_histogram) as hist:\n",
        "    images = hist[\"output_image\"]\n",
        "    locations = hist[\"output_locations\"]\n",
        "    yields = hist[\"output_yield\"]\n",
        "    years = hist[\"output_year\"]\n",
        "    indices = hist[\"output_index\"]"
      ],
      "metadata": {
        "id": "M27uk5l5eUUV"
      },
      "execution_count": 118,
      "outputs": []
    },
    {
      "cell_type": "code",
      "source": [
        "\n",
        "def _normalize(train_images, val_images):\n",
        "        \"\"\"\n",
        "        Find the mean values of the bands in the train images. Use these values\n",
        "        to normalize both the training and validation images.\n",
        "\n",
        "        \"\"\"\n",
        "        mean = np.mean(train_images, axis=(0, 2, 3))\n",
        "\n",
        "        train_images = (train_images.transpose(0, 2, 3, 1) - mean).transpose(0, 3, 1, 2)\n",
        "        val_images = (val_images.transpose(0, 2, 3, 1) - mean).transpose(0, 3, 1, 2)\n",
        "\n",
        "        return train_images, val_images\n"
      ],
      "metadata": {
        "id": "wc0Bt6_YmBjJ"
      },
      "execution_count": 130,
      "outputs": []
    },
    {
      "cell_type": "code",
      "source": [
        "pred_years = 2019 #range(2019, 2020)\n",
        "\n",
        "\n",
        "train_idx = np.nonzero(years < 2019)[0]\n",
        "test_idx = np.nonzero(years == 2019)[0]\n",
        "\n",
        "train_images, test_images = _normalize(images[train_idx], images[test_idx])\n"
      ],
      "metadata": {
        "id": "u_c6HqBnmcKq"
      },
      "execution_count": 131,
      "outputs": []
    },
    {
      "cell_type": "code",
      "source": [
        "from collections import defaultdict, namedtuple\n",
        "\n",
        "\n",
        "print(\n",
        "    f\"Train set size: {train_idx.shape[0]}, Test set size: {test_idx.shape[0]}\"\n",
        ")\n",
        "\n",
        "Data = namedtuple(\"Data\", [\"images\", \"yields\", \"locations\", \"indices\", \"years\"])\n"
      ],
      "metadata": {
        "colab": {
          "base_uri": "https://localhost:8080/"
        },
        "id": "dbyyWN8KndTE",
        "outputId": "afd54cf9-c828-4c0e-bc59-1611fc9373d9"
      },
      "execution_count": 132,
      "outputs": [
        {
          "output_type": "stream",
          "name": "stdout",
          "text": [
            "Train set size: 486, Test set size: 73\n"
          ]
        }
      ]
    },
    {
      "cell_type": "code",
      "source": [
        "import torch\n",
        "time = 32\n",
        "device=torch.device(\"cuda:0\" if torch.cuda.is_available() else \"cpu\")\n",
        "\n",
        "train_data = Data(\n",
        "    images=torch.as_tensor(\n",
        "        train_images[:, :, :time, :], device=device\n",
        "    ).float(),\n",
        "    yields=torch.as_tensor(yields[train_idx], device=device)\n",
        "    .float()\n",
        "    .unsqueeze(1),\n",
        "    locations=torch.as_tensor(locations[train_idx]),\n",
        "    indices=torch.as_tensor(indices[train_idx]),\n",
        "    years=torch.as_tensor(years[train_idx]),\n",
        ")\n",
        "\n",
        "test_data = Data(\n",
        "    images=torch.as_tensor(\n",
        "        test_images[:, :, :time, :], device=device\n",
        "    ).float(),\n",
        "    yields=torch.as_tensor(yields[test_idx], device=device)\n",
        "    .float()\n",
        "    .unsqueeze(1),\n",
        "    locations=torch.as_tensor(locations[test_idx]),\n",
        "    indices=torch.as_tensor(indices[test_idx]),\n",
        "    years=torch.as_tensor(years[test_idx]),\n",
        ")\n"
      ],
      "metadata": {
        "id": "_yzS5fSkn78D"
      },
      "execution_count": 133,
      "outputs": []
    },
    {
      "cell_type": "code",
      "source": [
        "from torch.utils.data import TensorDataset, DataLoader, random_split\n",
        "\n",
        "train_images =train_data.images\n",
        "train_yields =train_data.yields\n",
        "train_steps = 10000\n",
        "batch_size = 4\n",
        "starter_learning_rate = 0.001\n",
        "\n",
        "total_size = train_images.shape[0]\n",
        "# \"Learning rates and stopping criteria are tuned on a held-out\n",
        "# validation set (10%).\"\n",
        "val_size = total_size // 10\n",
        "train_size = total_size - val_size\n",
        "print(\n",
        "    f\"After split, training on {train_size} examples, \"\n",
        "    f\"validating on {val_size} examples\"\n",
        ")\n",
        "train_dataset, val_dataset = random_split(\n",
        "    TensorDataset(train_images, train_yields), (train_size, val_size)\n",
        ")\n",
        "\n",
        "train_dataloader = DataLoader(\n",
        "    train_dataset, batch_size=batch_size, shuffle=True\n",
        ")\n",
        "val_dataloader = DataLoader(val_dataset, batch_size=batch_size)\n",
        "\n",
        "test_dataset = TensorDataset(\n",
        "    test_data.images, test_data.yields, test_data.locations, test_data.indices, test_data.years\n",
        ")\n",
        "\n",
        "test_dataloader = DataLoader(test_dataset, batch_size=1)\n",
        "\n",
        "num_epochs = int(train_steps / (train_images.shape[0] / batch_size))\n",
        "print(f\"Training for {num_epochs} epochs\")\n",
        "\n",
        "train_scores = defaultdict(list)\n",
        "val_scores = defaultdict(list)\n",
        "\n",
        "step_number = 0\n",
        "min_loss = np.inf\n",
        "# best_state = self.model.state_dict()"
      ],
      "metadata": {
        "colab": {
          "base_uri": "https://localhost:8080/"
        },
        "id": "4zA7-PmG8tgD",
        "outputId": "a9ce8569-c775-4421-b953-11812f1f51d3"
      },
      "execution_count": 134,
      "outputs": [
        {
          "output_type": "stream",
          "name": "stdout",
          "text": [
            "After split, training on 438 examples, validating on 48 examples\n",
            "Training for 82 epochs\n"
          ]
        }
      ]
    },
    {
      "cell_type": "code",
      "source": [
        "import torchvision\n",
        "from torch import nn\n",
        "class Model_(nn.Module):\n",
        "\n",
        "    def __init__(self):\n",
        "        super(Model_, self).__init__()\n",
        "\n",
        "        #===================================>\n",
        "        self.resnet = torchvision.models.resnet18(pretrained=True)\n",
        "        self.resnet.conv1 = nn.Conv2d(9, 64, kernel_size=(7, 7), stride=(2, 2), padding=(3, 3), bias=False)        \n",
        "        self.fc_in_features = self.resnet.fc.in_features        \n",
        "        self.resnet = torch.nn.Sequential(*(list(self.resnet.children())[:-1]))\n",
        "        #===================================>\n",
        "        self.fc = nn.Sequential(\n",
        "            nn.Linear(self.fc_in_features, 256),\n",
        "            nn.ReLU(inplace=True),\n",
        "            nn.Linear(256, 1),\n",
        "        )\n",
        "\n",
        "        self.sigmoid = nn.Sigmoid()\n",
        "\n",
        "\n",
        "        self.resnet.apply(self.init_weights)\n",
        "\n",
        "        self.fc.apply(self.init_weights)\n",
        "        \n",
        "    def init_weights(self, m):\n",
        "        if isinstance(m, nn.Linear):\n",
        "            torch.nn.init.xavier_uniform(m.weight)\n",
        "            m.bias.data.fill_(0.01)\n",
        "\n",
        "    def forward_once(self, x):\n",
        "        output = self.resnet(x)\n",
        "        output = output.view(output.size()[0], -1)\n",
        "        return output\n",
        "\n",
        "    def forward(self, input1):\n",
        "        output = self.forward_once(input1)\n",
        "\n",
        "\n",
        "        output = self.fc(output)\n",
        "\n",
        "        \n",
        "        return output"
      ],
      "metadata": {
        "id": "sLaIFxhE_8YH"
      },
      "execution_count": 135,
      "outputs": []
    },
    {
      "cell_type": "code",
      "source": [
        "for id,data in enumerate(test_dataloader):\n",
        "    # get the inputs\n",
        "    the_tensor, labels = data[0],data[1]\n",
        "    print(labels)\n",
        "\n",
        "    if id>3:\n",
        "      break"
      ],
      "metadata": {
        "colab": {
          "base_uri": "https://localhost:8080/"
        },
        "id": "9uQYiPHQ-Qzs",
        "outputId": "1b1f93e2-f4fd-4614-e2d8-1c52bcaf4f9e"
      },
      "execution_count": 136,
      "outputs": [
        {
          "output_type": "stream",
          "name": "stdout",
          "text": [
            "tensor([[58.7970]])\n",
            "tensor([[43.8031]])\n",
            "tensor([[26.]])\n",
            "tensor([[47.1855]])\n",
            "tensor([[34.7500]])\n"
          ]
        }
      ]
    },
    {
      "cell_type": "code",
      "source": [
        "import torch.nn.functional as F\n",
        "\n",
        "\n",
        "def l1_l2_loss(pred, true, l1_weight, scores_dict):\n",
        "    \"\"\"\n",
        "    Regularized MSE loss; l2 loss with l1 loss too.\n",
        "\n",
        "    Parameters\n",
        "    ----------\n",
        "    \n",
        "    Returns\n",
        "    ----------\n",
        "    loss: the regularized mse loss\n",
        "    \"\"\"\n",
        "    loss = F.mse_loss(pred, true)\n",
        "\n",
        "    scores_dict[\"l2\"].append(loss.item())\n",
        "\n",
        "    if l1_weight > 0:\n",
        "        l1 = F.l1_loss(pred, true)\n",
        "        loss += l1\n",
        "        scores_dict[\"l1\"].append(l1.item())\n",
        "    scores_dict[\"loss\"].append(loss.item())\n",
        "\n",
        "    return loss, scores_dict"
      ],
      "metadata": {
        "id": "KgMMUYZQFhfd"
      },
      "execution_count": 137,
      "outputs": []
    },
    {
      "cell_type": "code",
      "source": [
        "!pip install tqdm\n"
      ],
      "metadata": {
        "colab": {
          "base_uri": "https://localhost:8080/"
        },
        "id": "rBkQab1nKO_7",
        "outputId": "b473e59a-550c-42bc-8c30-a7231c8fa046"
      },
      "execution_count": 127,
      "outputs": [
        {
          "output_type": "stream",
          "name": "stdout",
          "text": [
            "Looking in indexes: https://pypi.org/simple, https://us-python.pkg.dev/colab-wheels/public/simple/\n",
            "Requirement already satisfied: tqdm in /usr/local/lib/python3.7/dist-packages (4.64.1)\n"
          ]
        }
      ]
    },
    {
      "cell_type": "code",
      "source": [
        "from torch.autograd import Variable\n",
        "from torch.optim.lr_scheduler import StepLR\n",
        "from torch import optim\n",
        "import pandas as pd\n",
        "from tqdm import tqdm\n",
        "\n",
        "use_gpu =torch.cuda.is_available()\n",
        "criterion = nn.MSELoss()\n",
        "\n",
        "def validation(Model,val_dataloader):\n",
        "    # fig = plt.figure()\n",
        "    val_loss=[]\n",
        "    target=[]\n",
        "    running_loss=0.0\n",
        "    counter=0\n",
        "    Model.eval()\n",
        "    for data in tqdm(val_dataloader)  :\n",
        "        counter+=1\n",
        "        input1, labels = data\n",
        "        \n",
        "        # wrap them in Variable\n",
        "        if use_gpu:\n",
        "            input1 = Variable(input1.cuda())\n",
        "\n",
        "            labels = Variable(labels.cuda())\n",
        "        else:\n",
        "            input1,  labels = Variable(input1),  Variable(labels)\n",
        "\n",
        "        # forward\n",
        "        outputs = Model(input1)  \n",
        "\n",
        "        loss = criterion(outputs, labels)\n",
        "\n",
        "\n",
        "        # statistics\n",
        "        running_loss += loss.item()\n",
        "\n",
        "    epoch_loss = running_loss / counter\n",
        "\n",
        "    return epoch_loss \n",
        "def teste(Model,test_dataloader):\n",
        "    # fig = plt.figure()\n",
        "    val_loss=[]\n",
        "    target=[]\n",
        "    running_loss=0.0\n",
        "    counter=0\n",
        "    Model.eval()\n",
        "    for id,data in enumerate(test_dataloader)  :\n",
        "        counter+=1\n",
        "        input1, labels = data[0],data[1]\n",
        "        \n",
        "        # wrap them in Variable\n",
        "        if use_gpu:\n",
        "            input1 = Variable(input1.cuda())\n",
        "\n",
        "            labels = Variable(labels.cuda())\n",
        "        else:\n",
        "            input1,  labels = Variable(input1),  Variable(labels)\n",
        "\n",
        "        # forward\n",
        "        outputs = Model(input1)  \n",
        "\n",
        "        loss = criterion(outputs, labels)\n",
        "\n",
        "\n",
        "        # statistics\n",
        "        running_loss += loss.item()\n",
        "\n",
        "    epoch_loss = running_loss / counter\n",
        "\n",
        "    return epoch_loss   \n",
        "def training_step(MODEL,\n",
        "                  train_dataloader,\n",
        "                  val_dataloader,\n",
        "                  test_dataloader,                  \n",
        "                  num_epochs=10,\n",
        "                  model_name='reg_resnet',\n",
        "                  root_save='./content/'):\n",
        "\n",
        "  criterion = nn.MSELoss()\n",
        "  model_s=MODEL()\n",
        "  use_gpu =torch.cuda.is_available()\n",
        "\n",
        "  \n",
        "  if use_gpu:\n",
        "\n",
        "      model_s = model_s.cuda()\n",
        "\n",
        "  optimizer = optim.Adam(model_s.parameters(), lr=1e-3, weight_decay=0.0005)\n",
        "\n",
        "  # optimizer=optim.Adam(model.parameters(),lr=3e-4,weight_decay=6e-5)\n",
        "  scheduler = StepLR(optimizer, step_size=20, gamma=0.7)\n",
        "  # num_epochs=100\n",
        "  train_loss=[]\n",
        "  val_loss = []\n",
        "  test_loss =[]\n",
        "  oldLoss=np.Inf\n",
        "  prefixe =''\n",
        "  for epoch in range(num_epochs):\n",
        "\n",
        "\n",
        "      # Each epoch has a training and validation phase\n",
        "\n",
        "      running_train_scores = defaultdict(list)\n",
        "      l1_weight = 0\n",
        "      running_loss = 0.0\n",
        "      # running_corrects = 0\n",
        "      counter=0\n",
        "      # Iterate over data.\n",
        "      for data in tqdm(train_dataloader):\n",
        "          # get the inputs\n",
        "          input1, labels = data\n",
        "          counter=counter+1\n",
        "          # wrap them in Variable\n",
        "          if use_gpu:\n",
        "              input1 = Variable(input1.cuda())\n",
        "\n",
        "              labels = Variable(labels.cuda())\n",
        "          else:\n",
        "              input1, labels = Variable(input1), Variable(labels)\n",
        "\n",
        "          # zero the parameter gradients\n",
        "          optimizer.zero_grad()\n",
        "\n",
        "          # forward\n",
        "          outputs = model_s(input1)\n",
        "          loss = criterion(outputs, labels)\n",
        "          loss.backward()\n",
        "\n",
        "          optimizer.step()\n",
        "\n",
        "          running_loss += loss.item()\n",
        "        \n",
        "\n",
        "      epoch_loss = running_loss / counter\n",
        "      train_loss.append(epoch_loss)\n",
        "      scheduler.step()\n",
        "\n",
        "      if epoch %10 ==0 :\n",
        "        loss_val=validation(model_s,val_dataloader)\n",
        "\n",
        "        if oldLoss>loss_val and counter>0:\n",
        "            oldLoss=loss_val\n",
        "            Models=model_s\n",
        "            torch.save(Models.state_dict(), root_save+prefixe+model_name+'_.pt')\n",
        "        \n",
        "        # loss_val=validation(model_s,val_dataloader)\n",
        "        val_loss.append(loss_val)\n",
        "      # epoch_acc = running_corrects / dataset_sizes[phase]\n",
        "        df_train= pd.DataFrame(data=train_loss)\n",
        "        df_val= pd.DataFrame(data=val_loss)\n",
        "        # df_test = pd.DataFrame(data=test_loss)\n",
        "        df_train.to_csv(root_save +prefixe+model_name+'_train_loss.csv')\n",
        "        df_val.to_csv(root_save +prefixe+model_name+'_val_loss.csv')\n",
        "\n",
        "        tloss = teste(model_s,test_dataloader)\n",
        "        test_loss.append(tloss)\n",
        "        df_test= pd.DataFrame(data=test_loss)\n",
        "        df_test.to_csv(root_save +prefixe+model_name+'_test_loss.csv')        \n",
        "        print('Epoch {}/{}'.format(epoch, num_epochs - 1))\n",
        "        print('-' * 10)        \n",
        "        print('epoch: {} Loss: {:.4f}  val_loss: {} test_loss: {}'.format(\n",
        "            epoch,epoch_loss,loss_val,tloss))\n",
        "  # loss_val=validation(model_s,test_dataloader)\n",
        "  # val_loss.append(loss_val)\n",
        "        loss_val=validation(model_s,val_dataloader)\n",
        "\n",
        "  if oldLoss>loss_val and counter>0:\n",
        "      oldLoss=loss_val\n",
        "      Models=model_s\n",
        "      torch.save(Models.state_dict(), root_save+prefixe+model_name+'_.pt')\n",
        "    \n",
        "  out={}\n",
        "  out['test_loss']=test_loss\n",
        "  out['val_loss']=val_loss\n",
        "  out['train_loss'] = train_loss\n",
        "  out['model'] = Models\n",
        "  return out"
      ],
      "metadata": {
        "id": "wmN2FvL8BvIv"
      },
      "execution_count": 128,
      "outputs": []
    },
    {
      "cell_type": "code",
      "source": [
        "MODEL = Model_\n",
        "result=training_step(MODEL,\n",
        "                  train_dataloader,\n",
        "                  val_dataloader,\n",
        "                  test_dataloader,\n",
        "                  num_epochs=100,\n",
        "                  model_name='reg_resnet',\n",
        "                  root_save='./')"
      ],
      "metadata": {
        "id": "sexnwPHLC61l"
      },
      "execution_count": null,
      "outputs": []
    },
    {
      "cell_type": "code",
      "source": [
        "import matplotlib.pyplot as plt\n",
        "from sklearn.metrics import mean_squared_error,r2_score,mean_absolute_percentage_error\n",
        "def plots(  predict, target,title=None,root='./'):\n",
        "    \"\"\"\n",
        "    Function to save the loss and accuracy plots to disk.\n",
        "    \"\"\"\n",
        "\n",
        "    # loss plots\n",
        "    plt.figure(figsize=(10, 7))\n",
        "    plt.plot(\n",
        "        predict, color='orange', linestyle='-', \n",
        "        label='Predict'\n",
        "    )\n",
        "    plt.plot(\n",
        "        target, color='red', linestyle='-', \n",
        "        label='Target'\n",
        "    )\n",
        "    plt.xlabel('No Sample')\n",
        "    plt.ylabel('weight')\n",
        "    plt.title(title)\n",
        "    plt.legend()\n",
        "    plt.savefig(f\"{root}{title}.png\")\n",
        "def visualize_predict_target(model,data,title=None,root='./'):\n",
        "    images_so_far = 0\n",
        "    # fig = plt.figure()\n",
        "    predict=[]\n",
        "    target=[]\n",
        "    model.eval()\n",
        "    for data in data:\n",
        "        # get the inputs\n",
        "        input1, labels = data[0],data[1]\n",
        "        \n",
        "        # wrap them in Variable\n",
        "        if use_gpu:\n",
        "            input1 = Variable(input1.cuda())\n",
        "\n",
        "            labels = Variable(labels.cuda())\n",
        "        else:\n",
        "            input1, labels = Variable(input1),  Variable(labels)\n",
        "\n",
        "        # forward\n",
        "        outputs = model(input1)\n",
        "        # print(outputs.size())\n",
        "        predict.append(outputs[0].item())\n",
        "        target.append(labels[0].item())\n",
        "    plots(  predict, target,title,root)\n",
        "    score={}\n",
        "\n",
        "    score['mse']=mean_squared_error( target,predict)\n",
        "    score['rmse']=mean_squared_error( target,predict,squared=False)\n",
        "\n",
        "    score['r2score']=r2_score( target,predict)\n",
        "    score['mape'] =mean_absolute_percentage_error( target,predict)\n",
        "    print(score)\n",
        "    return predict, target,score"
      ],
      "metadata": {
        "id": "uSNa5SeUNNxB"
      },
      "execution_count": null,
      "outputs": []
    },
    {
      "cell_type": "code",
      "source": [
        "predict, target,metrics= visualize_predict_target(result['model'],test_dataloader,title='test',root='./')"
      ],
      "metadata": {
        "id": "29CuUR7TQRty"
      },
      "execution_count": null,
      "outputs": []
    }
  ]
}