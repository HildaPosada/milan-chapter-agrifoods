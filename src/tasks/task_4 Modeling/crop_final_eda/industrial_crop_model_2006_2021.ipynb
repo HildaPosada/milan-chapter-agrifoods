{
 "cells": [
  {
   "cell_type": "markdown",
   "id": "515a39f5",
   "metadata": {},
   "source": [
    "# Omdena  - Milan Chapter Agrifoods\n",
    "## AI for Sustainable agri-food systems: use of Satellite Imagery\n",
    "### Data Exploration for industrial crop in Italy 2006-2021\n",
    "#### Author: Maria Fisher \n"
   ]
  },
  {
   "cell_type": "markdown",
   "id": "8f1ddaa7",
   "metadata": {},
   "source": [
    "The main objective of this study is to have gather information about crop production in Italy for the period of 2006-2021. \n",
    "\n",
    "Crop dataset used in this study was downloaded from the Italian National Institute of Statistics (Istat).\n",
    "\n"
   ]
  },
  {
   "cell_type": "code",
   "execution_count": null,
   "id": "e17f5b17",
   "metadata": {},
   "outputs": [],
   "source": [
    "import warnings \n",
    "warnings.filterwarnings(\"ignore\")\n",
    "\n",
    "import os\n",
    "import pandas as pd\n",
    "pd.options.display.float_format = \"{:.2f}\".format\n",
    "import numpy as np\n",
    "import matplotlib.pyplot as plt\n",
    "import matplotlib.dates as mdates\n",
    "import statsmodels.api as sm\n",
    "from statsmodels.stats.outliers_influence import variance_inflation_factor\n",
    "import seaborn as sns \n",
    "import scipy \n",
    "import sklearn\n",
    "import geopandas as gpd\n",
    "import pgeocode\n",
    "import folium\n",
    "import sys\n",
    "import plotly.graph_objs as go\n",
    "from plotly.offline import download_plotlyjs, init_notebook_mode, iplot, plot"
   ]
  },
  {
   "cell_type": "code",
   "execution_count": null,
   "id": "67d703c2",
   "metadata": {
    "scrolled": false
   },
   "outputs": [],
   "source": [
    "industrial_crop = pd.read_csv('industrial_crop_final_2006-2021.csv',skipinitialspace=True)\n",
    "industrial_crop.head()"
   ]
  },
  {
   "cell_type": "code",
   "execution_count": null,
   "id": "ebd89919",
   "metadata": {},
   "outputs": [],
   "source": []
  },
  {
   "cell_type": "code",
   "execution_count": null,
   "id": "a40f9095",
   "metadata": {},
   "outputs": [],
   "source": []
  },
  {
   "cell_type": "markdown",
   "id": "cbbf3502",
   "metadata": {},
   "source": [
    "## Pre-processing dataset "
   ]
  },
  {
   "cell_type": "code",
   "execution_count": null,
   "id": "b66f7440",
   "metadata": {
    "scrolled": true
   },
   "outputs": [],
   "source": [
    "def show_info(industrial_crop):\n",
    "    print('DATASET SHAPE: ',industrial_crop.shape, '\\n')\n",
    "    print('-'*50)\n",
    "    print('FEATURE DATA TYPES:')\n",
    "    print(industrial_crop.info())\n",
    "    print('\\n', '-'*50)\n",
    "    print('NUMBER OF UNIQUE VALUES PER FEATURE:', '\\n')\n",
    "    print(industrial_crop.nunique())\n",
    "    print('\\n', '-'*50)\n",
    "    print('NULL VALUES PER FEATURE')\n",
    "    print(industrial_crop.isnull().sum())\n",
    "show_info(industrial_crop)"
   ]
  },
  {
   "cell_type": "code",
   "execution_count": null,
   "id": "9074f730",
   "metadata": {
    "scrolled": true
   },
   "outputs": [],
   "source": [
    "industrial_crop.describe()"
   ]
  },
  {
   "cell_type": "markdown",
   "id": "65ec177d",
   "metadata": {},
   "source": [
    "## Total industrial_crop production in 2006-2021"
   ]
  },
  {
   "cell_type": "code",
   "execution_count": null,
   "id": "a89b8063",
   "metadata": {},
   "outputs": [],
   "source": []
  },
  {
   "cell_type": "code",
   "execution_count": null,
   "id": "912e4e9e",
   "metadata": {},
   "outputs": [],
   "source": [
    "industrial_crop = industrial_crop.rename(columns={\"total_production\":\"production_tonnes\"})"
   ]
  },
  {
   "cell_type": "code",
   "execution_count": null,
   "id": "02641bfa",
   "metadata": {
    "scrolled": true
   },
   "outputs": [],
   "source": [
    "plt.figure(figsize= (10,5))\n",
    "sns.barplot(x= 'Year', y= 'production_tonnes',data =industrial_crop,palette='coolwarm')\n",
    "plt.title('Total industrial crop production 2006-2021')\n",
    "plt.xlabel('Year')\n",
    "plt.ylabel('Total production (tonnes)')\n",
    "plt.show()\n",
    "\n"
   ]
  },
  {
   "cell_type": "code",
   "execution_count": null,
   "id": "9f8e7238",
   "metadata": {},
   "outputs": [],
   "source": []
  },
  {
   "cell_type": "markdown",
   "id": "393be3d5",
   "metadata": {},
   "source": [
    "## Cereal production by Cities "
   ]
  },
  {
   "cell_type": "code",
   "execution_count": null,
   "id": "69163d69",
   "metadata": {},
   "outputs": [],
   "source": [
    "industrial_crop_region =industrial_crop.groupby(by =industrial_crop.City)['production_tonnes','City'].sum().reset_index().sort_values(by = 'production_tonnes', ascending = False).head(10)\n",
    "industrial_crop_region"
   ]
  },
  {
   "cell_type": "code",
   "execution_count": null,
   "id": "7ba289ea",
   "metadata": {
    "scrolled": true
   },
   "outputs": [],
   "source": [
    "plt.figure(figsize= (7,5))\n",
    "sns.barplot(x=industrial_crop_region['production_tonnes'],y=industrial_crop_region['City'], orient='h', palette='coolwarm');\n",
    "plt.title('Total industrial crop production 2006-2021 by City')\n",
    "plt.xlabel('Total production')\n",
    "plt.ylabel('Cities')\n",
    "plt.show()"
   ]
  },
  {
   "cell_type": "markdown",
   "id": "91972548",
   "metadata": {},
   "source": [
    "##industrial_crop highest production 2006-2021"
   ]
  },
  {
   "cell_type": "code",
   "execution_count": null,
   "id": "ec7ec369",
   "metadata": {
    "scrolled": true
   },
   "outputs": [],
   "source": [
    "print(industrial_crop.Type_crop.max())\n",
    "print(industrial_crop.Type_crop.value_counts())\n",
    "print(industrial_crop.Type_crop.nunique())\n",
    "\n"
   ]
  },
  {
   "cell_type": "code",
   "execution_count": null,
   "id": "c7b7a0d8",
   "metadata": {},
   "outputs": [],
   "source": []
  },
  {
   "cell_type": "markdown",
   "id": "e9863584",
   "metadata": {},
   "source": [
    "\n"
   ]
  },
  {
   "cell_type": "code",
   "execution_count": null,
   "id": "0015846c",
   "metadata": {},
   "outputs": [],
   "source": []
  },
  {
   "cell_type": "code",
   "execution_count": null,
   "id": "df3f91d3",
   "metadata": {},
   "outputs": [],
   "source": [
    "print(industrial_crop.total_ha.max())\n",
    "print(industrial_crop.total_ha.min())\n",
    "print(industrial_crop.total_ha.value_counts())\n",
    "print(industrial_crop.total_ha.nunique())\n"
   ]
  },
  {
   "cell_type": "code",
   "execution_count": null,
   "id": "2afa6642",
   "metadata": {},
   "outputs": [],
   "source": [
    "industrial_crop.drop(industrial_crop[industrial_crop['total_ha'] == 0.00 ].index , inplace=True)"
   ]
  },
  {
   "cell_type": "code",
   "execution_count": null,
   "id": "dab7562e",
   "metadata": {},
   "outputs": [],
   "source": [
    "industrial_crop.describe().astype(int)"
   ]
  },
  {
   "cell_type": "code",
   "execution_count": null,
   "id": "affe1304",
   "metadata": {},
   "outputs": [],
   "source": [
    "# rename \n",
    "\n",
    "industrial_crop = industrial_crop.replace('valerian in greenhouses','valerian-ghouse')\n",
    "industrial_crop = industrial_crop.replace('sweet basil in greenhouses','basil-ghouse')\n",
    "industrial_crop = industrial_crop.replace('other aromatic, medicinal and culinary plants','aromatic-medicinal')\n",
    "industrial_crop = industrial_crop.replace('parsley in greenhouses','parsley-ghouse')\n",
    "industrial_crop = industrial_crop.replace('parsley in open field','parsley-field')\n",
    "industrial_crop = industrial_crop.replace('other oilseed crops (excluding sesame)','oilseeds(No-sesame)')\n",
    "industrial_crop = industrial_crop.replace('other textile crops','textile-crops')\n"
   ]
  },
  {
   "cell_type": "code",
   "execution_count": null,
   "id": "13c50793",
   "metadata": {},
   "outputs": [],
   "source": [
    "plt.figure(figsize=(7,3))\n",
    "industrial_crop['Type_crop'].value_counts().plot.bar()\n",
    "plt.title('Total findustrial crop production 2006-2021 by crop')\n",
    "plt.ylabel('Total production (tonnes)')\n",
    "plt.show()\n"
   ]
  },
  {
   "cell_type": "markdown",
   "id": "4be4c02c",
   "metadata": {},
   "source": [
    "## Subseting data"
   ]
  },
  {
   "cell_type": "code",
   "execution_count": null,
   "id": "988ecfe5",
   "metadata": {},
   "outputs": [],
   "source": [
    "industrial_crop"
   ]
  },
  {
   "cell_type": "code",
   "execution_count": null,
   "id": "649730a4",
   "metadata": {
    "scrolled": true
   },
   "outputs": [],
   "source": [
    "industrial_crop_top10 = industrial_crop.apply(lambda row: row[industrial_crop['Type_crop'].isin(['valerian-ghouse', 'basil-ghouse', 'sunflower', 'rape', \n",
    "                                                                                                 'soya beans', 'hemp', 'parsley-field', \n",
    "                                                                                                  'parsley-ghouse', 'tobacco', 'flax'])])\n",
    "\n",
    "industrial_crop_top10.head()"
   ]
  },
  {
   "cell_type": "code",
   "execution_count": null,
   "id": "d80df131",
   "metadata": {},
   "outputs": [],
   "source": [
    "Q1 = industrial_crop_top10.quantile(0.25)\n",
    "Q3 = industrial_crop_top10.quantile(0.75)\n",
    "IQR = Q3 - Q1\n",
    "print(IQR)"
   ]
  },
  {
   "cell_type": "code",
   "execution_count": null,
   "id": "132579f6",
   "metadata": {},
   "outputs": [],
   "source": [
    "# Remove outliers\n",
    "industrial_crop_top10 = industrial_crop_top10[~((industrial_crop_top10 < (Q1 - 1.5 * IQR)) | (industrial_crop_top10 > (Q3 + 1.5 * IQR))).any(axis=1)]\n",
    "print(industrial_crop_top10.shape)"
   ]
  },
  {
   "cell_type": "code",
   "execution_count": null,
   "id": "a01a4996",
   "metadata": {},
   "outputs": [],
   "source": [
    "#Box plot and histplot (crop production distribuition)\n",
    "\n",
    "plt.figure(figsize=(13,5))\n",
    "\n",
    "plt.subplot(1,2,1)\n",
    "sns.boxplot(data=industrial_crop_top10, x='production_tonnes', y=\"Type_crop\",  color = 'darkblue', dodge=False)\n",
    "\n",
    "plt.title(f'Box Plot total industrial crop production ')\n",
    "\n",
    "plt.subplot(1,2,2)\n",
    "sns.histplot(data=industrial_crop_top10, x= 'production_tonnes',  color = 'darkblue', kde=True, bins = 80)\n",
    "plt.title(f'Distribution total industrial crop production')\n",
    "\n",
    "plt.show()\n",
    "\n"
   ]
  },
  {
   "cell_type": "code",
   "execution_count": null,
   "id": "b999656d",
   "metadata": {},
   "outputs": [],
   "source": [
    "#Box plot and histplot of total area(ha)\n",
    "\n",
    "plt.figure(figsize=(16,5))\n",
    "\n",
    "plt.subplot(1,2,1)\n",
    "sns.boxplot(data=industrial_crop_top10, x='Year', y=\"total_ha\",  color = 'darkblue', dodge=False)\n",
    "\n",
    "plt.title(f'Box Plot total area (ha)')\n",
    "\n",
    "plt.subplot(1,2,2)\n",
    "sns.histplot(data=industrial_crop_top10, x= 'total_ha',  color = 'darkblue', kde=True, bins = 80)\n",
    "plt.title(f'Distribution total total area (ha)')\n",
    "\n",
    "plt.show()"
   ]
  },
  {
   "cell_type": "code",
   "execution_count": null,
   "id": "d74957a3",
   "metadata": {},
   "outputs": [],
   "source": [
    "print(industrial_crop_top10.total_ha.max())\n",
    "print(industrial_crop_top10.total_ha.min())\n",
    "print(industrial_crop_top10.total_ha.value_counts())\n",
    "print(industrial_crop_top10.total_ha.nunique())\n"
   ]
  },
  {
   "cell_type": "code",
   "execution_count": null,
   "id": "63ad76bb",
   "metadata": {},
   "outputs": [],
   "source": [
    "print(industrial_crop_top10.Fertilizers_tonnes.max())\n",
    "\n"
   ]
  },
  {
   "cell_type": "code",
   "execution_count": null,
   "id": "0c871628",
   "metadata": {},
   "outputs": [],
   "source": [
    "fig, ax = plt.subplots(3,1, sharex=True, figsize=(8,11))\n",
    "fig.autofmt_xdate()\n",
    "\n",
    "industrial_crop['Year'] = (industrial_crop['Year']).astype(str)\n",
    "\n",
    "# Total crop production\n",
    "crops =industrial_crop[['Year', 'production_tonnes']]\n",
    "crops = crops.groupby('Year').mean()\n",
    "sns.lineplot(data= crops, x=\"Year\", y=\"production_tonnes\", ax=ax[0])\n",
    "\n",
    "# Total area\n",
    "crops =industrial_crop[['Year', 'total_ha']]\n",
    "crops = crops.groupby('Year').mean()\n",
    "sns.lineplot(data= crops, x=\"Year\", y=\"total_ha\", ax=ax[1])\n",
    "\n",
    "# Ferlizers\n",
    "fertilizers =industrial_crop[['Year', 'Fertilizers_tonnes']]\n",
    "fertilizers = fertilizers.groupby('Year').mean()\n",
    "\n",
    "sns.lineplot(data= fertilizers, x=\"Year\", y=\"Fertilizers_tonnes\", ax=ax[2])\n",
    "\n",
    "\n"
   ]
  },
  {
   "cell_type": "code",
   "execution_count": null,
   "id": "fae9cace",
   "metadata": {
    "scrolled": false
   },
   "outputs": [],
   "source": [
    "#Crop harvested by year\n",
    "\n",
    "plotcrop10 = sns.relplot(kind='line', data=industrial_crop_top10, x='Year', \n",
    "                         y='production_tonnes', hue='Type_crop', style='Type_crop', aspect=1.75)\n"
   ]
  },
  {
   "cell_type": "code",
   "execution_count": null,
   "id": "86b9b754",
   "metadata": {},
   "outputs": [],
   "source": [
    "#Fertilizers distributed by year\n",
    "\n",
    "plotfertilizers10 = sns.relplot(kind='line', data=industrial_crop_top10, x='Year', \n",
    "                         y='Fertilizers_tonnes', hue='Type_fertilizer', style='Type_fertilizer', aspect=1.75)"
   ]
  },
  {
   "cell_type": "code",
   "execution_count": null,
   "id": "3652807f",
   "metadata": {},
   "outputs": [],
   "source": []
  },
  {
   "cell_type": "markdown",
   "id": "d3c12fd0",
   "metadata": {},
   "source": [
    "# Climate data analysis"
   ]
  },
  {
   "cell_type": "markdown",
   "id": "414dfdb3",
   "metadata": {},
   "source": [
    "|Param_Code|Param_Name|Resolution|Depth [m]|Units|\n",
    "|:--------:|:--------:|:--------:|:-------:|:---:|\n",
    "|GWETPROF|Profile Soil Moisture|0.5° x 0.625°|1.34 - 8.53|water-free [0], saturated soil[1]| \n",
    "|GWETTOP|Surface Soil Wetness|0.5° x 0.625°|0.00 - 0.05| water-free [0], saturated soil[1]|\n",
    "|GWETROOT|Root Zone Soil Wetness|0.5° x 0.625°|0.10 - 1.00|water-free [0], saturated soil[1]|\n",
    "|CLOUD_AMT|Cloud Amount|---|---|%|\n",
    "|TS|Earth Skin Temperature|---|---|°C|\n",
    "|PS|Surface Pressure|---|---|kPa|\n",
    "|RH2M|Relative Humidity at 2 Meters|---|---|%|\n",
    "|QV2M|Specific Humidity at 2 Meters|---|---|g/kg|\n",
    "|PRECTOTCORR|Precipitation Corrected|---|---|mm/day|\n",
    "|T2M_MAX|Temperature at 2 Meters Maximum|---|---|°C|\n",
    "|T2M_MIN|Temperature at 2 Meters Minimum|---|---|°C|\n",
    "|T2M_RANGE|Temperature at 2 Meters Range|---|---|°C|\n",
    "|WS2M|Wind Speed at 2 Meters|---|---|m/s|\n",
    "\n",
    "\n",
    "  \n",
    "\n",
    "*Precipitation Corrected (PRECTOTCORR)- [The bias corrected average of total precipitation at the surface of the earth in water mass (includes water content in snow)]\n",
    "\n",
    "*Source? https://power.larc.nasa.gov/#resources"
   ]
  },
  {
   "cell_type": "code",
   "execution_count": null,
   "id": "289888de",
   "metadata": {
    "scrolled": true
   },
   "outputs": [],
   "source": [
    "\n",
    "fig, ax = plt.subplots(3, 2, sharex=True, figsize=(20,10))\n",
    "\n",
    "fig.suptitle('Climate in Italy 2006 - 2021')\n",
    "\n",
    "industrial_crop['Year'] = (industrial_crop['Year']).astype(str)\n",
    "\n",
    "# relative_humidity\n",
    "sns.lineplot(data=industrial_crop, x=\"Year\", y=\"RH2M\", ax=ax[0,0])\n",
    "\n",
    "# precipitation\n",
    "sns.lineplot(data=industrial_crop, x=\"Year\", y=\"PRECTOTCORR\", ax=ax[0,1])\n",
    "\n",
    "# temp_max\n",
    "sns.lineplot(data=industrial_crop, x=\"Year\", y=\"T2M_MIN\", ax=ax[1,0])\n",
    "\n",
    "# temp_min\n",
    "sns.lineplot(data=industrial_crop, x=\"Year\", y=\"T2M_MAX\", ax=ax[1,1])\n",
    "\n",
    "# surface_soil_wetness\n",
    "sns.lineplot(data=industrial_crop, x=\"Year\", y=\"GWETTOP\", ax=ax[2,0])\n",
    "\n",
    "# root_zone_wetness\n",
    "sns.lineplot(data=industrial_crop, x=\"Year\", y=\"GWETROOT\", ax=ax[2,1])\n"
   ]
  },
  {
   "cell_type": "code",
   "execution_count": null,
   "id": "5bedf7b7",
   "metadata": {},
   "outputs": [],
   "source": [
    "industrial_crop"
   ]
  },
  {
   "cell_type": "code",
   "execution_count": null,
   "id": "d1ed9ac6",
   "metadata": {},
   "outputs": [],
   "source": []
  },
  {
   "cell_type": "code",
   "execution_count": null,
   "id": "646a0596",
   "metadata": {},
   "outputs": [],
   "source": []
  },
  {
   "cell_type": "code",
   "execution_count": null,
   "id": "2aab5a4b",
   "metadata": {},
   "outputs": [],
   "source": [
    "industrial_crop_model =industrial_crop_top10.drop(columns =['Year','PS','TS','GWETTOP', 'QV2M','WS2M','T2M_RANGE','GWETPROF','CLOUD_AMT','PRECTOTCORR','lat', 'lon'  ])\n",
    "industrial_crop_model"
   ]
  },
  {
   "cell_type": "code",
   "execution_count": null,
   "id": "229c7592",
   "metadata": {},
   "outputs": [],
   "source": [
    "industrial_crop_model = industrial_crop_model.to_csv('industrial_crop_model.csv', index=False)"
   ]
  },
  {
   "cell_type": "code",
   "execution_count": null,
   "id": "efb456ef",
   "metadata": {},
   "outputs": [],
   "source": []
  },
  {
   "cell_type": "code",
   "execution_count": null,
   "id": "5447acb3",
   "metadata": {},
   "outputs": [],
   "source": []
  },
  {
   "cell_type": "code",
   "execution_count": null,
   "id": "d0a87ce3",
   "metadata": {},
   "outputs": [],
   "source": []
  },
  {
   "cell_type": "markdown",
   "id": "464f6eee",
   "metadata": {},
   "source": [
    "# References\n",
    "\n",
    "\n",
    "http://dati.istat.it\n",
    "\n",
    "https://maps.princeton.edu/catalog/stanford-mn871sp9778\n",
    "\n",
    "https://www.crea.gov.it/documents/68457/0/ITACONTA+2020_ENG+DEF+xweb+%281%29.pdf/95c6b30a-1e18-8e94-d4ac-ce884aef76e8?t=1619527317576\n",
    "\n",
    "https://seaborn.pydata.org/generated/seaborn.relplot.html\n",
    "\n",
    "https://www.statisticshowto.com/variance-inflation-factor/\n",
    "\n",
    "https://statisticsbyjim.com/regression/multicollinearity-in-regression-analysis/\n",
    "\n",
    "https://lost-stats.github.io/Presentation/Figures/heatmap_colored_correlation_matrix.html\n",
    "\n",
    "https://plotly.com/python/box-plots/\n",
    "\n",
    "https://pycaret.org/"
   ]
  },
  {
   "cell_type": "code",
   "execution_count": null,
   "id": "e9bbc9d8",
   "metadata": {},
   "outputs": [],
   "source": []
  },
  {
   "cell_type": "code",
   "execution_count": null,
   "id": "835fc1ef",
   "metadata": {},
   "outputs": [],
   "source": []
  }
 ],
 "metadata": {
  "kernelspec": {
   "display_name": "Python 3 (ipykernel)",
   "language": "python",
   "name": "python3"
  },
  "language_info": {
   "codemirror_mode": {
    "name": "ipython",
    "version": 3
   },
   "file_extension": ".py",
   "mimetype": "text/x-python",
   "name": "python",
   "nbconvert_exporter": "python",
   "pygments_lexer": "ipython3",
   "version": "3.11.0"
  }
 },
 "nbformat": 4,
 "nbformat_minor": 5
}
