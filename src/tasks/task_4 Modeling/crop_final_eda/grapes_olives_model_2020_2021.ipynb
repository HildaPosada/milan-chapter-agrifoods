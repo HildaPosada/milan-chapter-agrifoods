{
 "cells": [
  {
   "cell_type": "markdown",
   "id": "515a39f5",
   "metadata": {},
   "source": [
    "# Omdena  - Milan Chapter Agrifoods\n",
    "## AI for Sustainable agri-food systems: use of Satellite Imagery\n",
    "### Data Exploration for grapes olives in Italy 2020-2021\n",
    "#### Author: Maria Fisher \n"
   ]
  },
  {
   "cell_type": "markdown",
   "id": "8f1ddaa7",
   "metadata": {},
   "source": [
    "The main objective of this study is to have gather information about crop production in Italy for the period of 2020-2021. \n",
    "\n",
    "Crop dataset used in this study was downloaded from the Italian National Institute of Statistics (Istat).\n",
    "\n"
   ]
  },
  {
   "cell_type": "code",
   "execution_count": null,
   "id": "e17f5b17",
   "metadata": {},
   "outputs": [],
   "source": [
    "import warnings \n",
    "warnings.filterwarnings(\"ignore\")\n",
    "\n",
    "import os\n",
    "import pandas as pd\n",
    "pd.options.display.float_format = \"{:.2f}\".format\n",
    "import numpy as np\n",
    "import matplotlib.pyplot as plt\n",
    "import matplotlib.dates as mdates\n",
    "import statsmodels.api as sm\n",
    "from statsmodels.stats.outliers_influence import variance_inflation_factor\n",
    "import seaborn as sns \n",
    "import scipy \n",
    "import sklearn\n",
    "import geopandas as gpd\n",
    "import pgeocode\n",
    "import folium\n",
    "import sys\n",
    "import plotly.graph_objs as go\n",
    "from plotly.offline import download_plotlyjs, init_notebook_mode, iplot, plot"
   ]
  },
  {
   "cell_type": "code",
   "execution_count": null,
   "id": "67d703c2",
   "metadata": {
    "scrolled": false
   },
   "outputs": [],
   "source": [
    "grapes_olives = pd.read_csv('grapes-olives_final_2006-2021.csv',skipinitialspace=True)\n",
    "grapes_olives.head()"
   ]
  },
  {
   "cell_type": "code",
   "execution_count": null,
   "id": "1d5df19c",
   "metadata": {},
   "outputs": [],
   "source": [
    "grapes_olives. \tType_crop.unique()"
   ]
  },
  {
   "cell_type": "code",
   "execution_count": null,
   "id": "dbb70e63",
   "metadata": {},
   "outputs": [],
   "source": [
    "grapes_olives = grapes_olives[grapes_olives[\"Year\"] > 2019]"
   ]
  },
  {
   "cell_type": "code",
   "execution_count": null,
   "id": "ebd89919",
   "metadata": {},
   "outputs": [],
   "source": [
    "grapes_olives. \tType_crop.unique()"
   ]
  },
  {
   "cell_type": "code",
   "execution_count": null,
   "id": "a40f9095",
   "metadata": {},
   "outputs": [],
   "source": [
    "grapes_olives.describe()"
   ]
  },
  {
   "cell_type": "markdown",
   "id": "cbbf3502",
   "metadata": {},
   "source": [
    "## Pre-processing dataset "
   ]
  },
  {
   "cell_type": "code",
   "execution_count": null,
   "id": "b66f7440",
   "metadata": {
    "scrolled": true
   },
   "outputs": [],
   "source": [
    "def show_info(grapes_olives):\n",
    "    print('DATASET SHAPE: ', grapes_olives.shape, '\\n')\n",
    "    print('-'*50)\n",
    "    print('FEATURE DATA TYPES:')\n",
    "    print(grapes_olives.info())\n",
    "    print('\\n', '-'*50)\n",
    "    print('NUMBER OF UNIQUE VALUES PER FEATURE:', '\\n')\n",
    "    print(grapes_olives.nunique())\n",
    "    print('\\n', '-'*50)\n",
    "    print('NULL VALUES PER FEATURE')\n",
    "    print(grapes_olives.isnull().sum())\n",
    "show_info(grapes_olives)"
   ]
  },
  {
   "cell_type": "code",
   "execution_count": null,
   "id": "9074f730",
   "metadata": {
    "scrolled": true
   },
   "outputs": [],
   "source": [
    "grapes_olives.describe()"
   ]
  },
  {
   "cell_type": "markdown",
   "id": "65ec177d",
   "metadata": {},
   "source": [
    "## Total grapes_olives production in 2006-2021"
   ]
  },
  {
   "cell_type": "code",
   "execution_count": null,
   "id": "02641bfa",
   "metadata": {
    "scrolled": true
   },
   "outputs": [],
   "source": [
    "plt.figure(figsize= (10,5))\n",
    "sns.barplot(x= 'Year', y= 'production_tonnes',data = grapes_olives,palette='coolwarm')\n",
    "plt.title('Total grapes olives production 2006-2019')\n",
    "plt.xlabel('Year')\n",
    "plt.ylabel('Total production (tonnes)')\n",
    "plt.show()\n",
    "\n"
   ]
  },
  {
   "cell_type": "code",
   "execution_count": null,
   "id": "9f8e7238",
   "metadata": {},
   "outputs": [],
   "source": []
  },
  {
   "cell_type": "markdown",
   "id": "393be3d5",
   "metadata": {},
   "source": [
    "## Cereal production by Cities "
   ]
  },
  {
   "cell_type": "code",
   "execution_count": null,
   "id": "69163d69",
   "metadata": {},
   "outputs": [],
   "source": [
    "grapes_olives_region = grapes_olives.groupby(by = grapes_olives.City)['production_tonnes','City'].sum().reset_index().sort_values(by = 'production_tonnes', ascending = False).head(10)\n",
    "grapes_olives_region"
   ]
  },
  {
   "cell_type": "code",
   "execution_count": null,
   "id": "7ba289ea",
   "metadata": {
    "scrolled": true
   },
   "outputs": [],
   "source": [
    "plt.figure(figsize= (5,5))\n",
    "sns.barplot(x=grapes_olives_region['production_tonnes'],y= grapes_olives_region['City'], orient='h', palette='coolwarm');\n",
    "plt.title('Total grapes olives production 2006-2019 by City')\n",
    "plt.xlabel('Total production')\n",
    "plt.ylabel('Cities')\n",
    "plt.show()"
   ]
  },
  {
   "cell_type": "markdown",
   "id": "91972548",
   "metadata": {},
   "source": [
    "## grapes_olives highest production 2006-2021"
   ]
  },
  {
   "cell_type": "code",
   "execution_count": null,
   "id": "ec7ec369",
   "metadata": {
    "scrolled": true
   },
   "outputs": [],
   "source": [
    "print(grapes_olives.Type_crop.max())\n",
    "print(grapes_olives.Type_crop.value_counts())\n",
    "print(grapes_olives.Type_crop.nunique())\n",
    "\n"
   ]
  },
  {
   "cell_type": "code",
   "execution_count": null,
   "id": "bd95d9cc",
   "metadata": {},
   "outputs": [],
   "source": [
    "grapes_olives.Type_crop.unique()\n"
   ]
  },
  {
   "cell_type": "markdown",
   "id": "e9863584",
   "metadata": {},
   "source": [
    "\n"
   ]
  },
  {
   "cell_type": "code",
   "execution_count": null,
   "id": "0015846c",
   "metadata": {},
   "outputs": [],
   "source": [
    "grapes_olives = grapes_olives.replace('Grapes for table use','grapes-table')\n",
    "grapes_olives = grapes_olives.replace('grapes for other purposes n.e.c.','grapes-n.e.c')\n",
    "grapes_olives = grapes_olives.replace('grapes for raisins','grapes-raisins')\n",
    "grapes_olives = grapes_olives.replace('grapes for other wines n.e.c. (without pdo/pgi)','grapes-wines(N-pdo/pgi)')\n",
    "grapes_olives = grapes_olives.replace('grapes for wines with protected designation of origin (pdo)','grapes-wines(Y-pdo)')\n",
    "grapes_olives = grapes_olives.replace('grapes for wines with protected geographical indication (pgi)','grapes-wines(Y-pgi)')"
   ]
  },
  {
   "cell_type": "code",
   "execution_count": null,
   "id": "4e5a4bbc",
   "metadata": {},
   "outputs": [],
   "source": [
    "print(grapes_olives.total_ha.max())\n",
    "print(grapes_olives.total_ha.min())\n",
    "print(grapes_olives.total_ha.value_counts())\n",
    "print(grapes_olives.total_ha.nunique())\n"
   ]
  },
  {
   "cell_type": "code",
   "execution_count": null,
   "id": "b48146da",
   "metadata": {},
   "outputs": [],
   "source": [
    "#grapes_olives.drop(grapes_olives[grapes_olives['total_area_ha'] == 0.00 ].index , inplace=True)"
   ]
  },
  {
   "cell_type": "code",
   "execution_count": null,
   "id": "dab7562e",
   "metadata": {},
   "outputs": [],
   "source": [
    "grapes_olives.describe().astype(int)"
   ]
  },
  {
   "cell_type": "code",
   "execution_count": null,
   "id": "13c50793",
   "metadata": {},
   "outputs": [],
   "source": [
    "plt.figure(figsize=(10,5))\n",
    "grapes_olives['Type_crop'].value_counts().plot.bar()\n",
    "plt.title('Total grapes olives production 2006-2019 by crop')\n",
    "plt.ylabel('Total production (tonnes)')\n",
    "plt.show()\n"
   ]
  },
  {
   "cell_type": "markdown",
   "id": "4be4c02c",
   "metadata": {},
   "source": [
    "## Subseting data"
   ]
  },
  {
   "cell_type": "code",
   "execution_count": null,
   "id": "988ecfe5",
   "metadata": {},
   "outputs": [],
   "source": [
    "grapes_olives"
   ]
  },
  {
   "cell_type": "code",
   "execution_count": null,
   "id": "7c7322ff",
   "metadata": {},
   "outputs": [],
   "source": [
    "Q1 = grapes_olives.quantile(0.25)\n",
    "Q3 = grapes_olives.quantile(0.75)\n",
    "IQR = Q3 - Q1\n",
    "print(IQR)"
   ]
  },
  {
   "cell_type": "code",
   "execution_count": null,
   "id": "4990884a",
   "metadata": {},
   "outputs": [],
   "source": [
    "# Remove outliers\n",
    "grapes_olives = grapes_olives[~((grapes_olives < (Q1 - 1.5 * IQR)) | (grapes_olives > (Q3 + 1.5 * IQR))).any(axis=1)]\n",
    "print(grapes_olives.shape)\n"
   ]
  },
  {
   "cell_type": "code",
   "execution_count": null,
   "id": "a01a4996",
   "metadata": {},
   "outputs": [],
   "source": [
    "#Box plot and histplot (crop production distribuition)\n",
    "\n",
    "plt.figure(figsize=(13,5))\n",
    "\n",
    "plt.subplot(1,2,1)\n",
    "sns.boxplot(data=grapes_olives, x='production_tonnes', y=\"Type_crop\",  color = 'darkblue', dodge=False)\n",
    "\n",
    "plt.title(f'Box Plot total grapes_olives production ')\n",
    "\n",
    "plt.subplot(1,2,2)\n",
    "sns.histplot(data=grapes_olives, x= 'production_tonnes',  color = 'darkblue', kde=True, bins = 80)\n",
    "plt.title(f'Distribution total grapes_olives production')\n",
    "\n",
    "plt.show()\n",
    "\n"
   ]
  },
  {
   "cell_type": "code",
   "execution_count": null,
   "id": "2adc18af",
   "metadata": {},
   "outputs": [],
   "source": [
    "#Box plot and histplot of total area(ha)\n",
    "\n",
    "plt.figure(figsize=(17,5))\n",
    "\n",
    "plt.subplot(1,2,1)\n",
    "sns.boxplot(data=grapes_olives, x='Year', y=\"total_ha\",  color = 'darkblue', dodge=False)\n",
    "\n",
    "plt.title(f'Box Plot total area (ha)')\n",
    "\n",
    "plt.subplot(1,2,2)\n",
    "sns.histplot(data=grapes_olives, x= 'total_ha',  color = 'darkblue', kde=True, bins = 80)\n",
    "plt.title(f'Distribution total total area (ha)')\n",
    "\n",
    "plt.show()"
   ]
  },
  {
   "cell_type": "code",
   "execution_count": null,
   "id": "e41a0e9a",
   "metadata": {},
   "outputs": [],
   "source": [
    "print(grapes_olives.production_tonnes.max())\n",
    "print(grapes_olives.production_tonnes.min())"
   ]
  },
  {
   "cell_type": "code",
   "execution_count": null,
   "id": "6dea3107",
   "metadata": {},
   "outputs": [],
   "source": [
    "print(grapes_olives.total_ha.max())\n",
    "print(grapes_olives.total_ha.min())\n"
   ]
  },
  {
   "cell_type": "code",
   "execution_count": null,
   "id": "757de1e7",
   "metadata": {},
   "outputs": [],
   "source": [
    "print(grapes_olives.Fertilizers_tonnes.max())"
   ]
  },
  {
   "cell_type": "code",
   "execution_count": null,
   "id": "fae9cace",
   "metadata": {
    "scrolled": false
   },
   "outputs": [],
   "source": [
    "#Crop harvested by year\n",
    "\n",
    "plotcrop10 = sns.relplot(kind='line', data=grapes_olives, x='Year', \n",
    "                         y='production_tonnes', hue='Type_crop', style='Type_crop', aspect=1.75)\n"
   ]
  },
  {
   "cell_type": "code",
   "execution_count": null,
   "id": "94e952e7",
   "metadata": {},
   "outputs": [],
   "source": [
    "#Crop harvested by area/year\n",
    "\n",
    "plotcrop10 = sns.relplot(kind='line', data=grapes_olives, x='Year', \n",
    "                         y='total_ha', hue='Type_crop', style='Type_crop', aspect=1.75)\n"
   ]
  },
  {
   "cell_type": "code",
   "execution_count": null,
   "id": "86b9b754",
   "metadata": {},
   "outputs": [],
   "source": [
    "#Fertilizers distributed by year\n",
    "\n",
    "plotfertilizers10 = sns.relplot(kind='line', data=grapes_olives, x='Year', \n",
    "                         y='Fertilizers_tonnes', hue='Type_fertilizer', style='Type_fertilizer', aspect=1.75)"
   ]
  },
  {
   "cell_type": "code",
   "execution_count": null,
   "id": "3652807f",
   "metadata": {},
   "outputs": [],
   "source": []
  },
  {
   "cell_type": "markdown",
   "id": "d3c12fd0",
   "metadata": {},
   "source": [
    "# Climate data analysis"
   ]
  },
  {
   "cell_type": "markdown",
   "id": "414dfdb3",
   "metadata": {},
   "source": [
    "|Param_Code|Param_Name|Resolution|Depth [m]|Units|\n",
    "|:--------:|:--------:|:--------:|:-------:|:---:|\n",
    "|GWETPROF|Profile Soil Moisture|0.5° x 0.625°|1.34 - 8.53|water-free [0], saturated soil[1]| \n",
    "|GWETTOP|Surface Soil Wetness|0.5° x 0.625°|0.00 - 0.05| water-free [0], saturated soil[1]|\n",
    "|GWETROOT|Root Zone Soil Wetness|0.5° x 0.625°|0.10 - 1.00|water-free [0], saturated soil[1]|\n",
    "|CLOUD_AMT|Cloud Amount|---|---|%|\n",
    "|TS|Earth Skin Temperature|---|---|°C|\n",
    "|PS|Surface Pressure|---|---|kPa|\n",
    "|RH2M|Relative Humidity at 2 Meters|---|---|%|\n",
    "|QV2M|Specific Humidity at 2 Meters|---|---|g/kg|\n",
    "|PRECTOTCORR|Precipitation Corrected|---|---|mm/day|\n",
    "|T2M_MAX|Temperature at 2 Meters Maximum|---|---|°C|\n",
    "|T2M_MIN|Temperature at 2 Meters Minimum|---|---|°C|\n",
    "|T2M_RANGE|Temperature at 2 Meters Range|---|---|°C|\n",
    "|WS2M|Wind Speed at 2 Meters|---|---|m/s|\n",
    "\n",
    "\n",
    "  \n",
    "\n",
    "*Precipitation Corrected (PRECTOTCORR)- [The bias corrected average of total precipitation at the surface of the earth in water mass (includes water content in snow)]\n",
    "\n",
    "*Source? https://power.larc.nasa.gov/#resources"
   ]
  },
  {
   "cell_type": "code",
   "execution_count": null,
   "id": "289888de",
   "metadata": {
    "scrolled": true
   },
   "outputs": [],
   "source": [
    "\n",
    "fig, ax = plt.subplots(3, 2, sharex=True, figsize=(20,10))\n",
    "\n",
    "fig.suptitle('Climate in Italy 2006 - 2021')\n",
    "\n",
    "grapes_olives['Year'] = (grapes_olives['Year']).astype(str)\n",
    "\n",
    "# relative_humidity\n",
    "sns.lineplot(data= grapes_olives, x=\"Year\", y=\"RH2M\", ax=ax[0,0])\n",
    "\n",
    "# precipitation\n",
    "sns.lineplot(data= grapes_olives, x=\"Year\", y=\"PRECTOTCORR\", ax=ax[0,1])\n",
    "\n",
    "# temp_max\n",
    "sns.lineplot(data= grapes_olives, x=\"Year\", y=\"T2M_MIN\", ax=ax[1,0])\n",
    "\n",
    "# temp_min\n",
    "sns.lineplot(data= grapes_olives, x=\"Year\", y=\"T2M_MAX\", ax=ax[1,1])\n",
    "\n",
    "# surface_soil_wetness\n",
    "sns.lineplot(data= grapes_olives, x=\"Year\", y=\"GWETTOP\", ax=ax[2,0])\n",
    "\n",
    "# root_zone_wetness\n",
    "sns.lineplot(data= grapes_olives, x=\"Year\", y=\"GWETROOT\", ax=ax[2,1])\n"
   ]
  },
  {
   "cell_type": "code",
   "execution_count": null,
   "id": "5bedf7b7",
   "metadata": {},
   "outputs": [],
   "source": [
    "grapes_olives"
   ]
  },
  {
   "cell_type": "code",
   "execution_count": null,
   "id": "d1ed9ac6",
   "metadata": {},
   "outputs": [],
   "source": []
  },
  {
   "cell_type": "code",
   "execution_count": null,
   "id": "646a0596",
   "metadata": {},
   "outputs": [],
   "source": []
  },
  {
   "cell_type": "code",
   "execution_count": null,
   "id": "2aab5a4b",
   "metadata": {},
   "outputs": [],
   "source": [
    "grapes_olives_model = grapes_olives.drop(columns =['Year','PS','TS','GWETTOP', 'QV2M','WS2M','T2M_RANGE','GWETPROF','CLOUD_AMT','PRECTOTCORR','lat', 'lon'  ])\n",
    "grapes_olives_model"
   ]
  },
  {
   "cell_type": "code",
   "execution_count": null,
   "id": "3939b633",
   "metadata": {},
   "outputs": [],
   "source": [
    "grapes_olives_model = grapes_olives_model.to_csv('grapes_olives_model2019-2021.csv', index=False)"
   ]
  },
  {
   "cell_type": "markdown",
   "id": "464f6eee",
   "metadata": {},
   "source": [
    "# References\n",
    "\n",
    "\n",
    "http://dati.istat.it\n",
    "\n",
    "https://maps.princeton.edu/catalog/stanford-mn871sp9778\n",
    "\n",
    "https://www.crea.gov.it/documents/68457/0/ITACONTA+2020_ENG+DEF+xweb+%281%29.pdf/95c6b30a-1e18-8e94-d4ac-ce884aef76e8?t=1619527317576\n",
    "\n",
    "https://seaborn.pydata.org/generated/seaborn.relplot.html\n",
    "\n",
    "https://www.statisticshowto.com/variance-inflation-factor/\n",
    "\n",
    "https://statisticsbyjim.com/regression/multicollinearity-in-regression-analysis/\n",
    "\n",
    "https://lost-stats.github.io/Presentation/Figures/heatmap_colored_correlation_matrix.html\n",
    "\n",
    "https://plotly.com/python/box-plots/\n",
    "\n",
    "https://pycaret.org/"
   ]
  },
  {
   "cell_type": "code",
   "execution_count": null,
   "id": "e9bbc9d8",
   "metadata": {},
   "outputs": [],
   "source": []
  },
  {
   "cell_type": "code",
   "execution_count": null,
   "id": "835fc1ef",
   "metadata": {},
   "outputs": [],
   "source": []
  }
 ],
 "metadata": {
  "kernelspec": {
   "display_name": "Python 3 (ipykernel)",
   "language": "python",
   "name": "python3"
  },
  "language_info": {
   "codemirror_mode": {
    "name": "ipython",
    "version": 3
   },
   "file_extension": ".py",
   "mimetype": "text/x-python",
   "name": "python",
   "nbconvert_exporter": "python",
   "pygments_lexer": "ipython3",
   "version": "3.11.0"
  }
 },
 "nbformat": 4,
 "nbformat_minor": 5
}
