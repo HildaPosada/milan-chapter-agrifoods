{
 "cells": [
  {
   "cell_type": "markdown",
   "id": "515a39f5",
   "metadata": {},
   "source": [
    "# Omdena  - Milan Chapter Agrifoods\n",
    "## AI for Sustainable agri-food systems: use of Satellite Imagery\n",
    "### Data Exploration for cereals and legumes in Italy 2006-2021\n",
    "#### Author: Maria Fisher \n"
   ]
  },
  {
   "cell_type": "markdown",
   "id": "8f1ddaa7",
   "metadata": {},
   "source": [
    "The main objective of this study is to have gather information about crop production in Italy for the period of 2006-2021. \n",
    "\n",
    "Crop dataset used in this study was downloaded from the Italian National Institute of Statistics (Istat).\n",
    "\n"
   ]
  },
  {
   "cell_type": "code",
   "execution_count": 1,
   "id": "e17f5b17",
   "metadata": {
    "scrolled": true
   },
   "outputs": [],
   "source": [
    "import warnings \n",
    "warnings.filterwarnings(\"ignore\")\n",
    "\n",
    "import os\n",
    "import pandas as pd\n",
    "pd.options.display.float_format = \"{:.2f}\".format\n",
    "import numpy as np\n",
    "import matplotlib.pyplot as plt\n",
    "import matplotlib.dates as mdates\n",
    "import statsmodels.api as sm\n",
    "from statsmodels.stats.outliers_influence import variance_inflation_factor\n",
    "import seaborn as sns \n",
    "import scipy \n",
    "import sklearn\n",
    "import geopandas as gpd\n",
    "import pgeocode\n",
    "import folium\n",
    "import sys\n",
    "import plotly.graph_objs as go\n",
    "from plotly.offline import download_plotlyjs, init_notebook_mode, iplot, plot"
   ]
  },
  {
   "cell_type": "code",
   "execution_count": null,
   "id": "67d703c2",
   "metadata": {
    "scrolled": true
   },
   "outputs": [],
   "source": [
    "cereals = pd.read_csv('cereal_final_dataset_2006-2021.csv',skipinitialspace=True)\n",
    "cereals.head()"
   ]
  },
  {
   "cell_type": "code",
   "execution_count": null,
   "id": "19ddc32c",
   "metadata": {},
   "outputs": [],
   "source": [
    "cereals.Type_fertilizer.unique()"
   ]
  },
  {
   "cell_type": "code",
   "execution_count": null,
   "id": "5e1e15a3",
   "metadata": {},
   "outputs": [],
   "source": [
    "cereals = cereals[cereals[\"Year\"] < 2022]"
   ]
  },
  {
   "cell_type": "code",
   "execution_count": null,
   "id": "79459563",
   "metadata": {},
   "outputs": [],
   "source": [
    "cereals = cereals[cereals.Type_fertilizer != '0']\n"
   ]
  },
  {
   "cell_type": "code",
   "execution_count": null,
   "id": "ae4ce405",
   "metadata": {},
   "outputs": [],
   "source": [
    "cereals.Type_fertilizer.unique()"
   ]
  },
  {
   "cell_type": "code",
   "execution_count": null,
   "id": "ebd89919",
   "metadata": {},
   "outputs": [],
   "source": [
    "cereals.describe()"
   ]
  },
  {
   "cell_type": "code",
   "execution_count": null,
   "id": "a40f9095",
   "metadata": {},
   "outputs": [],
   "source": []
  },
  {
   "cell_type": "markdown",
   "id": "cbbf3502",
   "metadata": {},
   "source": [
    "## Pre-processing dataset "
   ]
  },
  {
   "cell_type": "code",
   "execution_count": null,
   "id": "b66f7440",
   "metadata": {
    "scrolled": true
   },
   "outputs": [],
   "source": [
    "def show_info(cereals):\n",
    "    print('DATASET SHAPE: ', cereals.shape, '\\n')\n",
    "    print('-'*50)\n",
    "    print('FEATURE DATA TYPES:')\n",
    "    print(cereals.info())\n",
    "    print('\\n', '-'*50)\n",
    "    print('NUMBER OF UNIQUE VALUES PER FEATURE:', '\\n')\n",
    "    print(cereals.nunique())\n",
    "    print('\\n', '-'*50)\n",
    "    print('NULL VALUES PER FEATURE')\n",
    "    print(cereals.isnull().sum())\n",
    "show_info(cereals)"
   ]
  },
  {
   "cell_type": "code",
   "execution_count": null,
   "id": "9074f730",
   "metadata": {
    "scrolled": true
   },
   "outputs": [],
   "source": [
    "cereals.describe()"
   ]
  },
  {
   "cell_type": "code",
   "execution_count": null,
   "id": "8ad6f338",
   "metadata": {},
   "outputs": [],
   "source": [
    "print(cereals.total_ha.max())\n",
    "print(cereals.total_ha.min())\n",
    "print(cereals.total_ha.value_counts())\n",
    "print(cereals.total_ha.nunique())"
   ]
  },
  {
   "cell_type": "markdown",
   "id": "65ec177d",
   "metadata": {},
   "source": [
    "## Total cereal production in 2006-2021"
   ]
  },
  {
   "cell_type": "code",
   "execution_count": null,
   "id": "02641bfa",
   "metadata": {
    "scrolled": true
   },
   "outputs": [],
   "source": [
    "plt.figure(figsize= (10,5))\n",
    "sns.barplot(x= 'Year', y= 'production_tonnes',data = cereals,palette='coolwarm')\n",
    "plt.title('Total cereal and legume production 2006-2021')\n",
    "plt.xlabel('Year')\n",
    "plt.ylabel('Total production (tonnes)')\n",
    "plt.show()\n",
    "\n"
   ]
  },
  {
   "cell_type": "code",
   "execution_count": null,
   "id": "9f8e7238",
   "metadata": {},
   "outputs": [],
   "source": []
  },
  {
   "cell_type": "markdown",
   "id": "393be3d5",
   "metadata": {},
   "source": [
    "## Cereal production by Cities "
   ]
  },
  {
   "cell_type": "code",
   "execution_count": null,
   "id": "69163d69",
   "metadata": {},
   "outputs": [],
   "source": [
    "cereals_region = cereals.groupby(by = cereals.City)['production_tonnes','City'].sum().reset_index().sort_values(by = 'production_tonnes', ascending = False).head(10)\n",
    "cereals_region"
   ]
  },
  {
   "cell_type": "code",
   "execution_count": null,
   "id": "7ba289ea",
   "metadata": {
    "scrolled": true
   },
   "outputs": [],
   "source": [
    "plt.figure(figsize= (10,5))\n",
    "sns.barplot(x=cereals_region['production_tonnes'],y= cereals_region['City'], orient='h', palette='coolwarm');\n",
    "plt.title('Total cereal and legume production 2006-2021 by City')\n",
    "plt.xlabel('Total production')\n",
    "plt.ylabel('Cities')\n",
    "plt.show()"
   ]
  },
  {
   "cell_type": "markdown",
   "id": "91972548",
   "metadata": {},
   "source": [
    "## Cereals highest production 2006-2022"
   ]
  },
  {
   "cell_type": "code",
   "execution_count": null,
   "id": "ec7ec369",
   "metadata": {
    "scrolled": true
   },
   "outputs": [],
   "source": [
    "print(cereals.Type_crop.max())\n",
    "print(cereals.Type_crop.value_counts())\n",
    "print(cereals.Type_crop.nunique())\n",
    "\n"
   ]
  },
  {
   "cell_type": "markdown",
   "id": "e4babcab",
   "metadata": {},
   "source": [
    "Dataset shows there are 29 different types of cereals cultivated in Italy. Ten crop produced are Common wheat, Durum wheat, Potatoes, Barley, Maize, Beans, Chick-peas, Rye, Rice and Oats. "
   ]
  },
  {
   "cell_type": "code",
   "execution_count": null,
   "id": "541fbb70",
   "metadata": {},
   "outputs": [],
   "source": []
  },
  {
   "cell_type": "code",
   "execution_count": null,
   "id": "0015846c",
   "metadata": {},
   "outputs": [],
   "source": []
  },
  {
   "cell_type": "code",
   "execution_count": null,
   "id": "dab7562e",
   "metadata": {},
   "outputs": [],
   "source": [
    "cereals.describe()"
   ]
  },
  {
   "cell_type": "code",
   "execution_count": null,
   "id": "0f0bbed8",
   "metadata": {},
   "outputs": [],
   "source": [
    "# Rename name of crops \n",
    "cereals = cereals.replace('oats and spring cereal mixtures (mixed grain other than maslin)','oats mix')\n",
    "cereals = cereals.replace('rye and winter cereal mixtures (maslin)','rye mix')\n",
    "cereals = cereals.replace('spring cereal mixtures (mixed grain other than maslin)','cereal mix')\n",
    "cereals = cereals.replace('common spring wheat and spelt','c-spr-wheat&spelt')\n",
    "cereals = cereals.replace('common winter wheat and spelt','c-wint-wheat&spelt')\n",
    "cereals = cereals.replace('winter cereal mixtures (maslin)','wint-cereal-mix')\n",
    "cereals = cereals.replace('dried kidney bean','dry-k-bean')\n",
    "cereals = cereals.replace('common wheat','c-wheat')\n",
    "cereals = cereals.replace('durum wheat','d-wheat')\n",
    "cereals = cereals.replace('broad bean','bro-bean')\n",
    "cereals = cereals.replace('grain maize','maize')\n",
    "\n",
    "\n",
    "\n",
    " "
   ]
  },
  {
   "cell_type": "markdown",
   "id": "958aeee5",
   "metadata": {},
   "source": [
    "Check which cereal and legume has the higest production value in the dataset analysed. "
   ]
  },
  {
   "cell_type": "code",
   "execution_count": null,
   "id": "584c4778",
   "metadata": {
    "scrolled": true
   },
   "outputs": [],
   "source": [
    "#cereals.groupby(['Type_crop','total_ha'],sort=True)['production_tonnes'].sum().nlargest(10)"
   ]
  },
  {
   "cell_type": "code",
   "execution_count": null,
   "id": "13c50793",
   "metadata": {},
   "outputs": [],
   "source": [
    "plt.figure(figsize=(10,5))\n",
    "cereals['Type_crop'].value_counts().plot.bar()\n",
    "plt.title('Total cereal and legume production 2006-2021 by crop')\n",
    "plt.ylabel('Total production (tonnes)')\n",
    "plt.show()\n"
   ]
  },
  {
   "cell_type": "markdown",
   "id": "4be4c02c",
   "metadata": {},
   "source": [
    "## Subseting data"
   ]
  },
  {
   "cell_type": "code",
   "execution_count": null,
   "id": "60306675",
   "metadata": {
    "scrolled": true
   },
   "outputs": [],
   "source": [
    "cereals_top10 = cereals.apply(lambda row: row[cereals['Type_crop'].isin(['barley','oats', \n",
    "                                         'd-wheat','c-wheat', 'maize', 'potatoes','dry-k-bean',\n",
    "                                          'bro-bean','chick-peas','rye'])])\n",
    "\n",
    "cereals_top10.head()"
   ]
  },
  {
   "cell_type": "code",
   "execution_count": null,
   "id": "988ecfe5",
   "metadata": {},
   "outputs": [],
   "source": [
    "cereals_top10.total_ha.unique()"
   ]
  },
  {
   "cell_type": "code",
   "execution_count": null,
   "id": "bccea5f4",
   "metadata": {
    "scrolled": true
   },
   "outputs": [],
   "source": [
    "Q1 = cereals_top10.quantile(0.25)\n",
    "Q3 = cereals_top10.quantile(0.75)\n",
    "IQR = Q3 - Q1\n",
    "print(IQR)"
   ]
  },
  {
   "cell_type": "code",
   "execution_count": null,
   "id": "6a7572a3",
   "metadata": {},
   "outputs": [],
   "source": [
    "# Remove outliers\n",
    "cereals_top10 = cereals_top10[~((cereals_top10 < (Q1 - 1.5 * IQR)) | (cereals_top10 > (Q3 + 1.5 * IQR))).any(axis=1)]\n",
    "print(cereals_top10.shape)\n"
   ]
  },
  {
   "cell_type": "code",
   "execution_count": null,
   "id": "a01a4996",
   "metadata": {},
   "outputs": [],
   "source": [
    "#Box plot and histplot (crop production distribuition)\n",
    "\n",
    "plt.figure(figsize=(13,5))\n",
    "\n",
    "plt.subplot(1,2,1)\n",
    "sns.boxplot(data=cereals_top10, x='production_tonnes', y=\"Type_crop\",  color = 'darkblue', dodge=False)\n",
    "\n",
    "plt.title(f'Box Plot total cereal and legumes production ')\n",
    "\n",
    "plt.subplot(1,2,2)\n",
    "sns.histplot(data=cereals_top10, x= 'production_tonnes',  color = 'darkblue', kde=True, bins = 80)\n",
    "plt.title(f'Distribution total cereal and legumes production')\n",
    "\n",
    "plt.show()\n",
    "\n"
   ]
  },
  {
   "cell_type": "code",
   "execution_count": null,
   "id": "701f35d4",
   "metadata": {},
   "outputs": [],
   "source": [
    "#Box plot and histplot of total area(ha)\n",
    "\n",
    "plt.figure(figsize=(17,5))\n",
    "\n",
    "plt.subplot(1,2,1)\n",
    "sns.boxplot(data=cereals_top10, x='Year', y=\"total_ha\",  color = 'darkblue', dodge=False)\n",
    "\n",
    "plt.title(f'Box Plot total area (ha)')\n",
    "\n",
    "plt.subplot(1,2,2)\n",
    "sns.histplot(data=cereals_top10, x= 'total_ha',  color = 'darkblue', kde=True, bins = 80)\n",
    "plt.title(f'Distribution total total area (ha)')\n",
    "\n",
    "plt.show()\n",
    "\n"
   ]
  },
  {
   "cell_type": "code",
   "execution_count": null,
   "id": "981f67ae",
   "metadata": {},
   "outputs": [],
   "source": [
    "print(cereals_top10.total_ha.max())\n",
    "print(cereals_top10.total_ha.min())\n",
    "print(cereals_top10.total_ha.value_counts())\n",
    "print(cereals_top10.total_ha.nunique())"
   ]
  },
  {
   "cell_type": "code",
   "execution_count": null,
   "id": "ddce892a",
   "metadata": {},
   "outputs": [],
   "source": [
    "print(cereals_top10.Fertilizers_tonnes.max())\n"
   ]
  },
  {
   "cell_type": "code",
   "execution_count": null,
   "id": "0c871628",
   "metadata": {},
   "outputs": [],
   "source": [
    "fig, ax = plt.subplots(3,1, sharex=True, figsize=(8,11))\n",
    "fig.autofmt_xdate()\n",
    "cereals_top10['Year'] = (cereals_top10['Year']).astype(str)\n",
    "\n",
    "# Total crop production\n",
    "crops = cereals_top10[['Year', 'production_tonnes']]\n",
    "crops = crops.groupby('Year').mean()\n",
    "sns.lineplot(data= crops, x=\"Year\", y=\"production_tonnes\", ax=ax[0])\n",
    "\n",
    "# Total area\n",
    "crops = cereals_top10[['Year', 'total_ha']]\n",
    "crops = crops.groupby('Year').mean()\n",
    "sns.lineplot(data= crops, x=\"Year\", y=\"total_ha\", ax=ax[1])\n",
    "\n",
    "# Ferlizers\n",
    "fertilizers = cereals_top10[['Year', 'Fertilizers_tonnes']]\n",
    "fertilizers = fertilizers.groupby('Year').mean()\n",
    "\n",
    "sns.lineplot(data= fertilizers, x=\"Year\", y=\"Fertilizers_tonnes\", ax=ax[2])\n",
    "\n",
    "\n"
   ]
  },
  {
   "cell_type": "code",
   "execution_count": null,
   "id": "fae9cace",
   "metadata": {
    "scrolled": true
   },
   "outputs": [],
   "source": [
    "#Crop harvested by year\n",
    "\n",
    "plotcrop10 = sns.relplot(kind='line', data=cereals_top10, x='Year', \n",
    "                         y='production_tonnes', hue='Type_crop', style='Type_crop', aspect=1.75)\n"
   ]
  },
  {
   "cell_type": "code",
   "execution_count": null,
   "id": "06a41033",
   "metadata": {},
   "outputs": [],
   "source": []
  },
  {
   "cell_type": "code",
   "execution_count": null,
   "id": "86b9b754",
   "metadata": {},
   "outputs": [],
   "source": [
    "#Fertilizers distributed by year\n",
    "\n",
    "plotfertilizers10 = sns.relplot(kind='line', data=cereals_top10, x='Year', \n",
    "                         y='Fertilizers_tonnes', hue='Type_fertilizer', style='Type_fertilizer', aspect=1.75)"
   ]
  },
  {
   "cell_type": "markdown",
   "id": "c8a703de",
   "metadata": {},
   "source": [
    "organic fertilizer = vegetable soil amendment"
   ]
  },
  {
   "cell_type": "markdown",
   "id": "d3c12fd0",
   "metadata": {},
   "source": [
    "# Climate data analysis"
   ]
  },
  {
   "cell_type": "markdown",
   "id": "414dfdb3",
   "metadata": {},
   "source": [
    "|Param_Code|Param_Name|Resolution|Depth [m]|Units|\n",
    "|:--------:|:--------:|:--------:|:-------:|:---:|\n",
    "|GWETPROF|Profile Soil Moisture|0.5° x 0.625°|1.34 - 8.53|water-free [0], saturated soil[1]| \n",
    "|GWETTOP|Surface Soil Wetness|0.5° x 0.625°|0.00 - 0.05| water-free [0], saturated soil[1]|\n",
    "|GWETROOT|Root Zone Soil Wetness|0.5° x 0.625°|0.10 - 1.00|water-free [0], saturated soil[1]|\n",
    "|CLOUD_AMT|Cloud Amount|---|---|%|\n",
    "|TS|Earth Skin Temperature|---|---|°C|\n",
    "|PS|Surface Pressure|---|---|kPa|\n",
    "|RH2M|Relative Humidity at 2 Meters|---|---|%|\n",
    "|QV2M|Specific Humidity at 2 Meters|---|---|g/kg|\n",
    "|PRECTOTCORR|Precipitation Corrected|---|---|mm/day|\n",
    "|T2M_MAX|Temperature at 2 Meters Maximum|---|---|°C|\n",
    "|T2M_MIN|Temperature at 2 Meters Minimum|---|---|°C|\n",
    "|T2M_RANGE|Temperature at 2 Meters Range|---|---|°C|\n",
    "|WS2M|Wind Speed at 2 Meters|---|---|m/s|\n",
    "\n",
    "\n",
    "  \n",
    "\n",
    "*Precipitation Corrected (PRECTOTCORR)- [The bias corrected average of total precipitation at the surface of the earth in water mass (includes water content in snow)]\n",
    "\n",
    "*Source? https://power.larc.nasa.gov/#resources"
   ]
  },
  {
   "cell_type": "code",
   "execution_count": null,
   "id": "289888de",
   "metadata": {
    "scrolled": true
   },
   "outputs": [],
   "source": [
    "\n",
    "fig, ax = plt.subplots(3, 2, sharex=True,  figsize=(12,10))\n",
    "fig.autofmt_xdate()\n",
    "\n",
    "\n",
    "#fig.suptitle('Climate in Italy 2006 - 2021')\n",
    "\n",
    "cereals['Year'] = (cereals['Year']).astype(str)\n",
    "\n",
    "# relative_humidity\n",
    "sns.lineplot(data= cereals, x=\"Year\", y=\"RH2M\", ax=ax[0,0])\n",
    "\n",
    "# precipitation\n",
    "sns.lineplot(data= cereals, x=\"Year\", y=\"PRECTOTCORR\", ax=ax[0,1])\n",
    "\n",
    "# temp_max\n",
    "sns.lineplot(data= cereals, x=\"Year\", y=\"T2M_MIN\", ax=ax[1,0])\n",
    "\n",
    "# temp_min\n",
    "sns.lineplot(data= cereals, x=\"Year\", y=\"T2M_MAX\", ax=ax[1,1])\n",
    "\n",
    "# surface_soil_wetness\n",
    "sns.lineplot(data= cereals, x=\"Year\", y=\"GWETTOP\", ax=ax[2,0])\n",
    "\n",
    "# root_zone_wetness\n",
    "sns.lineplot(data= cereals, x=\"Year\", y=\"GWETROOT\", ax=ax[2,1])\n"
   ]
  },
  {
   "cell_type": "code",
   "execution_count": null,
   "id": "5bedf7b7",
   "metadata": {},
   "outputs": [],
   "source": [
    "cereals"
   ]
  },
  {
   "cell_type": "code",
   "execution_count": null,
   "id": "d1ed9ac6",
   "metadata": {},
   "outputs": [],
   "source": []
  },
  {
   "cell_type": "code",
   "execution_count": null,
   "id": "646a0596",
   "metadata": {},
   "outputs": [],
   "source": []
  },
  {
   "cell_type": "code",
   "execution_count": null,
   "id": "2aab5a4b",
   "metadata": {},
   "outputs": [],
   "source": [
    "cereals_model = cereals_top10.drop(columns =['Year','PS','TS','GWETTOP', 'QV2M','WS2M','T2M_RANGE','GWETPROF','CLOUD_AMT','PRECTOTCORR','lat', 'lon'  ])\n",
    "cereals_model"
   ]
  },
  {
   "cell_type": "markdown",
   "id": "42dcd52f",
   "metadata": {},
   "source": []
  },
  {
   "cell_type": "code",
   "execution_count": null,
   "id": "e2d2a5a6",
   "metadata": {},
   "outputs": [],
   "source": [
    "cereals_model = cereals_model.to_csv('cereals_model.csv', index=False)"
   ]
  },
  {
   "cell_type": "markdown",
   "id": "464f6eee",
   "metadata": {},
   "source": [
    "# References\n",
    "\n",
    "\n",
    "http://dati.istat.it\n",
    "\n",
    "https://maps.princeton.edu/catalog/stanford-mn871sp9778\n",
    "\n",
    "https://www.crea.gov.it/documents/68457/0/ITACONTA+2020_ENG+DEF+xweb+%281%29.pdf/95c6b30a-1e18-8e94-d4ac-ce884aef76e8?t=1619527317576\n",
    "\n",
    "https://seaborn.pydata.org/generated/seaborn.relplot.html\n",
    "\n",
    "https://www.statisticshowto.com/variance-inflation-factor/\n",
    "\n",
    "https://statisticsbyjim.com/regression/multicollinearity-in-regression-analysis/\n",
    "\n",
    "https://lost-stats.github.io/Presentation/Figures/heatmap_colored_correlation_matrix.html\n",
    "\n",
    "https://plotly.com/python/box-plots/\n",
    "\n",
    "https://numpy.org/doc/stable/reference/generated/numpy.zeros_like.html"
   ]
  },
  {
   "cell_type": "code",
   "execution_count": null,
   "id": "e9bbc9d8",
   "metadata": {},
   "outputs": [],
   "source": []
  },
  {
   "cell_type": "code",
   "execution_count": null,
   "id": "835fc1ef",
   "metadata": {},
   "outputs": [],
   "source": [
    "!pip show pycaret\n"
   ]
  }
 ],
 "metadata": {
  "kernelspec": {
   "display_name": "Python 3 (ipykernel)",
   "language": "python",
   "name": "python3"
  },
  "language_info": {
   "codemirror_mode": {
    "name": "ipython",
    "version": 3
   },
   "file_extension": ".py",
   "mimetype": "text/x-python",
   "name": "python",
   "nbconvert_exporter": "python",
   "pygments_lexer": "ipython3",
   "version": "3.11.0"
  }
 },
 "nbformat": 4,
 "nbformat_minor": 5
}
