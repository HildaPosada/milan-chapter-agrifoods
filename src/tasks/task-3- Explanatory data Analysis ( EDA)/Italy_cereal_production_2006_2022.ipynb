{
 "cells": [
  {
   "cell_type": "markdown",
   "id": "515a39f5",
   "metadata": {},
   "source": [
    "# Omdena  - Milan Chapter Agrifoods\n",
    "## AI for Sustainable agri-food systems: use of Satellite Imagery\n",
    "### Exploratory analysis of cereals production in Italy 2006-2022\n",
    "#### Author: Maria Fisher \n"
   ]
  },
  {
   "cell_type": "markdown",
   "id": "8f1ddaa7",
   "metadata": {},
   "source": [
    "The main objective of this study is to have gather information about crop production in Italy for the period of 2006-2022. \n",
    "\n",
    "Crop dataset used in this study was downloaded from the Italian National Institute of Statistics (Istat).\n",
    "\n"
   ]
  },
  {
   "cell_type": "code",
   "execution_count": null,
   "id": "e17f5b17",
   "metadata": {},
   "outputs": [],
   "source": [
    "import warnings \n",
    "warnings.filterwarnings(\"ignore\")\n",
    "\n",
    "import os\n",
    "import pandas as pd\n",
    "pd.options.display.float_format = \"{:.2f}\".format\n",
    "import numpy as np\n",
    "import matplotlib.pyplot as plt\n",
    "import matplotlib.dates as mdates\n",
    "import statsmodels.api as sm\n",
    "from statsmodels.stats.outliers_influence import variance_inflation_factor\n",
    "import seaborn as sns \n",
    "import scipy \n",
    "import sklearn\n",
    "import geopandas as gpd\n",
    "import pgeocode\n",
    "import folium\n",
    "import sys\n",
    "import plotly.graph_objs as go\n",
    "from plotly.offline import download_plotlyjs, init_notebook_mode, iplot, plot"
   ]
  },
  {
   "cell_type": "code",
   "execution_count": null,
   "id": "67d703c2",
   "metadata": {},
   "outputs": [],
   "source": [
    "cereals = pd.read_csv('./Italy_crop_data/cereals_legumes.csv',skipinitialspace=True)\n",
    "cereals.head()"
   ]
  },
  {
   "cell_type": "markdown",
   "id": "cbbf3502",
   "metadata": {},
   "source": [
    "## Pre-processing dataset "
   ]
  },
  {
   "cell_type": "code",
   "execution_count": null,
   "id": "6793813f",
   "metadata": {},
   "outputs": [],
   "source": [
    "# Drop Columns\n",
    "cereals = cereals.drop(columns =['ITTER107','TIPO_DATO5','AGRI_MADRE', 'TIME', 'Flag Codes','Flags' ])\n",
    "cereals"
   ]
  },
  {
   "cell_type": "code",
   "execution_count": null,
   "id": "09e8743a",
   "metadata": {},
   "outputs": [],
   "source": [
    "# Rename Columns\n",
    "cereals = cereals.rename(columns = {'Select time':'Year', 'Type of crop':'Type_crop', 'Data type':'Data_type', 'Territory':'City'})\n"
   ]
  },
  {
   "cell_type": "code",
   "execution_count": null,
   "id": "b66f7440",
   "metadata": {
    "scrolled": false
   },
   "outputs": [],
   "source": [
    "def show_info(cereals):\n",
    "    print('DATASET SHAPE: ', cereals.shape, '\\n')\n",
    "    print('-'*50)\n",
    "    print('FEATURE DATA TYPES:')\n",
    "    print(cereals.info())\n",
    "    print('\\n', '-'*50)\n",
    "    print('NUMBER OF UNIQUE VALUES PER FEATURE:', '\\n')\n",
    "    print(cereals.nunique())\n",
    "    print('\\n', '-'*50)\n",
    "    print('NULL VALUES PER FEATURE')\n",
    "    print(cereals.isnull().sum())\n",
    "show_info(cereals)"
   ]
  },
  {
   "cell_type": "markdown",
   "id": "e0550529",
   "metadata": {},
   "source": [
    "## Cities in Italy producing cereals"
   ]
  },
  {
   "cell_type": "code",
   "execution_count": null,
   "id": "5c466fda",
   "metadata": {
    "scrolled": true
   },
   "outputs": [],
   "source": [
    "cereals.City.unique()\n"
   ]
  },
  {
   "cell_type": "code",
   "execution_count": null,
   "id": "2800a4f6",
   "metadata": {},
   "outputs": [],
   "source": [
    "cereals.Data_type.unique()"
   ]
  },
  {
   "cell_type": "markdown",
   "id": "5e57cb5a",
   "metadata": {},
   "source": [
    "## Select only Values for total production - quintals\n",
    "In general crop production is reported in tonnes per hectare , however Istat (http://dati.istat.it) does not give variables definition, so we have assumed that the column 'Value' for rows containing data for 'harvested production - quintals', are values for total production of cereals  = yield(in quintal/ha). "
   ]
  },
  {
   "cell_type": "code",
   "execution_count": null,
   "id": "6aa4acaf",
   "metadata": {},
   "outputs": [],
   "source": [
    "cereals_total_prod = cereals[cereals['Data_type'] == 'total production - quintals ']\n",
    "cereals_total_prod.head()"
   ]
  },
  {
   "cell_type": "code",
   "execution_count": null,
   "id": "17ad006f",
   "metadata": {},
   "outputs": [],
   "source": []
  },
  {
   "cell_type": "code",
   "execution_count": null,
   "id": "a56b659d",
   "metadata": {},
   "outputs": [],
   "source": [
    "cereals_total_prod['Value'] = cereals_total_prod['Value']/10\n",
    "cereals_total_prod"
   ]
  },
  {
   "cell_type": "code",
   "execution_count": null,
   "id": "e46df0cb",
   "metadata": {},
   "outputs": [],
   "source": [
    "cereals_total_prod = cereals_total_prod.rename(columns = {'Value':'Production_tonnes'})\n",
    "cereals_total_prod"
   ]
  },
  {
   "cell_type": "code",
   "execution_count": null,
   "id": "996fbf5a",
   "metadata": {},
   "outputs": [],
   "source": [
    "cereals_total_prod =cereals_total_prod.drop(columns =['Data_type' ])\n",
    "cereals_total_prod"
   ]
  },
  {
   "cell_type": "markdown",
   "id": "65ec177d",
   "metadata": {},
   "source": [
    "## Total cereal production in 2006-2022"
   ]
  },
  {
   "cell_type": "code",
   "execution_count": null,
   "id": "02641bfa",
   "metadata": {
    "scrolled": true
   },
   "outputs": [],
   "source": [
    "plt.figure(figsize= (10,5))\n",
    "sns.barplot(x= 'Year', y= 'Production_tonnes',data = cereals_total_prod,palette='coolwarm')\n",
    "plt.title('Total cereal and legume production 2006-2022')\n",
    "plt.xlabel('Year')\n",
    "plt.ylabel('Total production (tonnes)')\n",
    "plt.show()\n",
    "\n"
   ]
  },
  {
   "cell_type": "code",
   "execution_count": null,
   "id": "9f8e7238",
   "metadata": {},
   "outputs": [],
   "source": []
  },
  {
   "cell_type": "markdown",
   "id": "393be3d5",
   "metadata": {},
   "source": [
    "## Cereal production by Cities "
   ]
  },
  {
   "cell_type": "code",
   "execution_count": null,
   "id": "69163d69",
   "metadata": {},
   "outputs": [],
   "source": [
    "cereals_total_prod_region = cereals_total_prod.groupby(by = cereals_total_prod.City)['Production_tonnes','City'].sum().reset_index().sort_values(by = 'Production_tonnes', ascending = False).head(10)\n",
    "cereals_total_prod_region"
   ]
  },
  {
   "cell_type": "code",
   "execution_count": null,
   "id": "7ba289ea",
   "metadata": {
    "scrolled": true
   },
   "outputs": [],
   "source": [
    "plt.figure(figsize= (10,5))\n",
    "sns.barplot(x=cereals_total_prod_region['Production_tonnes'],y= cereals_total_prod_region['City'], orient='h', palette='coolwarm');\n",
    "plt.title('Total cereal and legume production 2006-2022 by City')\n",
    "plt.xlabel('Total production')\n",
    "plt.ylabel('Cities')\n",
    "plt.show()"
   ]
  },
  {
   "cell_type": "markdown",
   "id": "ea55f585",
   "metadata": {},
   "source": [
    "## Italy geographic areas is organized in regions, provinces or comunes. \n",
    "### The regions are classified as follow:"
   ]
  },
  {
   "cell_type": "markdown",
   "id": "8ad982f4",
   "metadata": {},
   "source": [
    "\n",
    "#### Sud/Mezzogiorno:  \n",
    "\n",
    "Abruzzo, Apulia/Puglia, Basilicata, Calabria, Campania, Molise, Sicily \n",
    "\n",
    "* Abruzzo: L'Aquila, Pescara, Chieti, Teramo\n",
    "\n",
    "* Apulia/Puglia: Foggia, Bari, Taranto, Brindisi, Lecce, Barletta-Andria-Trani\n",
    "\n",
    "* Basilicata: Matera, Potenza\n",
    "\n",
    "* Calabria: Crotone, Vibo, Valentia, Cosenza, Catanzaro, Reggio di Calabria\n",
    "\n",
    "* Campania: Benevento, Caserta, Napoli, Avellino, Salerno\n",
    "\n",
    "* Molise: Campobasso, Isernia\n",
    "\n",
    "* Sicilia: Messina,Siracusa, Agrigento, Caltanissetta, Trapani, Enna, Palermo, Catania, Ragusa\n",
    "\n",
    "* Sardegna: Oristano, Carbonia-Iglesias, Olbia-Tempio, Ogliastr, Medio Campidano, Sassari, Nuoro, Cagliari\n",
    "\n",
    "\n",
    "\n",
    "#### Centro: \n",
    "\n",
    "Toscana, Umbria, Marche, Lazio\n",
    "\n",
    "* Toscana: Pistoia, Firenze, Massa-Carrara, Lucca, Arezzo, Livorno, Pisa, Grosseto, Siena, Prato\n",
    "\n",
    "* Umbria: Perugia, Terni   \n",
    "\n",
    "* Marche: Ancona, Macerata, Ascoli Piceno, Pesaro e Urbino, Fermo\n",
    "\n",
    "* Lazio:  Roma, Viterbo, Rieti, Latina, Frosinone\n",
    "\n",
    "\n",
    "#### Nord-ovest: \n",
    "\n",
    "Piemonte, Valle d’Aosta, Lombardia, Liguria\n",
    "\n",
    "* Liguria: Imperia, Savona, Genova, La Spezia\n",
    "\n",
    "* Lombardia: Como, Varese, Milano, Pavia, Bergamo, Brescia, Sondrio, Cremona, Mantova, Monza e Della Brianza, Lecco,Lodi\n",
    "\n",
    "* Piemonte: Vercelli, Novara, Torino, Cuneo, Asti, Alessandria, Biella, Verbano-Cusio-Ossola\n",
    "\n",
    "* Valdaosta:  Valle d'Aosta\n",
    "\n",
    "\n",
    "#### Nord-est:\n",
    "\n",
    "Trentino-Alto Adige, Veneto, Fiuli-Venezia Giulia, Emilia-Romagna\n",
    "\n",
    "\n",
    "* Trentino: Bolzano/Bozen, Trento\n",
    "\n",
    "* Veneto:  Belluno, Verona, Vicenza, Rovigo, Treviso, Venezia, Padova\n",
    "\n",
    "* Friuli: Udine, Gorizia, Trieste, Pordenone\n",
    "\n",
    "* Emilia-Romagna: Parma, Reggio Nell'Emilia, Piacenza, Forli'-Cesena, Modena, Bologna, Ferrara, Ravenna, Rimini\n",
    "\n",
    "\n",
    "\n",
    "\n",
    "\n",
    "\n",
    "\n",
    "\n",
    "\n"
   ]
  },
  {
   "cell_type": "markdown",
   "id": "91972548",
   "metadata": {},
   "source": [
    "## Cereals highest production 2006-2022"
   ]
  },
  {
   "cell_type": "code",
   "execution_count": null,
   "id": "ec7ec369",
   "metadata": {
    "scrolled": true
   },
   "outputs": [],
   "source": [
    "print(cereals_total_prod.Type_crop.max())\n",
    "print(cereals_total_prod.Type_crop.value_counts())\n",
    "print(cereals_total_prod.Type_crop.nunique())\n",
    "\n"
   ]
  },
  {
   "cell_type": "markdown",
   "id": "e4babcab",
   "metadata": {},
   "source": [
    "Dataset shows there are 29 different types of cereals cultivated in Italy. Ten crop produced are Common wheat, Durum wheat, Potatoes, Barley, Maize, Beans, Chick-peas, Rye, Rice and Oats. "
   ]
  },
  {
   "cell_type": "code",
   "execution_count": null,
   "id": "541fbb70",
   "metadata": {},
   "outputs": [],
   "source": [
    "cereals_total_prod.describe().astype(int)"
   ]
  },
  {
   "cell_type": "code",
   "execution_count": null,
   "id": "0f0bbed8",
   "metadata": {},
   "outputs": [],
   "source": [
    "# Rename name of crops \n",
    "cereals_total_prod = cereals_total_prod.replace('oats and spring cereal mixtures (mixed grain other than maslin)','oats mix')\n",
    "cereals_total_prod = cereals_total_prod.replace('rye and winter cereal mixtures (maslin)','rye mix')\n",
    "cereals_total_prod = cereals_total_prod.replace('spring cereal mixtures (mixed grain other than maslin)','cereal mix')\n",
    "cereals_total_prod = cereals_total_prod.replace('common spring wheat and spelt','c-spr-wheat&spelt')\n",
    "cereals_total_prod = cereals_total_prod.replace('common winter wheat and spelt','c-wint-wheat&spelt')\n",
    "cereals_total_prod = cereals_total_prod.replace('winter cereal mixtures (maslin)','wint-cereal-mix')\n",
    "cereals_total_prod = cereals_total_prod.replace('dried kidney bean','dry-k-bean')\n",
    "cereals_total_prod = cereals_total_prod.replace('common wheat','c-wheat')\n",
    "cereals_total_prod = cereals_total_prod.replace('durum wheat','d-wheat')\n",
    "cereals_total_prod = cereals_total_prod.replace('broad bean','bro-bean')\n",
    "cereals_total_prod = cereals_total_prod.replace('grain maize','maize')\n",
    "\n",
    "\n",
    "\n",
    " "
   ]
  },
  {
   "cell_type": "code",
   "execution_count": null,
   "id": "13c50793",
   "metadata": {},
   "outputs": [],
   "source": [
    "plt.figure(figsize=(10,5))\n",
    "cereals_total_prod ['Type_crop'].value_counts().plot.bar()\n",
    "plt.title('Total cereal and legume production 2006-2022 by crop')\n",
    "plt.ylabel('Total production (tonnes)')\n",
    "plt.show()\n"
   ]
  },
  {
   "cell_type": "markdown",
   "id": "4be4c02c",
   "metadata": {},
   "source": [
    "## Subseting data"
   ]
  },
  {
   "cell_type": "code",
   "execution_count": null,
   "id": "60306675",
   "metadata": {
    "scrolled": true
   },
   "outputs": [],
   "source": [
    "cereals_top10 = cereals_total_prod.apply(lambda row: row[cereals_total_prod['Type_crop'].isin(['barley','oats', \n",
    "                                         'd-wheat','c-wheat', 'maize', 'potatoes','dry-k-bean',\n",
    "                                          'bro-bean','chick-peas','rye'])])\n",
    "\n",
    "cereals_top10.head()"
   ]
  },
  {
   "cell_type": "code",
   "execution_count": null,
   "id": "f6fd16c1",
   "metadata": {
    "scrolled": false
   },
   "outputs": [],
   "source": [
    "plt.figure(figsize=(8,6))\n",
    "\n",
    "sns.boxplot(\n",
    "    data=cereals_top10, y=\"Type_crop\", x=\"Production_tonnes\",\n",
    "    notch=True, showcaps=False,\n",
    "    flierprops={\"marker\": \".\"},\n",
    "    boxprops={\"facecolor\": (.9, .6, .8, .5)},\n",
    "    medianprops={\"color\": \"black\"},\n",
    ")\n",
    "\n",
    "plt.title('Ten cereals and legumes produced Italy')\n",
    "plt.ylabel('Type of Crop')\n",
    "plt.xlabel('Total harvested')\n",
    "plt.show()"
   ]
  },
  {
   "cell_type": "markdown",
   "id": "2f45dc68",
   "metadata": {},
   "source": [
    "## Vizualization of ten type of cereals and legumes produced in Italy in the period of 2006-2022 "
   ]
  },
  {
   "cell_type": "code",
   "execution_count": null,
   "id": "628eb606",
   "metadata": {},
   "outputs": [],
   "source": [
    "fig, axs = plt.subplots(3,2, figsize=(13, 10))\n",
    "plt.ylabel(\" \")\n",
    "\n",
    "plot1 = cereals_top10[cereals_top10.Year == 2006].groupby('Type_crop').size().nlargest(10).plot(kind='barh', color='#6b6ecf', title='2006', ax=axs[0,0])\n",
    "plot2 = cereals_top10[cereals_top10.Year == 2007].groupby('Type_crop').size().nlargest(10).plot(kind='barh', color='#6b6ecf', title='2007', ax=axs[0,1])\n",
    "plot3 = cereals_top10[cereals_top10.Year == 2008].groupby('Type_crop').size().nlargest(10).plot(kind='barh', color='#6b6ecf', title='2008', ax=axs[1,0])\n",
    "plot4 = cereals_top10[cereals_top10.Year == 2009].groupby('Type_crop').size().nlargest(10).plot(kind='barh', color='#6b6ecf', title='2009', ax=axs[1,1])\n",
    "plot5 = cereals_top10[cereals_top10.Year == 2010].groupby('Type_crop').size().nlargest(10).plot(kind='barh', color='#6b6ecf', title='2010', ax=axs[2,0])\n",
    "plot6 = cereals_top10[cereals_top10.Year == 2011].groupby('Type_crop').size().nlargest(10).plot(kind='barh', color='#6b6ecf', title='2011', ax=axs[2,1])\n",
    "\n",
    "for ax in axs.flat:\n",
    "    ax.bar_label(ax.containers[0], fmt='%.0f', label_type='edge', padding=2)\n",
    "    ax.margins(x=0.1)\n",
    "    ax.set_ylabel(' ')\n",
    "    sns.despine()\n",
    "\n",
    "plt.tight_layout()\n",
    "plt.show()"
   ]
  },
  {
   "cell_type": "code",
   "execution_count": null,
   "id": "4f772345",
   "metadata": {},
   "outputs": [],
   "source": [
    "fig, axs = plt.subplots(3,2, figsize=(13, 10))\n",
    "\n",
    "\n",
    "plot7 = cereals_top10[cereals_top10.Year == 2012].groupby('Type_crop').size().nlargest(10).plot(kind='barh', color='#6b6ecf', title='2012', ax=axs[0,0])\n",
    "plot8 = cereals_top10[cereals_top10.Year == 2013].groupby('Type_crop').size().nlargest(10).plot(kind='barh', color='#6b6ecf', title='2013', ax=axs[0,1])\n",
    "plot9 = cereals_top10[cereals_top10.Year == 2014].groupby('Type_crop').size().nlargest(10).plot(kind='barh', color='#6b6ecf', title='2014', ax=axs[1,0])\n",
    "plot10 = cereals_top10[cereals_top10.Year == 2015].groupby('Type_crop').size().nlargest(10).plot(kind='barh', color='#6b6ecf', title='2015', ax=axs[1,1])\n",
    "plot11 = cereals_top10[cereals_top10.Year == 2016].groupby('Type_crop').size().nlargest(10).plot(kind='barh', color='#6b6ecf', title='2016', ax=axs[2,0])\n",
    "plot12 = cereals_top10[cereals_top10.Year == 2017].groupby('Type_crop').size().nlargest(10).plot(kind='barh', color='#6b6ecf', title='2017', ax=axs[2,1])\n",
    "\n",
    "for ax in axs.flat:\n",
    "    ax.bar_label(ax.containers[0], fmt='%.0f', label_type='edge', padding=2)\n",
    "    ax.margins(x=0.1)\n",
    "    ax.set_ylabel(' ')\n",
    "    sns.despine()\n",
    "    \n",
    "plt.tight_layout()\n",
    "plt.show()"
   ]
  },
  {
   "cell_type": "code",
   "execution_count": null,
   "id": "5771fb8c",
   "metadata": {
    "scrolled": true
   },
   "outputs": [],
   "source": [
    "\n",
    "fig, axs = plt.subplots(2,3, figsize=(25,12))\n",
    "\n",
    "axs[1,0].set_position([0.24,0.125,0.228,0.343])\n",
    "axs[1,1].set_position([0.55,0.125,0.228,0.343])\n",
    "axs[1,2].set_visible(False)\n",
    "\n",
    "plot13 = cereals_top10[cereals_top10.Year == 2018].groupby('Type_crop').size().nlargest(10).plot(kind='barh', color='#6b6ecf', title='2018', ax=axs[0,0])\n",
    "plot14 = cereals_top10[cereals_top10.Year == 2019].groupby('Type_crop').size().nlargest(10).plot(kind='barh', color='#6b6ecf', title='2019', ax=axs[0,1])\n",
    "plot15 = cereals_top10[cereals_top10.Year == 2020].groupby('Type_crop').size().nlargest(10).plot(kind='barh', color='#6b6ecf', title='2020', ax=axs[0,2])\n",
    "plot16 = cereals_top10[cereals_top10.Year == 2021].groupby('Type_crop').size().nlargest(10).plot(kind='barh', color='#6b6ecf', title='2021', ax=axs[1,0])\n",
    "plot17 = cereals_top10[cereals_top10.Year == 2022].groupby('Type_crop').size().nlargest(10).plot(kind='barh', color='#6b6ecf', title='2022', ax=axs[1,1])\n",
    "\n",
    "for ax in axs.flat:\n",
    "    ax.bar_label(ax.containers[0], fmt='%.0f', label_type='edge', padding=2)\n",
    "    ax.margins(x=0.1)\n",
    "    ax.set_ylabel(' ')\n",
    "    sns.despine()\n",
    "\n",
    "plt.tight_layout()\n",
    "\n",
    "plt.show()\n",
    "\n"
   ]
  },
  {
   "cell_type": "code",
   "execution_count": null,
   "id": "2f0cffcb",
   "metadata": {},
   "outputs": [],
   "source": []
  },
  {
   "cell_type": "code",
   "execution_count": null,
   "id": "fae9cace",
   "metadata": {
    "scrolled": true
   },
   "outputs": [],
   "source": [
    "#Crop harvested by year\n",
    "plotcrop10 = sns.relplot(kind='line', data=cereals_top10, x='Year', y='Production_tonnes', hue='Type_crop', style='Type_crop', aspect=1.75)\n"
   ]
  },
  {
   "cell_type": "code",
   "execution_count": null,
   "id": "6a8829b9",
   "metadata": {},
   "outputs": [],
   "source": [
    "# Create columns for each type of fertilizer \n",
    "cereals_top10_pivot = cereals_top10.pivot_table(index=['City', 'Year'],aggfunc='sum', columns='Type_crop',values=['Production_tonnes'])\n",
    "cereals_top10_pivot\n",
    "\n",
    "\n"
   ]
  },
  {
   "cell_type": "code",
   "execution_count": null,
   "id": "86f8d58a",
   "metadata": {},
   "outputs": [],
   "source": [
    "\n",
    "# Drop level\n",
    "cereals_top10_pivot.columns = cereals_top10_pivot.columns.droplevel()\n",
    "cereals_top10_pivot\n",
    "\n"
   ]
  },
  {
   "cell_type": "code",
   "execution_count": null,
   "id": "c2f4ba7e",
   "metadata": {},
   "outputs": [],
   "source": [
    "cereals_top10_pivot = cereals_top10_pivot.fillna(0)\n",
    "cereals_top10_pivot\n",
    "\n"
   ]
  },
  {
   "cell_type": "code",
   "execution_count": null,
   "id": "21215f64",
   "metadata": {},
   "outputs": [],
   "source": [
    "#Rename index\n",
    "cereals_top10_pivot = cereals_top10_pivot.rename_axis(None,axis=1)\n",
    "cereals_top10_pivot\n",
    "\n"
   ]
  },
  {
   "cell_type": "code",
   "execution_count": null,
   "id": "67e0bcc9",
   "metadata": {
    "scrolled": true
   },
   "outputs": [],
   "source": [
    "# Reset index\n",
    "cereals_top10_pivot = cereals_top10_pivot.reset_index()\n",
    "cereals_top10_pivot"
   ]
  },
  {
   "cell_type": "markdown",
   "id": "e8ab7c94",
   "metadata": {},
   "source": [
    "## Statistical analysis"
   ]
  },
  {
   "cell_type": "code",
   "execution_count": null,
   "id": "46e43796",
   "metadata": {
    "scrolled": true
   },
   "outputs": [],
   "source": [
    "cereals_top10_pivot.describe()"
   ]
  },
  {
   "cell_type": "markdown",
   "id": "428b9a43",
   "metadata": {},
   "source": [
    "#### Data metrics : skew, kurtosis and mode"
   ]
  },
  {
   "cell_type": "code",
   "execution_count": null,
   "id": "686e888b",
   "metadata": {
    "scrolled": true
   },
   "outputs": [],
   "source": [
    "cereals_top10_pivot_stats = cereals_top10_pivot[['barley','bro-bean','c-wheat','chick-peas','d-wheat','dry-k-bean','maize','oats','potatoes','rye']]\n",
    "print(cereals_top10_pivot_stats.astype(float).skew())\n",
    "print(cereals_top10_pivot_stats.astype(float).kurtosis())\n",
    "print(cereals_top10_pivot_stats.astype(float).mode())\n"
   ]
  },
  {
   "cell_type": "markdown",
   "id": "4fed2da6",
   "metadata": {},
   "source": [
    "### Graphs\n",
    "#### Histogram and Boxplot showing data distribuion and outliers¶\n"
   ]
  },
  {
   "cell_type": "markdown",
   "id": "e7c01926",
   "metadata": {},
   "source": [
    "### Normalizing the dataset\n",
    "\n",
    "The data need to be normalized for further use in a modelling. Here the data will be normalize by deleting outliers using the interquartile range (IQR).\n"
   ]
  },
  {
   "cell_type": "markdown",
   "id": "569e75b8",
   "metadata": {},
   "source": [
    "#### Calculate and print the interquartile range"
   ]
  },
  {
   "cell_type": "code",
   "execution_count": null,
   "id": "9fdff744",
   "metadata": {},
   "outputs": [],
   "source": [
    "\n",
    "Q1 = cereals_top10_pivot_stats.quantile(0.25)\n",
    "Q3 = cereals_top10_pivot_stats.quantile(0.75)\n",
    "IQR = Q3 - Q1\n",
    "print(IQR)\n"
   ]
  },
  {
   "cell_type": "markdown",
   "id": "92e030ea",
   "metadata": {},
   "source": [
    "#### Remove outliers and plot graphs"
   ]
  },
  {
   "cell_type": "code",
   "execution_count": null,
   "id": "50492fc5",
   "metadata": {},
   "outputs": [],
   "source": [
    "# Remove outliers\n",
    "cereals_top10_pivot_stats[~((cereals_top10_pivot < (Q1 - 1.5 * IQR)) | (cereals_top10_pivot_stats > (Q3 + 1.5 * IQR))).any(axis=1)]\n",
    "print(cereals_top10_pivot.shape)"
   ]
  },
  {
   "cell_type": "code",
   "execution_count": null,
   "id": "9849aed4",
   "metadata": {},
   "outputs": [],
   "source": [
    "fig, ax = plt.subplots(5, 2, figsize = (10, 10))\n",
    "sns.boxplot(x= cereals_top10_pivot_stats[\"barley\"], color = 'white', ax = ax[0,0])\n",
    "sns.distplot(cereals_top10_pivot_stats['barley'], color = 'darkblue', ax = ax[0,1])\n",
    "sns.boxplot(x= cereals_top10_pivot_stats[\"bro-bean\"],color = 'white', ax = ax[1,0])\n",
    "sns.distplot(cereals_top10_pivot_stats['bro-bean'], color = 'darkblue', ax = ax[1,1])\n",
    "sns.boxplot(x= cereals_top10_pivot_stats[\"c-wheat\"],color = 'white', ax = ax[2,0])\n",
    "sns.distplot(cereals_top10_pivot_stats['c-wheat'], color = 'darkblue',ax = ax[2,1])\n",
    "sns.boxplot(x= cereals_top10_pivot_stats[\"chick-peas\"], color = 'white', ax = ax[3,0])\n",
    "sns.distplot(cereals_top10_pivot_stats['chick-peas'], color = 'darkblue', ax = ax[3,1])\n",
    "sns.boxplot(x= cereals_top10_pivot_stats[\"d-wheat\"], color = 'white',ax = ax[4,0])\n",
    "sns.distplot(cereals_top10_pivot_stats['d-wheat'], color = 'darkblue',ax = ax[4,1])\n",
    "\n",
    "plt.tight_layout()"
   ]
  },
  {
   "cell_type": "code",
   "execution_count": null,
   "id": "d8ae0ef9",
   "metadata": {
    "scrolled": true
   },
   "outputs": [],
   "source": [
    "fig, ax = plt.subplots(5, 2, figsize = (10, 10))\n",
    "sns.boxplot(x= cereals_top10_pivot_stats[\"maize\"], color = 'white', ax = ax[0,0])\n",
    "sns.distplot(cereals_top10_pivot_stats['maize'], color = 'darkblue', ax = ax[0,1])\n",
    "sns.boxplot(x= cereals_top10_pivot_stats[\"oats\"],color = 'white', ax = ax[1,0])\n",
    "sns.distplot(cereals_top10_pivot_stats['oats'], color = 'darkblue', ax = ax[1,1])\n",
    "sns.boxplot(x= cereals_top10_pivot_stats[\"potatoes\"],color = 'white', ax = ax[2,0])\n",
    "sns.distplot(cereals_top10_pivot_stats['potatoes'], color = 'darkblue',ax = ax[2,1])\n",
    "sns.boxplot(x= cereals_top10_pivot_stats[\"dry-k-bean\"], color = 'white',ax = ax[3,0])\n",
    "sns.distplot(cereals_top10_pivot_stats['dry-k-bean'], color = 'darkblue',ax = ax[3,1])\n",
    "sns.boxplot(x= cereals_top10_pivot_stats[\"rye\"], color = 'white',ax = ax[4,0])\n",
    "sns.distplot(cereals_top10_pivot_stats['rye'], color = 'darkblue',ax = ax[4,1])\n",
    "\n",
    "plt.tight_layout()"
   ]
  },
  {
   "cell_type": "code",
   "execution_count": null,
   "id": "3be52424",
   "metadata": {},
   "outputs": [],
   "source": [
    "cereals_top10_pivot"
   ]
  },
  {
   "cell_type": "markdown",
   "id": "35c00333",
   "metadata": {},
   "source": [
    "### Pre-processing ferlizers dataset\n",
    "fertilizers distributed - tonnes"
   ]
  },
  {
   "cell_type": "code",
   "execution_count": null,
   "id": "1385e93e",
   "metadata": {
    "scrolled": true
   },
   "outputs": [],
   "source": [
    "    fertilizer = pd.read_csv('fertilizer_by_prov.csv',skipinitialspace=True)\n",
    "fertilizer.head()"
   ]
  },
  {
   "cell_type": "code",
   "execution_count": null,
   "id": "af33b810",
   "metadata": {},
   "outputs": [],
   "source": []
  },
  {
   "cell_type": "code",
   "execution_count": null,
   "id": "7dbc1f59",
   "metadata": {},
   "outputs": [],
   "source": [
    "fertilizer = fertilizer.drop(columns =['ITTER107','TIPO_DATO5', 'TIME','FERTILIZZANTI','Flag Codes','Flags'])\n",
    "fertilizer"
   ]
  },
  {
   "cell_type": "code",
   "execution_count": null,
   "id": "efb62059",
   "metadata": {
    "scrolled": true
   },
   "outputs": [],
   "source": [
    "# change name of columns\n",
    "fertilizer = fertilizer.rename(columns = {'Select time':'Year', 'Type of fertilizer':'Type_fertilizer', 'Data type':'Data_type', 'Territory':'City', 'Value':'Fertilizers_tonnes'})\n",
    "fertilizer"
   ]
  },
  {
   "cell_type": "code",
   "execution_count": null,
   "id": "789eef38",
   "metadata": {},
   "outputs": [],
   "source": [
    "fertilizer.City.unique()"
   ]
  },
  {
   "cell_type": "code",
   "execution_count": null,
   "id": "d329d1be",
   "metadata": {},
   "outputs": [],
   "source": [
    "fertilizer.Data_type.unique()"
   ]
  },
  {
   "cell_type": "code",
   "execution_count": null,
   "id": "332fdae2",
   "metadata": {},
   "outputs": [],
   "source": [
    "#convert quintals to tonnes\n",
    "fertilizer.loc[fertilizer['Data_type'] == 'fertilizers distributed - quintals','Fertilizers_tonnes' ] = fertilizer['Fertilizers_tonnes'] / 10\n",
    "\n"
   ]
  },
  {
   "cell_type": "code",
   "execution_count": null,
   "id": "081d1a85",
   "metadata": {},
   "outputs": [],
   "source": [
    "fertilizer.Data_type.unique()"
   ]
  },
  {
   "cell_type": "code",
   "execution_count": null,
   "id": "cffb80cf",
   "metadata": {},
   "outputs": [],
   "source": [
    "fertilizer"
   ]
  },
  {
   "cell_type": "markdown",
   "id": "40f56104",
   "metadata": {},
   "source": [
    "### Selecting fertilizers for future analysis "
   ]
  },
  {
   "cell_type": "code",
   "execution_count": null,
   "id": "aaba8bc1",
   "metadata": {
    "scrolled": true
   },
   "outputs": [],
   "source": [
    "print(fertilizer.Type_fertilizer.max())\n",
    "print(fertilizer.Type_fertilizer.value_counts())\n",
    "print(fertilizer.Type_fertilizer.nunique())"
   ]
  },
  {
   "cell_type": "code",
   "execution_count": null,
   "id": "86746bc0",
   "metadata": {},
   "outputs": [],
   "source": []
  },
  {
   "cell_type": "code",
   "execution_count": null,
   "id": "ade1d863",
   "metadata": {},
   "outputs": [],
   "source": [
    "# Rename name of fertilizers \n",
    "fertilizer = fertilizer.replace('organic fertilizers - straight nitrogen','organic-nitrogen')\n",
    "fertilizer = fertilizer.replace('organic-mineral fertilizers - straight nitrogen','organic-nitrogen')\n",
    "fertilizer = fertilizer.replace('organic-mineral fertilizers - compound','organic-mineral')\n",
    "fertilizer = fertilizer.replace('organic fertilizers - compound','organic')\n",
    "fertilizer = fertilizer.replace('mixed soil amendment','mix-amend')\n",
    "fertilizer = fertilizer.replace('peaty soil amendment','peaty-amend')\n",
    "fertilizer = fertilizer.replace('peaty amendment','peaty-amend')\n",
    "fertilizer = fertilizer.replace('peat amendment','peaty-amend')\n",
    "fertilizer = fertilizer.replace('two components - nitrogen-phosphorous','nitrogen-phosphorous')\n",
    "fertilizer = fertilizer.replace('two components - nitrogen-potassium','nitrogen-potassium')\n",
    "fertilizer = fertilizer.replace('two components - nitrogen-phosphorous','nitrogen-phosphorous')\n",
    "fertilizer = fertilizer.replace('two components - phosphorus-potassium','phosphorus-potassium')\n",
    "fertilizer = fertilizer.replace('vegetable soil amendment', 'organic')"
   ]
  },
  {
   "cell_type": "code",
   "execution_count": null,
   "id": "c042dbe2",
   "metadata": {},
   "outputs": [],
   "source": [
    "print(fertilizer.Type_fertilizer.max())\n",
    "print(fertilizer.Type_fertilizer.value_counts())\n"
   ]
  },
  {
   "cell_type": "code",
   "execution_count": 1,
   "id": "13c6f7f3",
   "metadata": {},
   "outputs": [
    {
     "ename": "NameError",
     "evalue": "name 'fertilizer' is not defined",
     "output_type": "error",
     "traceback": [
      "\u001b[0;31m---------------------------------------------------------------------------\u001b[0m",
      "\u001b[0;31mNameError\u001b[0m                                 Traceback (most recent call last)",
      "Cell \u001b[0;32mIn [1], line 1\u001b[0m\n\u001b[0;32m----> 1\u001b[0m fertilizer \u001b[38;5;241m=\u001b[39m fertilizer\u001b[38;5;241m.\u001b[39mapply(\u001b[38;5;28;01mlambda\u001b[39;00m row: row[fertilizer[\u001b[38;5;124m'\u001b[39m\u001b[38;5;124mType_fertilizer\u001b[39m\u001b[38;5;124m'\u001b[39m]\u001b[38;5;241m.\u001b[39misin([\u001b[38;5;124m'\u001b[39m\u001b[38;5;124mcalcium cyanamide\u001b[39m\u001b[38;5;124m'\u001b[39m,\u001b[38;5;124m'\u001b[39m\u001b[38;5;124mnitrates\u001b[39m\u001b[38;5;124m'\u001b[39m,\u001b[38;5;124m'\u001b[39m\u001b[38;5;124morganic\u001b[39m\u001b[38;5;124m'\u001b[39m, \u001b[38;5;124m'\u001b[39m\u001b[38;5;124murea\u001b[39m\u001b[38;5;124m'\u001b[39m,\u001b[38;5;124m'\u001b[39m\u001b[38;5;124mnitrogen-potassium\u001b[39m\u001b[38;5;124m'\u001b[39m,\n\u001b[1;32m      2\u001b[0m                                                                                   \u001b[38;5;124m'\u001b[39m\u001b[38;5;124mphosphorus-potassium\u001b[39m\u001b[38;5;124m'\u001b[39m,\u001b[38;5;124m'\u001b[39m\u001b[38;5;124mammonium sulphate\u001b[39m\u001b[38;5;124m'\u001b[39m,\u001b[38;5;124m'\u001b[39m\u001b[38;5;124mcalcium cyanamide\u001b[39m\u001b[38;5;124m'\u001b[39m, \n\u001b[1;32m      3\u001b[0m                                                                                   \u001b[38;5;124m'\u001b[39m\u001b[38;5;124mnitrogen-phosphorous\u001b[39m\u001b[38;5;124m'\u001b[39m,\u001b[38;5;124m'\u001b[39m\u001b[38;5;124mpeaty-amend\u001b[39m\u001b[38;5;124m'\u001b[39m,\u001b[38;5;124m'\u001b[39m\u001b[38;5;124morganic-nitrogen\u001b[39m\u001b[38;5;124m'\u001b[39m ])])\n\u001b[1;32m      5\u001b[0m fertilizer\u001b[38;5;241m.\u001b[39mhead()\n",
      "\u001b[0;31mNameError\u001b[0m: name 'fertilizer' is not defined"
     ]
    }
   ],
   "source": [
    "fertilizer = fertilizer.apply(lambda row: row[fertilizer['Type_fertilizer'].isin(['calcium cyanamide','nitrates','organic', 'urea','nitrogen-potassium',\n",
    "                                                                                  'phosphorus-potassium','ammonium sulphate','calcium cyanamide', \n",
    "                                                                                  'nitrogen-phosphorous','peaty-amend','organic-nitrogen' ])])\n",
    "\n",
    "fertilizer.head()"
   ]
  },
  {
   "cell_type": "code",
   "execution_count": null,
   "id": "be9e3596",
   "metadata": {
    "scrolled": true
   },
   "outputs": [],
   "source": [
    "\n",
    "plt.figure(figsize=(10,10))\n",
    "fertilizer['Type_fertilizer'].value_counts().plot.bar()\n",
    "plt.title('Total fertilizers distributed 2006-2021')\n",
    "plt.ylabel('Total fertilizers (tonnes)')\n",
    "plt.show()\n"
   ]
  },
  {
   "cell_type": "code",
   "execution_count": null,
   "id": "2d4371a7",
   "metadata": {
    "scrolled": false
   },
   "outputs": [],
   "source": [
    "# fertilizer distributed tonnes and quintals\n",
    "plt.figure(figsize= (10,5))\n",
    "sns.barplot(x= 'Year', y= 'Fertilizers_tonnes',data = fertilizer, palette='coolwarm')\n",
    "plt.title('Fertilizers distributed (tonnes) 2006-2021')\n",
    "plt.xlabel('Year')\n",
    "plt.ylabel('Fertilizers total (tonnes)')\n",
    "plt.show()\n"
   ]
  },
  {
   "cell_type": "code",
   "execution_count": null,
   "id": "b51637de",
   "metadata": {},
   "outputs": [],
   "source": [
    "fertilizer = fertilizer.nlargest(30, 'Fertilizers_tonnes')"
   ]
  },
  {
   "cell_type": "code",
   "execution_count": null,
   "id": "6eb533d6",
   "metadata": {},
   "outputs": [],
   "source": [
    "fertilizer= fertilizer.sort_values('Fertilizers_tonnes',ascending=False)\n",
    "\n",
    "plt.figure(figsize= (10,5))\n",
    "sns.barplot(x=fertilizer['Fertilizers_tonnes'] ,y= fertilizer ['City'], palette='coolwarm');\n",
    "plt.title('Total Fertilizers distributed (tonnes) 2006-2021 by City')\n",
    "plt.xlabel('Total')\n",
    "plt.ylabel('Cities')\n",
    "plt.show()"
   ]
  },
  {
   "cell_type": "code",
   "execution_count": null,
   "id": "806ff296",
   "metadata": {
    "scrolled": true
   },
   "outputs": [],
   "source": [
    "#Fertilizers distributed by year\n",
    "\n",
    "fertilizer_plot = sns.relplot(kind='line', data=fertilizer, x='Year', y='Fertilizers_tonnes', hue='Type_fertilizer', style='Type_fertilizer', aspect=1.75)\n"
   ]
  },
  {
   "cell_type": "code",
   "execution_count": null,
   "id": "96193cb3",
   "metadata": {},
   "outputs": [],
   "source": [
    "fertilizer.head()"
   ]
  },
  {
   "cell_type": "markdown",
   "id": "8e10e85b",
   "metadata": {},
   "source": [
    "#### Create new dataframe with the selected type of fertilizers as columns  "
   ]
  },
  {
   "cell_type": "code",
   "execution_count": null,
   "id": "13ab1514",
   "metadata": {
    "scrolled": true
   },
   "outputs": [],
   "source": [
    "# Create columns for each type of fertilizer \n",
    "fertilizer_pivot = fertilizer.pivot_table(index=['City', 'Year'],aggfunc='sum', columns='Type_fertilizer',values=['Fertilizers_tonnes'])\n",
    "fertilizer_pivot"
   ]
  },
  {
   "cell_type": "code",
   "execution_count": null,
   "id": "2693cbc6",
   "metadata": {
    "scrolled": true
   },
   "outputs": [],
   "source": [
    "# Drop level\n",
    "fertilizer_pivot.columns = fertilizer_pivot.columns.droplevel()\n",
    "fertilizer_pivot"
   ]
  },
  {
   "cell_type": "code",
   "execution_count": null,
   "id": "ab8cee76",
   "metadata": {},
   "outputs": [],
   "source": [
    "#Rename index\n",
    "fertilizer_pivot = fertilizer_pivot.rename_axis(None,axis=1)\n",
    "fertilizer_pivot"
   ]
  },
  {
   "cell_type": "code",
   "execution_count": null,
   "id": "a6fe18d9",
   "metadata": {
    "scrolled": false
   },
   "outputs": [],
   "source": [
    "# Reset index\n",
    "fertilizer_pivot = fertilizer_pivot.reset_index()\n",
    "fertilizer_pivot"
   ]
  },
  {
   "cell_type": "markdown",
   "id": "0bf1dc4f",
   "metadata": {},
   "source": [
    "#### Join crop and fertilizers datasets "
   ]
  },
  {
   "cell_type": "code",
   "execution_count": null,
   "id": "37dcf6e6",
   "metadata": {},
   "outputs": [],
   "source": [
    "# Join both datasets \n",
    "it_crop_fertilizer = pd.merge(cereals_top10_pivot, fertilizer_pivot, on=['Year', 'City'], how='left').fillna(0)\n",
    "it_crop_fertilizer"
   ]
  },
  {
   "cell_type": "markdown",
   "id": "0d85cb84",
   "metadata": {},
   "source": [
    "### Correlation analysis\n"
   ]
  },
  {
   "cell_type": "code",
   "execution_count": null,
   "id": "1ef453db",
   "metadata": {},
   "outputs": [],
   "source": [
    "\n",
    "crop = it_crop_fertilizer.City.astype('category')\n",
    "targets = dict(enumerate(crop.cat.categories))\n",
    "it_crop_fertilizer['target']=crop.cat.codes\n",
    "\n",
    "cor_selected = it_crop_fertilizer[['barley','oats','d-wheat','c-wheat', 'maize',\n",
    "                                 'potatoes','dry-k-bean','bro-bean','chick-peas',\n",
    "                                 'rye','calcium cyanamide','nitrogen-potassium','organic',\n",
    "                                 'phosphorus-potassium','urea']]\n"
   ]
  },
  {
   "cell_type": "code",
   "execution_count": null,
   "id": "002de8e8",
   "metadata": {},
   "outputs": [],
   "source": [
    "plt.figure(figsize=(13,10))\n",
    "plt.title('Correlation cereals & legumes 2006-2021', size=10)\n",
    "sns.heatmap(cor_selected.corr(), cmap='crest', center=0, annot=True)"
   ]
  },
  {
   "cell_type": "markdown",
   "id": "74a22bed",
   "metadata": {},
   "source": [
    "### Correlation analysis of cereal and legumes production in Italy 2006 -2021 : \n",
    "\n",
    "* Maize has hight correlation with common Wheat and correlation with urea.\n",
    "\n",
    "* Barley has hight correlation with Wheat.\n",
    "\n",
    "* Oats has hight correlation with Durum Wheat. \n",
    "\n",
    "* Common Wheat has hight correlation with urea. \n",
    "\n",
    "* Potatoes has correlation with Wheat. \n",
    "\n",
    "* There is also hight correlation between urea, nitrogen-potassium, calcium and phosphorus-potassium fertilizers.\n"
   ]
  },
  {
   "cell_type": "markdown",
   "id": "63b28fd1",
   "metadata": {},
   "source": [
    "### Calculating Variance Inflation Factor (VIF) for all given features\n",
    "\n"
   ]
  },
  {
   "cell_type": "code",
   "execution_count": null,
   "id": "9186ab3c",
   "metadata": {},
   "outputs": [],
   "source": [
    "# Function to compute the VIF\n",
    "def compute_vif(selected_features):\n",
    "    \n",
    "    y = cor_selected [selected_features]\n",
    "    # the calculation of variance inflation requires a constant\n",
    "    y['intercept'] = 1\n",
    "    \n",
    "    # create dataframe to store vif values\n",
    "    vif = pd.DataFrame()\n",
    "    vif[\"Feature\"] = y.columns\n",
    "    vif[\"VIF\"] = [variance_inflation_factor(y.values, i) for i in range(y.shape[1])]\n",
    "    vif = vif[vif['Feature']!='intercept']\n",
    "    return vif"
   ]
  },
  {
   "cell_type": "code",
   "execution_count": null,
   "id": "fde72aa7",
   "metadata": {},
   "outputs": [],
   "source": [
    "# Features selection\n",
    "selected_features = ['barley','oats','d-wheat','c-wheat', 'maize',\n",
    "                                 'potatoes','dry-k-bean','bro-bean','chick-peas',\n",
    "                                 'rye','calcium cyanamide','nitrogen-potassium','organic',\n",
    "                                 'phosphorus-potassium','urea']\n",
    "\n",
    "# compute vif \n",
    "compute_vif(selected_features).sort_values('VIF', ascending=False)\n"
   ]
  },
  {
   "cell_type": "markdown",
   "id": "dbc5a69f",
   "metadata": {},
   "source": [
    "We have performed variance inflation factor (VIF) to detect if there is multicollinearity. Some references indicate a serious collinearity problem if VIF greater or equal to 5. \n",
    "\n",
    "In this analysis none of the features showed VIF higher than 5.  \n",
    " "
   ]
  },
  {
   "cell_type": "markdown",
   "id": "9169acb4",
   "metadata": {},
   "source": [
    "Modelling*"
   ]
  },
  {
   "cell_type": "markdown",
   "id": "464f6eee",
   "metadata": {},
   "source": [
    "# References\n",
    "\n",
    "\n",
    "http://dati.istat.it\n",
    "\n",
    "https://maps.princeton.edu/catalog/stanford-mn871sp9778\n",
    "\n",
    "https://www.crea.gov.it/documents/68457/0/ITACONTA+2020_ENG+DEF+xweb+%281%29.pdf/95c6b30a-1e18-8e94-d4ac-ce884aef76e8?t=1619527317576\n",
    "\n",
    "https://seaborn.pydata.org/generated/seaborn.relplot.html\n",
    "\n",
    "https://www.statisticshowto.com/variance-inflation-factor/\n",
    "\n",
    "https://statisticsbyjim.com/regression/multicollinearity-in-regression-analysis/"
   ]
  },
  {
   "cell_type": "code",
   "execution_count": null,
   "id": "e9bbc9d8",
   "metadata": {},
   "outputs": [],
   "source": []
  },
  {
   "cell_type": "code",
   "execution_count": null,
   "id": "835fc1ef",
   "metadata": {},
   "outputs": [],
   "source": []
  }
 ],
 "metadata": {
  "kernelspec": {
   "display_name": "Python 3 (ipykernel)",
   "language": "python",
   "name": "python3"
  },
  "language_info": {
   "codemirror_mode": {
    "name": "ipython",
    "version": 3
   },
   "file_extension": ".py",
   "mimetype": "text/x-python",
   "name": "python",
   "nbconvert_exporter": "python",
   "pygments_lexer": "ipython3",
   "version": "3.10.6"
  }
 },
 "nbformat": 4,
 "nbformat_minor": 5
}
